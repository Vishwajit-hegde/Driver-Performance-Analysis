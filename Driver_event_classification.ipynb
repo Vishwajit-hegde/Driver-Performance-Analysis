{
  "nbformat": 4,
  "nbformat_minor": 0,
  "metadata": {
    "colab": {
      "name": "Driver event classification",
      "provenance": [],
      "collapsed_sections": [],
      "mount_file_id": "1tpIB5d-cZivdJvXD2FcvadFdH_11E1eP",
      "authorship_tag": "ABX9TyNJnV4ROGM6rOLv67QpkdS/",
      "include_colab_link": true
    },
    "kernelspec": {
      "name": "python3",
      "display_name": "Python 3"
    },
    "accelerator": "GPU"
  },
  "cells": [
    {
      "cell_type": "markdown",
      "metadata": {
        "id": "view-in-github",
        "colab_type": "text"
      },
      "source": [
        "<a href=\"https://colab.research.google.com/github/Vishwajit-hegde/Driver-Performance-Analysis/blob/master/Driver_event_classification.ipynb\" target=\"_parent\"><img src=\"https://colab.research.google.com/assets/colab-badge.svg\" alt=\"Open In Colab\"/></a>"
      ]
    },
    {
      "cell_type": "code",
      "metadata": {
        "id": "wUcxFDn_LIuZ",
        "colab_type": "code",
        "colab": {}
      },
      "source": [
        "import numpy as np\n",
        "import pandas as pd\n",
        "import tensorflow as tf\n",
        "from tensorflow.keras import layers\n",
        "from datetime import datetime\n",
        "from matplotlib import pyplot as plt\n",
        "from matplotlib import dates as md\n",
        "import plotly.express as px\n",
        "from sklearn.preprocessing import StandardScaler\n",
        "from tensorflow.keras.models import Sequential, Model\n",
        "from tensorflow.keras.layers import Input, Conv1D, Dense, Activation, Dropout, Lambda, Multiply, Add, Concatenate\n",
        "from tensorflow.keras.layers import Flatten\n",
        "from tensorflow.keras.layers import Conv1D,Conv2D,LSTM,GRU,Lambda\n",
        "from tensorflow.keras.layers import MaxPooling1D, Bidirectional\n",
        "import datetime\n",
        "from tqdm import tqdm\n",
        "from sklearn.utils import shuffle\n",
        "import os\n",
        "from scipy import signal\n",
        "import gc"
      ],
      "execution_count": 25,
      "outputs": []
    },
    {
      "cell_type": "code",
      "metadata": {
        "id": "eNaKu5WULg9b",
        "colab_type": "code",
        "colab": {
          "base_uri": "https://localhost:8080/",
          "height": 357
        },
        "outputId": "f35519dc-9bb7-4dfc-c4f2-1d98ffaf253e"
      },
      "source": [
        "df=pd.DataFrame()\n",
        "df1 = pd.DataFrame()\n",
        "os.chdir('/content/drive/My Drive/labelled_driver_data')\n",
        "for files in os.listdir(os.getcwd()):\n",
        "  print(files)\n",
        "  if files!='river4':\n",
        "    os.chdir('/content/drive/My Drive/labelled_driver_data/{}'.format(files))\n",
        "    for filename in os.listdir(os.getcwd()):\n",
        "        print(filename)\n",
        "        if 'acelerometro' in filename:\n",
        "          data = pd.read_csv(filename ,sep =',', header = 0 )\n",
        "          data.columns=['timestamp','uptimeNanos','X','Y','Z']\n",
        "          data['label'] = 0\n",
        "          data['device'] = 'acc'\n",
        "          data['uptimeNanos'] /= 1e9\n",
        "        elif 'giro' in filename:\n",
        "          data2 = pd.read_csv(filename ,sep =',', header = 0 )\n",
        "          data2.columns=['timestamp','uptimeNanos','X','Y','Z']\n",
        "          data2['label'] = 0\n",
        "          data2['device'] = 'gyr'\n",
        "          data2['uptimeNanos'] /= 1e9\n",
        "        elif 'ground' in filename:\n",
        "          labels = pd.read_csv(filename , sep=',')\n",
        "          labels[' inicio'] += data['uptimeNanos'][0]\n",
        "          labels[' fim'] += data['uptimeNanos'][0]\n",
        "\n",
        "    for event,start, end in labels.values:\n",
        "        #print(data2.loc[data2.uptimeNanos.between(start, end),['label']].shape[0])\n",
        "        data.loc[data.uptimeNanos.between(start, end),['label']] = [event]\n",
        "        data2.loc[data2.uptimeNanos.between(start, end),['label']] = [event]\n",
        "    df1 = pd.concat([data,data2], axis =1 , ignore_index=True)\n",
        "    df = df.append(df1)\n",
        "    del data, data2, labels"
      ],
      "execution_count": 67,
      "outputs": [
        {
          "output_type": "stream",
          "text": [
            "driver4\n",
            "acelerometro_terra.txt\n",
            "giroscopio_terra.txt\n",
            "groundTruth.txt\n",
            "aceleracaoLinear_terra.txt\n",
            "driver3\n",
            "acelerometro_terra.txt\n",
            "giroscopio_terra.txt\n",
            "groundTruth.txt\n",
            "aceleracaoLinear_terra.txt\n",
            "driver1\n",
            "acelerometro_terra.txt\n",
            "groundTruth.txt\n",
            "giroscopio_terra.txt\n",
            "aceleracaoLinear_terra.txt\n",
            "driver2\n",
            "acelerometro_terra.txt\n",
            "giroscopio_terra.txt\n",
            "groundTruth.txt\n",
            "aceleracaoLinear_terra.txt\n"
          ],
          "name": "stdout"
        }
      ]
    },
    {
      "cell_type": "code",
      "metadata": {
        "id": "VWiuTrtgPyWr",
        "colab_type": "code",
        "colab": {
          "base_uri": "https://localhost:8080/",
          "height": 68
        },
        "outputId": "4ab26f0b-9a20-41c0-a632-46859b68133e"
      },
      "source": [
        "df.label.value_counts(normalize=True)"
      ],
      "execution_count": 117,
      "outputs": [
        {
          "output_type": "execute_result",
          "data": {
            "text/plain": [
              "0    0.945378\n",
              "1    0.054622\n",
              "Name: label, dtype: float64"
            ]
          },
          "metadata": {
            "tags": []
          },
          "execution_count": 117
        }
      ]
    },
    {
      "cell_type": "code",
      "metadata": {
        "id": "1SytV3jK0o46",
        "colab_type": "code",
        "colab": {
          "base_uri": "https://localhost:8080/",
          "height": 34
        },
        "outputId": "5b419a5a-fe06-48fc-a7fd-01a162c08927"
      },
      "source": [
        "df['time'] = df.timedate.apply(lambda x : x.time())\n",
        "print('The sampling frequency in Hz is:',df.groupby('time').X_gyr.count().mean())"
      ],
      "execution_count": 119,
      "outputs": [
        {
          "output_type": "stream",
          "text": [
            "The sampling frequency in Hz is: 50.8816644993498\n"
          ],
          "name": "stdout"
        }
      ]
    },
    {
      "cell_type": "code",
      "metadata": {
        "id": "aLpXwMzNf5hD",
        "colab_type": "code",
        "colab": {
          "base_uri": "https://localhost:8080/",
          "height": 34
        },
        "outputId": "143ab45e-acf7-4a10-cb7b-ba0c3da8e867"
      },
      "source": [
        "print('total time in min',(df.shape[0]/50)/60)"
      ],
      "execution_count": 120,
      "outputs": [
        {
          "output_type": "stream",
          "text": [
            "total time in min 52.17066666666666\n"
          ],
          "name": "stdout"
        }
      ]
    },
    {
      "cell_type": "code",
      "metadata": {
        "id": "j1fgFh-FWF_w",
        "colab_type": "code",
        "colab": {}
      },
      "source": [
        "df.columns =['timedate','time','X_acc','Y_acc','Z_acc','label','device','s','s1','X_gyr','Y_gyr','Z_gyr','s2','s3']\n",
        "df.timedate = pd.to_datetime(df.timedate)\n",
        "df['label'] = df.label.apply(lambda x : 0 if x in ['evento_nao_agressivo',0] else 1)"
      ],
      "execution_count": 69,
      "outputs": []
    },
    {
      "cell_type": "code",
      "metadata": {
        "id": "tl_fUvufKp0h",
        "colab_type": "code",
        "colab": {}
      },
      "source": [
        "df = df[['timedate','time','X_acc','Y_acc','Z_acc','X_gyr','Y_gyr','Z_gyr','label']]"
      ],
      "execution_count": 74,
      "outputs": []
    },
    {
      "cell_type": "code",
      "metadata": {
        "id": "OZN7XeLSMYRA",
        "colab_type": "code",
        "colab": {
          "base_uri": "https://localhost:8080/",
          "height": 204
        },
        "outputId": "de97c323-8e01-484a-93ed-460bb34056e3"
      },
      "source": [
        "df.head()"
      ],
      "execution_count": 34,
      "outputs": [
        {
          "output_type": "execute_result",
          "data": {
            "text/html": [
              "<div>\n",
              "<style scoped>\n",
              "    .dataframe tbody tr th:only-of-type {\n",
              "        vertical-align: middle;\n",
              "    }\n",
              "\n",
              "    .dataframe tbody tr th {\n",
              "        vertical-align: top;\n",
              "    }\n",
              "\n",
              "    .dataframe thead th {\n",
              "        text-align: right;\n",
              "    }\n",
              "</style>\n",
              "<table border=\"1\" class=\"dataframe\">\n",
              "  <thead>\n",
              "    <tr style=\"text-align: right;\">\n",
              "      <th></th>\n",
              "      <th>timedate</th>\n",
              "      <th>time</th>\n",
              "      <th>X_acc</th>\n",
              "      <th>Y_acc</th>\n",
              "      <th>Z_acc</th>\n",
              "      <th>X_gyr</th>\n",
              "      <th>Y_gyr</th>\n",
              "      <th>Z_gyr</th>\n",
              "      <th>label</th>\n",
              "    </tr>\n",
              "  </thead>\n",
              "  <tbody>\n",
              "    <tr>\n",
              "      <th>0</th>\n",
              "      <td>2016-05-15 16:03:47</td>\n",
              "      <td>16:03:47</td>\n",
              "      <td>0.336558</td>\n",
              "      <td>-0.169031</td>\n",
              "      <td>9.658637</td>\n",
              "      <td>0.031439</td>\n",
              "      <td>0.360042</td>\n",
              "      <td>0.009180</td>\n",
              "      <td>0</td>\n",
              "    </tr>\n",
              "    <tr>\n",
              "      <th>1</th>\n",
              "      <td>2016-05-15 16:03:47</td>\n",
              "      <td>16:03:47</td>\n",
              "      <td>2.022178</td>\n",
              "      <td>-0.125877</td>\n",
              "      <td>9.948004</td>\n",
              "      <td>0.235446</td>\n",
              "      <td>0.680577</td>\n",
              "      <td>-0.039432</td>\n",
              "      <td>0</td>\n",
              "    </tr>\n",
              "    <tr>\n",
              "      <th>2</th>\n",
              "      <td>2016-05-15 16:03:47</td>\n",
              "      <td>16:03:47</td>\n",
              "      <td>0.777634</td>\n",
              "      <td>-0.088642</td>\n",
              "      <td>11.809340</td>\n",
              "      <td>0.118159</td>\n",
              "      <td>0.084886</td>\n",
              "      <td>-0.087033</td>\n",
              "      <td>0</td>\n",
              "    </tr>\n",
              "    <tr>\n",
              "      <th>3</th>\n",
              "      <td>2016-05-15 16:03:47</td>\n",
              "      <td>16:03:47</td>\n",
              "      <td>-0.695542</td>\n",
              "      <td>-0.127862</td>\n",
              "      <td>8.672421</td>\n",
              "      <td>-0.176048</td>\n",
              "      <td>-0.288289</td>\n",
              "      <td>0.070482</td>\n",
              "      <td>0</td>\n",
              "    </tr>\n",
              "    <tr>\n",
              "      <th>4</th>\n",
              "      <td>2016-05-15 16:03:47</td>\n",
              "      <td>16:03:47</td>\n",
              "      <td>-1.864220</td>\n",
              "      <td>0.843311</td>\n",
              "      <td>8.023548</td>\n",
              "      <td>-0.137060</td>\n",
              "      <td>-0.123618</td>\n",
              "      <td>0.051219</td>\n",
              "      <td>0</td>\n",
              "    </tr>\n",
              "  </tbody>\n",
              "</table>\n",
              "</div>"
            ],
            "text/plain": [
              "             timedate      time     X_acc  ...     Y_gyr     Z_gyr  label\n",
              "0 2016-05-15 16:03:47  16:03:47  0.336558  ...  0.360042  0.009180      0\n",
              "1 2016-05-15 16:03:47  16:03:47  2.022178  ...  0.680577 -0.039432      0\n",
              "2 2016-05-15 16:03:47  16:03:47  0.777634  ...  0.084886 -0.087033      0\n",
              "3 2016-05-15 16:03:47  16:03:47 -0.695542  ... -0.288289  0.070482      0\n",
              "4 2016-05-15 16:03:47  16:03:47 -1.864220  ... -0.123618  0.051219      0\n",
              "\n",
              "[5 rows x 9 columns]"
            ]
          },
          "metadata": {
            "tags": []
          },
          "execution_count": 34
        }
      ]
    },
    {
      "cell_type": "code",
      "metadata": {
        "id": "wluSclYino2i",
        "colab_type": "code",
        "colab": {}
      },
      "source": [
        "df.dropna(inplace = True)\n",
        "df.label.value_counts(normalize=True)"
      ],
      "execution_count": 75,
      "outputs": []
    },
    {
      "cell_type": "code",
      "metadata": {
        "id": "paVYzhhdaJg_",
        "colab_type": "code",
        "colab": {}
      },
      "source": [
        "dftrain = df.copy()"
      ],
      "execution_count": 77,
      "outputs": []
    },
    {
      "cell_type": "code",
      "metadata": {
        "id": "XWq2wcLOycv5",
        "colab_type": "code",
        "colab": {}
      },
      "source": [
        "#Z is lateral \n",
        "#X is logitudinal\n",
        "#Y vertical"
      ],
      "execution_count": 47,
      "outputs": []
    },
    {
      "cell_type": "code",
      "metadata": {
        "id": "JOU1Alb3ad2e",
        "colab_type": "code",
        "colab": {}
      },
      "source": [
        "def train_dataset(series,window_size, batch_size):\n",
        "    ds = tf.data.Dataset.from_tensor_slices((series))\n",
        "    ds = ds.window(window_size, shift=20, drop_remainder=True)\n",
        "    ds = ds.flat_map(lambda w: w.batch(window_size))\n",
        "    ds = ds.shuffle(10000).map(lambda window: (window[:,:-1], window[50,-1:]))\n",
        "    #ds = ds.batch(batch_size).prefetch(1)\n",
        "    return ds"
      ],
      "execution_count": 82,
      "outputs": []
    },
    {
      "cell_type": "code",
      "metadata": {
        "id": "tE6jPPvFbhLO",
        "colab_type": "code",
        "colab": {}
      },
      "source": [
        "train= train_dataset(dftrain[['X_acc','Y_acc','Z_acc','X_gyr','Y_gyr','Z_gyr','label']].values,100,128)"
      ],
      "execution_count": 83,
      "outputs": []
    },
    {
      "cell_type": "code",
      "metadata": {
        "id": "5tt9xy6bz0Gx",
        "colab_type": "code",
        "colab": {}
      },
      "source": [
        "X=[]\n",
        "y=[]\n",
        "for i,j in train:\n",
        "  X.append(i.numpy())\n",
        "  y.append(j.numpy())\n",
        "X = np.asarray(X)\n",
        "y = np.asarray(y)"
      ],
      "execution_count": 84,
      "outputs": []
    },
    {
      "cell_type": "code",
      "metadata": {
        "id": "7A1V3ObmnoBm",
        "colab_type": "code",
        "colab": {}
      },
      "source": [
        "def create_model(n, n_filters =32, filter_width = 2 , dilation_rates =[2**i for i in range(8)] * 2 ):\n",
        "\n",
        "  # define an input history series and pass it through a stack of dilated causal convolution blocks. \n",
        "  history_seq = Input(shape=(100, n))\n",
        "  x = history_seq\n",
        "\n",
        "  skips = []\n",
        "  for dilation_rate in dilation_rates:\n",
        "      \n",
        "      # preprocessing - equivalent to time-distributed dense\n",
        "      x = Conv1D(16, 1, padding='same', activation='relu')(x) \n",
        "      \n",
        "      # filter convolution\n",
        "      x_f = Conv1D(filters=n_filters,\n",
        "                  kernel_size=filter_width, \n",
        "                  padding='causal',\n",
        "                  dilation_rate=dilation_rate)(x)\n",
        "      \n",
        "      # gating convolution\n",
        "      x_g = Conv1D(filters=n_filters,\n",
        "                  kernel_size=filter_width, \n",
        "                  padding='causal',\n",
        "                  dilation_rate=dilation_rate)(x)\n",
        "      \n",
        "      # multiply filter and gating branches\n",
        "      z = Multiply()([Activation('tanh')(x_f),\n",
        "                      Activation('sigmoid')(x_g)])\n",
        "      \n",
        "      # postprocessing - equivalent to time-distributed dense\n",
        "      z = Conv1D(16, 1, padding='same', activation='relu')(z)\n",
        "      \n",
        "      # residual connection\n",
        "      x = Add()([x, z])    \n",
        "      \n",
        "      # collect skip connections\n",
        "      skips.append(z)\n",
        "\n",
        "  # add all skip connection outputs \n",
        "  out = Activation('relu')(Add()(skips))\n",
        "\n",
        "  # final time-distributed dense layers \n",
        "  out = Conv1D(100, 1, padding='same')(out)\n",
        "  out = Activation('relu')(out)\n",
        "  out = Dropout(.2)(out)\n",
        "  out = Conv1D(1,1, padding='same')(out)\n",
        "  out = Flatten()(out)\n",
        "  out = Dense(100, activation='relu')(out)\n",
        "  out = Dropout(.3)(out)\n",
        "  out = Dense(10, activation='relu')(out)\n",
        "  out = Dense(1, activation='sigmoid')(out)\n",
        "\n",
        "  model = Model(history_seq, out)\n",
        "  model.compile(tf.keras.optimizers.Adam(lr = 1e-4), loss='binary_crossentropy', metrics =METRICS)\n",
        "  return model"
      ],
      "execution_count": 107,
      "outputs": []
    },
    {
      "cell_type": "code",
      "metadata": {
        "id": "0cmFZ3fmnqOc",
        "colab_type": "code",
        "colab": {
          "base_uri": "https://localhost:8080/",
          "height": 1000
        },
        "outputId": "db476cbf-7efd-4432-d784-db7a3ba9ffd2"
      },
      "source": [
        "model.summary()"
      ],
      "execution_count": 95,
      "outputs": [
        {
          "output_type": "stream",
          "text": [
            "Model: \"functional_1\"\n",
            "__________________________________________________________________________________________________\n",
            "Layer (type)                    Output Shape         Param #     Connected to                     \n",
            "==================================================================================================\n",
            "input_1 (InputLayer)            [(None, 100, 6)]     0                                            \n",
            "__________________________________________________________________________________________________\n",
            "conv1d (Conv1D)                 (None, 100, 16)      112         input_1[0][0]                    \n",
            "__________________________________________________________________________________________________\n",
            "conv1d_1 (Conv1D)               (None, 100, 32)      1056        conv1d[0][0]                     \n",
            "__________________________________________________________________________________________________\n",
            "conv1d_2 (Conv1D)               (None, 100, 32)      1056        conv1d[0][0]                     \n",
            "__________________________________________________________________________________________________\n",
            "activation (Activation)         (None, 100, 32)      0           conv1d_1[0][0]                   \n",
            "__________________________________________________________________________________________________\n",
            "activation_1 (Activation)       (None, 100, 32)      0           conv1d_2[0][0]                   \n",
            "__________________________________________________________________________________________________\n",
            "multiply (Multiply)             (None, 100, 32)      0           activation[0][0]                 \n",
            "                                                                 activation_1[0][0]               \n",
            "__________________________________________________________________________________________________\n",
            "conv1d_3 (Conv1D)               (None, 100, 16)      528         multiply[0][0]                   \n",
            "__________________________________________________________________________________________________\n",
            "add (Add)                       (None, 100, 16)      0           conv1d[0][0]                     \n",
            "                                                                 conv1d_3[0][0]                   \n",
            "__________________________________________________________________________________________________\n",
            "conv1d_4 (Conv1D)               (None, 100, 16)      272         add[0][0]                        \n",
            "__________________________________________________________________________________________________\n",
            "conv1d_5 (Conv1D)               (None, 100, 32)      1056        conv1d_4[0][0]                   \n",
            "__________________________________________________________________________________________________\n",
            "conv1d_6 (Conv1D)               (None, 100, 32)      1056        conv1d_4[0][0]                   \n",
            "__________________________________________________________________________________________________\n",
            "activation_2 (Activation)       (None, 100, 32)      0           conv1d_5[0][0]                   \n",
            "__________________________________________________________________________________________________\n",
            "activation_3 (Activation)       (None, 100, 32)      0           conv1d_6[0][0]                   \n",
            "__________________________________________________________________________________________________\n",
            "multiply_1 (Multiply)           (None, 100, 32)      0           activation_2[0][0]               \n",
            "                                                                 activation_3[0][0]               \n",
            "__________________________________________________________________________________________________\n",
            "conv1d_7 (Conv1D)               (None, 100, 16)      528         multiply_1[0][0]                 \n",
            "__________________________________________________________________________________________________\n",
            "add_1 (Add)                     (None, 100, 16)      0           conv1d_4[0][0]                   \n",
            "                                                                 conv1d_7[0][0]                   \n",
            "__________________________________________________________________________________________________\n",
            "conv1d_8 (Conv1D)               (None, 100, 16)      272         add_1[0][0]                      \n",
            "__________________________________________________________________________________________________\n",
            "conv1d_9 (Conv1D)               (None, 100, 32)      1056        conv1d_8[0][0]                   \n",
            "__________________________________________________________________________________________________\n",
            "conv1d_10 (Conv1D)              (None, 100, 32)      1056        conv1d_8[0][0]                   \n",
            "__________________________________________________________________________________________________\n",
            "activation_4 (Activation)       (None, 100, 32)      0           conv1d_9[0][0]                   \n",
            "__________________________________________________________________________________________________\n",
            "activation_5 (Activation)       (None, 100, 32)      0           conv1d_10[0][0]                  \n",
            "__________________________________________________________________________________________________\n",
            "multiply_2 (Multiply)           (None, 100, 32)      0           activation_4[0][0]               \n",
            "                                                                 activation_5[0][0]               \n",
            "__________________________________________________________________________________________________\n",
            "conv1d_11 (Conv1D)              (None, 100, 16)      528         multiply_2[0][0]                 \n",
            "__________________________________________________________________________________________________\n",
            "add_2 (Add)                     (None, 100, 16)      0           conv1d_8[0][0]                   \n",
            "                                                                 conv1d_11[0][0]                  \n",
            "__________________________________________________________________________________________________\n",
            "conv1d_12 (Conv1D)              (None, 100, 16)      272         add_2[0][0]                      \n",
            "__________________________________________________________________________________________________\n",
            "conv1d_13 (Conv1D)              (None, 100, 32)      1056        conv1d_12[0][0]                  \n",
            "__________________________________________________________________________________________________\n",
            "conv1d_14 (Conv1D)              (None, 100, 32)      1056        conv1d_12[0][0]                  \n",
            "__________________________________________________________________________________________________\n",
            "activation_6 (Activation)       (None, 100, 32)      0           conv1d_13[0][0]                  \n",
            "__________________________________________________________________________________________________\n",
            "activation_7 (Activation)       (None, 100, 32)      0           conv1d_14[0][0]                  \n",
            "__________________________________________________________________________________________________\n",
            "multiply_3 (Multiply)           (None, 100, 32)      0           activation_6[0][0]               \n",
            "                                                                 activation_7[0][0]               \n",
            "__________________________________________________________________________________________________\n",
            "conv1d_15 (Conv1D)              (None, 100, 16)      528         multiply_3[0][0]                 \n",
            "__________________________________________________________________________________________________\n",
            "add_3 (Add)                     (None, 100, 16)      0           conv1d_12[0][0]                  \n",
            "                                                                 conv1d_15[0][0]                  \n",
            "__________________________________________________________________________________________________\n",
            "conv1d_16 (Conv1D)              (None, 100, 16)      272         add_3[0][0]                      \n",
            "__________________________________________________________________________________________________\n",
            "conv1d_17 (Conv1D)              (None, 100, 32)      1056        conv1d_16[0][0]                  \n",
            "__________________________________________________________________________________________________\n",
            "conv1d_18 (Conv1D)              (None, 100, 32)      1056        conv1d_16[0][0]                  \n",
            "__________________________________________________________________________________________________\n",
            "activation_8 (Activation)       (None, 100, 32)      0           conv1d_17[0][0]                  \n",
            "__________________________________________________________________________________________________\n",
            "activation_9 (Activation)       (None, 100, 32)      0           conv1d_18[0][0]                  \n",
            "__________________________________________________________________________________________________\n",
            "multiply_4 (Multiply)           (None, 100, 32)      0           activation_8[0][0]               \n",
            "                                                                 activation_9[0][0]               \n",
            "__________________________________________________________________________________________________\n",
            "conv1d_19 (Conv1D)              (None, 100, 16)      528         multiply_4[0][0]                 \n",
            "__________________________________________________________________________________________________\n",
            "add_4 (Add)                     (None, 100, 16)      0           conv1d_16[0][0]                  \n",
            "                                                                 conv1d_19[0][0]                  \n",
            "__________________________________________________________________________________________________\n",
            "conv1d_20 (Conv1D)              (None, 100, 16)      272         add_4[0][0]                      \n",
            "__________________________________________________________________________________________________\n",
            "conv1d_21 (Conv1D)              (None, 100, 32)      1056        conv1d_20[0][0]                  \n",
            "__________________________________________________________________________________________________\n",
            "conv1d_22 (Conv1D)              (None, 100, 32)      1056        conv1d_20[0][0]                  \n",
            "__________________________________________________________________________________________________\n",
            "activation_10 (Activation)      (None, 100, 32)      0           conv1d_21[0][0]                  \n",
            "__________________________________________________________________________________________________\n",
            "activation_11 (Activation)      (None, 100, 32)      0           conv1d_22[0][0]                  \n",
            "__________________________________________________________________________________________________\n",
            "multiply_5 (Multiply)           (None, 100, 32)      0           activation_10[0][0]              \n",
            "                                                                 activation_11[0][0]              \n",
            "__________________________________________________________________________________________________\n",
            "conv1d_23 (Conv1D)              (None, 100, 16)      528         multiply_5[0][0]                 \n",
            "__________________________________________________________________________________________________\n",
            "add_5 (Add)                     (None, 100, 16)      0           conv1d_20[0][0]                  \n",
            "                                                                 conv1d_23[0][0]                  \n",
            "__________________________________________________________________________________________________\n",
            "conv1d_24 (Conv1D)              (None, 100, 16)      272         add_5[0][0]                      \n",
            "__________________________________________________________________________________________________\n",
            "conv1d_25 (Conv1D)              (None, 100, 32)      1056        conv1d_24[0][0]                  \n",
            "__________________________________________________________________________________________________\n",
            "conv1d_26 (Conv1D)              (None, 100, 32)      1056        conv1d_24[0][0]                  \n",
            "__________________________________________________________________________________________________\n",
            "activation_12 (Activation)      (None, 100, 32)      0           conv1d_25[0][0]                  \n",
            "__________________________________________________________________________________________________\n",
            "activation_13 (Activation)      (None, 100, 32)      0           conv1d_26[0][0]                  \n",
            "__________________________________________________________________________________________________\n",
            "multiply_6 (Multiply)           (None, 100, 32)      0           activation_12[0][0]              \n",
            "                                                                 activation_13[0][0]              \n",
            "__________________________________________________________________________________________________\n",
            "conv1d_27 (Conv1D)              (None, 100, 16)      528         multiply_6[0][0]                 \n",
            "__________________________________________________________________________________________________\n",
            "add_6 (Add)                     (None, 100, 16)      0           conv1d_24[0][0]                  \n",
            "                                                                 conv1d_27[0][0]                  \n",
            "__________________________________________________________________________________________________\n",
            "conv1d_28 (Conv1D)              (None, 100, 16)      272         add_6[0][0]                      \n",
            "__________________________________________________________________________________________________\n",
            "conv1d_29 (Conv1D)              (None, 100, 32)      1056        conv1d_28[0][0]                  \n",
            "__________________________________________________________________________________________________\n",
            "conv1d_30 (Conv1D)              (None, 100, 32)      1056        conv1d_28[0][0]                  \n",
            "__________________________________________________________________________________________________\n",
            "activation_14 (Activation)      (None, 100, 32)      0           conv1d_29[0][0]                  \n",
            "__________________________________________________________________________________________________\n",
            "activation_15 (Activation)      (None, 100, 32)      0           conv1d_30[0][0]                  \n",
            "__________________________________________________________________________________________________\n",
            "multiply_7 (Multiply)           (None, 100, 32)      0           activation_14[0][0]              \n",
            "                                                                 activation_15[0][0]              \n",
            "__________________________________________________________________________________________________\n",
            "conv1d_31 (Conv1D)              (None, 100, 16)      528         multiply_7[0][0]                 \n",
            "__________________________________________________________________________________________________\n",
            "add_7 (Add)                     (None, 100, 16)      0           conv1d_28[0][0]                  \n",
            "                                                                 conv1d_31[0][0]                  \n",
            "__________________________________________________________________________________________________\n",
            "conv1d_32 (Conv1D)              (None, 100, 16)      272         add_7[0][0]                      \n",
            "__________________________________________________________________________________________________\n",
            "conv1d_33 (Conv1D)              (None, 100, 32)      1056        conv1d_32[0][0]                  \n",
            "__________________________________________________________________________________________________\n",
            "conv1d_34 (Conv1D)              (None, 100, 32)      1056        conv1d_32[0][0]                  \n",
            "__________________________________________________________________________________________________\n",
            "activation_16 (Activation)      (None, 100, 32)      0           conv1d_33[0][0]                  \n",
            "__________________________________________________________________________________________________\n",
            "activation_17 (Activation)      (None, 100, 32)      0           conv1d_34[0][0]                  \n",
            "__________________________________________________________________________________________________\n",
            "multiply_8 (Multiply)           (None, 100, 32)      0           activation_16[0][0]              \n",
            "                                                                 activation_17[0][0]              \n",
            "__________________________________________________________________________________________________\n",
            "conv1d_35 (Conv1D)              (None, 100, 16)      528         multiply_8[0][0]                 \n",
            "__________________________________________________________________________________________________\n",
            "add_8 (Add)                     (None, 100, 16)      0           conv1d_32[0][0]                  \n",
            "                                                                 conv1d_35[0][0]                  \n",
            "__________________________________________________________________________________________________\n",
            "conv1d_36 (Conv1D)              (None, 100, 16)      272         add_8[0][0]                      \n",
            "__________________________________________________________________________________________________\n",
            "conv1d_37 (Conv1D)              (None, 100, 32)      1056        conv1d_36[0][0]                  \n",
            "__________________________________________________________________________________________________\n",
            "conv1d_38 (Conv1D)              (None, 100, 32)      1056        conv1d_36[0][0]                  \n",
            "__________________________________________________________________________________________________\n",
            "activation_18 (Activation)      (None, 100, 32)      0           conv1d_37[0][0]                  \n",
            "__________________________________________________________________________________________________\n",
            "activation_19 (Activation)      (None, 100, 32)      0           conv1d_38[0][0]                  \n",
            "__________________________________________________________________________________________________\n",
            "multiply_9 (Multiply)           (None, 100, 32)      0           activation_18[0][0]              \n",
            "                                                                 activation_19[0][0]              \n",
            "__________________________________________________________________________________________________\n",
            "conv1d_39 (Conv1D)              (None, 100, 16)      528         multiply_9[0][0]                 \n",
            "__________________________________________________________________________________________________\n",
            "add_9 (Add)                     (None, 100, 16)      0           conv1d_36[0][0]                  \n",
            "                                                                 conv1d_39[0][0]                  \n",
            "__________________________________________________________________________________________________\n",
            "conv1d_40 (Conv1D)              (None, 100, 16)      272         add_9[0][0]                      \n",
            "__________________________________________________________________________________________________\n",
            "conv1d_41 (Conv1D)              (None, 100, 32)      1056        conv1d_40[0][0]                  \n",
            "__________________________________________________________________________________________________\n",
            "conv1d_42 (Conv1D)              (None, 100, 32)      1056        conv1d_40[0][0]                  \n",
            "__________________________________________________________________________________________________\n",
            "activation_20 (Activation)      (None, 100, 32)      0           conv1d_41[0][0]                  \n",
            "__________________________________________________________________________________________________\n",
            "activation_21 (Activation)      (None, 100, 32)      0           conv1d_42[0][0]                  \n",
            "__________________________________________________________________________________________________\n",
            "multiply_10 (Multiply)          (None, 100, 32)      0           activation_20[0][0]              \n",
            "                                                                 activation_21[0][0]              \n",
            "__________________________________________________________________________________________________\n",
            "conv1d_43 (Conv1D)              (None, 100, 16)      528         multiply_10[0][0]                \n",
            "__________________________________________________________________________________________________\n",
            "add_10 (Add)                    (None, 100, 16)      0           conv1d_40[0][0]                  \n",
            "                                                                 conv1d_43[0][0]                  \n",
            "__________________________________________________________________________________________________\n",
            "conv1d_44 (Conv1D)              (None, 100, 16)      272         add_10[0][0]                     \n",
            "__________________________________________________________________________________________________\n",
            "conv1d_45 (Conv1D)              (None, 100, 32)      1056        conv1d_44[0][0]                  \n",
            "__________________________________________________________________________________________________\n",
            "conv1d_46 (Conv1D)              (None, 100, 32)      1056        conv1d_44[0][0]                  \n",
            "__________________________________________________________________________________________________\n",
            "activation_22 (Activation)      (None, 100, 32)      0           conv1d_45[0][0]                  \n",
            "__________________________________________________________________________________________________\n",
            "activation_23 (Activation)      (None, 100, 32)      0           conv1d_46[0][0]                  \n",
            "__________________________________________________________________________________________________\n",
            "multiply_11 (Multiply)          (None, 100, 32)      0           activation_22[0][0]              \n",
            "                                                                 activation_23[0][0]              \n",
            "__________________________________________________________________________________________________\n",
            "conv1d_47 (Conv1D)              (None, 100, 16)      528         multiply_11[0][0]                \n",
            "__________________________________________________________________________________________________\n",
            "add_11 (Add)                    (None, 100, 16)      0           conv1d_44[0][0]                  \n",
            "                                                                 conv1d_47[0][0]                  \n",
            "__________________________________________________________________________________________________\n",
            "conv1d_48 (Conv1D)              (None, 100, 16)      272         add_11[0][0]                     \n",
            "__________________________________________________________________________________________________\n",
            "conv1d_49 (Conv1D)              (None, 100, 32)      1056        conv1d_48[0][0]                  \n",
            "__________________________________________________________________________________________________\n",
            "conv1d_50 (Conv1D)              (None, 100, 32)      1056        conv1d_48[0][0]                  \n",
            "__________________________________________________________________________________________________\n",
            "activation_24 (Activation)      (None, 100, 32)      0           conv1d_49[0][0]                  \n",
            "__________________________________________________________________________________________________\n",
            "activation_25 (Activation)      (None, 100, 32)      0           conv1d_50[0][0]                  \n",
            "__________________________________________________________________________________________________\n",
            "multiply_12 (Multiply)          (None, 100, 32)      0           activation_24[0][0]              \n",
            "                                                                 activation_25[0][0]              \n",
            "__________________________________________________________________________________________________\n",
            "conv1d_51 (Conv1D)              (None, 100, 16)      528         multiply_12[0][0]                \n",
            "__________________________________________________________________________________________________\n",
            "add_12 (Add)                    (None, 100, 16)      0           conv1d_48[0][0]                  \n",
            "                                                                 conv1d_51[0][0]                  \n",
            "__________________________________________________________________________________________________\n",
            "conv1d_52 (Conv1D)              (None, 100, 16)      272         add_12[0][0]                     \n",
            "__________________________________________________________________________________________________\n",
            "conv1d_53 (Conv1D)              (None, 100, 32)      1056        conv1d_52[0][0]                  \n",
            "__________________________________________________________________________________________________\n",
            "conv1d_54 (Conv1D)              (None, 100, 32)      1056        conv1d_52[0][0]                  \n",
            "__________________________________________________________________________________________________\n",
            "activation_26 (Activation)      (None, 100, 32)      0           conv1d_53[0][0]                  \n",
            "__________________________________________________________________________________________________\n",
            "activation_27 (Activation)      (None, 100, 32)      0           conv1d_54[0][0]                  \n",
            "__________________________________________________________________________________________________\n",
            "multiply_13 (Multiply)          (None, 100, 32)      0           activation_26[0][0]              \n",
            "                                                                 activation_27[0][0]              \n",
            "__________________________________________________________________________________________________\n",
            "conv1d_55 (Conv1D)              (None, 100, 16)      528         multiply_13[0][0]                \n",
            "__________________________________________________________________________________________________\n",
            "add_13 (Add)                    (None, 100, 16)      0           conv1d_52[0][0]                  \n",
            "                                                                 conv1d_55[0][0]                  \n",
            "__________________________________________________________________________________________________\n",
            "conv1d_56 (Conv1D)              (None, 100, 16)      272         add_13[0][0]                     \n",
            "__________________________________________________________________________________________________\n",
            "conv1d_57 (Conv1D)              (None, 100, 32)      1056        conv1d_56[0][0]                  \n",
            "__________________________________________________________________________________________________\n",
            "conv1d_58 (Conv1D)              (None, 100, 32)      1056        conv1d_56[0][0]                  \n",
            "__________________________________________________________________________________________________\n",
            "activation_28 (Activation)      (None, 100, 32)      0           conv1d_57[0][0]                  \n",
            "__________________________________________________________________________________________________\n",
            "activation_29 (Activation)      (None, 100, 32)      0           conv1d_58[0][0]                  \n",
            "__________________________________________________________________________________________________\n",
            "multiply_14 (Multiply)          (None, 100, 32)      0           activation_28[0][0]              \n",
            "                                                                 activation_29[0][0]              \n",
            "__________________________________________________________________________________________________\n",
            "conv1d_59 (Conv1D)              (None, 100, 16)      528         multiply_14[0][0]                \n",
            "__________________________________________________________________________________________________\n",
            "add_14 (Add)                    (None, 100, 16)      0           conv1d_56[0][0]                  \n",
            "                                                                 conv1d_59[0][0]                  \n",
            "__________________________________________________________________________________________________\n",
            "conv1d_60 (Conv1D)              (None, 100, 16)      272         add_14[0][0]                     \n",
            "__________________________________________________________________________________________________\n",
            "conv1d_61 (Conv1D)              (None, 100, 32)      1056        conv1d_60[0][0]                  \n",
            "__________________________________________________________________________________________________\n",
            "conv1d_62 (Conv1D)              (None, 100, 32)      1056        conv1d_60[0][0]                  \n",
            "__________________________________________________________________________________________________\n",
            "activation_30 (Activation)      (None, 100, 32)      0           conv1d_61[0][0]                  \n",
            "__________________________________________________________________________________________________\n",
            "activation_31 (Activation)      (None, 100, 32)      0           conv1d_62[0][0]                  \n",
            "__________________________________________________________________________________________________\n",
            "multiply_15 (Multiply)          (None, 100, 32)      0           activation_30[0][0]              \n",
            "                                                                 activation_31[0][0]              \n",
            "__________________________________________________________________________________________________\n",
            "conv1d_63 (Conv1D)              (None, 100, 16)      528         multiply_15[0][0]                \n",
            "__________________________________________________________________________________________________\n",
            "add_16 (Add)                    (None, 100, 16)      0           conv1d_3[0][0]                   \n",
            "                                                                 conv1d_7[0][0]                   \n",
            "                                                                 conv1d_11[0][0]                  \n",
            "                                                                 conv1d_15[0][0]                  \n",
            "                                                                 conv1d_19[0][0]                  \n",
            "                                                                 conv1d_23[0][0]                  \n",
            "                                                                 conv1d_27[0][0]                  \n",
            "                                                                 conv1d_31[0][0]                  \n",
            "                                                                 conv1d_35[0][0]                  \n",
            "                                                                 conv1d_39[0][0]                  \n",
            "                                                                 conv1d_43[0][0]                  \n",
            "                                                                 conv1d_47[0][0]                  \n",
            "                                                                 conv1d_51[0][0]                  \n",
            "                                                                 conv1d_55[0][0]                  \n",
            "                                                                 conv1d_59[0][0]                  \n",
            "                                                                 conv1d_63[0][0]                  \n",
            "__________________________________________________________________________________________________\n",
            "activation_32 (Activation)      (None, 100, 16)      0           add_16[0][0]                     \n",
            "__________________________________________________________________________________________________\n",
            "conv1d_64 (Conv1D)              (None, 100, 100)     1700        activation_32[0][0]              \n",
            "__________________________________________________________________________________________________\n",
            "activation_33 (Activation)      (None, 100, 100)     0           conv1d_64[0][0]                  \n",
            "__________________________________________________________________________________________________\n",
            "dropout (Dropout)               (None, 100, 100)     0           activation_33[0][0]              \n",
            "__________________________________________________________________________________________________\n",
            "conv1d_65 (Conv1D)              (None, 100, 1)       101         dropout[0][0]                    \n",
            "__________________________________________________________________________________________________\n",
            "flatten (Flatten)               (None, 100)          0           conv1d_65[0][0]                  \n",
            "__________________________________________________________________________________________________\n",
            "dense (Dense)                   (None, 100)          10100       flatten[0][0]                    \n",
            "__________________________________________________________________________________________________\n",
            "dropout_1 (Dropout)             (None, 100)          0           dense[0][0]                      \n",
            "__________________________________________________________________________________________________\n",
            "dense_1 (Dense)                 (None, 10)           1010        dropout_1[0][0]                  \n",
            "__________________________________________________________________________________________________\n",
            "dense_2 (Dense)                 (None, 1)            11          dense_1[0][0]                    \n",
            "==================================================================================================\n",
            "Total params: 59,354\n",
            "Trainable params: 59,354\n",
            "Non-trainable params: 0\n",
            "__________________________________________________________________________________________________\n"
          ],
          "name": "stdout"
        }
      ]
    },
    {
      "cell_type": "code",
      "metadata": {
        "id": "Ko14UipbHwoz",
        "colab_type": "code",
        "colab": {}
      },
      "source": [
        "weight_for_0 = (1 / 110178)*(116512)/2.0\n",
        "weight_for_1 = (1 / 6334)*(116512)/2.0\n",
        "\n",
        "class_weight = {0: 1, 1: 2}\n",
        "METRICS = [\n",
        "      tf.keras.metrics.TruePositives(name='tp'),\n",
        "      tf.keras.metrics.FalsePositives(name='fp'),\n",
        "      tf.keras.metrics.TrueNegatives(name='tn'),\n",
        "      tf.keras.metrics.FalseNegatives(name='fn'), \n",
        "      tf.keras.metrics.Binaryy_train.sum()/y_train.shape[0]Accuracy(name='accuracy'),\n",
        "      tf.keras.metrics.Precision(name='precision'),\n",
        "      tf.keras.metrics.Recall(name='recall'),\n",
        "      tf.keras.metrics.AUC(name='auc')\n",
        "]\n"
      ],
      "execution_count": 96,
      "outputs": []
    },
    {
      "cell_type": "code",
      "metadata": {
        "id": "TJsCqUAng_k6",
        "colab_type": "code",
        "colab": {
          "base_uri": "https://localhost:8080/",
          "height": 1000
        },
        "outputId": "7e99af46-3ead-435f-af35-e065d39b17e8"
      },
      "source": [
        "auc =[]\n",
        "val_auc =[]\n",
        "from sklearn.model_selection import StratifiedShuffleSplit\n",
        "sss = StratifiedShuffleSplit(n_splits=3, test_size=0.25, random_state=47)\n",
        "for train_index, test_index in sss.split(X, y):\n",
        "  X_train, X_test = X[train_index], X[test_index]\n",
        "  y_train, y_test = y[train_index], y[test_index]\n",
        "  model = create_model(6)\n",
        "  history = model.fit(X_train, y_train,batch_size =64,  epochs =50, validation_data=(X_test, y_test),verbose = 10,validation_batch_size=64,callbacks =[tf.keras.callbacks.EarlyStopping(monitor='val_loss', patience=7)])\n",
        "  if history.history['accuracy']> 0.95 and history.history['val_accuracy'] >0.95:\n",
        "    print('The model is better than a simple constant model for sure:')\n",
        "    auc.append(history.history['auc'][-7])\n",
        "    val_auc.append(history.history['val_auc'][-7])\n"
      ],
      "execution_count": 110,
      "outputs": [
        {
          "output_type": "stream",
          "text": [
            "Epoch 1/50\n",
            "Epoch 2/50\n",
            "Epoch 3/50\n",
            "Epoch 4/50\n",
            "Epoch 5/50\n",
            "Epoch 6/50\n",
            "Epoch 7/50\n",
            "Epoch 8/50\n",
            "Epoch 9/50\n",
            "Epoch 10/50\n",
            "Epoch 11/50\n",
            "Epoch 12/50\n",
            "Epoch 13/50\n",
            "Epoch 14/50\n",
            "Epoch 15/50\n",
            "Epoch 16/50\n",
            "Epoch 17/50\n",
            "Epoch 18/50\n",
            "Epoch 19/50\n",
            "Epoch 20/50\n",
            "Epoch 21/50\n",
            "Epoch 22/50\n",
            "Epoch 23/50\n",
            "Epoch 24/50\n",
            "Epoch 25/50\n",
            "Epoch 26/50\n",
            "Epoch 27/50\n",
            "Epoch 28/50\n",
            "Epoch 29/50\n",
            "Epoch 30/50\n",
            "Epoch 31/50\n",
            "Epoch 32/50\n",
            "Epoch 33/50\n",
            "Epoch 34/50\n",
            "Epoch 35/50\n",
            "Epoch 36/50\n",
            "Epoch 37/50\n",
            "Epoch 38/50\n",
            "Epoch 39/50\n",
            "Epoch 40/50\n",
            "Epoch 41/50\n",
            "Epoch 42/50\n",
            "Epoch 43/50\n",
            "Epoch 44/50\n",
            "Epoch 45/50\n",
            "Epoch 46/50\n",
            "Epoch 47/50\n",
            "Epoch 48/50\n",
            "Epoch 49/50\n",
            "Epoch 50/50\n",
            "Epoch 1/50\n",
            "Epoch 2/50\n",
            "Epoch 3/50\n",
            "Epoch 4/50\n",
            "Epoch 5/50\n",
            "Epoch 6/50\n",
            "Epoch 7/50\n",
            "Epoch 8/50\n",
            "Epoch 9/50\n",
            "Epoch 10/50\n",
            "Epoch 11/50\n",
            "Epoch 12/50\n",
            "Epoch 13/50\n",
            "Epoch 14/50\n",
            "Epoch 15/50\n",
            "Epoch 16/50\n",
            "Epoch 17/50\n",
            "Epoch 18/50\n",
            "Epoch 19/50\n",
            "Epoch 20/50\n",
            "Epoch 21/50\n",
            "Epoch 22/50\n",
            "Epoch 23/50\n",
            "Epoch 24/50\n",
            "Epoch 25/50\n",
            "Epoch 26/50\n",
            "Epoch 27/50\n",
            "Epoch 28/50\n",
            "Epoch 29/50\n",
            "Epoch 30/50\n",
            "Epoch 31/50\n",
            "Epoch 32/50\n",
            "Epoch 33/50\n",
            "Epoch 34/50\n",
            "Epoch 35/50\n",
            "Epoch 36/50\n",
            "Epoch 37/50\n",
            "Epoch 38/50\n",
            "Epoch 39/50\n",
            "Epoch 40/50\n",
            "Epoch 41/50\n",
            "Epoch 42/50\n",
            "Epoch 43/50\n",
            "Epoch 44/50\n",
            "Epoch 45/50\n",
            "Epoch 46/50\n",
            "Epoch 47/50\n",
            "Epoch 48/50\n",
            "Epoch 49/50\n",
            "Epoch 50/50\n",
            "Epoch 1/50\n",
            "Epoch 2/50\n",
            "Epoch 3/50\n",
            "Epoch 4/50\n",
            "Epoch 5/50\n",
            "Epoch 6/50\n",
            "Epoch 7/50\n",
            "Epoch 8/50\n",
            "Epoch 9/50\n",
            "Epoch 10/50\n",
            "Epoch 11/50\n",
            "Epoch 12/50\n",
            "Epoch 13/50\n",
            "Epoch 14/50\n",
            "Epoch 15/50\n",
            "Epoch 16/50\n",
            "Epoch 17/50\n",
            "Epoch 18/50\n",
            "Epoch 19/50\n",
            "Epoch 20/50\n",
            "Epoch 21/50\n",
            "Epoch 22/50\n",
            "Epoch 23/50\n",
            "Epoch 24/50\n",
            "Epoch 25/50\n",
            "Epoch 26/50\n",
            "Epoch 27/50\n",
            "Epoch 28/50\n",
            "Epoch 29/50\n",
            "Epoch 30/50\n",
            "Epoch 31/50\n",
            "Epoch 32/50\n",
            "Epoch 33/50\n",
            "Epoch 34/50\n",
            "Epoch 35/50\n",
            "Epoch 36/50\n",
            "Epoch 37/50\n",
            "Epoch 38/50\n",
            "Epoch 39/50\n",
            "Epoch 40/50\n",
            "Epoch 41/50\n",
            "Epoch 42/50\n",
            "Epoch 43/50\n",
            "Epoch 44/50\n",
            "Epoch 45/50\n",
            "Epoch 46/50\n",
            "Epoch 47/50\n",
            "Epoch 48/50\n",
            "Epoch 49/50\n",
            "Epoch 50/50\n"
          ],
          "name": "stdout"
        }
      ]
    },
    {
      "cell_type": "code",
      "metadata": {
        "id": "Kl6QZjvU3ful",
        "colab_type": "code",
        "colab": {
          "base_uri": "https://localhost:8080/",
          "height": 34
        },
        "outputId": "eb28eea5-2c60-4e15-cc2d-9656de0a14de"
      },
      "source": [
        "auc"
      ],
      "execution_count": 111,
      "outputs": [
        {
          "output_type": "execute_result",
          "data": {
            "text/plain": [
              "[0.9384036660194397, 0.9852524995803833, 0.9708595275878906]"
            ]
          },
          "metadata": {
            "tags": []
          },
          "execution_count": 111
        }
      ]
    },
    {
      "cell_type": "code",
      "metadata": {
        "id": "AMuBcNSL3hkQ",
        "colab_type": "code",
        "colab": {
          "base_uri": "https://localhost:8080/",
          "height": 34
        },
        "outputId": "b1e9f0b2-7f2a-4d58-cd2b-bb6cddda421b"
      },
      "source": [
        "val_auc"
      ],
      "execution_count": 112,
      "outputs": [
        {
          "output_type": "execute_result",
          "data": {
            "text/plain": [
              "[0.9606329798698425, 0.9770627021789551, 0.9812782406806946]"
            ]
          },
          "metadata": {
            "tags": []
          },
          "execution_count": 112
        }
      ]
    },
    {
      "cell_type": "code",
      "metadata": {
        "id": "we8UKquX2nYF",
        "colab_type": "code",
        "colab": {
          "base_uri": "https://localhost:8080/",
          "height": 282
        },
        "outputId": "191b62be-ed59-409d-8e14-56dcd97d092d"
      },
      "source": [
        "plt.plot(history.history['loss'][5:], color ='blue')\n",
        "plt.plot(history.history['val_loss'][5:], color ='orange')"
      ],
      "execution_count": 113,
      "outputs": [
        {
          "output_type": "execute_result",
          "data": {
            "text/plain": [
              "[<matplotlib.lines.Line2D at 0x7f41d4a82358>]"
            ]
          },
          "metadata": {
            "tags": []
          },
          "execution_count": 113
        },
        {
          "output_type": "display_data",
          "data": {
            "image/png": "[encoded data removed]",
            "text/plain": [
              "<Figure size 432x288 with 1 Axes>"
            ]
          },
          "metadata": {
            "tags": [],
            "needs_background": "light"
          }
        }
      ]
    },
    {
      "cell_type": "code",
      "metadata": {
        "id": "TDunN09ovN0O",
        "colab_type": "code",
        "colab": {
          "base_uri": "https://localhost:8080/",
          "height": 282
        },
        "outputId": "7cad9cea-3dd8-4afe-ceff-69e5ca1a70fc"
      },
      "source": [
        "plt.plot(history.history['auc'][5:], color ='blue')\n",
        "plt.plot(history.history['val_auc'][5:], color ='orange')"
      ],
      "execution_count": 116,
      "outputs": [
        {
          "output_type": "execute_result",
          "data": {
            "text/plain": [
              "[<matplotlib.lines.Line2D at 0x7f41d42b6278>]"
            ]
          },
          "metadata": {
            "tags": []
          },
          "execution_count": 116
        },
        {
          "output_type": "display_data",
          "data": {
            "image/png": "[encoded data removed]",
            "text/plain": [
              "<Figure size 432x288 with 1 Axes>"
            ]
          },
          "metadata": {
            "tags": [],
            "needs_background": "light"
          }
        }
      ]
    }
  ]
}