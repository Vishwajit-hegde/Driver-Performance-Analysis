{
 "cells": [
  {
   "cell_type": "code",
   "execution_count": 93,
   "metadata": {},
   "outputs": [],
   "source": [
    "import pandas as pd\n",
    "import numpy as np\n",
    "import matplotlib.pyplot as plt\n",
    "%matplotlib inline\n",
    "from datetime import datetime\n",
    "from tqdm import tqdm\n",
    "import sys\n",
    "sys.path.append('/Users/vishwajit/.pyenv/versions/3.7.3/lib/python3.7/site-packages/')\n",
    "from xgboost import XGBClassifier\n",
    "from sklearn.model_selection import StratifiedKFold\n",
    "from sklearn.metrics import accuracy_score\n",
    "import scipy\n",
    "from scipy.signal import find_peaks"
   ]
  },
  {
   "cell_type": "code",
   "execution_count": 133,
   "metadata": {},
   "outputs": [],
   "source": [
    "location = pd.read_csv('location.csv')\n",
    "acc = pd.read_csv('samples.csv')\n",
    "run = pd.read_csv('run.csv')\n",
    "maneuvers = pd.read_csv('maneuvers.csv')\n",
    "maneuvers = maneuvers.set_index(['run_id','turn_id'],drop=True)"
   ]
  },
  {
   "cell_type": "code",
   "execution_count": 134,
   "metadata": {},
   "outputs": [],
   "source": [
    "# timestamp has accuracy till milliseconds. Hence divide by 1000 and convert it to datetime object\n",
    "acc['time'] = [datetime.fromtimestamp(x/1000) for x in acc['timestamp']]\n",
    "location['time'] = [datetime.fromtimestamp(x/1000) for x in location['timestamp']]"
   ]
  },
  {
   "cell_type": "code",
   "execution_count": 135,
   "metadata": {
    "scrolled": true
   },
   "outputs": [
    {
     "name": "stderr",
     "output_type": "stream",
     "text": [
      "100%|██████████| 9/9 [01:22<00:00,  9.20s/it]\n"
     ]
    }
   ],
   "source": [
    "# Feature Extraction based on the paper on measuring driver behavior with smartphones\n",
    "for run_id in tqdm(range(1,10)):\n",
    "    turn_ids = list(maneuvers.loc[run_id,:].index) # find the list of turn ids corresponding to given a run_id\n",
    "    for turn in turn_ids:\n",
    "        # separate the x axis accelerometer data corresponding to the turn\n",
    "        acc_x = np.array(acc[(acc['turn_id']==turn)&(acc['provider']=='acc')&(acc['run_id']==run_id)]['x_axis'])\n",
    "        time = list(acc[(acc['turn_id']==turn)&(acc['provider']=='acc')&(acc['run_id']==run_id)]['time'])\n",
    "        \n",
    "        t = []\n",
    "        for i in range(len(acc_x)):\n",
    "            t.append((time[i]-time[0]).total_seconds()) # find the time difference between starting of the event and given sample\n",
    "        coefs = np.polyfit(t,acc_x,5) # fit a fifth order polynomial to the acceleration data \n",
    "        for i in range(6):\n",
    "            maneuvers.loc[(run_id,turn),'acc_'+str(i)] = coefs[i] # use the 6 coefficients as 6 features\n",
    "        \n",
    "        #minimum peak to maximum peak amplitude\n",
    "        peaks,_ = find_peaks(acc_x)\n",
    "        peak_acc_x = acc_x[peaks]\n",
    "        try:\n",
    "            maneuvers.loc[(run_id,turn),'min_to_max_peak_acc'] = max(peak_acc_x) - min(peak_acc_x) \n",
    "        except:\n",
    "            maneuvers.loc[(run_id,turn),'min_to_max_peak_acc'] = 0\n",
    "        maneuvers.loc[(run_id,turn),'min_acc_x'] = min(acc_x) #minimum amplitude \n",
    "        maneuvers.loc[(run_id,turn),'max_acc_x'] = max(acc_x) #maximum amplitude\n",
    "        maneuvers.loc[(run_id,turn),'mean_acc_x'] = np.mean(acc_x) #average amplitude\n",
    "        T = t[-1]\n",
    "        N = len(t)\n",
    "        maneuvers.loc[(run_id,turn),'sig_energy_acc'] = T/N * np.sum(acc_x**2) #Signal Energy\n",
    "        \n",
    "        # Repeat all the features for gyroscope data\n",
    "        ang_z = np.array(acc[(acc['turn_id']==turn)&(acc['provider']=='gyr')&(acc['run_id']==run_id)]['z_axis'])\n",
    "        time = list(acc[(acc['turn_id']==turn)&(acc['provider']=='gyr')&(acc['run_id']==run_id)]['time'])\n",
    "        \n",
    "        t = []\n",
    "        for i in range(len(time)):\n",
    "            t.append((time[i]-time[0]).total_seconds())\n",
    "        coefs = np.polyfit(t,ang_z,5)\n",
    "        for i in range(6):\n",
    "            maneuvers.loc[(run_id,turn),'ang_'+str(i)] = coefs[i]\n",
    "        \n",
    "        maneuvers.loc[(run_id,turn),'min_ang_z'] = min(ang_z)\n",
    "        maneuvers.loc[(run_id,turn),'max_ang_z'] = max(ang_z)\n",
    "        maneuvers.loc[(run_id,turn),'mean_ang_z'] = np.mean(ang_z)\n",
    "        \n",
    "        peaks,_ = find_peaks(ang_z)\n",
    "        peak_ang_z = ang_z[peaks]\n",
    "        try:\n",
    "            maneuvers.loc[(run_id,turn),'min_to_max_peak_ang'] = max(peak_ang_z) - min(peak_ang_z)\n",
    "        except:\n",
    "            maneuvers.loc[(run_id,turn),'min_to_max_peak_ang'] = 0\n",
    "            \n",
    "        T = t[-1]\n",
    "        N = len(t)\n",
    "        maneuvers.loc[(run_id,turn),'sig_energy_ang'] = T/N * np.sum(ang_z**2)\n",
    "        maneuvers.loc[(run_id,turn),'integral_wz'] = scipy.integrate.simps(ang_z,dx=0.2E-06) #Integral of gyroscope signal"
   ]
  },
  {
   "cell_type": "code",
   "execution_count": 136,
   "metadata": {},
   "outputs": [
    {
     "name": "stdout",
     "output_type": "stream",
     "text": [
      "[0.8992248062015504, 0.8992248062015504, 0.9767441860465116]\n"
     ]
    }
   ],
   "source": [
    "# XGBoost model to classify the severity of the bend\n",
    "maneuvers['direction_'] = [1 if x=='left' else 0 for x in maneuvers['direction']]\n",
    "X = maneuvers[['velocity','max_ang_z','mean_ang_z','direction_',\n",
    "               'min_to_max_peak_ang','min_ang_z','sig_energy_ang','integral_wz']]\n",
    "y = maneuvers['severity']\n",
    "Skf = StratifiedKFold(n_splits=3)\n",
    "valid_scores = []\n",
    "\n",
    "for train_idx, val_idx in Skf.split(X, y):\n",
    "    X_train, X_test = X.iloc[train_idx], X.iloc[val_idx]\n",
    "    y_train, y_test = y.iloc[train_idx], y.iloc[val_idx]\n",
    "    \n",
    "    severity_model = XGBClassifier(\n",
    "        n_estimators=500,\n",
    "        max_depth=3,\n",
    "        learning_rate=0.01,\n",
    "        objective='binary:logistic',\n",
    "        eval_metric='auc'\n",
    "    )\n",
    "    severity_model.fit(X_train, y_train)\n",
    "    \n",
    "    test_preds = severity_model.predict(X_test)\n",
    "    valid_scores.append(accuracy_score(y_test, test_preds))\n",
    "    \n",
    "print(valid_scores)"
   ]
  },
  {
   "cell_type": "code",
   "execution_count": 147,
   "metadata": {},
   "outputs": [],
   "source": [
    "maneuvers[['severity_1','severity_2','severity_3']] = pd.get_dummies(maneuvers.severity,prefix='severity')"
   ]
  },
  {
   "cell_type": "code",
   "execution_count": 157,
   "metadata": {},
   "outputs": [
    {
     "name": "stdout",
     "output_type": "stream",
     "text": [
      "[0.8604651162790697, 0.7751937984496124, 0.7131782945736435]\n"
     ]
    }
   ],
   "source": [
    "# XGBoost model to classify aggressive driving\n",
    "X = maneuvers[['velocity','max_acc_x','mean_acc_x','direction_','acc_0','acc_1','acc_2','acc_3','acc_4','acc_5',\n",
    "               'min_to_max_peak_acc','min_acc_x','severity_1','severity_2','severity_3','sig_energy_acc','integral_wz',\n",
    "               'max_ang_z','mean_ang_z','min_to_max_peak_ang','min_ang_z','sig_energy_ang']]\n",
    "y = maneuvers['aggressive']\n",
    "Skf = StratifiedKFold(n_splits=3)\n",
    "valid_scores = []\n",
    "\n",
    "for train_idx, val_idx in Skf.split(X, y):\n",
    "    X_train, X_test = X.iloc[train_idx], X.iloc[val_idx]\n",
    "    y_train, y_test = y.iloc[train_idx], y.iloc[val_idx]\n",
    "\n",
    "    severity_model = XGBClassifier(\n",
    "        n_estimators=1000,\n",
    "        max_depth=6,\n",
    "        learning_rate=0.01,\n",
    "        objective='binary:logistic',\n",
    "        eval_metric='auc'\n",
    "    )\n",
    "    severity_model.fit(X_train, y_train)\n",
    "\n",
    "    test_preds = severity_model.predict(X_test)\n",
    "    valid_scores.append(accuracy_score(y_test, test_preds))\n",
    "\n",
    "print(valid_scores)"
   ]
  }
 ],
 "metadata": {
  "kernelspec": {
   "display_name": "Python 3",
   "language": "python",
   "name": "python3"
  },
  "language_info": {
   "codemirror_mode": {
    "name": "ipython",
    "version": 3
   },
   "file_extension": ".py",
   "mimetype": "text/x-python",
   "name": "python",
   "nbconvert_exporter": "python",
   "pygments_lexer": "ipython3",
   "version": "3.7.4"
  }
 },
 "nbformat": 4,
 "nbformat_minor": 4
}
