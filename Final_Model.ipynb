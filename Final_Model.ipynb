{
  "nbformat": 4,
  "nbformat_minor": 0,
  "metadata": {
    "colab": {
      "name": "Final Model ",
      "provenance": [],
      "collapsed_sections": [],
      "mount_file_id": "1tpIB5d-cZivdJvXD2FcvadFdH_11E1eP",
      "authorship_tag": "ABX9TyMGwz5qUL9QiycXZ9ICwiV4",
      "include_colab_link": true
    },
    "kernelspec": {
      "name": "python3",
      "display_name": "Python 3"
    },
    "accelerator": "GPU"
  },
  "cells": [
    {
      "cell_type": "markdown",
      "metadata": {
        "id": "view-in-github",
        "colab_type": "text"
      },
      "source": [
        "<a href=\"https://colab.research.google.com/github/Vishwajit-hegde/Driver-Performance-Analysis/blob/master/Final_Model.ipynb\" target=\"_parent\"><img src=\"https://colab.research.google.com/assets/colab-badge.svg\" alt=\"Open In Colab\"/></a>"
      ]
    },
    {
      "cell_type": "code",
      "metadata": {
        "id": "wUcxFDn_LIuZ",
        "colab_type": "code",
        "colab": {}
      },
      "source": [
        "import numpy as np\n",
        "import pandas as pd\n",
        "import tensorflow as tf\n",
        "from tensorflow.keras import layers\n",
        "from datetime import datetime\n",
        "from matplotlib import pyplot as plt\n",
        "from matplotlib import dates as md\n",
        "import plotly.express as px\n",
        "from sklearn.preprocessing import StandardScaler\n",
        "from tensorflow.keras.models import Sequential, Model\n",
        "from tensorflow.keras.layers import Input, Conv1D, Dense, Activation, Dropout, Lambda, Multiply, Add, Concatenate\n",
        "from tensorflow.keras.layers import Flatten\n",
        "from tensorflow.keras.layers import Conv1D,Conv2D,LSTM,GRU,Lambda\n",
        "from tensorflow.keras.layers import MaxPooling1D, Bidirectional\n",
        "import datetime\n",
        "from tqdm import tqdm\n",
        "from sklearn.utils import shuffle\n",
        "import os\n",
        "from scipy import signal\n",
        "import gc"
      ],
      "execution_count": 1,
      "outputs": []
    },
    {
      "cell_type": "code",
      "metadata": {
        "id": "eNaKu5WULg9b",
        "colab_type": "code",
        "colab": {
          "base_uri": "https://localhost:8080/",
          "height": 357
        },
        "outputId": "7911ebca-3a31-4808-9058-dabaf2014e32"
      },
      "source": [
        "df=pd.DataFrame()\n",
        "df1 = pd.DataFrame()\n",
        "os.chdir('/content/drive/My Drive/labelled_driver_data')\n",
        "for files in os.listdir(os.getcwd()):\n",
        "  print(files)\n",
        "  if files!='river4':\n",
        "    os.chdir('/content/drive/My Drive/labelled_driver_data/{}'.format(files))\n",
        "    for filename in os.listdir(os.getcwd()):\n",
        "        print(filename)\n",
        "        if 'acelerometro' in filename:\n",
        "          data = pd.read_csv(filename ,sep =',', header = 0 )\n",
        "          data.columns=['timestamp','uptimeNanos','X','Y','Z']\n",
        "          data['label'] = 0\n",
        "          data['device'] = 'acc'\n",
        "          data['uptimeNanos'] /= 1e9\n",
        "        elif 'giro' in filename:\n",
        "          data2 = pd.read_csv(filename ,sep =',', header = 0 )\n",
        "          data2.columns=['timestamp','uptimeNanos','X','Y','Z']\n",
        "          data2['label'] = 0\n",
        "          data2['device'] = 'gyr'\n",
        "          data2['uptimeNanos'] /= 1e9\n",
        "        elif 'ground' in filename:\n",
        "          labels = pd.read_csv(filename , sep=',')\n",
        "          labels[' inicio'] += data['uptimeNanos'][0]\n",
        "          labels[' fim'] += data['uptimeNanos'][0]\n",
        "\n",
        "    for event,start, end in labels.values:\n",
        "        #print(data2.loc[data2.uptimeNanos.between(start, end),['label']].shape[0])\n",
        "        data.loc[data.uptimeNanos.between(start, end),['label']] = [event]\n",
        "        data2.loc[data2.uptimeNanos.between(start, end),['label']] = [event]\n",
        "    df1 = pd.concat([data,data2], axis =1 , ignore_index=True)\n",
        "    df = df.append(df1)\n",
        "    del data, data2, labels"
      ],
      "execution_count": 2,
      "outputs": [
        {
          "output_type": "stream",
          "text": [
            "driver4\n",
            "acelerometro_terra.txt\n",
            "giroscopio_terra.txt\n",
            "groundTruth.txt\n",
            "aceleracaoLinear_terra.txt\n",
            "driver3\n",
            "acelerometro_terra.txt\n",
            "giroscopio_terra.txt\n",
            "groundTruth.txt\n",
            "aceleracaoLinear_terra.txt\n",
            "driver1\n",
            "acelerometro_terra.txt\n",
            "groundTruth.txt\n",
            "giroscopio_terra.txt\n",
            "aceleracaoLinear_terra.txt\n",
            "driver2\n",
            "acelerometro_terra.txt\n",
            "giroscopio_terra.txt\n",
            "groundTruth.txt\n",
            "aceleracaoLinear_terra.txt\n"
          ],
          "name": "stdout"
        }
      ]
    },
    {
      "cell_type": "code",
      "metadata": {
        "id": "j1fgFh-FWF_w",
        "colab_type": "code",
        "colab": {}
      },
      "source": [
        "df.columns =['timedate','time','X_acc','Y_acc','Z_acc','label','device','s','s1','X_gyr','Y_gyr','Z_gyr','s2','s3']\n",
        "df.timedate = pd.to_datetime(df.timedate)\n",
        "df['label'] = df.label.apply(lambda x : 0 if x in ['evento_nao_agressivo',0] else 1)"
      ],
      "execution_count": 5,
      "outputs": []
    },
    {
      "cell_type": "code",
      "metadata": {
        "id": "1SytV3jK0o46",
        "colab_type": "code",
        "colab": {
          "base_uri": "https://localhost:8080/",
          "height": 34
        },
        "outputId": "01cf9a4a-1cff-4caa-e51f-0b6801f43e09"
      },
      "source": [
        "df['time'] = df.timedate.apply(lambda x : x.time())\n",
        "print('The sampling frequency in Hz is:',df.groupby('time').X_gyr.count().mean())"
      ],
      "execution_count": 6,
      "outputs": [
        {
          "output_type": "stream",
          "text": [
            "The sampling frequency in Hz is: 50.8816644993498\n"
          ],
          "name": "stdout"
        }
      ]
    },
    {
      "cell_type": "code",
      "metadata": {
        "id": "aLpXwMzNf5hD",
        "colab_type": "code",
        "colab": {
          "base_uri": "https://localhost:8080/",
          "height": 34
        },
        "outputId": "fc0a8a26-1a85-426a-8714-e139a10fb5ae"
      },
      "source": [
        "print('total time in min',(df.shape[0]/50)/60)"
      ],
      "execution_count": 7,
      "outputs": [
        {
          "output_type": "stream",
          "text": [
            "total time in min 52.17066666666666\n"
          ],
          "name": "stdout"
        }
      ]
    },
    {
      "cell_type": "code",
      "metadata": {
        "id": "VWiuTrtgPyWr",
        "colab_type": "code",
        "colab": {
          "base_uri": "https://localhost:8080/",
          "height": 68
        },
        "outputId": "89258652-8794-4dea-e4c5-ecada1355248"
      },
      "source": [
        "df.label.value_counts(normalize=True)"
      ],
      "execution_count": 8,
      "outputs": [
        {
          "output_type": "execute_result",
          "data": {
            "text/plain": [
              "0    0.945378\n",
              "1    0.054622\n",
              "Name: label, dtype: float64"
            ]
          },
          "metadata": {
            "tags": []
          },
          "execution_count": 8
        }
      ]
    },
    {
      "cell_type": "code",
      "metadata": {
        "id": "tl_fUvufKp0h",
        "colab_type": "code",
        "colab": {}
      },
      "source": [
        "df = df[['timedate','time','X_acc','Y_acc','Z_acc','X_gyr','Y_gyr','Z_gyr','label']]"
      ],
      "execution_count": 9,
      "outputs": []
    },
    {
      "cell_type": "code",
      "metadata": {
        "id": "OZN7XeLSMYRA",
        "colab_type": "code",
        "colab": {
          "base_uri": "https://localhost:8080/",
          "height": 204
        },
        "outputId": "58bff774-d90e-4947-c060-b4dd3213ed45"
      },
      "source": [
        "df.head()"
      ],
      "execution_count": 10,
      "outputs": [
        {
          "output_type": "execute_result",
          "data": {
            "text/html": [
              "<div>\n",
              "<style scoped>\n",
              "    .dataframe tbody tr th:only-of-type {\n",
              "        vertical-align: middle;\n",
              "    }\n",
              "\n",
              "    .dataframe tbody tr th {\n",
              "        vertical-align: top;\n",
              "    }\n",
              "\n",
              "    .dataframe thead th {\n",
              "        text-align: right;\n",
              "    }\n",
              "</style>\n",
              "<table border=\"1\" class=\"dataframe\">\n",
              "  <thead>\n",
              "    <tr style=\"text-align: right;\">\n",
              "      <th></th>\n",
              "      <th>timedate</th>\n",
              "      <th>time</th>\n",
              "      <th>X_acc</th>\n",
              "      <th>Y_acc</th>\n",
              "      <th>Z_acc</th>\n",
              "      <th>X_gyr</th>\n",
              "      <th>Y_gyr</th>\n",
              "      <th>Z_gyr</th>\n",
              "      <th>label</th>\n",
              "    </tr>\n",
              "  </thead>\n",
              "  <tbody>\n",
              "    <tr>\n",
              "      <th>0</th>\n",
              "      <td>2016-05-14 10:54:33</td>\n",
              "      <td>10:54:33</td>\n",
              "      <td>-0.161602</td>\n",
              "      <td>0.120174</td>\n",
              "      <td>9.596758</td>\n",
              "      <td>-0.070372</td>\n",
              "      <td>0.000844</td>\n",
              "      <td>0.029619</td>\n",
              "      <td>0</td>\n",
              "    </tr>\n",
              "    <tr>\n",
              "      <th>1</th>\n",
              "      <td>2016-05-14 10:54:33</td>\n",
              "      <td>10:54:33</td>\n",
              "      <td>-0.122628</td>\n",
              "      <td>0.315638</td>\n",
              "      <td>9.425655</td>\n",
              "      <td>-0.058695</td>\n",
              "      <td>0.009130</td>\n",
              "      <td>0.024406</td>\n",
              "      <td>0</td>\n",
              "    </tr>\n",
              "    <tr>\n",
              "      <th>2</th>\n",
              "      <td>2016-05-14 10:54:33</td>\n",
              "      <td>10:54:33</td>\n",
              "      <td>-0.178777</td>\n",
              "      <td>0.330180</td>\n",
              "      <td>9.445955</td>\n",
              "      <td>0.006625</td>\n",
              "      <td>-0.002283</td>\n",
              "      <td>-0.015018</td>\n",
              "      <td>0</td>\n",
              "    </tr>\n",
              "    <tr>\n",
              "      <th>3</th>\n",
              "      <td>2016-05-14 10:54:33</td>\n",
              "      <td>10:54:33</td>\n",
              "      <td>0.016043</td>\n",
              "      <td>0.038759</td>\n",
              "      <td>9.528445</td>\n",
              "      <td>0.064933</td>\n",
              "      <td>0.033172</td>\n",
              "      <td>-0.040503</td>\n",
              "      <td>0</td>\n",
              "    </tr>\n",
              "    <tr>\n",
              "      <th>4</th>\n",
              "      <td>2016-05-14 10:54:33</td>\n",
              "      <td>10:54:33</td>\n",
              "      <td>0.141716</td>\n",
              "      <td>-0.162492</td>\n",
              "      <td>9.756854</td>\n",
              "      <td>0.039454</td>\n",
              "      <td>-0.013078</td>\n",
              "      <td>-0.007681</td>\n",
              "      <td>0</td>\n",
              "    </tr>\n",
              "  </tbody>\n",
              "</table>\n",
              "</div>"
            ],
            "text/plain": [
              "             timedate      time     X_acc  ...     Y_gyr     Z_gyr  label\n",
              "0 2016-05-14 10:54:33  10:54:33 -0.161602  ...  0.000844  0.029619      0\n",
              "1 2016-05-14 10:54:33  10:54:33 -0.122628  ...  0.009130  0.024406      0\n",
              "2 2016-05-14 10:54:33  10:54:33 -0.178777  ... -0.002283 -0.015018      0\n",
              "3 2016-05-14 10:54:33  10:54:33  0.016043  ...  0.033172 -0.040503      0\n",
              "4 2016-05-14 10:54:33  10:54:33  0.141716  ... -0.013078 -0.007681      0\n",
              "\n",
              "[5 rows x 9 columns]"
            ]
          },
          "metadata": {
            "tags": []
          },
          "execution_count": 10
        }
      ]
    },
    {
      "cell_type": "code",
      "metadata": {
        "id": "wluSclYino2i",
        "colab_type": "code",
        "colab": {
          "base_uri": "https://localhost:8080/",
          "height": 187
        },
        "outputId": "265920e0-5025-4201-aa27-add6f6ace0d5"
      },
      "source": [
        "df.dropna(inplace = True)"
      ],
      "execution_count": 11,
      "outputs": [
        {
          "output_type": "stream",
          "text": [
            "/usr/local/lib/python3.6/dist-packages/ipykernel_launcher.py:1: SettingWithCopyWarning:\n",
            "\n",
            "\n",
            "A value is trying to be set on a copy of a slice from a DataFrame\n",
            "\n",
            "See the caveats in the documentation: https://pandas.pydata.org/pandas-docs/stable/user_guide/indexing.html#returning-a-view-versus-a-copy\n",
            "\n"
          ],
          "name": "stderr"
        },
        {
          "output_type": "execute_result",
          "data": {
            "text/plain": [
              "0    0.945378\n",
              "1    0.054622\n",
              "Name: label, dtype: float64"
            ]
          },
          "metadata": {
            "tags": []
          },
          "execution_count": 11
        }
      ]
    },
    {
      "cell_type": "code",
      "metadata": {
        "id": "paVYzhhdaJg_",
        "colab_type": "code",
        "colab": {}
      },
      "source": [
        "dftrain = df.copy()"
      ],
      "execution_count": 12,
      "outputs": []
    },
    {
      "cell_type": "code",
      "metadata": {
        "id": "XWq2wcLOycv5",
        "colab_type": "code",
        "colab": {}
      },
      "source": [
        "#Y is lateraal \n",
        "#X is longitudinal\n",
        "#Z is  vertical"
      ],
      "execution_count": null,
      "outputs": []
    },
    {
      "cell_type": "code",
      "metadata": {
        "id": "JOU1Alb3ad2e",
        "colab_type": "code",
        "colab": {}
      },
      "source": [
        "def train_dataset(series,window_size, batch_size):\n",
        "    ds = tf.data.Dataset.from_tensor_slices((series))\n",
        "    ds = ds.window(window_size, shift=20, drop_remainder=True)\n",
        "    ds = ds.flat_map(lambda w: w.batch(window_size))\n",
        "    ds = ds.shuffle(10000).map(lambda window: (window[:,:-1], window[50,-1:]))\n",
        "    #ds = ds.batch(batch_size).prefetch(1)\n",
        "    return ds"
      ],
      "execution_count": 13,
      "outputs": []
    },
    {
      "cell_type": "code",
      "metadata": {
        "id": "tE6jPPvFbhLO",
        "colab_type": "code",
        "colab": {}
      },
      "source": [
        "train= train_dataset(dftrain[['X_acc','Y_acc','X_gyr','Y_gyr','Z_gyr','label']].values,100,128)"
      ],
      "execution_count": 14,
      "outputs": []
    },
    {
      "cell_type": "code",
      "metadata": {
        "id": "5tt9xy6bz0Gx",
        "colab_type": "code",
        "colab": {}
      },
      "source": [
        "X=[]\n",
        "y=[]\n",
        "for i,j in train:\n",
        "  X.append(i.numpy())\n",
        "  y.append(j.numpy())\n",
        "X = np.asarray(X)\n",
        "y = np.asarray(y)"
      ],
      "execution_count": 15,
      "outputs": []
    },
    {
      "cell_type": "code",
      "metadata": {
        "id": "7A1V3ObmnoBm",
        "colab_type": "code",
        "colab": {}
      },
      "source": [
        "def create_model(n, n_filters =32, filter_width = 2 , dilation_rates =[2**i for i in range(8)] * 2 ):\n",
        "\n",
        "  # define an input history series and pass it through a stack of dilated causal convolution blocks. \n",
        "  history_seq = Input(shape=(100, n))\n",
        "  x = history_seq\n",
        "\n",
        "  skips = []\n",
        "  for dilation_rate in dilation_rates:\n",
        "      \n",
        "      # preprocessing - equivalent to time-distributed dense\n",
        "      x = Conv1D(16, 1, padding='same', activation='relu')(x) \n",
        "      \n",
        "      # filter convolution\n",
        "      x_f = Conv1D(filters=n_filters,\n",
        "                  kernel_size=filter_width, \n",
        "                  padding='causal',\n",
        "                  dilation_rate=dilation_rate)(x)\n",
        "      \n",
        "      # gating convolution\n",
        "      x_g = Conv1D(filters=n_filters,\n",
        "                  kernel_size=filter_width, \n",
        "                  padding='causal',\n",
        "                  dilation_rate=dilation_rate)(x)\n",
        "      \n",
        "      # multiply filter and gating branches\n",
        "      z = Multiply()([Activation('tanh')(x_f),\n",
        "                      Activation('sigmoid')(x_g)])\n",
        "      \n",
        "      # postprocessing - equivalent to time-distributed dense\n",
        "      z = Conv1D(16, 1, padding='same', activation='relu')(z)\n",
        "      \n",
        "      # residual connection\n",
        "      x = Add()([x, z])    \n",
        "      \n",
        "      # collect skip connections\n",
        "      skips.append(z)\n",
        "\n",
        "  # add all skip connection outputs \n",
        "  out = Activation('relu')(Add()(skips))\n",
        "\n",
        "  # final time-distributed dense layers \n",
        "  out = Conv1D(100, 1, padding='same')(out)\n",
        "  out = Activation('relu')(out)\n",
        "  out = Dropout(.2)(out)\n",
        "  out = Conv1D(1,1, padding='same')(out)\n",
        "  out = Flatten()(out)\n",
        "  out = Dense(100, activation='relu')(out)\n",
        "  out = Dropout(.3)(out)\n",
        "  out = Dense(10, activation='relu')(out)\n",
        "  out = Dense(1, activation='sigmoid')(out)\n",
        "\n",
        "  model = Model(history_seq, out)\n",
        "  model.compile(tf.keras.optimizers.Adam(lr = 1e-4), loss='binary_crossentropy', metrics =METRICS)\n",
        "  return model"
      ],
      "execution_count": 27,
      "outputs": []
    },
    {
      "cell_type": "code",
      "metadata": {
        "id": "Ko14UipbHwoz",
        "colab_type": "code",
        "colab": {}
      },
      "source": [
        "weight_for_0 = (1 / 110178)*(116512)/2.0\n",
        "weight_for_1 = (1 / 6334)*(116512)/2.0\n",
        "\n",
        "class_weight = {0: 1, 1: 2}\n",
        "METRICS = [\n",
        "      tf.keras.metrics.TruePositives(name='tp'),\n",
        "      tf.keras.metrics.FalsePositives(name='fp'),\n",
        "      tf.keras.metrics.TrueNegatives(name='tn'),\n",
        "      tf.keras.metrics.FalseNegatives(name='fn'), \n",
        "      tf.keras.metrics.BinaryAccuracy(name='accuracy', threshold =0.5),\n",
        "      tf.keras.metrics.Precision(name='precision'),\n",
        "      tf.keras.metrics.Recall(name='recall'),\n",
        "      tf.keras.metrics.AUC(name='auc')\n",
        "]\n"
      ],
      "execution_count": 30,
      "outputs": []
    },
    {
      "cell_type": "code",
      "metadata": {
        "id": "TJsCqUAng_k6",
        "colab_type": "code",
        "colab": {
          "base_uri": "https://localhost:8080/",
          "height": 1000
        },
        "outputId": "33b33c5d-6805-4ae1-caa9-f6cf622e3f3e"
      },
      "source": [
        "auc =[]\n",
        "val_auc =[]\n",
        "from sklearn.model_selection import StratifiedShuffleSplit\n",
        "sss = StratifiedShuffleSplit(n_splits=3, test_size=0.25, random_state=47)\n",
        "for train_index, test_index in sss.split(X, y):\n",
        "  X_train, X_test = X[train_index], X[test_index]\n",
        "  y_train, y_test = y[train_index], y[test_index]\n",
        "  model = create_model(5)\n",
        "  history = model.fit(X_train, y_train,batch_size =64,  epochs =100, validation_data=(X_test, y_test),verbose = 0,validation_batch_size=64,callbacks =[tf.keras.callbacks.EarlyStopping(monitor='val_loss', patience=7)])\n",
        "  if history.history['accuracy'][-7]> 0.95 and history.history['val_accuracy'][-7] >0.95:\n",
        "    print('The model is better than a simple constant model for sure:')\n",
        "    auc.append(history.history['auc'][-7])\n",
        "    val_auc.append(history.history['val_auc'][-7])\n",
        "  else:\n",
        "    print('This prediction is garbage')\n"
      ],
      "execution_count": 31,
      "outputs": [
        {
          "output_type": "stream",
          "text": [
            "Epoch 1/50\n",
            "92/92 [==============================] - 7s 73ms/step - loss: 0.4324 - tp: 27.0000 - fp: 330.0000 - tn: 5213.0000 - fn: 295.0000 - accuracy: 0.8934 - precision: 0.0756 - recall: 0.0839 - auc: 0.4019 - val_loss: 0.2539 - val_tp: 0.0000e+00 - val_fp: 0.0000e+00 - val_tn: 1849.0000 - val_fn: 107.0000 - val_accuracy: 0.9453 - val_precision: 0.0000e+00 - val_recall: 0.0000e+00 - val_auc: 0.0879\n",
            "Epoch 2/50\n",
            "92/92 [==============================] - 5s 51ms/step - loss: 0.2438 - tp: 0.0000e+00 - fp: 0.0000e+00 - tn: 5543.0000 - fn: 322.0000 - accuracy: 0.9451 - precision: 0.0000e+00 - recall: 0.0000e+00 - auc: 0.3461 - val_loss: 0.2130 - val_tp: 0.0000e+00 - val_fp: 0.0000e+00 - val_tn: 1849.0000 - val_fn: 107.0000 - val_accuracy: 0.9453 - val_precision: 0.0000e+00 - val_recall: 0.0000e+00 - val_auc: 0.5528\n",
            "Epoch 3/50\n",
            "92/92 [==============================] - 5s 51ms/step - loss: 0.1922 - tp: 0.0000e+00 - fp: 0.0000e+00 - tn: 5543.0000 - fn: 322.0000 - accuracy: 0.9451 - precision: 0.0000e+00 - recall: 0.0000e+00 - auc: 0.7296 - val_loss: 0.1442 - val_tp: 1.0000 - val_fp: 0.0000e+00 - val_tn: 1849.0000 - val_fn: 106.0000 - val_accuracy: 0.9458 - val_precision: 1.0000 - val_recall: 0.0093 - val_auc: 0.9291\n",
            "Epoch 4/50\n",
            "92/92 [==============================] - 5s 51ms/step - loss: 0.1349 - tp: 51.0000 - fp: 17.0000 - tn: 5526.0000 - fn: 271.0000 - accuracy: 0.9509 - precision: 0.7500 - recall: 0.1584 - auc: 0.8992 - val_loss: 0.1147 - val_tp: 43.0000 - val_fp: 13.0000 - val_tn: 1836.0000 - val_fn: 64.0000 - val_accuracy: 0.9606 - val_precision: 0.7679 - val_recall: 0.4019 - val_auc: 0.9336\n",
            "Epoch 5/50\n",
            "92/92 [==============================] - 5s 51ms/step - loss: 0.1243 - tp: 97.0000 - fp: 40.0000 - tn: 5503.0000 - fn: 225.0000 - accuracy: 0.9548 - precision: 0.7080 - recall: 0.3012 - auc: 0.9106 - val_loss: 0.1142 - val_tp: 63.0000 - val_fp: 20.0000 - val_tn: 1829.0000 - val_fn: 44.0000 - val_accuracy: 0.9673 - val_precision: 0.7590 - val_recall: 0.5888 - val_auc: 0.9359\n",
            "Epoch 6/50\n",
            "92/92 [==============================] - 5s 52ms/step - loss: 0.1215 - tp: 131.0000 - fp: 48.0000 - tn: 5495.0000 - fn: 191.0000 - accuracy: 0.9592 - precision: 0.7318 - recall: 0.4068 - auc: 0.9150 - val_loss: 0.1084 - val_tp: 61.0000 - val_fp: 20.0000 - val_tn: 1829.0000 - val_fn: 46.0000 - val_accuracy: 0.9663 - val_precision: 0.7531 - val_recall: 0.5701 - val_auc: 0.9395\n",
            "Epoch 7/50\n",
            "92/92 [==============================] - 5s 51ms/step - loss: 0.1152 - tp: 154.0000 - fp: 49.0000 - tn: 5494.0000 - fn: 168.0000 - accuracy: 0.9630 - precision: 0.7586 - recall: 0.4783 - auc: 0.9224 - val_loss: 0.1072 - val_tp: 56.0000 - val_fp: 13.0000 - val_tn: 1836.0000 - val_fn: 51.0000 - val_accuracy: 0.9673 - val_precision: 0.8116 - val_recall: 0.5234 - val_auc: 0.9363\n",
            "Epoch 8/50\n",
            "92/92 [==============================] - 5s 51ms/step - loss: 0.1156 - tp: 168.0000 - fp: 68.0000 - tn: 5475.0000 - fn: 154.0000 - accuracy: 0.9621 - precision: 0.7119 - recall: 0.5217 - auc: 0.9157 - val_loss: 0.1055 - val_tp: 61.0000 - val_fp: 16.0000 - val_tn: 1833.0000 - val_fn: 46.0000 - val_accuracy: 0.9683 - val_precision: 0.7922 - val_recall: 0.5701 - val_auc: 0.9432\n",
            "Epoch 9/50\n",
            "92/92 [==============================] - 5s 54ms/step - loss: 0.1125 - tp: 166.0000 - fp: 67.0000 - tn: 5476.0000 - fn: 156.0000 - accuracy: 0.9620 - precision: 0.7124 - recall: 0.5155 - auc: 0.9213 - val_loss: 0.1043 - val_tp: 64.0000 - val_fp: 22.0000 - val_tn: 1827.0000 - val_fn: 43.0000 - val_accuracy: 0.9668 - val_precision: 0.7442 - val_recall: 0.5981 - val_auc: 0.9407\n",
            "Epoch 10/50\n",
            "92/92 [==============================] - 5s 50ms/step - loss: 0.1104 - tp: 174.0000 - fp: 61.0000 - tn: 5482.0000 - fn: 148.0000 - accuracy: 0.9644 - precision: 0.7404 - recall: 0.5404 - auc: 0.9227 - val_loss: 0.1036 - val_tp: 64.0000 - val_fp: 23.0000 - val_tn: 1826.0000 - val_fn: 43.0000 - val_accuracy: 0.9663 - val_precision: 0.7356 - val_recall: 0.5981 - val_auc: 0.9439\n",
            "Epoch 11/50\n",
            "92/92 [==============================] - 5s 51ms/step - loss: 0.1098 - tp: 182.0000 - fp: 61.0000 - tn: 5482.0000 - fn: 140.0000 - accuracy: 0.9657 - precision: 0.7490 - recall: 0.5652 - auc: 0.9206 - val_loss: 0.1031 - val_tp: 65.0000 - val_fp: 22.0000 - val_tn: 1827.0000 - val_fn: 42.0000 - val_accuracy: 0.9673 - val_precision: 0.7471 - val_recall: 0.6075 - val_auc: 0.9424\n",
            "Epoch 12/50\n",
            "92/92 [==============================] - 5s 50ms/step - loss: 0.1113 - tp: 176.0000 - fp: 63.0000 - tn: 5480.0000 - fn: 146.0000 - accuracy: 0.9644 - precision: 0.7364 - recall: 0.5466 - auc: 0.9082 - val_loss: 0.1030 - val_tp: 67.0000 - val_fp: 25.0000 - val_tn: 1824.0000 - val_fn: 40.0000 - val_accuracy: 0.9668 - val_precision: 0.7283 - val_recall: 0.6262 - val_auc: 0.9394\n",
            "Epoch 13/50\n",
            "92/92 [==============================] - 5s 51ms/step - loss: 0.1086 - tp: 180.0000 - fp: 65.0000 - tn: 5478.0000 - fn: 142.0000 - accuracy: 0.9647 - precision: 0.7347 - recall: 0.5590 - auc: 0.9244 - val_loss: 0.1060 - val_tp: 73.0000 - val_fp: 33.0000 - val_tn: 1816.0000 - val_fn: 34.0000 - val_accuracy: 0.9657 - val_precision: 0.6887 - val_recall: 0.6822 - val_auc: 0.9384\n",
            "Epoch 14/50\n",
            "92/92 [==============================] - 5s 50ms/step - loss: 0.1051 - tp: 184.0000 - fp: 65.0000 - tn: 5478.0000 - fn: 138.0000 - accuracy: 0.9654 - precision: 0.7390 - recall: 0.5714 - auc: 0.9297 - val_loss: 0.1081 - val_tp: 73.0000 - val_fp: 37.0000 - val_tn: 1812.0000 - val_fn: 34.0000 - val_accuracy: 0.9637 - val_precision: 0.6636 - val_recall: 0.6822 - val_auc: 0.9454\n",
            "Epoch 15/50\n",
            "92/92 [==============================] - 5s 51ms/step - loss: 0.1071 - tp: 183.0000 - fp: 63.0000 - tn: 5480.0000 - fn: 139.0000 - accuracy: 0.9656 - precision: 0.7439 - recall: 0.5683 - auc: 0.9180 - val_loss: 0.1017 - val_tp: 65.0000 - val_fp: 21.0000 - val_tn: 1828.0000 - val_fn: 42.0000 - val_accuracy: 0.9678 - val_precision: 0.7558 - val_recall: 0.6075 - val_auc: 0.9428\n",
            "Epoch 16/50\n",
            "92/92 [==============================] - 5s 50ms/step - loss: 0.1055 - tp: 184.0000 - fp: 71.0000 - tn: 5472.0000 - fn: 138.0000 - accuracy: 0.9644 - precision: 0.7216 - recall: 0.5714 - auc: 0.9277 - val_loss: 0.1018 - val_tp: 65.0000 - val_fp: 22.0000 - val_tn: 1827.0000 - val_fn: 42.0000 - val_accuracy: 0.9673 - val_precision: 0.7471 - val_recall: 0.6075 - val_auc: 0.9441\n",
            "Epoch 17/50\n",
            "92/92 [==============================] - 5s 51ms/step - loss: 0.1055 - tp: 188.0000 - fp: 62.0000 - tn: 5481.0000 - fn: 134.0000 - accuracy: 0.9666 - precision: 0.7520 - recall: 0.5839 - auc: 0.9276 - val_loss: 0.1014 - val_tp: 66.0000 - val_fp: 24.0000 - val_tn: 1825.0000 - val_fn: 41.0000 - val_accuracy: 0.9668 - val_precision: 0.7333 - val_recall: 0.6168 - val_auc: 0.9424\n",
            "Epoch 18/50\n",
            "92/92 [==============================] - 5s 51ms/step - loss: 0.1032 - tp: 192.0000 - fp: 55.0000 - tn: 5488.0000 - fn: 130.0000 - accuracy: 0.9685 - precision: 0.7773 - recall: 0.5963 - auc: 0.9258 - val_loss: 0.1026 - val_tp: 69.0000 - val_fp: 26.0000 - val_tn: 1823.0000 - val_fn: 38.0000 - val_accuracy: 0.9673 - val_precision: 0.7263 - val_recall: 0.6449 - val_auc: 0.9406\n",
            "Epoch 19/50\n",
            "92/92 [==============================] - 5s 51ms/step - loss: 0.1022 - tp: 198.0000 - fp: 59.0000 - tn: 5484.0000 - fn: 124.0000 - accuracy: 0.9688 - precision: 0.7704 - recall: 0.6149 - auc: 0.9301 - val_loss: 0.1025 - val_tp: 59.0000 - val_fp: 18.0000 - val_tn: 1831.0000 - val_fn: 48.0000 - val_accuracy: 0.9663 - val_precision: 0.7662 - val_recall: 0.5514 - val_auc: 0.9373\n",
            "Epoch 20/50\n",
            "92/92 [==============================] - 5s 51ms/step - loss: 0.1040 - tp: 187.0000 - fp: 50.0000 - tn: 5493.0000 - fn: 135.0000 - accuracy: 0.9685 - precision: 0.7890 - recall: 0.5807 - auc: 0.9209 - val_loss: 0.1035 - val_tp: 73.0000 - val_fp: 33.0000 - val_tn: 1816.0000 - val_fn: 34.0000 - val_accuracy: 0.9657 - val_precision: 0.6887 - val_recall: 0.6822 - val_auc: 0.9424\n",
            "Epoch 21/50\n",
            "92/92 [==============================] - 5s 51ms/step - loss: 0.1019 - tp: 189.0000 - fp: 53.0000 - tn: 5490.0000 - fn: 133.0000 - accuracy: 0.9683 - precision: 0.7810 - recall: 0.5870 - auc: 0.9291 - val_loss: 0.1003 - val_tp: 66.0000 - val_fp: 21.0000 - val_tn: 1828.0000 - val_fn: 41.0000 - val_accuracy: 0.9683 - val_precision: 0.7586 - val_recall: 0.6168 - val_auc: 0.9478\n",
            "Epoch 22/50\n",
            "92/92 [==============================] - 5s 52ms/step - loss: 0.1018 - tp: 189.0000 - fp: 59.0000 - tn: 5484.0000 - fn: 133.0000 - accuracy: 0.9673 - precision: 0.7621 - recall: 0.5870 - auc: 0.9327 - val_loss: 0.1031 - val_tp: 72.0000 - val_fp: 32.0000 - val_tn: 1817.0000 - val_fn: 35.0000 - val_accuracy: 0.9657 - val_precision: 0.6923 - val_recall: 0.6729 - val_auc: 0.9451\n",
            "Epoch 23/50\n",
            "92/92 [==============================] - 5s 51ms/step - loss: 0.0985 - tp: 189.0000 - fp: 58.0000 - tn: 5485.0000 - fn: 133.0000 - accuracy: 0.9674 - precision: 0.7652 - recall: 0.5870 - auc: 0.9311 - val_loss: 0.1030 - val_tp: 59.0000 - val_fp: 17.0000 - val_tn: 1832.0000 - val_fn: 48.0000 - val_accuracy: 0.9668 - val_precision: 0.7763 - val_recall: 0.5514 - val_auc: 0.9397\n",
            "Epoch 24/50\n",
            "92/92 [==============================] - 5s 51ms/step - loss: 0.0988 - tp: 191.0000 - fp: 49.0000 - tn: 5494.0000 - fn: 131.0000 - accuracy: 0.9693 - precision: 0.7958 - recall: 0.5932 - auc: 0.9327 - val_loss: 0.1027 - val_tp: 58.0000 - val_fp: 14.0000 - val_tn: 1835.0000 - val_fn: 49.0000 - val_accuracy: 0.9678 - val_precision: 0.8056 - val_recall: 0.5421 - val_auc: 0.9444\n",
            "Epoch 25/50\n",
            "92/92 [==============================] - 5s 51ms/step - loss: 0.1008 - tp: 195.0000 - fp: 54.0000 - tn: 5489.0000 - fn: 127.0000 - accuracy: 0.9691 - precision: 0.7831 - recall: 0.6056 - auc: 0.9331 - val_loss: 0.1004 - val_tp: 63.0000 - val_fp: 19.0000 - val_tn: 1830.0000 - val_fn: 44.0000 - val_accuracy: 0.9678 - val_precision: 0.7683 - val_recall: 0.5888 - val_auc: 0.9438\n",
            "Epoch 26/50\n",
            "92/92 [==============================] - 5s 52ms/step - loss: 0.0992 - tp: 197.0000 - fp: 52.0000 - tn: 5491.0000 - fn: 125.0000 - accuracy: 0.9698 - precision: 0.7912 - recall: 0.6118 - auc: 0.9347 - val_loss: 0.1007 - val_tp: 59.0000 - val_fp: 21.0000 - val_tn: 1828.0000 - val_fn: 48.0000 - val_accuracy: 0.9647 - val_precision: 0.7375 - val_recall: 0.5514 - val_auc: 0.9422\n",
            "Epoch 27/50\n",
            "92/92 [==============================] - 5s 52ms/step - loss: 0.0969 - tp: 191.0000 - fp: 53.0000 - tn: 5490.0000 - fn: 131.0000 - accuracy: 0.9686 - precision: 0.7828 - recall: 0.5932 - auc: 0.9360 - val_loss: 0.1006 - val_tp: 69.0000 - val_fp: 28.0000 - val_tn: 1821.0000 - val_fn: 38.0000 - val_accuracy: 0.9663 - val_precision: 0.7113 - val_recall: 0.6449 - val_auc: 0.9447\n",
            "Epoch 28/50\n",
            "92/92 [==============================] - 5s 51ms/step - loss: 0.0976 - tp: 193.0000 - fp: 48.0000 - tn: 5495.0000 - fn: 129.0000 - accuracy: 0.9698 - precision: 0.8008 - recall: 0.5994 - auc: 0.9321 - val_loss: 0.0999 - val_tp: 69.0000 - val_fp: 27.0000 - val_tn: 1822.0000 - val_fn: 38.0000 - val_accuracy: 0.9668 - val_precision: 0.7188 - val_recall: 0.6449 - val_auc: 0.9468\n",
            "Epoch 29/50\n",
            "92/92 [==============================] - 5s 51ms/step - loss: 0.0955 - tp: 194.0000 - fp: 55.0000 - tn: 5488.0000 - fn: 128.0000 - accuracy: 0.9688 - precision: 0.7791 - recall: 0.6025 - auc: 0.9407 - val_loss: 0.0994 - val_tp: 63.0000 - val_fp: 22.0000 - val_tn: 1827.0000 - val_fn: 44.0000 - val_accuracy: 0.9663 - val_precision: 0.7412 - val_recall: 0.5888 - val_auc: 0.9439\n",
            "Epoch 30/50\n",
            "92/92 [==============================] - 5s 51ms/step - loss: 0.0958 - tp: 188.0000 - fp: 48.0000 - tn: 5495.0000 - fn: 134.0000 - accuracy: 0.9690 - precision: 0.7966 - recall: 0.5839 - auc: 0.9360 - val_loss: 0.0984 - val_tp: 66.0000 - val_fp: 23.0000 - val_tn: 1826.0000 - val_fn: 41.0000 - val_accuracy: 0.9673 - val_precision: 0.7416 - val_recall: 0.6168 - val_auc: 0.9482\n",
            "Epoch 31/50\n",
            "92/92 [==============================] - 5s 51ms/step - loss: 0.0967 - tp: 203.0000 - fp: 57.0000 - tn: 5486.0000 - fn: 119.0000 - accuracy: 0.9700 - precision: 0.7808 - recall: 0.6304 - auc: 0.9345 - val_loss: 0.0993 - val_tp: 62.0000 - val_fp: 19.0000 - val_tn: 1830.0000 - val_fn: 45.0000 - val_accuracy: 0.9673 - val_precision: 0.7654 - val_recall: 0.5794 - val_auc: 0.9416\n",
            "Epoch 32/50\n",
            "92/92 [==============================] - 5s 50ms/step - loss: 0.0965 - tp: 195.0000 - fp: 47.0000 - tn: 5496.0000 - fn: 127.0000 - accuracy: 0.9703 - precision: 0.8058 - recall: 0.6056 - auc: 0.9316 - val_loss: 0.1021 - val_tp: 56.0000 - val_fp: 16.0000 - val_tn: 1833.0000 - val_fn: 51.0000 - val_accuracy: 0.9657 - val_precision: 0.7778 - val_recall: 0.5234 - val_auc: 0.9390\n",
            "Epoch 33/50\n",
            "92/92 [==============================] - 5s 51ms/step - loss: 0.0930 - tp: 196.0000 - fp: 42.0000 - tn: 5501.0000 - fn: 126.0000 - accuracy: 0.9714 - precision: 0.8235 - recall: 0.6087 - auc: 0.9429 - val_loss: 0.0990 - val_tp: 57.0000 - val_fp: 18.0000 - val_tn: 1831.0000 - val_fn: 50.0000 - val_accuracy: 0.9652 - val_precision: 0.7600 - val_recall: 0.5327 - val_auc: 0.9466\n",
            "Epoch 34/50\n",
            "92/92 [==============================] - 5s 51ms/step - loss: 0.0932 - tp: 197.0000 - fp: 43.0000 - tn: 5500.0000 - fn: 125.0000 - accuracy: 0.9714 - precision: 0.8208 - recall: 0.6118 - auc: 0.9482 - val_loss: 0.0980 - val_tp: 63.0000 - val_fp: 19.0000 - val_tn: 1830.0000 - val_fn: 44.0000 - val_accuracy: 0.9678 - val_precision: 0.7683 - val_recall: 0.5888 - val_auc: 0.9443\n",
            "Epoch 35/50\n",
            "92/92 [==============================] - 5s 51ms/step - loss: 0.0943 - tp: 203.0000 - fp: 48.0000 - tn: 5495.0000 - fn: 119.0000 - accuracy: 0.9715 - precision: 0.8088 - recall: 0.6304 - auc: 0.9343 - val_loss: 0.0982 - val_tp: 69.0000 - val_fp: 23.0000 - val_tn: 1826.0000 - val_fn: 38.0000 - val_accuracy: 0.9688 - val_precision: 0.7500 - val_recall: 0.6449 - val_auc: 0.9466\n",
            "Epoch 36/50\n",
            "92/92 [==============================] - 5s 51ms/step - loss: 0.0926 - tp: 199.0000 - fp: 41.0000 - tn: 5502.0000 - fn: 123.0000 - accuracy: 0.9720 - precision: 0.8292 - recall: 0.6180 - auc: 0.9435 - val_loss: 0.0995 - val_tp: 70.0000 - val_fp: 25.0000 - val_tn: 1824.0000 - val_fn: 37.0000 - val_accuracy: 0.9683 - val_precision: 0.7368 - val_recall: 0.6542 - val_auc: 0.9474\n",
            "Epoch 37/50\n",
            "92/92 [==============================] - 5s 50ms/step - loss: 0.0922 - tp: 202.0000 - fp: 45.0000 - tn: 5498.0000 - fn: 120.0000 - accuracy: 0.9719 - precision: 0.8178 - recall: 0.6273 - auc: 0.9398 - val_loss: 0.0987 - val_tp: 70.0000 - val_fp: 22.0000 - val_tn: 1827.0000 - val_fn: 37.0000 - val_accuracy: 0.9698 - val_precision: 0.7609 - val_recall: 0.6542 - val_auc: 0.9485\n",
            "Epoch 38/50\n",
            "92/92 [==============================] - 5s 51ms/step - loss: 0.0912 - tp: 203.0000 - fp: 50.0000 - tn: 5493.0000 - fn: 119.0000 - accuracy: 0.9712 - precision: 0.8024 - recall: 0.6304 - auc: 0.9434 - val_loss: 0.0976 - val_tp: 66.0000 - val_fp: 21.0000 - val_tn: 1828.0000 - val_fn: 41.0000 - val_accuracy: 0.9683 - val_precision: 0.7586 - val_recall: 0.6168 - val_auc: 0.9467\n",
            "Epoch 39/50\n",
            "92/92 [==============================] - 5s 50ms/step - loss: 0.0896 - tp: 204.0000 - fp: 43.0000 - tn: 5500.0000 - fn: 118.0000 - accuracy: 0.9725 - precision: 0.8259 - recall: 0.6335 - auc: 0.9388 - val_loss: 0.0982 - val_tp: 60.0000 - val_fp: 18.0000 - val_tn: 1831.0000 - val_fn: 47.0000 - val_accuracy: 0.9668 - val_precision: 0.7692 - val_recall: 0.5607 - val_auc: 0.9486\n",
            "Epoch 40/50\n",
            "92/92 [==============================] - 5s 50ms/step - loss: 0.0907 - tp: 205.0000 - fp: 40.0000 - tn: 5503.0000 - fn: 117.0000 - accuracy: 0.9732 - precision: 0.8367 - recall: 0.6366 - auc: 0.9422 - val_loss: 0.0990 - val_tp: 60.0000 - val_fp: 19.0000 - val_tn: 1830.0000 - val_fn: 47.0000 - val_accuracy: 0.9663 - val_precision: 0.7595 - val_recall: 0.5607 - val_auc: 0.9438\n",
            "Epoch 41/50\n",
            "92/92 [==============================] - 5s 50ms/step - loss: 0.0884 - tp: 207.0000 - fp: 41.0000 - tn: 5502.0000 - fn: 115.0000 - accuracy: 0.9734 - precision: 0.8347 - recall: 0.6429 - auc: 0.9448 - val_loss: 0.0997 - val_tp: 68.0000 - val_fp: 20.0000 - val_tn: 1829.0000 - val_fn: 39.0000 - val_accuracy: 0.9698 - val_precision: 0.7727 - val_recall: 0.6355 - val_auc: 0.9470\n",
            "Epoch 42/50\n",
            "92/92 [==============================] - 5s 50ms/step - loss: 0.0880 - tp: 208.0000 - fp: 41.0000 - tn: 5502.0000 - fn: 114.0000 - accuracy: 0.9736 - precision: 0.8353 - recall: 0.6460 - auc: 0.9427 - val_loss: 0.1005 - val_tp: 57.0000 - val_fp: 16.0000 - val_tn: 1833.0000 - val_fn: 50.0000 - val_accuracy: 0.9663 - val_precision: 0.7808 - val_recall: 0.5327 - val_auc: 0.9444\n",
            "Epoch 43/50\n",
            "92/92 [==============================] - 5s 51ms/step - loss: 0.0879 - tp: 204.0000 - fp: 36.0000 - tn: 5507.0000 - fn: 118.0000 - accuracy: 0.9737 - precision: 0.8500 - recall: 0.6335 - auc: 0.9437 - val_loss: 0.0970 - val_tp: 68.0000 - val_fp: 18.0000 - val_tn: 1831.0000 - val_fn: 39.0000 - val_accuracy: 0.9709 - val_precision: 0.7907 - val_recall: 0.6355 - val_auc: 0.9517\n",
            "Epoch 44/50\n",
            "92/92 [==============================] - 5s 51ms/step - loss: 0.0875 - tp: 208.0000 - fp: 40.0000 - tn: 5503.0000 - fn: 114.0000 - accuracy: 0.9737 - precision: 0.8387 - recall: 0.6460 - auc: 0.9481 - val_loss: 0.0965 - val_tp: 61.0000 - val_fp: 17.0000 - val_tn: 1832.0000 - val_fn: 46.0000 - val_accuracy: 0.9678 - val_precision: 0.7821 - val_recall: 0.5701 - val_auc: 0.9483\n",
            "Epoch 45/50\n",
            "92/92 [==============================] - 5s 51ms/step - loss: 0.0850 - tp: 206.0000 - fp: 33.0000 - tn: 5510.0000 - fn: 116.0000 - accuracy: 0.9746 - precision: 0.8619 - recall: 0.6398 - auc: 0.9476 - val_loss: 0.0970 - val_tp: 62.0000 - val_fp: 18.0000 - val_tn: 1831.0000 - val_fn: 45.0000 - val_accuracy: 0.9678 - val_precision: 0.7750 - val_recall: 0.5794 - val_auc: 0.9467\n",
            "Epoch 46/50\n",
            "92/92 [==============================] - 5s 51ms/step - loss: 0.0853 - tp: 205.0000 - fp: 39.0000 - tn: 5504.0000 - fn: 117.0000 - accuracy: 0.9734 - precision: 0.8402 - recall: 0.6366 - auc: 0.9507 - val_loss: 0.0960 - val_tp: 65.0000 - val_fp: 18.0000 - val_tn: 1831.0000 - val_fn: 42.0000 - val_accuracy: 0.9693 - val_precision: 0.7831 - val_recall: 0.6075 - val_auc: 0.9479\n",
            "Epoch 47/50\n",
            "92/92 [==============================] - 5s 50ms/step - loss: 0.0827 - tp: 212.0000 - fp: 34.0000 - tn: 5509.0000 - fn: 110.0000 - accuracy: 0.9754 - precision: 0.8618 - recall: 0.6584 - auc: 0.9537 - val_loss: 0.1008 - val_tp: 74.0000 - val_fp: 24.0000 - val_tn: 1825.0000 - val_fn: 33.0000 - val_accuracy: 0.9709 - val_precision: 0.7551 - val_recall: 0.6916 - val_auc: 0.9481\n",
            "Epoch 48/50\n",
            "92/92 [==============================] - 5s 51ms/step - loss: 0.0841 - tp: 201.0000 - fp: 31.0000 - tn: 5512.0000 - fn: 121.0000 - accuracy: 0.9741 - precision: 0.8664 - recall: 0.6242 - auc: 0.9504 - val_loss: 0.0978 - val_tp: 67.0000 - val_fp: 18.0000 - val_tn: 1831.0000 - val_fn: 40.0000 - val_accuracy: 0.9703 - val_precision: 0.7882 - val_recall: 0.6262 - val_auc: 0.9477\n",
            "Epoch 49/50\n",
            "92/92 [==============================] - 5s 51ms/step - loss: 0.0854 - tp: 199.0000 - fp: 47.0000 - tn: 5496.0000 - fn: 123.0000 - accuracy: 0.9710 - precision: 0.8089 - recall: 0.6180 - auc: 0.9497 - val_loss: 0.0961 - val_tp: 67.0000 - val_fp: 19.0000 - val_tn: 1830.0000 - val_fn: 40.0000 - val_accuracy: 0.9698 - val_precision: 0.7791 - val_recall: 0.6262 - val_auc: 0.9480\n",
            "Epoch 50/50\n",
            "92/92 [==============================] - 5s 50ms/step - loss: 0.0846 - tp: 204.0000 - fp: 32.0000 - tn: 5511.0000 - fn: 118.0000 - accuracy: 0.9744 - precision: 0.8644 - recall: 0.6335 - auc: 0.9423 - val_loss: 0.0960 - val_tp: 72.0000 - val_fp: 21.0000 - val_tn: 1828.0000 - val_fn: 35.0000 - val_accuracy: 0.9714 - val_precision: 0.7742 - val_recall: 0.6729 - val_auc: 0.9501\n",
            "The model is better than a simple constant model for sure:\n",
            "Epoch 1/50\n",
            "92/92 [==============================] - 7s 73ms/step - loss: 0.5111 - tp: 149.0000 - fp: 935.0000 - tn: 6457.0000 - fn: 280.0000 - accuracy: 0.8446 - precision: 0.1375 - recall: 0.3473 - auc: 0.6442 - val_loss: 0.2727 - val_tp: 0.0000e+00 - val_fp: 0.0000e+00 - val_tn: 1849.0000 - val_fn: 107.0000 - val_accuracy: 0.9453 - val_precision: 0.0000e+00 - val_recall: 0.0000e+00 - val_auc: 0.0881\n",
            "Epoch 2/50\n",
            "92/92 [==============================] - 5s 51ms/step - loss: 0.2443 - tp: 0.0000e+00 - fp: 0.0000e+00 - tn: 5543.0000 - fn: 322.0000 - accuracy: 0.9451 - precision: 0.0000e+00 - recall: 0.0000e+00 - auc: 0.3225 - val_loss: 0.2123 - val_tp: 0.0000e+00 - val_fp: 0.0000e+00 - val_tn: 1849.0000 - val_fn: 107.0000 - val_accuracy: 0.9453 - val_precision: 0.0000e+00 - val_recall: 0.0000e+00 - val_auc: 0.5215\n",
            "Epoch 3/50\n",
            "92/92 [==============================] - 5s 50ms/step - loss: 0.1863 - tp: 5.0000 - fp: 2.0000 - tn: 5541.0000 - fn: 317.0000 - accuracy: 0.9456 - precision: 0.7143 - recall: 0.0155 - auc: 0.7632 - val_loss: 0.1483 - val_tp: 11.0000 - val_fp: 9.0000 - val_tn: 1840.0000 - val_fn: 96.0000 - val_accuracy: 0.9463 - val_precision: 0.5500 - val_recall: 0.1028 - val_auc: 0.9128\n",
            "Epoch 4/50\n",
            "92/92 [==============================] - 5s 50ms/step - loss: 0.1242 - tp: 108.0000 - fp: 44.0000 - tn: 5499.0000 - fn: 214.0000 - accuracy: 0.9560 - precision: 0.7105 - recall: 0.3354 - auc: 0.9131 - val_loss: 0.1133 - val_tp: 54.0000 - val_fp: 17.0000 - val_tn: 1832.0000 - val_fn: 53.0000 - val_accuracy: 0.9642 - val_precision: 0.7606 - val_recall: 0.5047 - val_auc: 0.9223\n",
            "Epoch 5/50\n",
            "92/92 [==============================] - 5s 51ms/step - loss: 0.1175 - tp: 171.0000 - fp: 67.0000 - tn: 5476.0000 - fn: 151.0000 - accuracy: 0.9628 - precision: 0.7185 - recall: 0.5311 - auc: 0.9100 - val_loss: 0.1140 - val_tp: 51.0000 - val_fp: 21.0000 - val_tn: 1828.0000 - val_fn: 56.0000 - val_accuracy: 0.9606 - val_precision: 0.7083 - val_recall: 0.4766 - val_auc: 0.9288\n",
            "Epoch 6/50\n",
            "92/92 [==============================] - 5s 52ms/step - loss: 0.1118 - tp: 171.0000 - fp: 65.0000 - tn: 5478.0000 - fn: 151.0000 - accuracy: 0.9632 - precision: 0.7246 - recall: 0.5311 - auc: 0.9174 - val_loss: 0.1131 - val_tp: 50.0000 - val_fp: 19.0000 - val_tn: 1830.0000 - val_fn: 57.0000 - val_accuracy: 0.9611 - val_precision: 0.7246 - val_recall: 0.4673 - val_auc: 0.9294\n",
            "Epoch 7/50\n",
            "92/92 [==============================] - 5s 51ms/step - loss: 0.1096 - tp: 182.0000 - fp: 70.0000 - tn: 5473.0000 - fn: 140.0000 - accuracy: 0.9642 - precision: 0.7222 - recall: 0.5652 - auc: 0.9217 - val_loss: 0.1105 - val_tp: 62.0000 - val_fp: 25.0000 - val_tn: 1824.0000 - val_fn: 45.0000 - val_accuracy: 0.9642 - val_precision: 0.7126 - val_recall: 0.5794 - val_auc: 0.9308\n",
            "Epoch 8/50\n",
            "92/92 [==============================] - 5s 51ms/step - loss: 0.1083 - tp: 183.0000 - fp: 62.0000 - tn: 5481.0000 - fn: 139.0000 - accuracy: 0.9657 - precision: 0.7469 - recall: 0.5683 - auc: 0.9180 - val_loss: 0.1098 - val_tp: 62.0000 - val_fp: 23.0000 - val_tn: 1826.0000 - val_fn: 45.0000 - val_accuracy: 0.9652 - val_precision: 0.7294 - val_recall: 0.5794 - val_auc: 0.9321\n",
            "Epoch 9/50\n",
            "92/92 [==============================] - 5s 51ms/step - loss: 0.1092 - tp: 188.0000 - fp: 56.0000 - tn: 5487.0000 - fn: 134.0000 - accuracy: 0.9676 - precision: 0.7705 - recall: 0.5839 - auc: 0.9215 - val_loss: 0.1105 - val_tp: 52.0000 - val_fp: 19.0000 - val_tn: 1830.0000 - val_fn: 55.0000 - val_accuracy: 0.9622 - val_precision: 0.7324 - val_recall: 0.4860 - val_auc: 0.9283\n",
            "Epoch 10/50\n",
            "92/92 [==============================] - 5s 50ms/step - loss: 0.1057 - tp: 188.0000 - fp: 65.0000 - tn: 5478.0000 - fn: 134.0000 - accuracy: 0.9661 - precision: 0.7431 - recall: 0.5839 - auc: 0.9291 - val_loss: 0.1087 - val_tp: 62.0000 - val_fp: 26.0000 - val_tn: 1823.0000 - val_fn: 45.0000 - val_accuracy: 0.9637 - val_precision: 0.7045 - val_recall: 0.5794 - val_auc: 0.9335\n",
            "Epoch 11/50\n",
            "92/92 [==============================] - 5s 50ms/step - loss: 0.1045 - tp: 190.0000 - fp: 57.0000 - tn: 5486.0000 - fn: 132.0000 - accuracy: 0.9678 - precision: 0.7692 - recall: 0.5901 - auc: 0.9285 - val_loss: 0.1097 - val_tp: 61.0000 - val_fp: 22.0000 - val_tn: 1827.0000 - val_fn: 46.0000 - val_accuracy: 0.9652 - val_precision: 0.7349 - val_recall: 0.5701 - val_auc: 0.9367\n",
            "Epoch 12/50\n",
            "92/92 [==============================] - 5s 50ms/step - loss: 0.1039 - tp: 192.0000 - fp: 60.0000 - tn: 5483.0000 - fn: 130.0000 - accuracy: 0.9676 - precision: 0.7619 - recall: 0.5963 - auc: 0.9215 - val_loss: 0.1107 - val_tp: 57.0000 - val_fp: 23.0000 - val_tn: 1826.0000 - val_fn: 50.0000 - val_accuracy: 0.9627 - val_precision: 0.7125 - val_recall: 0.5327 - val_auc: 0.9314\n",
            "Epoch 13/50\n",
            "92/92 [==============================] - 5s 51ms/step - loss: 0.1015 - tp: 192.0000 - fp: 52.0000 - tn: 5491.0000 - fn: 130.0000 - accuracy: 0.9690 - precision: 0.7869 - recall: 0.5963 - auc: 0.9361 - val_loss: 0.1075 - val_tp: 61.0000 - val_fp: 26.0000 - val_tn: 1823.0000 - val_fn: 46.0000 - val_accuracy: 0.9632 - val_precision: 0.7011 - val_recall: 0.5701 - val_auc: 0.9348\n",
            "Epoch 14/50\n",
            "92/92 [==============================] - 5s 51ms/step - loss: 0.1014 - tp: 197.0000 - fp: 60.0000 - tn: 5483.0000 - fn: 125.0000 - accuracy: 0.9685 - precision: 0.7665 - recall: 0.6118 - auc: 0.9309 - val_loss: 0.1087 - val_tp: 58.0000 - val_fp: 20.0000 - val_tn: 1829.0000 - val_fn: 49.0000 - val_accuracy: 0.9647 - val_precision: 0.7436 - val_recall: 0.5421 - val_auc: 0.9335\n",
            "Epoch 15/50\n",
            "92/92 [==============================] - 5s 50ms/step - loss: 0.1005 - tp: 197.0000 - fp: 50.0000 - tn: 5493.0000 - fn: 125.0000 - accuracy: 0.9702 - precision: 0.7976 - recall: 0.6118 - auc: 0.9341 - val_loss: 0.1063 - val_tp: 61.0000 - val_fp: 28.0000 - val_tn: 1821.0000 - val_fn: 46.0000 - val_accuracy: 0.9622 - val_precision: 0.6854 - val_recall: 0.5701 - val_auc: 0.9395\n",
            "Epoch 16/50\n",
            "92/92 [==============================] - 5s 50ms/step - loss: 0.1000 - tp: 202.0000 - fp: 59.0000 - tn: 5484.0000 - fn: 120.0000 - accuracy: 0.9695 - precision: 0.7739 - recall: 0.6273 - auc: 0.9264 - val_loss: 0.1068 - val_tp: 60.0000 - val_fp: 22.0000 - val_tn: 1827.0000 - val_fn: 47.0000 - val_accuracy: 0.9647 - val_precision: 0.7317 - val_recall: 0.5607 - val_auc: 0.9298\n",
            "Epoch 17/50\n",
            "92/92 [==============================] - 5s 51ms/step - loss: 0.1018 - tp: 199.0000 - fp: 59.0000 - tn: 5484.0000 - fn: 123.0000 - accuracy: 0.9690 - precision: 0.7713 - recall: 0.6180 - auc: 0.9308 - val_loss: 0.1046 - val_tp: 61.0000 - val_fp: 26.0000 - val_tn: 1823.0000 - val_fn: 46.0000 - val_accuracy: 0.9632 - val_precision: 0.7011 - val_recall: 0.5701 - val_auc: 0.9349\n",
            "Epoch 18/50\n",
            "92/92 [==============================] - 5s 51ms/step - loss: 0.0985 - tp: 202.0000 - fp: 60.0000 - tn: 5483.0000 - fn: 120.0000 - accuracy: 0.9693 - precision: 0.7710 - recall: 0.6273 - auc: 0.9387 - val_loss: 0.1054 - val_tp: 61.0000 - val_fp: 28.0000 - val_tn: 1821.0000 - val_fn: 46.0000 - val_accuracy: 0.9622 - val_precision: 0.6854 - val_recall: 0.5701 - val_auc: 0.9400\n",
            "Epoch 19/50\n",
            "92/92 [==============================] - 5s 51ms/step - loss: 0.0982 - tp: 201.0000 - fp: 55.0000 - tn: 5488.0000 - fn: 121.0000 - accuracy: 0.9700 - precision: 0.7852 - recall: 0.6242 - auc: 0.9317 - val_loss: 0.1073 - val_tp: 57.0000 - val_fp: 23.0000 - val_tn: 1826.0000 - val_fn: 50.0000 - val_accuracy: 0.9627 - val_precision: 0.7125 - val_recall: 0.5327 - val_auc: 0.9313\n",
            "Epoch 20/50\n",
            "92/92 [==============================] - 5s 51ms/step - loss: 0.0977 - tp: 205.0000 - fp: 51.0000 - tn: 5492.0000 - fn: 117.0000 - accuracy: 0.9714 - precision: 0.8008 - recall: 0.6366 - auc: 0.9300 - val_loss: 0.1055 - val_tp: 59.0000 - val_fp: 27.0000 - val_tn: 1822.0000 - val_fn: 48.0000 - val_accuracy: 0.9617 - val_precision: 0.6860 - val_recall: 0.5514 - val_auc: 0.9363\n",
            "Epoch 21/50\n",
            "92/92 [==============================] - 5s 51ms/step - loss: 0.0975 - tp: 202.0000 - fp: 59.0000 - tn: 5484.0000 - fn: 120.0000 - accuracy: 0.9695 - precision: 0.7739 - recall: 0.6273 - auc: 0.9322 - val_loss: 0.1050 - val_tp: 63.0000 - val_fp: 31.0000 - val_tn: 1818.0000 - val_fn: 44.0000 - val_accuracy: 0.9617 - val_precision: 0.6702 - val_recall: 0.5888 - val_auc: 0.9374\n",
            "Epoch 22/50\n",
            "92/92 [==============================] - 5s 51ms/step - loss: 0.0989 - tp: 201.0000 - fp: 48.0000 - tn: 5495.0000 - fn: 121.0000 - accuracy: 0.9712 - precision: 0.8072 - recall: 0.6242 - auc: 0.9324 - val_loss: 0.1044 - val_tp: 62.0000 - val_fp: 31.0000 - val_tn: 1818.0000 - val_fn: 45.0000 - val_accuracy: 0.9611 - val_precision: 0.6667 - val_recall: 0.5794 - val_auc: 0.9407\n",
            "Epoch 23/50\n",
            "92/92 [==============================] - 5s 51ms/step - loss: 0.0943 - tp: 205.0000 - fp: 52.0000 - tn: 5491.0000 - fn: 117.0000 - accuracy: 0.9712 - precision: 0.7977 - recall: 0.6366 - auc: 0.9371 - val_loss: 0.1045 - val_tp: 62.0000 - val_fp: 29.0000 - val_tn: 1820.0000 - val_fn: 45.0000 - val_accuracy: 0.9622 - val_precision: 0.6813 - val_recall: 0.5794 - val_auc: 0.9410\n",
            "Epoch 24/50\n",
            "92/92 [==============================] - 5s 51ms/step - loss: 0.0975 - tp: 196.0000 - fp: 56.0000 - tn: 5487.0000 - fn: 126.0000 - accuracy: 0.9690 - precision: 0.7778 - recall: 0.6087 - auc: 0.9392 - val_loss: 0.1049 - val_tp: 63.0000 - val_fp: 31.0000 - val_tn: 1818.0000 - val_fn: 44.0000 - val_accuracy: 0.9617 - val_precision: 0.6702 - val_recall: 0.5888 - val_auc: 0.9417\n",
            "Epoch 25/50\n",
            "92/92 [==============================] - 5s 51ms/step - loss: 0.0945 - tp: 198.0000 - fp: 54.0000 - tn: 5489.0000 - fn: 124.0000 - accuracy: 0.9697 - precision: 0.7857 - recall: 0.6149 - auc: 0.9447 - val_loss: 0.1028 - val_tp: 62.0000 - val_fp: 26.0000 - val_tn: 1823.0000 - val_fn: 45.0000 - val_accuracy: 0.9637 - val_precision: 0.7045 - val_recall: 0.5794 - val_auc: 0.9397\n",
            "Epoch 26/50\n",
            "92/92 [==============================] - 5s 51ms/step - loss: 0.0949 - tp: 204.0000 - fp: 48.0000 - tn: 5495.0000 - fn: 118.0000 - accuracy: 0.9717 - precision: 0.8095 - recall: 0.6335 - auc: 0.9353 - val_loss: 0.1056 - val_tp: 66.0000 - val_fp: 36.0000 - val_tn: 1813.0000 - val_fn: 41.0000 - val_accuracy: 0.9606 - val_precision: 0.6471 - val_recall: 0.6168 - val_auc: 0.9433\n",
            "Epoch 27/50\n",
            "92/92 [==============================] - 5s 51ms/step - loss: 0.0930 - tp: 211.0000 - fp: 53.0000 - tn: 5490.0000 - fn: 111.0000 - accuracy: 0.9720 - precision: 0.7992 - recall: 0.6553 - auc: 0.9406 - val_loss: 0.1047 - val_tp: 60.0000 - val_fp: 20.0000 - val_tn: 1829.0000 - val_fn: 47.0000 - val_accuracy: 0.9657 - val_precision: 0.7500 - val_recall: 0.5607 - val_auc: 0.9395\n",
            "Epoch 28/50\n",
            "92/92 [==============================] - 5s 51ms/step - loss: 0.0927 - tp: 202.0000 - fp: 50.0000 - tn: 5493.0000 - fn: 120.0000 - accuracy: 0.9710 - precision: 0.8016 - recall: 0.6273 - auc: 0.9426 - val_loss: 0.1028 - val_tp: 61.0000 - val_fp: 25.0000 - val_tn: 1824.0000 - val_fn: 46.0000 - val_accuracy: 0.9637 - val_precision: 0.7093 - val_recall: 0.5701 - val_auc: 0.9409\n",
            "Epoch 29/50\n",
            "92/92 [==============================] - 5s 51ms/step - loss: 0.0946 - tp: 205.0000 - fp: 51.0000 - tn: 5492.0000 - fn: 117.0000 - accuracy: 0.9714 - precision: 0.8008 - recall: 0.6366 - auc: 0.9388 - val_loss: 0.1016 - val_tp: 63.0000 - val_fp: 31.0000 - val_tn: 1818.0000 - val_fn: 44.0000 - val_accuracy: 0.9617 - val_precision: 0.6702 - val_recall: 0.5888 - val_auc: 0.9399\n",
            "Epoch 30/50\n",
            "92/92 [==============================] - 5s 51ms/step - loss: 0.0917 - tp: 203.0000 - fp: 50.0000 - tn: 5493.0000 - fn: 119.0000 - accuracy: 0.9712 - precision: 0.8024 - recall: 0.6304 - auc: 0.9425 - val_loss: 0.1034 - val_tp: 67.0000 - val_fp: 29.0000 - val_tn: 1820.0000 - val_fn: 40.0000 - val_accuracy: 0.9647 - val_precision: 0.6979 - val_recall: 0.6262 - val_auc: 0.9449\n",
            "Epoch 31/50\n",
            "92/92 [==============================] - 5s 51ms/step - loss: 0.0905 - tp: 206.0000 - fp: 45.0000 - tn: 5498.0000 - fn: 116.0000 - accuracy: 0.9725 - precision: 0.8207 - recall: 0.6398 - auc: 0.9433 - val_loss: 0.1019 - val_tp: 64.0000 - val_fp: 29.0000 - val_tn: 1820.0000 - val_fn: 43.0000 - val_accuracy: 0.9632 - val_precision: 0.6882 - val_recall: 0.5981 - val_auc: 0.9421\n",
            "Epoch 32/50\n",
            "92/92 [==============================] - 5s 50ms/step - loss: 0.0923 - tp: 204.0000 - fp: 46.0000 - tn: 5497.0000 - fn: 118.0000 - accuracy: 0.9720 - precision: 0.8160 - recall: 0.6335 - auc: 0.9380 - val_loss: 0.1008 - val_tp: 64.0000 - val_fp: 27.0000 - val_tn: 1822.0000 - val_fn: 43.0000 - val_accuracy: 0.9642 - val_precision: 0.7033 - val_recall: 0.5981 - val_auc: 0.9439\n",
            "Epoch 33/50\n",
            "92/92 [==============================] - 5s 51ms/step - loss: 0.0900 - tp: 209.0000 - fp: 50.0000 - tn: 5493.0000 - fn: 113.0000 - accuracy: 0.9722 - precision: 0.8069 - recall: 0.6491 - auc: 0.9464 - val_loss: 0.1003 - val_tp: 61.0000 - val_fp: 19.0000 - val_tn: 1830.0000 - val_fn: 46.0000 - val_accuracy: 0.9668 - val_precision: 0.7625 - val_recall: 0.5701 - val_auc: 0.9424\n",
            "Epoch 34/50\n",
            "92/92 [==============================] - 5s 51ms/step - loss: 0.0918 - tp: 207.0000 - fp: 50.0000 - tn: 5493.0000 - fn: 115.0000 - accuracy: 0.9719 - precision: 0.8054 - recall: 0.6429 - auc: 0.9401 - val_loss: 0.1009 - val_tp: 66.0000 - val_fp: 24.0000 - val_tn: 1825.0000 - val_fn: 41.0000 - val_accuracy: 0.9668 - val_precision: 0.7333 - val_recall: 0.6168 - val_auc: 0.9457\n",
            "Epoch 35/50\n",
            "92/92 [==============================] - 5s 51ms/step - loss: 0.0904 - tp: 204.0000 - fp: 51.0000 - tn: 5492.0000 - fn: 118.0000 - accuracy: 0.9712 - precision: 0.8000 - recall: 0.6335 - auc: 0.9438 - val_loss: 0.0992 - val_tp: 62.0000 - val_fp: 21.0000 - val_tn: 1828.0000 - val_fn: 45.0000 - val_accuracy: 0.9663 - val_precision: 0.7470 - val_recall: 0.5794 - val_auc: 0.9486\n",
            "Epoch 36/50\n",
            "92/92 [==============================] - 5s 51ms/step - loss: 0.0878 - tp: 212.0000 - fp: 43.0000 - tn: 5500.0000 - fn: 110.0000 - accuracy: 0.9739 - precision: 0.8314 - recall: 0.6584 - auc: 0.9430 - val_loss: 0.1039 - val_tp: 69.0000 - val_fp: 38.0000 - val_tn: 1811.0000 - val_fn: 38.0000 - val_accuracy: 0.9611 - val_precision: 0.6449 - val_recall: 0.6449 - val_auc: 0.9463\n",
            "Epoch 37/50\n",
            "92/92 [==============================] - 5s 51ms/step - loss: 0.0897 - tp: 214.0000 - fp: 52.0000 - tn: 5491.0000 - fn: 108.0000 - accuracy: 0.9727 - precision: 0.8045 - recall: 0.6646 - auc: 0.9488 - val_loss: 0.0990 - val_tp: 64.0000 - val_fp: 21.0000 - val_tn: 1828.0000 - val_fn: 43.0000 - val_accuracy: 0.9673 - val_precision: 0.7529 - val_recall: 0.5981 - val_auc: 0.9485\n",
            "Epoch 38/50\n",
            "92/92 [==============================] - 5s 52ms/step - loss: 0.0881 - tp: 215.0000 - fp: 56.0000 - tn: 5487.0000 - fn: 107.0000 - accuracy: 0.9722 - precision: 0.7934 - recall: 0.6677 - auc: 0.9481 - val_loss: 0.1031 - val_tp: 53.0000 - val_fp: 18.0000 - val_tn: 1831.0000 - val_fn: 54.0000 - val_accuracy: 0.9632 - val_precision: 0.7465 - val_recall: 0.4953 - val_auc: 0.9464\n",
            "Epoch 39/50\n",
            "92/92 [==============================] - 5s 52ms/step - loss: 0.0910 - tp: 212.0000 - fp: 46.0000 - tn: 5497.0000 - fn: 110.0000 - accuracy: 0.9734 - precision: 0.8217 - recall: 0.6584 - auc: 0.9409 - val_loss: 0.0990 - val_tp: 62.0000 - val_fp: 20.0000 - val_tn: 1829.0000 - val_fn: 45.0000 - val_accuracy: 0.9668 - val_precision: 0.7561 - val_recall: 0.5794 - val_auc: 0.9431\n",
            "Epoch 40/50\n",
            "92/92 [==============================] - 5s 51ms/step - loss: 0.0864 - tp: 211.0000 - fp: 45.0000 - tn: 5498.0000 - fn: 111.0000 - accuracy: 0.9734 - precision: 0.8242 - recall: 0.6553 - auc: 0.9508 - val_loss: 0.0988 - val_tp: 65.0000 - val_fp: 25.0000 - val_tn: 1824.0000 - val_fn: 42.0000 - val_accuracy: 0.9657 - val_precision: 0.7222 - val_recall: 0.6075 - val_auc: 0.9486\n",
            "Epoch 41/50\n",
            "92/92 [==============================] - 5s 51ms/step - loss: 0.0856 - tp: 212.0000 - fp: 47.0000 - tn: 5496.0000 - fn: 110.0000 - accuracy: 0.9732 - precision: 0.8185 - recall: 0.6584 - auc: 0.9525 - val_loss: 0.0977 - val_tp: 65.0000 - val_fp: 22.0000 - val_tn: 1827.0000 - val_fn: 42.0000 - val_accuracy: 0.9673 - val_precision: 0.7471 - val_recall: 0.6075 - val_auc: 0.9472\n",
            "Epoch 42/50\n",
            "92/92 [==============================] - 5s 51ms/step - loss: 0.0849 - tp: 217.0000 - fp: 41.0000 - tn: 5502.0000 - fn: 105.0000 - accuracy: 0.9751 - precision: 0.8411 - recall: 0.6739 - auc: 0.9518 - val_loss: 0.1006 - val_tp: 69.0000 - val_fp: 30.0000 - val_tn: 1819.0000 - val_fn: 38.0000 - val_accuracy: 0.9652 - val_precision: 0.6970 - val_recall: 0.6449 - val_auc: 0.9503\n",
            "Epoch 43/50\n",
            "92/92 [==============================] - 5s 51ms/step - loss: 0.0853 - tp: 216.0000 - fp: 45.0000 - tn: 5498.0000 - fn: 106.0000 - accuracy: 0.9743 - precision: 0.8276 - recall: 0.6708 - auc: 0.9522 - val_loss: 0.0985 - val_tp: 63.0000 - val_fp: 19.0000 - val_tn: 1830.0000 - val_fn: 44.0000 - val_accuracy: 0.9678 - val_precision: 0.7683 - val_recall: 0.5888 - val_auc: 0.9515\n",
            "Epoch 44/50\n",
            "92/92 [==============================] - 5s 51ms/step - loss: 0.0839 - tp: 216.0000 - fp: 40.0000 - tn: 5503.0000 - fn: 106.0000 - accuracy: 0.9751 - precision: 0.8438 - recall: 0.6708 - auc: 0.9517 - val_loss: 0.0981 - val_tp: 65.0000 - val_fp: 22.0000 - val_tn: 1827.0000 - val_fn: 42.0000 - val_accuracy: 0.9673 - val_precision: 0.7471 - val_recall: 0.6075 - val_auc: 0.9484\n",
            "Epoch 45/50\n",
            "92/92 [==============================] - 5s 51ms/step - loss: 0.0830 - tp: 218.0000 - fp: 45.0000 - tn: 5498.0000 - fn: 104.0000 - accuracy: 0.9746 - precision: 0.8289 - recall: 0.6770 - auc: 0.9532 - val_loss: 0.0978 - val_tp: 64.0000 - val_fp: 21.0000 - val_tn: 1828.0000 - val_fn: 43.0000 - val_accuracy: 0.9673 - val_precision: 0.7529 - val_recall: 0.5981 - val_auc: 0.9533\n",
            "Epoch 46/50\n",
            "92/92 [==============================] - 5s 51ms/step - loss: 0.0838 - tp: 206.0000 - fp: 46.0000 - tn: 5497.0000 - fn: 116.0000 - accuracy: 0.9724 - precision: 0.8175 - recall: 0.6398 - auc: 0.9600 - val_loss: 0.0980 - val_tp: 65.0000 - val_fp: 22.0000 - val_tn: 1827.0000 - val_fn: 42.0000 - val_accuracy: 0.9673 - val_precision: 0.7471 - val_recall: 0.6075 - val_auc: 0.9491\n",
            "Epoch 47/50\n",
            "92/92 [==============================] - 5s 51ms/step - loss: 0.0810 - tp: 216.0000 - fp: 44.0000 - tn: 5499.0000 - fn: 106.0000 - accuracy: 0.9744 - precision: 0.8308 - recall: 0.6708 - auc: 0.9591 - val_loss: 0.1043 - val_tp: 76.0000 - val_fp: 39.0000 - val_tn: 1810.0000 - val_fn: 31.0000 - val_accuracy: 0.9642 - val_precision: 0.6609 - val_recall: 0.7103 - val_auc: 0.9473\n",
            "Epoch 48/50\n",
            "92/92 [==============================] - 5s 51ms/step - loss: 0.0804 - tp: 224.0000 - fp: 47.0000 - tn: 5496.0000 - fn: 98.0000 - accuracy: 0.9753 - precision: 0.8266 - recall: 0.6957 - auc: 0.9579 - val_loss: 0.0989 - val_tp: 60.0000 - val_fp: 20.0000 - val_tn: 1829.0000 - val_fn: 47.0000 - val_accuracy: 0.9657 - val_precision: 0.7500 - val_recall: 0.5607 - val_auc: 0.9545\n",
            "The model is better than a simple constant model for sure:\n",
            "Epoch 1/50\n",
            "92/92 [==============================] - 7s 74ms/step - loss: 0.3886 - tp: 62.0000 - fp: 65.0000 - tn: 7327.0000 - fn: 367.0000 - accuracy: 0.9448 - precision: 0.4882 - recall: 0.1445 - auc: 0.5467 - val_loss: 0.2581 - val_tp: 0.0000e+00 - val_fp: 0.0000e+00 - val_tn: 1849.0000 - val_fn: 107.0000 - val_accuracy: 0.9453 - val_precision: 0.0000e+00 - val_recall: 0.0000e+00 - val_auc: 0.1273\n",
            "Epoch 2/50\n",
            "92/92 [==============================] - 5s 51ms/step - loss: 0.2207 - tp: 0.0000e+00 - fp: 0.0000e+00 - tn: 5543.0000 - fn: 322.0000 - accuracy: 0.9451 - precision: 0.0000e+00 - recall: 0.0000e+00 - auc: 0.5432 - val_loss: 0.1570 - val_tp: 0.0000e+00 - val_fp: 0.0000e+00 - val_tn: 1849.0000 - val_fn: 107.0000 - val_accuracy: 0.9453 - val_precision: 0.0000e+00 - val_recall: 0.0000e+00 - val_auc: 0.8949\n",
            "Epoch 3/50\n",
            "92/92 [==============================] - 5s 51ms/step - loss: 0.1364 - tp: 57.0000 - fp: 15.0000 - tn: 5528.0000 - fn: 265.0000 - accuracy: 0.9523 - precision: 0.7917 - recall: 0.1770 - auc: 0.8973 - val_loss: 0.1183 - val_tp: 36.0000 - val_fp: 11.0000 - val_tn: 1838.0000 - val_fn: 71.0000 - val_accuracy: 0.9581 - val_precision: 0.7660 - val_recall: 0.3364 - val_auc: 0.9279\n",
            "Epoch 4/50\n",
            "92/92 [==============================] - 5s 51ms/step - loss: 0.1206 - tp: 116.0000 - fp: 51.0000 - tn: 5492.0000 - fn: 206.0000 - accuracy: 0.9562 - precision: 0.6946 - recall: 0.3602 - auc: 0.9144 - val_loss: 0.1115 - val_tp: 53.0000 - val_fp: 14.0000 - val_tn: 1835.0000 - val_fn: 54.0000 - val_accuracy: 0.9652 - val_precision: 0.7910 - val_recall: 0.4953 - val_auc: 0.9322\n",
            "Epoch 5/50\n",
            "92/92 [==============================] - 5s 51ms/step - loss: 0.1137 - tp: 154.0000 - fp: 43.0000 - tn: 5500.0000 - fn: 168.0000 - accuracy: 0.9640 - precision: 0.7817 - recall: 0.4783 - auc: 0.9229 - val_loss: 0.1090 - val_tp: 57.0000 - val_fp: 18.0000 - val_tn: 1831.0000 - val_fn: 50.0000 - val_accuracy: 0.9652 - val_precision: 0.7600 - val_recall: 0.5327 - val_auc: 0.9363\n",
            "Epoch 6/50\n",
            "92/92 [==============================] - 5s 51ms/step - loss: 0.1115 - tp: 163.0000 - fp: 55.0000 - tn: 5488.0000 - fn: 159.0000 - accuracy: 0.9635 - precision: 0.7477 - recall: 0.5062 - auc: 0.9265 - val_loss: 0.1089 - val_tp: 53.0000 - val_fp: 14.0000 - val_tn: 1835.0000 - val_fn: 54.0000 - val_accuracy: 0.9652 - val_precision: 0.7910 - val_recall: 0.4953 - val_auc: 0.9387\n",
            "Epoch 7/50\n",
            "92/92 [==============================] - 5s 51ms/step - loss: 0.1121 - tp: 169.0000 - fp: 56.0000 - tn: 5487.0000 - fn: 153.0000 - accuracy: 0.9644 - precision: 0.7511 - recall: 0.5248 - auc: 0.9185 - val_loss: 0.1060 - val_tp: 62.0000 - val_fp: 20.0000 - val_tn: 1829.0000 - val_fn: 45.0000 - val_accuracy: 0.9668 - val_precision: 0.7561 - val_recall: 0.5794 - val_auc: 0.9446\n",
            "Epoch 8/50\n",
            "92/92 [==============================] - 5s 51ms/step - loss: 0.1112 - tp: 174.0000 - fp: 60.0000 - tn: 5483.0000 - fn: 148.0000 - accuracy: 0.9645 - precision: 0.7436 - recall: 0.5404 - auc: 0.9235 - val_loss: 0.1085 - val_tp: 65.0000 - val_fp: 32.0000 - val_tn: 1817.0000 - val_fn: 42.0000 - val_accuracy: 0.9622 - val_precision: 0.6701 - val_recall: 0.6075 - val_auc: 0.9437\n",
            "Epoch 9/50\n",
            "92/92 [==============================] - 5s 51ms/step - loss: 0.1084 - tp: 179.0000 - fp: 60.0000 - tn: 5483.0000 - fn: 143.0000 - accuracy: 0.9654 - precision: 0.7490 - recall: 0.5559 - auc: 0.9282 - val_loss: 0.1045 - val_tp: 63.0000 - val_fp: 18.0000 - val_tn: 1831.0000 - val_fn: 44.0000 - val_accuracy: 0.9683 - val_precision: 0.7778 - val_recall: 0.5888 - val_auc: 0.9411\n",
            "Epoch 10/50\n",
            "92/92 [==============================] - 5s 51ms/step - loss: 0.1073 - tp: 189.0000 - fp: 68.0000 - tn: 5475.0000 - fn: 133.0000 - accuracy: 0.9657 - precision: 0.7354 - recall: 0.5870 - auc: 0.9253 - val_loss: 0.1041 - val_tp: 61.0000 - val_fp: 16.0000 - val_tn: 1833.0000 - val_fn: 46.0000 - val_accuracy: 0.9683 - val_precision: 0.7922 - val_recall: 0.5701 - val_auc: 0.9428\n",
            "Epoch 11/50\n",
            "92/92 [==============================] - 5s 51ms/step - loss: 0.1046 - tp: 185.0000 - fp: 66.0000 - tn: 5477.0000 - fn: 137.0000 - accuracy: 0.9654 - precision: 0.7371 - recall: 0.5745 - auc: 0.9326 - val_loss: 0.1029 - val_tp: 63.0000 - val_fp: 20.0000 - val_tn: 1829.0000 - val_fn: 44.0000 - val_accuracy: 0.9673 - val_precision: 0.7590 - val_recall: 0.5888 - val_auc: 0.9490\n",
            "Epoch 12/50\n",
            "92/92 [==============================] - 5s 51ms/step - loss: 0.1070 - tp: 186.0000 - fp: 64.0000 - tn: 5479.0000 - fn: 136.0000 - accuracy: 0.9659 - precision: 0.7440 - recall: 0.5776 - auc: 0.9253 - val_loss: 0.1027 - val_tp: 63.0000 - val_fp: 21.0000 - val_tn: 1828.0000 - val_fn: 44.0000 - val_accuracy: 0.9668 - val_precision: 0.7500 - val_recall: 0.5888 - val_auc: 0.9434\n",
            "Epoch 13/50\n",
            "92/92 [==============================] - 5s 50ms/step - loss: 0.1058 - tp: 190.0000 - fp: 60.0000 - tn: 5483.0000 - fn: 132.0000 - accuracy: 0.9673 - precision: 0.7600 - recall: 0.5901 - auc: 0.9253 - val_loss: 0.1025 - val_tp: 66.0000 - val_fp: 24.0000 - val_tn: 1825.0000 - val_fn: 41.0000 - val_accuracy: 0.9668 - val_precision: 0.7333 - val_recall: 0.6168 - val_auc: 0.9482\n",
            "Epoch 14/50\n",
            "92/92 [==============================] - 5s 51ms/step - loss: 0.1032 - tp: 192.0000 - fp: 56.0000 - tn: 5487.0000 - fn: 130.0000 - accuracy: 0.9683 - precision: 0.7742 - recall: 0.5963 - auc: 0.9283 - val_loss: 0.1046 - val_tp: 67.0000 - val_fp: 30.0000 - val_tn: 1819.0000 - val_fn: 40.0000 - val_accuracy: 0.9642 - val_precision: 0.6907 - val_recall: 0.6262 - val_auc: 0.9495\n",
            "Epoch 15/50\n",
            "92/92 [==============================] - 5s 51ms/step - loss: 0.1026 - tp: 191.0000 - fp: 62.0000 - tn: 5481.0000 - fn: 131.0000 - accuracy: 0.9671 - precision: 0.7549 - recall: 0.5932 - auc: 0.9340 - val_loss: 0.1050 - val_tp: 71.0000 - val_fp: 31.0000 - val_tn: 1818.0000 - val_fn: 36.0000 - val_accuracy: 0.9657 - val_precision: 0.6961 - val_recall: 0.6636 - val_auc: 0.9500\n",
            "Epoch 16/50\n",
            "92/92 [==============================] - 5s 50ms/step - loss: 0.1030 - tp: 191.0000 - fp: 59.0000 - tn: 5484.0000 - fn: 131.0000 - accuracy: 0.9676 - precision: 0.7640 - recall: 0.5932 - auc: 0.9279 - val_loss: 0.1019 - val_tp: 60.0000 - val_fp: 14.0000 - val_tn: 1835.0000 - val_fn: 47.0000 - val_accuracy: 0.9688 - val_precision: 0.8108 - val_recall: 0.5607 - val_auc: 0.9474\n",
            "Epoch 17/50\n",
            "92/92 [==============================] - 5s 51ms/step - loss: 0.1015 - tp: 183.0000 - fp: 49.0000 - tn: 5494.0000 - fn: 139.0000 - accuracy: 0.9679 - precision: 0.7888 - recall: 0.5683 - auc: 0.9336 - val_loss: 0.1013 - val_tp: 64.0000 - val_fp: 21.0000 - val_tn: 1828.0000 - val_fn: 43.0000 - val_accuracy: 0.9673 - val_precision: 0.7529 - val_recall: 0.5981 - val_auc: 0.9513\n",
            "Epoch 18/50\n",
            "92/92 [==============================] - 5s 51ms/step - loss: 0.0971 - tp: 194.0000 - fp: 52.0000 - tn: 5491.0000 - fn: 128.0000 - accuracy: 0.9693 - precision: 0.7886 - recall: 0.6025 - auc: 0.9421 - val_loss: 0.1017 - val_tp: 62.0000 - val_fp: 19.0000 - val_tn: 1830.0000 - val_fn: 45.0000 - val_accuracy: 0.9673 - val_precision: 0.7654 - val_recall: 0.5794 - val_auc: 0.9499\n",
            "Epoch 19/50\n",
            "92/92 [==============================] - 5s 51ms/step - loss: 0.0978 - tp: 198.0000 - fp: 62.0000 - tn: 5481.0000 - fn: 124.0000 - accuracy: 0.9683 - precision: 0.7615 - recall: 0.6149 - auc: 0.9374 - val_loss: 0.1011 - val_tp: 64.0000 - val_fp: 26.0000 - val_tn: 1823.0000 - val_fn: 43.0000 - val_accuracy: 0.9647 - val_precision: 0.7111 - val_recall: 0.5981 - val_auc: 0.9524\n",
            "Epoch 20/50\n",
            "92/92 [==============================] - 5s 51ms/step - loss: 0.0964 - tp: 195.0000 - fp: 48.0000 - tn: 5495.0000 - fn: 127.0000 - accuracy: 0.9702 - precision: 0.8025 - recall: 0.6056 - auc: 0.9442 - val_loss: 0.1001 - val_tp: 65.0000 - val_fp: 23.0000 - val_tn: 1826.0000 - val_fn: 42.0000 - val_accuracy: 0.9668 - val_precision: 0.7386 - val_recall: 0.6075 - val_auc: 0.9504\n",
            "Epoch 21/50\n",
            "92/92 [==============================] - 5s 52ms/step - loss: 0.0966 - tp: 195.0000 - fp: 60.0000 - tn: 5483.0000 - fn: 127.0000 - accuracy: 0.9681 - precision: 0.7647 - recall: 0.6056 - auc: 0.9416 - val_loss: 0.0989 - val_tp: 65.0000 - val_fp: 26.0000 - val_tn: 1823.0000 - val_fn: 42.0000 - val_accuracy: 0.9652 - val_precision: 0.7143 - val_recall: 0.6075 - val_auc: 0.9551\n",
            "Epoch 22/50\n",
            "92/92 [==============================] - 5s 52ms/step - loss: 0.0969 - tp: 199.0000 - fp: 55.0000 - tn: 5488.0000 - fn: 123.0000 - accuracy: 0.9697 - precision: 0.7835 - recall: 0.6180 - auc: 0.9412 - val_loss: 0.0992 - val_tp: 61.0000 - val_fp: 15.0000 - val_tn: 1834.0000 - val_fn: 46.0000 - val_accuracy: 0.9688 - val_precision: 0.8026 - val_recall: 0.5701 - val_auc: 0.9578\n",
            "Epoch 23/50\n",
            "92/92 [==============================] - 5s 51ms/step - loss: 0.0947 - tp: 200.0000 - fp: 47.0000 - tn: 5496.0000 - fn: 122.0000 - accuracy: 0.9712 - precision: 0.8097 - recall: 0.6211 - auc: 0.9412 - val_loss: 0.0997 - val_tp: 71.0000 - val_fp: 29.0000 - val_tn: 1820.0000 - val_fn: 36.0000 - val_accuracy: 0.9668 - val_precision: 0.7100 - val_recall: 0.6636 - val_auc: 0.9567\n",
            "Epoch 24/50\n",
            "92/92 [==============================] - 5s 50ms/step - loss: 0.0969 - tp: 204.0000 - fp: 59.0000 - tn: 5484.0000 - fn: 118.0000 - accuracy: 0.9698 - precision: 0.7757 - recall: 0.6335 - auc: 0.9399 - val_loss: 0.1127 - val_tp: 42.0000 - val_fp: 7.0000 - val_tn: 1842.0000 - val_fn: 65.0000 - val_accuracy: 0.9632 - val_precision: 0.8571 - val_recall: 0.3925 - val_auc: 0.9469\n",
            "Epoch 25/50\n",
            "92/92 [==============================] - 5s 51ms/step - loss: 0.0966 - tp: 197.0000 - fp: 47.0000 - tn: 5496.0000 - fn: 125.0000 - accuracy: 0.9707 - precision: 0.8074 - recall: 0.6118 - auc: 0.9364 - val_loss: 0.0982 - val_tp: 67.0000 - val_fp: 26.0000 - val_tn: 1823.0000 - val_fn: 40.0000 - val_accuracy: 0.9663 - val_precision: 0.7204 - val_recall: 0.6262 - val_auc: 0.9563\n",
            "Epoch 26/50\n",
            "92/92 [==============================] - 5s 51ms/step - loss: 0.0949 - tp: 202.0000 - fp: 49.0000 - tn: 5494.0000 - fn: 120.0000 - accuracy: 0.9712 - precision: 0.8048 - recall: 0.6273 - auc: 0.9395 - val_loss: 0.0981 - val_tp: 65.0000 - val_fp: 25.0000 - val_tn: 1824.0000 - val_fn: 42.0000 - val_accuracy: 0.9657 - val_precision: 0.7222 - val_recall: 0.6075 - val_auc: 0.9574\n",
            "Epoch 27/50\n",
            "92/92 [==============================] - 5s 50ms/step - loss: 0.0920 - tp: 199.0000 - fp: 48.0000 - tn: 5495.0000 - fn: 123.0000 - accuracy: 0.9708 - precision: 0.8057 - recall: 0.6180 - auc: 0.9469 - val_loss: 0.0992 - val_tp: 60.0000 - val_fp: 18.0000 - val_tn: 1831.0000 - val_fn: 47.0000 - val_accuracy: 0.9668 - val_precision: 0.7692 - val_recall: 0.5607 - val_auc: 0.9583\n",
            "Epoch 28/50\n",
            "92/92 [==============================] - 5s 51ms/step - loss: 0.0919 - tp: 207.0000 - fp: 45.0000 - tn: 5498.0000 - fn: 115.0000 - accuracy: 0.9727 - precision: 0.8214 - recall: 0.6429 - auc: 0.9434 - val_loss: 0.0995 - val_tp: 58.0000 - val_fp: 12.0000 - val_tn: 1837.0000 - val_fn: 49.0000 - val_accuracy: 0.9688 - val_precision: 0.8286 - val_recall: 0.5421 - val_auc: 0.9547\n",
            "Epoch 29/50\n",
            "92/92 [==============================] - 5s 51ms/step - loss: 0.0896 - tp: 207.0000 - fp: 46.0000 - tn: 5497.0000 - fn: 115.0000 - accuracy: 0.9725 - precision: 0.8182 - recall: 0.6429 - auc: 0.9480 - val_loss: 0.0972 - val_tp: 58.0000 - val_fp: 14.0000 - val_tn: 1835.0000 - val_fn: 49.0000 - val_accuracy: 0.9678 - val_precision: 0.8056 - val_recall: 0.5421 - val_auc: 0.9592\n",
            "Epoch 30/50\n",
            "92/92 [==============================] - 5s 50ms/step - loss: 0.0930 - tp: 196.0000 - fp: 50.0000 - tn: 5493.0000 - fn: 126.0000 - accuracy: 0.9700 - precision: 0.7967 - recall: 0.6087 - auc: 0.9458 - val_loss: 0.0981 - val_tp: 72.0000 - val_fp: 29.0000 - val_tn: 1820.0000 - val_fn: 35.0000 - val_accuracy: 0.9673 - val_precision: 0.7129 - val_recall: 0.6729 - val_auc: 0.9588\n",
            "Epoch 31/50\n",
            "92/92 [==============================] - 5s 50ms/step - loss: 0.0899 - tp: 203.0000 - fp: 42.0000 - tn: 5501.0000 - fn: 119.0000 - accuracy: 0.9725 - precision: 0.8286 - recall: 0.6304 - auc: 0.9497 - val_loss: 0.0959 - val_tp: 61.0000 - val_fp: 19.0000 - val_tn: 1830.0000 - val_fn: 46.0000 - val_accuracy: 0.9668 - val_precision: 0.7625 - val_recall: 0.5701 - val_auc: 0.9620\n",
            "Epoch 32/50\n",
            "92/92 [==============================] - 5s 50ms/step - loss: 0.0884 - tp: 202.0000 - fp: 49.0000 - tn: 5494.0000 - fn: 120.0000 - accuracy: 0.9712 - precision: 0.8048 - recall: 0.6273 - auc: 0.9496 - val_loss: 0.1001 - val_tp: 76.0000 - val_fp: 30.0000 - val_tn: 1819.0000 - val_fn: 31.0000 - val_accuracy: 0.9688 - val_precision: 0.7170 - val_recall: 0.7103 - val_auc: 0.9613\n",
            "Epoch 33/50\n",
            "92/92 [==============================] - 5s 51ms/step - loss: 0.0885 - tp: 202.0000 - fp: 47.0000 - tn: 5496.0000 - fn: 120.0000 - accuracy: 0.9715 - precision: 0.8112 - recall: 0.6273 - auc: 0.9524 - val_loss: 0.0954 - val_tp: 69.0000 - val_fp: 28.0000 - val_tn: 1821.0000 - val_fn: 38.0000 - val_accuracy: 0.9663 - val_precision: 0.7113 - val_recall: 0.6449 - val_auc: 0.9611\n",
            "Epoch 34/50\n",
            "92/92 [==============================] - 5s 50ms/step - loss: 0.0870 - tp: 205.0000 - fp: 53.0000 - tn: 5490.0000 - fn: 117.0000 - accuracy: 0.9710 - precision: 0.7946 - recall: 0.6366 - auc: 0.9574 - val_loss: 0.0967 - val_tp: 58.0000 - val_fp: 15.0000 - val_tn: 1834.0000 - val_fn: 49.0000 - val_accuracy: 0.9673 - val_precision: 0.7945 - val_recall: 0.5421 - val_auc: 0.9602\n",
            "Epoch 35/50\n",
            "92/92 [==============================] - 5s 51ms/step - loss: 0.0866 - tp: 209.0000 - fp: 47.0000 - tn: 5496.0000 - fn: 113.0000 - accuracy: 0.9727 - precision: 0.8164 - recall: 0.6491 - auc: 0.9542 - val_loss: 0.0969 - val_tp: 58.0000 - val_fp: 16.0000 - val_tn: 1833.0000 - val_fn: 49.0000 - val_accuracy: 0.9668 - val_precision: 0.7838 - val_recall: 0.5421 - val_auc: 0.9564\n",
            "Epoch 36/50\n",
            "92/92 [==============================] - 5s 51ms/step - loss: 0.0905 - tp: 205.0000 - fp: 44.0000 - tn: 5499.0000 - fn: 117.0000 - accuracy: 0.9725 - precision: 0.8233 - recall: 0.6366 - auc: 0.9531 - val_loss: 0.0963 - val_tp: 72.0000 - val_fp: 28.0000 - val_tn: 1821.0000 - val_fn: 35.0000 - val_accuracy: 0.9678 - val_precision: 0.7200 - val_recall: 0.6729 - val_auc: 0.9639\n",
            "Epoch 37/50\n",
            "92/92 [==============================] - 5s 51ms/step - loss: 0.0853 - tp: 199.0000 - fp: 39.0000 - tn: 5504.0000 - fn: 123.0000 - accuracy: 0.9724 - precision: 0.8361 - recall: 0.6180 - auc: 0.9558 - val_loss: 0.0949 - val_tp: 72.0000 - val_fp: 27.0000 - val_tn: 1822.0000 - val_fn: 35.0000 - val_accuracy: 0.9683 - val_precision: 0.7273 - val_recall: 0.6729 - val_auc: 0.9652\n",
            "Epoch 38/50\n",
            "92/92 [==============================] - 5s 51ms/step - loss: 0.0842 - tp: 220.0000 - fp: 46.0000 - tn: 5497.0000 - fn: 102.0000 - accuracy: 0.9748 - precision: 0.8271 - recall: 0.6832 - auc: 0.9554 - val_loss: 0.0926 - val_tp: 67.0000 - val_fp: 20.0000 - val_tn: 1829.0000 - val_fn: 40.0000 - val_accuracy: 0.9693 - val_precision: 0.7701 - val_recall: 0.6262 - val_auc: 0.9642\n",
            "Epoch 39/50\n",
            "92/92 [==============================] - 5s 51ms/step - loss: 0.0840 - tp: 206.0000 - fp: 48.0000 - tn: 5495.0000 - fn: 116.0000 - accuracy: 0.9720 - precision: 0.8110 - recall: 0.6398 - auc: 0.9587 - val_loss: 0.0946 - val_tp: 76.0000 - val_fp: 29.0000 - val_tn: 1820.0000 - val_fn: 31.0000 - val_accuracy: 0.9693 - val_precision: 0.7238 - val_recall: 0.7103 - val_auc: 0.9646\n",
            "Epoch 40/50\n",
            "92/92 [==============================] - 5s 51ms/step - loss: 0.0835 - tp: 206.0000 - fp: 40.0000 - tn: 5503.0000 - fn: 116.0000 - accuracy: 0.9734 - precision: 0.8374 - recall: 0.6398 - auc: 0.9616 - val_loss: 0.0922 - val_tp: 65.0000 - val_fp: 19.0000 - val_tn: 1830.0000 - val_fn: 42.0000 - val_accuracy: 0.9688 - val_precision: 0.7738 - val_recall: 0.6075 - val_auc: 0.9657\n",
            "Epoch 41/50\n",
            "92/92 [==============================] - 5s 51ms/step - loss: 0.0815 - tp: 212.0000 - fp: 42.0000 - tn: 5501.0000 - fn: 110.0000 - accuracy: 0.9741 - precision: 0.8346 - recall: 0.6584 - auc: 0.9646 - val_loss: 0.0918 - val_tp: 65.0000 - val_fp: 18.0000 - val_tn: 1831.0000 - val_fn: 42.0000 - val_accuracy: 0.9693 - val_precision: 0.7831 - val_recall: 0.6075 - val_auc: 0.9674\n",
            "Epoch 42/50\n",
            "92/92 [==============================] - 5s 51ms/step - loss: 0.0803 - tp: 219.0000 - fp: 45.0000 - tn: 5498.0000 - fn: 103.0000 - accuracy: 0.9748 - precision: 0.8295 - recall: 0.6801 - auc: 0.9644 - val_loss: 0.0930 - val_tp: 67.0000 - val_fp: 19.0000 - val_tn: 1830.0000 - val_fn: 40.0000 - val_accuracy: 0.9698 - val_precision: 0.7791 - val_recall: 0.6262 - val_auc: 0.9557\n",
            "Epoch 43/50\n",
            "92/92 [==============================] - 5s 51ms/step - loss: 0.0781 - tp: 212.0000 - fp: 50.0000 - tn: 5493.0000 - fn: 110.0000 - accuracy: 0.9727 - precision: 0.8092 - recall: 0.6584 - auc: 0.9695 - val_loss: 0.0929 - val_tp: 62.0000 - val_fp: 15.0000 - val_tn: 1834.0000 - val_fn: 45.0000 - val_accuracy: 0.9693 - val_precision: 0.8052 - val_recall: 0.5794 - val_auc: 0.9632\n",
            "Epoch 44/50\n",
            "92/92 [==============================] - 5s 51ms/step - loss: 0.0811 - tp: 215.0000 - fp: 48.0000 - tn: 5495.0000 - fn: 107.0000 - accuracy: 0.9736 - precision: 0.8175 - recall: 0.6677 - auc: 0.9614 - val_loss: 0.0912 - val_tp: 70.0000 - val_fp: 21.0000 - val_tn: 1828.0000 - val_fn: 37.0000 - val_accuracy: 0.9703 - val_precision: 0.7692 - val_recall: 0.6542 - val_auc: 0.9685\n",
            "Epoch 45/50\n",
            "92/92 [==============================] - 5s 50ms/step - loss: 0.0784 - tp: 218.0000 - fp: 39.0000 - tn: 5504.0000 - fn: 104.0000 - accuracy: 0.9756 - precision: 0.8482 - recall: 0.6770 - auc: 0.9703 - val_loss: 0.0926 - val_tp: 76.0000 - val_fp: 27.0000 - val_tn: 1822.0000 - val_fn: 31.0000 - val_accuracy: 0.9703 - val_precision: 0.7379 - val_recall: 0.7103 - val_auc: 0.9699\n",
            "Epoch 46/50\n",
            "92/92 [==============================] - 5s 51ms/step - loss: 0.0789 - tp: 217.0000 - fp: 48.0000 - tn: 5495.0000 - fn: 105.0000 - accuracy: 0.9739 - precision: 0.8189 - recall: 0.6739 - auc: 0.9649 - val_loss: 0.0961 - val_tp: 78.0000 - val_fp: 29.0000 - val_tn: 1820.0000 - val_fn: 29.0000 - val_accuracy: 0.9703 - val_precision: 0.7290 - val_recall: 0.7290 - val_auc: 0.9667\n",
            "Epoch 47/50\n",
            "92/92 [==============================] - 5s 51ms/step - loss: 0.0801 - tp: 217.0000 - fp: 48.0000 - tn: 5495.0000 - fn: 105.0000 - accuracy: 0.9739 - precision: 0.8189 - recall: 0.6739 - auc: 0.9631 - val_loss: 0.1024 - val_tp: 52.0000 - val_fp: 13.0000 - val_tn: 1836.0000 - val_fn: 55.0000 - val_accuracy: 0.9652 - val_precision: 0.8000 - val_recall: 0.4860 - val_auc: 0.9523\n",
            "Epoch 48/50\n",
            "92/92 [==============================] - 5s 51ms/step - loss: 0.0747 - tp: 215.0000 - fp: 42.0000 - tn: 5501.0000 - fn: 107.0000 - accuracy: 0.9746 - precision: 0.8366 - recall: 0.6677 - auc: 0.9699 - val_loss: 0.0935 - val_tp: 62.0000 - val_fp: 17.0000 - val_tn: 1832.0000 - val_fn: 45.0000 - val_accuracy: 0.9683 - val_precision: 0.7848 - val_recall: 0.5794 - val_auc: 0.9618\n",
            "Epoch 49/50\n",
            "92/92 [==============================] - 5s 50ms/step - loss: 0.0724 - tp: 218.0000 - fp: 42.0000 - tn: 5501.0000 - fn: 104.0000 - accuracy: 0.9751 - precision: 0.8385 - recall: 0.6770 - auc: 0.9716 - val_loss: 0.0890 - val_tp: 73.0000 - val_fp: 22.0000 - val_tn: 1827.0000 - val_fn: 34.0000 - val_accuracy: 0.9714 - val_precision: 0.7684 - val_recall: 0.6822 - val_auc: 0.9705\n",
            "Epoch 50/50\n",
            "92/92 [==============================] - 5s 50ms/step - loss: 0.0741 - tp: 216.0000 - fp: 43.0000 - tn: 5500.0000 - fn: 106.0000 - accuracy: 0.9746 - precision: 0.8340 - recall: 0.6708 - auc: 0.9691 - val_loss: 0.0898 - val_tp: 61.0000 - val_fp: 15.0000 - val_tn: 1834.0000 - val_fn: 46.0000 - val_accuracy: 0.9688 - val_precision: 0.8026 - val_recall: 0.5701 - val_auc: 0.9701\n",
            "The model is better than a simple constant model for sure:\n"
          ],
          "name": "stdout"
        }
      ]
    },
    {
      "cell_type": "code",
      "metadata": {
        "id": "Kl6QZjvU3ful",
        "colab_type": "code",
        "colab": {
          "base_uri": "https://localhost:8080/",
          "height": 34
        },
        "outputId": "c9a5a3d8-109f-4ed2-ddef-10566bcc3646"
      },
      "source": [
        "auc"
      ],
      "execution_count": 32,
      "outputs": [
        {
          "output_type": "execute_result",
          "data": {
            "text/plain": [
              "[0.9480667114257812, 0.9517788290977478, 0.9614017009735107]"
            ]
          },
          "metadata": {
            "tags": []
          },
          "execution_count": 32
        }
      ]
    },
    {
      "cell_type": "code",
      "metadata": {
        "id": "AMuBcNSL3hkQ",
        "colab_type": "code",
        "colab": {
          "base_uri": "https://localhost:8080/",
          "height": 34
        },
        "outputId": "aa5e31cf-6281-4320-a783-3b7d1f9a3621"
      },
      "source": [
        "val_auc"
      ],
      "execution_count": 33,
      "outputs": [
        {
          "output_type": "execute_result",
          "data": {
            "text/plain": [
              "[0.9482594728469849, 0.9503495693206787, 0.9685230851173401]"
            ]
          },
          "metadata": {
            "tags": []
          },
          "execution_count": 33
        }
      ]
    },
    {
      "cell_type": "code",
      "metadata": {
        "id": "we8UKquX2nYF",
        "colab_type": "code",
        "colab": {
          "base_uri": "https://localhost:8080/",
          "height": 282
        },
        "outputId": "b7dee844-b5bb-49a9-fa25-a324ac9b1540"
      },
      "source": [
        "plt.plot(history.history['accuracy'][5:], color ='blue')\n",
        "plt.plot(history.history['val_accuracy'][5:], color ='orange')"
      ],
      "execution_count": 34,
      "outputs": [
        {
          "output_type": "execute_result",
          "data": {
            "text/plain": [
              "[<matplotlib.lines.Line2D at 0x7fa67331b978>]"
            ]
          },
          "metadata": {
            "tags": []
          },
          "execution_count": 34
        },
        {
          "output_type": "display_data",
          "data": {
            "image/png": "[encoded data removed]",
            "text/plain": [
              "<Figure size 432x288 with 1 Axes>"
            ]
          },
          "metadata": {
            "tags": [],
            "needs_background": "light"
          }
        }
      ]
    },
    {
      "cell_type": "code",
      "metadata": {
        "id": "TDunN09ovN0O",
        "colab_type": "code",
        "colab": {
          "base_uri": "https://localhost:8080/",
          "height": 282
        },
        "outputId": "24b11490-7656-4df2-b547-bf984aa882c1"
      },
      "source": [
        "plt.plot(history.history['auc'][5:], color ='blue')\n",
        "plt.plot(history.history['val_auc'][5:], color ='orange')"
      ],
      "execution_count": 35,
      "outputs": [
        {
          "output_type": "execute_result",
          "data": {
            "text/plain": [
              "[<matplotlib.lines.Line2D at 0x7fa67331b5c0>]"
            ]
          },
          "metadata": {
            "tags": []
          },
          "execution_count": 35
        },
        {
          "output_type": "display_data",
          "data": {
            "image/png": "[encoded data removed]",
            "text/plain": [
              "<Figure size 432x288 with 1 Axes>"
            ]
          },
          "metadata": {
            "tags": [],
            "needs_background": "light"
          }
        }
      ]
    }
  ]
}