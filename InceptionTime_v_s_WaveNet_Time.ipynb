{
  "nbformat": 4,
  "nbformat_minor": 0,
  "metadata": {
    "colab": {
      "name": "InceptionTime v/s WaveNet Time",
      "provenance": [],
      "collapsed_sections": [],
      "include_colab_link": true
    },
    "kernelspec": {
      "name": "python3",
      "display_name": "Python 3"
    },
    "accelerator": "GPU"
  },
  "cells": [
    {
      "cell_type": "markdown",
      "metadata": {
        "id": "view-in-github",
        "colab_type": "text"
      },
      "source": [
        "<a href=\"https://colab.research.google.com/github/Vishwajit-hegde/Driver-Performance-Analysis/blob/master/InceptionTime_v_s_WaveNet_Time.ipynb\" target=\"_parent\"><img src=\"https://colab.research.google.com/assets/colab-badge.svg\" alt=\"Open In Colab\"/></a>"
      ]
    },
    {
      "cell_type": "code",
      "metadata": {
        "id": "wUcxFDn_LIuZ",
        "outputId": "ba784053-2046-460b-c7e9-583c69cb03c3",
        "colab": {
          "base_uri": "https://localhost:8080/"
        }
      },
      "source": [
        "import numpy as np\n",
        "import pandas as pd\n",
        "import tensorflow as tf\n",
        "from tensorflow.keras import layers\n",
        "from datetime import datetime\n",
        "from matplotlib import pyplot as plt\n",
        "from matplotlib import dates as md\n",
        "import plotly.express as px\n",
        "from sklearn.preprocessing import StandardScaler\n",
        "from tensorflow.keras.models import Sequential, Model\n",
        "from tensorflow.keras.layers import Input, Conv1D, Dense, Activation, Dropout, Lambda, Multiply, Add, Concatenate\n",
        "from tensorflow.keras.layers import Flatten\n",
        "from tensorflow.keras.layers import Conv1D,Conv2D,LSTM,GRU,Lambda\n",
        "from tensorflow.keras.layers import MaxPooling1D, Bidirectional, AveragePooling1D\n",
        "import datetime\n",
        "from tqdm import tqdm\n",
        "from sklearn.utils import shuffle\n",
        "import os\n",
        "from scipy import signal\n",
        "import gc\n",
        "from google.colab import drive\n",
        "drive.mount('/content/drive')"
      ],
      "execution_count": null,
      "outputs": [
        {
          "output_type": "stream",
          "text": [
            "Drive already mounted at /content/drive; to attempt to forcibly remount, call drive.mount(\"/content/drive\", force_remount=True).\n"
          ],
          "name": "stdout"
        }
      ]
    },
    {
      "cell_type": "code",
      "metadata": {
        "id": "eNaKu5WULg9b",
        "outputId": "b622bff0-875d-491d-a846-e126494240ae",
        "colab": {
          "base_uri": "https://localhost:8080/"
        }
      },
      "source": [
        "df=pd.DataFrame()\n",
        "df1 = pd.DataFrame()\n",
        "os.chdir('/content/drive/My Drive/labelled_driver_data')\n",
        "for files in os.listdir(os.getcwd()):\n",
        "  print(files)\n",
        "  if files!='river4':\n",
        "    os.chdir('/content/drive/My Drive/labelled_driver_data/{}'.format(files))\n",
        "    for filename in os.listdir(os.getcwd()):\n",
        "        print(filename)\n",
        "        if 'acelerometro' in filename:\n",
        "          data = pd.read_csv(filename ,sep =',', header = 0 )\n",
        "          data.columns=['timestamp','uptimeNanos','X','Y','Z']\n",
        "          data['label'] = 0\n",
        "          data['device'] = 'acc'\n",
        "          data['uptimeNanos'] /= 1e9\n",
        "        elif 'giro' in filename:\n",
        "          data2 = pd.read_csv(filename ,sep =',', header = 0 )\n",
        "          data2.columns=['timestamp','uptimeNanos','X','Y','Z']\n",
        "          data2['label'] = 0\n",
        "          data2['device'] = 'gyr'\n",
        "          data2['uptimeNanos'] /= 1e9\n",
        "        elif 'ground' in filename:\n",
        "          labels = pd.read_csv(filename , sep=',')\n",
        "          labels[' inicio'] += data['uptimeNanos'][0]\n",
        "          labels[' fim'] += data['uptimeNanos'][0]\n",
        "\n",
        "    for event,start, end in labels.values:\n",
        "        l2 = data2.loc[data2.uptimeNanos.between(start, end),['label']].shape[0]\n",
        "        l1 = data.loc[data.uptimeNanos.between(start, end),['label']].shape[0]\n",
        "        data.loc[data.uptimeNanos.between(start, end),['label']] = [event]*l1\n",
        "        data2.loc[data2.uptimeNanos.between(start, end),['label']] = [event]*l2\n",
        "    df1 = pd.concat([data,data2], axis =1 , ignore_index=True)\n",
        "    df = df.append(df1)\n",
        "    del data, data2, labels"
      ],
      "execution_count": null,
      "outputs": [
        {
          "output_type": "stream",
          "text": [
            "driver4\n",
            "acelerometro_terra.txt\n",
            "giroscopio_terra.txt\n",
            "groundTruth.txt\n",
            "aceleracaoLinear_terra.txt\n",
            "driver3\n",
            "acelerometro_terra.txt\n",
            "giroscopio_terra.txt\n",
            "groundTruth.txt\n",
            "aceleracaoLinear_terra.txt\n",
            "driver1\n",
            "acelerometro_terra.txt\n",
            "groundTruth.txt\n",
            "giroscopio_terra.txt\n",
            "aceleracaoLinear_terra.txt\n",
            "driver2\n",
            "acelerometro_terra.txt\n",
            "giroscopio_terra.txt\n",
            "groundTruth.txt\n",
            "aceleracaoLinear_terra.txt\n"
          ],
          "name": "stdout"
        }
      ]
    },
    {
      "cell_type": "code",
      "metadata": {
        "id": "j1fgFh-FWF_w"
      },
      "source": [
        "df.columns =['timedate','time','X_acc','Y_acc','Z_acc','label','device','s','s1','X_gyr','Y_gyr','Z_gyr','s2','s3']\n",
        "df.timedate = pd.to_datetime(df.timedate)\n",
        "#df['label'] = df.label.apply(lambda x : 0 if x in ['evento_nao_agressivo',0] else 1)"
      ],
      "execution_count": null,
      "outputs": []
    },
    {
      "cell_type": "code",
      "metadata": {
        "id": "oycbu1ptCD1M",
        "outputId": "45e8cea4-8920-4c72-e35c-0a0c52dea859",
        "colab": {
          "base_uri": "https://localhost:8080/"
        }
      },
      "source": [
        "df.label.value_counts()"
      ],
      "execution_count": null,
      "outputs": [
        {
          "output_type": "execute_result",
          "data": {
            "text/plain": [
              "0                                 145435\n",
              "evento_nao_agressivo                2528\n",
              "aceleracao_agressiva                2202\n",
              "curva_direita_agressiva             1948\n",
              "curva_esquerda_agressiva            1946\n",
              "freada_agressiva                    1462\n",
              "troca_faixa_direita_agressiva        564\n",
              "troca_faixa_esquerda_agressiva       427\n",
              "Name: label, dtype: int64"
            ]
          },
          "metadata": {
            "tags": []
          },
          "execution_count": 44
        }
      ]
    },
    {
      "cell_type": "code",
      "metadata": {
        "id": "1SytV3jK0o46",
        "outputId": "14252ad2-f4d3-49d1-90c7-48f52af4cafe",
        "colab": {
          "base_uri": "https://localhost:8080/"
        }
      },
      "source": [
        "df['time'] = df.timedate.apply(lambda x : x.time())\n",
        "print('The sampling frequency in Hz is:',df.groupby('time').X_gyr.count().mean())"
      ],
      "execution_count": null,
      "outputs": [
        {
          "output_type": "stream",
          "text": [
            "The sampling frequency in Hz is: 50.8816644993498\n"
          ],
          "name": "stdout"
        }
      ]
    },
    {
      "cell_type": "code",
      "metadata": {
        "id": "aLpXwMzNf5hD",
        "outputId": "1d4fd7fc-bd25-42a0-dbb5-192673eff74e",
        "colab": {
          "base_uri": "https://localhost:8080/"
        }
      },
      "source": [
        "print('total time in min',(df.shape[0]/50)/60)"
      ],
      "execution_count": null,
      "outputs": [
        {
          "output_type": "stream",
          "text": [
            "total time in min 52.17066666666666\n"
          ],
          "name": "stdout"
        }
      ]
    },
    {
      "cell_type": "code",
      "metadata": {
        "id": "VWiuTrtgPyWr",
        "outputId": "f0a3c5cf-7165-4382-c3ad-96a29e2369d8",
        "colab": {
          "base_uri": "https://localhost:8080/"
        }
      },
      "source": [
        "df.label.value_counts(normalize=True)"
      ],
      "execution_count": null,
      "outputs": [
        {
          "output_type": "execute_result",
          "data": {
            "text/plain": [
              "0    0.945378\n",
              "1    0.054622\n",
              "Name: label, dtype: float64"
            ]
          },
          "metadata": {
            "tags": []
          },
          "execution_count": 6
        }
      ]
    },
    {
      "cell_type": "code",
      "metadata": {
        "id": "tl_fUvufKp0h"
      },
      "source": [
        "df = df[['timedate','time','X_acc','Y_acc','Z_acc','X_gyr','Y_gyr','Z_gyr','label']]"
      ],
      "execution_count": null,
      "outputs": []
    },
    {
      "cell_type": "code",
      "metadata": {
        "id": "OZN7XeLSMYRA",
        "outputId": "87bbcaaf-5dfb-4ffb-efd5-2e2496cd2ad7",
        "colab": {
          "base_uri": "https://localhost:8080/",
          "height": 204
        }
      },
      "source": [
        "df.head()"
      ],
      "execution_count": null,
      "outputs": [
        {
          "output_type": "execute_result",
          "data": {
            "text/html": [
              "<div>\n",
              "<style scoped>\n",
              "    .dataframe tbody tr th:only-of-type {\n",
              "        vertical-align: middle;\n",
              "    }\n",
              "\n",
              "    .dataframe tbody tr th {\n",
              "        vertical-align: top;\n",
              "    }\n",
              "\n",
              "    .dataframe thead th {\n",
              "        text-align: right;\n",
              "    }\n",
              "</style>\n",
              "<table border=\"1\" class=\"dataframe\">\n",
              "  <thead>\n",
              "    <tr style=\"text-align: right;\">\n",
              "      <th></th>\n",
              "      <th>timedate</th>\n",
              "      <th>time</th>\n",
              "      <th>X_acc</th>\n",
              "      <th>Y_acc</th>\n",
              "      <th>Z_acc</th>\n",
              "      <th>X_gyr</th>\n",
              "      <th>Y_gyr</th>\n",
              "      <th>Z_gyr</th>\n",
              "      <th>label</th>\n",
              "    </tr>\n",
              "  </thead>\n",
              "  <tbody>\n",
              "    <tr>\n",
              "      <th>0</th>\n",
              "      <td>2016-05-14 10:54:33</td>\n",
              "      <td>10:54:33</td>\n",
              "      <td>-0.161602</td>\n",
              "      <td>0.120174</td>\n",
              "      <td>9.596758</td>\n",
              "      <td>-0.070372</td>\n",
              "      <td>0.000844</td>\n",
              "      <td>0.029619</td>\n",
              "      <td>0</td>\n",
              "    </tr>\n",
              "    <tr>\n",
              "      <th>1</th>\n",
              "      <td>2016-05-14 10:54:33</td>\n",
              "      <td>10:54:33</td>\n",
              "      <td>-0.122628</td>\n",
              "      <td>0.315638</td>\n",
              "      <td>9.425655</td>\n",
              "      <td>-0.058695</td>\n",
              "      <td>0.009130</td>\n",
              "      <td>0.024406</td>\n",
              "      <td>0</td>\n",
              "    </tr>\n",
              "    <tr>\n",
              "      <th>2</th>\n",
              "      <td>2016-05-14 10:54:33</td>\n",
              "      <td>10:54:33</td>\n",
              "      <td>-0.178777</td>\n",
              "      <td>0.330180</td>\n",
              "      <td>9.445955</td>\n",
              "      <td>0.006625</td>\n",
              "      <td>-0.002283</td>\n",
              "      <td>-0.015018</td>\n",
              "      <td>0</td>\n",
              "    </tr>\n",
              "    <tr>\n",
              "      <th>3</th>\n",
              "      <td>2016-05-14 10:54:33</td>\n",
              "      <td>10:54:33</td>\n",
              "      <td>0.016043</td>\n",
              "      <td>0.038759</td>\n",
              "      <td>9.528445</td>\n",
              "      <td>0.064933</td>\n",
              "      <td>0.033172</td>\n",
              "      <td>-0.040503</td>\n",
              "      <td>0</td>\n",
              "    </tr>\n",
              "    <tr>\n",
              "      <th>4</th>\n",
              "      <td>2016-05-14 10:54:33</td>\n",
              "      <td>10:54:33</td>\n",
              "      <td>0.141716</td>\n",
              "      <td>-0.162492</td>\n",
              "      <td>9.756854</td>\n",
              "      <td>0.039454</td>\n",
              "      <td>-0.013078</td>\n",
              "      <td>-0.007681</td>\n",
              "      <td>0</td>\n",
              "    </tr>\n",
              "  </tbody>\n",
              "</table>\n",
              "</div>"
            ],
            "text/plain": [
              "             timedate      time     X_acc  ...     Y_gyr     Z_gyr  label\n",
              "0 2016-05-14 10:54:33  10:54:33 -0.161602  ...  0.000844  0.029619      0\n",
              "1 2016-05-14 10:54:33  10:54:33 -0.122628  ...  0.009130  0.024406      0\n",
              "2 2016-05-14 10:54:33  10:54:33 -0.178777  ... -0.002283 -0.015018      0\n",
              "3 2016-05-14 10:54:33  10:54:33  0.016043  ...  0.033172 -0.040503      0\n",
              "4 2016-05-14 10:54:33  10:54:33  0.141716  ... -0.013078 -0.007681      0\n",
              "\n",
              "[5 rows x 9 columns]"
            ]
          },
          "metadata": {
            "tags": []
          },
          "execution_count": 8
        }
      ]
    },
    {
      "cell_type": "code",
      "metadata": {
        "id": "wluSclYino2i"
      },
      "source": [
        "df.dropna(inplace = True)"
      ],
      "execution_count": null,
      "outputs": []
    },
    {
      "cell_type": "code",
      "metadata": {
        "id": "paVYzhhdaJg_"
      },
      "source": [
        "dftrain = df.copy()"
      ],
      "execution_count": null,
      "outputs": []
    },
    {
      "cell_type": "code",
      "metadata": {
        "id": "XWq2wcLOycv5"
      },
      "source": [
        "#Y is lateraal \n",
        "#X is longitudinal\n",
        "#Z is  vertical"
      ],
      "execution_count": null,
      "outputs": []
    },
    {
      "cell_type": "code",
      "metadata": {
        "id": "JOU1Alb3ad2e"
      },
      "source": [
        "def train_dataset(series,window_size, batch_size):\n",
        "    ds = tf.data.Dataset.from_tensor_slices((series))\n",
        "    ds = ds.window(window_size, shift=20, drop_remainder=True)\n",
        "    ds = ds.flat_map(lambda w: w.batch(window_size))\n",
        "    ds = ds.shuffle(10000).map(lambda window: (window[:,:-1], window[50,-1:]))\n",
        "    #ds = ds.batch(batch_size).prefetch(1)\n",
        "    return ds"
      ],
      "execution_count": null,
      "outputs": []
    },
    {
      "cell_type": "code",
      "metadata": {
        "id": "tE6jPPvFbhLO"
      },
      "source": [
        "train= train_dataset(dftrain[['X_acc','Y_acc','X_gyr','Y_gyr','Z_gyr','label']].values,100,128)"
      ],
      "execution_count": null,
      "outputs": []
    },
    {
      "cell_type": "code",
      "metadata": {
        "id": "5tt9xy6bz0Gx"
      },
      "source": [
        "X=[]\n",
        "y=[]\n",
        "for i,j in train:\n",
        "  X.append(i.numpy())\n",
        "  y.append(j.numpy())\n",
        "X = np.asarray(X)\n",
        "y = np.asarray(y)"
      ],
      "execution_count": null,
      "outputs": []
    },
    {
      "cell_type": "code",
      "metadata": {
        "id": "aw2ayLgH3sdg"
      },
      "source": [
        "def get_unit(x):\n",
        "  x1 = Conv1D(16, 1, padding='same', activation='relu')(x)\n",
        "\n",
        "  x2 = Conv1D(16, 1, padding='same', activation='relu')(x)\n",
        "  x2 = Conv1D(32, 3, padding='same', activation='relu')(x2)\n",
        "\n",
        "  x3 = Conv1D(16, 1, padding='same', activation='relu')(x)\n",
        "  x3 = Conv1D(32, 5, padding='same', activation='relu')(x3)\n",
        "\n",
        "  output  = tf.concat([x1,x2,x3,x], axis =  -1)\n",
        "  return output\n",
        "  \n",
        "def create_incep(n):\n",
        "    history_seq = Input(shape=(100, n))\n",
        "    x = history_seq\n",
        "    x = Conv1D(16, 1, activation='relu')(x)\n",
        "    x = AveragePooling1D(2)(x)\n",
        "    x = Conv1D(16, 1, activation='relu')(x)\n",
        "    x = AveragePooling1D(2)(x)\n",
        "    x = get_unit(x)\n",
        "    x = AveragePooling1D(2)(x)\n",
        "    x = get_unit(x)\n",
        "    x = Conv1D(16, 1, padding='same', activation='relu')(x)\n",
        "    x = Flatten()(x)\n",
        "    x = Dense(50, activation='relu')(x)\n",
        "    x = Dropout(0.2)(x)\n",
        "    x = Dense(1, activation='sigmoid')(x)\n",
        "\n",
        "    Incep = Model(history_seq,x)\n",
        "    Incep.compile(tf.keras.optimizers.Adam(lr = 1e-4), loss='binary_crossentropy', metrics =METRICS)\n",
        "    return Incep"
      ],
      "execution_count": null,
      "outputs": []
    },
    {
      "cell_type": "code",
      "metadata": {
        "id": "hW3zSxAJ-21x",
        "outputId": "6d6849dc-38f4-42a0-e3f3-bb1422869668",
        "colab": {
          "base_uri": "https://localhost:8080/"
        }
      },
      "source": [
        "Incep = create_incep(5)\n",
        "Incep.summary()"
      ],
      "execution_count": null,
      "outputs": [
        {
          "output_type": "stream",
          "text": [
            "Model: \"functional_5\"\n",
            "__________________________________________________________________________________________________\n",
            "Layer (type)                    Output Shape         Param #     Connected to                     \n",
            "==================================================================================================\n",
            "input_14 (InputLayer)           [(None, 100, 5)]     0                                            \n",
            "__________________________________________________________________________________________________\n",
            "conv1d_113 (Conv1D)             (None, 100, 16)      96          input_14[0][0]                   \n",
            "__________________________________________________________________________________________________\n",
            "average_pooling1d_27 (AveragePo (None, 50, 16)       0           conv1d_113[0][0]                 \n",
            "__________________________________________________________________________________________________\n",
            "conv1d_114 (Conv1D)             (None, 50, 16)       272         average_pooling1d_27[0][0]       \n",
            "__________________________________________________________________________________________________\n",
            "average_pooling1d_28 (AveragePo (None, 25, 16)       0           conv1d_114[0][0]                 \n",
            "__________________________________________________________________________________________________\n",
            "conv1d_116 (Conv1D)             (None, 25, 16)       272         average_pooling1d_28[0][0]       \n",
            "__________________________________________________________________________________________________\n",
            "conv1d_118 (Conv1D)             (None, 25, 16)       272         average_pooling1d_28[0][0]       \n",
            "__________________________________________________________________________________________________\n",
            "conv1d_115 (Conv1D)             (None, 25, 16)       272         average_pooling1d_28[0][0]       \n",
            "__________________________________________________________________________________________________\n",
            "conv1d_117 (Conv1D)             (None, 25, 32)       1568        conv1d_116[0][0]                 \n",
            "__________________________________________________________________________________________________\n",
            "conv1d_119 (Conv1D)             (None, 25, 32)       2592        conv1d_118[0][0]                 \n",
            "__________________________________________________________________________________________________\n",
            "tf_op_layer_concat_14 (TensorFl [(None, 25, 96)]     0           conv1d_115[0][0]                 \n",
            "                                                                 conv1d_117[0][0]                 \n",
            "                                                                 conv1d_119[0][0]                 \n",
            "                                                                 average_pooling1d_28[0][0]       \n",
            "__________________________________________________________________________________________________\n",
            "average_pooling1d_29 (AveragePo (None, 12, 96)       0           tf_op_layer_concat_14[0][0]      \n",
            "__________________________________________________________________________________________________\n",
            "conv1d_121 (Conv1D)             (None, 12, 16)       1552        average_pooling1d_29[0][0]       \n",
            "__________________________________________________________________________________________________\n",
            "conv1d_123 (Conv1D)             (None, 12, 16)       1552        average_pooling1d_29[0][0]       \n",
            "__________________________________________________________________________________________________\n",
            "conv1d_120 (Conv1D)             (None, 12, 16)       1552        average_pooling1d_29[0][0]       \n",
            "__________________________________________________________________________________________________\n",
            "conv1d_122 (Conv1D)             (None, 12, 32)       1568        conv1d_121[0][0]                 \n",
            "__________________________________________________________________________________________________\n",
            "conv1d_124 (Conv1D)             (None, 12, 32)       2592        conv1d_123[0][0]                 \n",
            "__________________________________________________________________________________________________\n",
            "tf_op_layer_concat_15 (TensorFl [(None, 12, 176)]    0           conv1d_120[0][0]                 \n",
            "                                                                 conv1d_122[0][0]                 \n",
            "                                                                 conv1d_124[0][0]                 \n",
            "                                                                 average_pooling1d_29[0][0]       \n",
            "__________________________________________________________________________________________________\n",
            "conv1d_125 (Conv1D)             (None, 12, 16)       2832        tf_op_layer_concat_15[0][0]      \n",
            "__________________________________________________________________________________________________\n",
            "flatten_1 (Flatten)             (None, 192)          0           conv1d_125[0][0]                 \n",
            "__________________________________________________________________________________________________\n",
            "dense_4 (Dense)                 (None, 50)           9650        flatten_1[0][0]                  \n",
            "__________________________________________________________________________________________________\n",
            "dropout_2 (Dropout)             (None, 50)           0           dense_4[0][0]                    \n",
            "__________________________________________________________________________________________________\n",
            "dense_5 (Dense)                 (None, 1)            51          dropout_2[0][0]                  \n",
            "==================================================================================================\n",
            "Total params: 26,693\n",
            "Trainable params: 26,693\n",
            "Non-trainable params: 0\n",
            "__________________________________________________________________________________________________\n"
          ],
          "name": "stdout"
        }
      ]
    },
    {
      "cell_type": "code",
      "metadata": {
        "id": "7A1V3ObmnoBm"
      },
      "source": [
        "def create_model(n, n_filters =32, filter_width = 10 , dilation_rates =[2**i for i in range(8)] * 2 ):\n",
        "\n",
        "  # define an input history series and pass it through a stack of dilated causal convolution blocks. \n",
        "  history_seq = Input(shape=(100, n))\n",
        "  x = history_seq\n",
        "\n",
        "  skips = []\n",
        "  for dilation_rate in dilation_rates:\n",
        "      \n",
        "      # preprocessing - equivalent to time-distributed dense\n",
        "      x = Conv1D(16, 1, padding='same', activation='relu')(x) \n",
        "      \n",
        "      # filter convolution\n",
        "      x_f = Conv1D(filters=n_filters,\n",
        "                  kernel_size=filter_width, \n",
        "                  padding='causal',\n",
        "                  dilation_rate=dilation_rate)(x)\n",
        "      \n",
        "      # gating convolution\n",
        "      x_g = Conv1D(filters=n_filters,\n",
        "                  kernel_size=filter_width, \n",
        "                  padding='causal',\n",
        "                  dilation_rate=dilation_rate)(x)\n",
        "      \n",
        "      # multiply filter and gating branches\n",
        "      z = Multiply()([Activation('tanh')(x_f),\n",
        "                      Activation('sigmoid')(x_g)])\n",
        "      \n",
        "      # postprocessing - equivalent to time-distributed dense\n",
        "      z = Conv1D(16, 1, padding='same', activation='relu')(z)\n",
        "      \n",
        "      # residual connection\n",
        "      x = Add()([x, z])    \n",
        "      \n",
        "      # collect skip connections\n",
        "      skips.append(z)\n",
        "\n",
        "  # add all skip connection outputs \n",
        "  out = Activation('relu')(Add()(skips))\n",
        "\n",
        "  # final time-distributed dense layers \n",
        "  out = Conv1D(100, 1, padding='same')(out)\n",
        "  out = Activation('relu')(out)\n",
        "  out = Dropout(.2)(out)\n",
        "  out = Conv1D(1,1, padding='same')(out)\n",
        "  out = Flatten()(out)\n",
        "  out = Dense(100, activation='relu')(out)\n",
        "  out = Dropout(.3)(out)\n",
        "  out = Dense(10, activation='relu')(out)\n",
        "  out = Dense(1, activation='sigmoid')(out)\n",
        "\n",
        "  model = Model(history_seq, out)\n",
        "  model.compile(tf.keras.optimizers.Adam(lr = 1e-4), loss='binary_crossentropy', metrics =METRICS)\n",
        "  return model"
      ],
      "execution_count": null,
      "outputs": []
    },
    {
      "cell_type": "code",
      "metadata": {
        "id": "Ko14UipbHwoz"
      },
      "source": [
        "weight_for_0 = (1 / 110178)*(116512)/2.0\n",
        "weight_for_1 = (1 / 6334)*(116512)/2.0\n",
        "\n",
        "class_weight = {0: 1, 1: 2}\n",
        "METRICS = [\n",
        "      tf.keras.metrics.TruePositives(name='tp'),\n",
        "      tf.keras.metrics.FalsePositives(name='fp'),\n",
        "      tf.keras.metrics.TrueNegatives(name='tn'),\n",
        "      tf.keras.metrics.FalseNegatives(name='fn'), \n",
        "      tf.keras.metrics.BinaryAccuracy(name='accuracy', threshold =0.5),\n",
        "      tf.keras.metrics.Precision(name='precision'),\n",
        "      tf.keras.metrics.Recall(name='recall'),\n",
        "      tf.keras.metrics.AUC(name='auc')\n",
        "]\n"
      ],
      "execution_count": null,
      "outputs": []
    },
    {
      "cell_type": "code",
      "metadata": {
        "id": "TJsCqUAng_k6",
        "outputId": "25685f88-e1bd-4300-89b8-1cfecdae6e86",
        "colab": {
          "base_uri": "https://localhost:8080/"
        }
      },
      "source": [
        "auc =[]\n",
        "val_auc =[]\n",
        "from sklearn.model_selection import StratifiedShuffleSplit\n",
        "sss = StratifiedShuffleSplit(n_splits=3, test_size=0.25, random_state=47)\n",
        "for train_index, test_index in sss.split(X, y):\n",
        "  X_train, X_test = X[train_index], X[test_index]\n",
        "  y_train, y_test = y[train_index], y[test_index]\n",
        "  model = create_incep(5)\n",
        "  history = model.fit(X_train, y_train,batch_size =64,  epochs =50, validation_data=(X_test, y_test),verbose = 1,validation_batch_size=64,callbacks =[tf.keras.callbacks.EarlyStopping(monitor='val_loss', patience=7)])\n",
        "  if history.history['accuracy'][-7]> 0.95 and history.history['val_accuracy'][-7] >0.95:\n",
        "    print('The model is better than a simple constant model for sure:')\n",
        "    auc.append(history.history['auc'][-7])\n",
        "    val_auc.append(history.history['val_auc'][-7])\n",
        "  else:\n",
        "    print('This prediction is garbage')\n"
      ],
      "execution_count": null,
      "outputs": [
        {
          "output_type": "stream",
          "text": [
            "Epoch 1/50\n",
            "92/92 [==============================] - 2s 21ms/step - loss: 0.5467 - tp: 16.0000 - fp: 209.0000 - tn: 5334.0000 - fn: 306.0000 - accuracy: 0.9122 - precision: 0.0711 - recall: 0.0497 - auc: 0.3143 - val_loss: 0.4217 - val_tp: 0.0000e+00 - val_fp: 0.0000e+00 - val_tn: 1849.0000 - val_fn: 107.0000 - val_accuracy: 0.9453 - val_precision: 0.0000e+00 - val_recall: 0.0000e+00 - val_auc: 0.1114\n",
            "Epoch 2/50\n",
            "92/92 [==============================] - 1s 10ms/step - loss: 0.3547 - tp: 0.0000e+00 - fp: 0.0000e+00 - tn: 5543.0000 - fn: 322.0000 - accuracy: 0.9451 - precision: 0.0000e+00 - recall: 0.0000e+00 - auc: 0.1671 - val_loss: 0.3238 - val_tp: 0.0000e+00 - val_fp: 0.0000e+00 - val_tn: 1849.0000 - val_fn: 107.0000 - val_accuracy: 0.9453 - val_precision: 0.0000e+00 - val_recall: 0.0000e+00 - val_auc: 0.1319\n",
            "Epoch 3/50\n",
            "92/92 [==============================] - 1s 11ms/step - loss: 0.2617 - tp: 0.0000e+00 - fp: 0.0000e+00 - tn: 5543.0000 - fn: 322.0000 - accuracy: 0.9451 - precision: 0.0000e+00 - recall: 0.0000e+00 - auc: 0.3555 - val_loss: 0.2170 - val_tp: 0.0000e+00 - val_fp: 0.0000e+00 - val_tn: 1849.0000 - val_fn: 107.0000 - val_accuracy: 0.9453 - val_precision: 0.0000e+00 - val_recall: 0.0000e+00 - val_auc: 0.5400\n",
            "Epoch 4/50\n",
            "92/92 [==============================] - 1s 11ms/step - loss: 0.1770 - tp: 25.0000 - fp: 16.0000 - tn: 5527.0000 - fn: 297.0000 - accuracy: 0.9466 - precision: 0.6098 - recall: 0.0776 - auc: 0.7773 - val_loss: 0.1336 - val_tp: 31.0000 - val_fp: 6.0000 - val_tn: 1843.0000 - val_fn: 76.0000 - val_accuracy: 0.9581 - val_precision: 0.8378 - val_recall: 0.2897 - val_auc: 0.9125\n",
            "Epoch 5/50\n",
            "92/92 [==============================] - 1s 11ms/step - loss: 0.1387 - tp: 102.0000 - fp: 28.0000 - tn: 5515.0000 - fn: 220.0000 - accuracy: 0.9577 - precision: 0.7846 - recall: 0.3168 - auc: 0.8779 - val_loss: 0.1157 - val_tp: 48.0000 - val_fp: 11.0000 - val_tn: 1838.0000 - val_fn: 59.0000 - val_accuracy: 0.9642 - val_precision: 0.8136 - val_recall: 0.4486 - val_auc: 0.9303\n",
            "Epoch 6/50\n",
            "92/92 [==============================] - 1s 10ms/step - loss: 0.1260 - tp: 125.0000 - fp: 45.0000 - tn: 5498.0000 - fn: 197.0000 - accuracy: 0.9587 - precision: 0.7353 - recall: 0.3882 - auc: 0.9058 - val_loss: 0.1110 - val_tp: 59.0000 - val_fp: 19.0000 - val_tn: 1830.0000 - val_fn: 48.0000 - val_accuracy: 0.9657 - val_precision: 0.7564 - val_recall: 0.5514 - val_auc: 0.9354\n",
            "Epoch 7/50\n",
            "92/92 [==============================] - 1s 11ms/step - loss: 0.1218 - tp: 137.0000 - fp: 43.0000 - tn: 5500.0000 - fn: 185.0000 - accuracy: 0.9611 - precision: 0.7611 - recall: 0.4255 - auc: 0.9052 - val_loss: 0.1074 - val_tp: 63.0000 - val_fp: 21.0000 - val_tn: 1828.0000 - val_fn: 44.0000 - val_accuracy: 0.9668 - val_precision: 0.7500 - val_recall: 0.5888 - val_auc: 0.9395\n",
            "Epoch 8/50\n",
            "92/92 [==============================] - 1s 10ms/step - loss: 0.1157 - tp: 156.0000 - fp: 44.0000 - tn: 5499.0000 - fn: 166.0000 - accuracy: 0.9642 - precision: 0.7800 - recall: 0.4845 - auc: 0.9151 - val_loss: 0.1019 - val_tp: 53.0000 - val_fp: 10.0000 - val_tn: 1839.0000 - val_fn: 54.0000 - val_accuracy: 0.9673 - val_precision: 0.8413 - val_recall: 0.4953 - val_auc: 0.9396\n",
            "Epoch 9/50\n",
            "92/92 [==============================] - 1s 11ms/step - loss: 0.1138 - tp: 153.0000 - fp: 45.0000 - tn: 5498.0000 - fn: 169.0000 - accuracy: 0.9635 - precision: 0.7727 - recall: 0.4752 - auc: 0.9196 - val_loss: 0.0999 - val_tp: 62.0000 - val_fp: 14.0000 - val_tn: 1835.0000 - val_fn: 45.0000 - val_accuracy: 0.9698 - val_precision: 0.8158 - val_recall: 0.5794 - val_auc: 0.9427\n",
            "Epoch 10/50\n",
            "92/92 [==============================] - 1s 11ms/step - loss: 0.1106 - tp: 159.0000 - fp: 46.0000 - tn: 5497.0000 - fn: 163.0000 - accuracy: 0.9644 - precision: 0.7756 - recall: 0.4938 - auc: 0.9221 - val_loss: 0.0989 - val_tp: 55.0000 - val_fp: 6.0000 - val_tn: 1843.0000 - val_fn: 52.0000 - val_accuracy: 0.9703 - val_precision: 0.9016 - val_recall: 0.5140 - val_auc: 0.9428\n",
            "Epoch 11/50\n",
            "92/92 [==============================] - 1s 11ms/step - loss: 0.1090 - tp: 168.0000 - fp: 42.0000 - tn: 5501.0000 - fn: 154.0000 - accuracy: 0.9666 - precision: 0.8000 - recall: 0.5217 - auc: 0.9161 - val_loss: 0.0975 - val_tp: 66.0000 - val_fp: 17.0000 - val_tn: 1832.0000 - val_fn: 41.0000 - val_accuracy: 0.9703 - val_precision: 0.7952 - val_recall: 0.6168 - val_auc: 0.9450\n",
            "Epoch 12/50\n",
            "92/92 [==============================] - 1s 11ms/step - loss: 0.1072 - tp: 166.0000 - fp: 44.0000 - tn: 5499.0000 - fn: 156.0000 - accuracy: 0.9659 - precision: 0.7905 - recall: 0.5155 - auc: 0.9266 - val_loss: 0.0956 - val_tp: 61.0000 - val_fp: 11.0000 - val_tn: 1838.0000 - val_fn: 46.0000 - val_accuracy: 0.9709 - val_precision: 0.8472 - val_recall: 0.5701 - val_auc: 0.9442\n",
            "Epoch 13/50\n",
            "92/92 [==============================] - 1s 11ms/step - loss: 0.1066 - tp: 169.0000 - fp: 50.0000 - tn: 5493.0000 - fn: 153.0000 - accuracy: 0.9654 - precision: 0.7717 - recall: 0.5248 - auc: 0.9248 - val_loss: 0.0961 - val_tp: 59.0000 - val_fp: 8.0000 - val_tn: 1841.0000 - val_fn: 48.0000 - val_accuracy: 0.9714 - val_precision: 0.8806 - val_recall: 0.5514 - val_auc: 0.9446\n",
            "Epoch 14/50\n",
            "92/92 [==============================] - 1s 11ms/step - loss: 0.1068 - tp: 173.0000 - fp: 42.0000 - tn: 5501.0000 - fn: 149.0000 - accuracy: 0.9674 - precision: 0.8047 - recall: 0.5373 - auc: 0.9253 - val_loss: 0.0955 - val_tp: 61.0000 - val_fp: 6.0000 - val_tn: 1843.0000 - val_fn: 46.0000 - val_accuracy: 0.9734 - val_precision: 0.9104 - val_recall: 0.5701 - val_auc: 0.9445\n",
            "Epoch 15/50\n",
            "92/92 [==============================] - 1s 11ms/step - loss: 0.1049 - tp: 180.0000 - fp: 46.0000 - tn: 5497.0000 - fn: 142.0000 - accuracy: 0.9679 - precision: 0.7965 - recall: 0.5590 - auc: 0.9307 - val_loss: 0.0957 - val_tp: 62.0000 - val_fp: 12.0000 - val_tn: 1837.0000 - val_fn: 45.0000 - val_accuracy: 0.9709 - val_precision: 0.8378 - val_recall: 0.5794 - val_auc: 0.9461\n",
            "Epoch 16/50\n",
            "92/92 [==============================] - 1s 11ms/step - loss: 0.1044 - tp: 167.0000 - fp: 47.0000 - tn: 5496.0000 - fn: 155.0000 - accuracy: 0.9656 - precision: 0.7804 - recall: 0.5186 - auc: 0.9338 - val_loss: 0.0948 - val_tp: 66.0000 - val_fp: 18.0000 - val_tn: 1831.0000 - val_fn: 41.0000 - val_accuracy: 0.9698 - val_precision: 0.7857 - val_recall: 0.6168 - val_auc: 0.9442\n",
            "Epoch 17/50\n",
            "92/92 [==============================] - 1s 11ms/step - loss: 0.1015 - tp: 179.0000 - fp: 47.0000 - tn: 5496.0000 - fn: 143.0000 - accuracy: 0.9676 - precision: 0.7920 - recall: 0.5559 - auc: 0.9363 - val_loss: 0.0944 - val_tp: 64.0000 - val_fp: 14.0000 - val_tn: 1835.0000 - val_fn: 43.0000 - val_accuracy: 0.9709 - val_precision: 0.8205 - val_recall: 0.5981 - val_auc: 0.9482\n",
            "Epoch 18/50\n",
            "92/92 [==============================] - 1s 11ms/step - loss: 0.1016 - tp: 179.0000 - fp: 44.0000 - tn: 5499.0000 - fn: 143.0000 - accuracy: 0.9681 - precision: 0.8027 - recall: 0.5559 - auc: 0.9343 - val_loss: 0.0955 - val_tp: 66.0000 - val_fp: 17.0000 - val_tn: 1832.0000 - val_fn: 41.0000 - val_accuracy: 0.9703 - val_precision: 0.7952 - val_recall: 0.6168 - val_auc: 0.9451\n",
            "Epoch 19/50\n",
            "92/92 [==============================] - 1s 11ms/step - loss: 0.1021 - tp: 181.0000 - fp: 43.0000 - tn: 5500.0000 - fn: 141.0000 - accuracy: 0.9686 - precision: 0.8080 - recall: 0.5621 - auc: 0.9320 - val_loss: 0.0944 - val_tp: 65.0000 - val_fp: 16.0000 - val_tn: 1833.0000 - val_fn: 42.0000 - val_accuracy: 0.9703 - val_precision: 0.8025 - val_recall: 0.6075 - val_auc: 0.9450\n",
            "Epoch 20/50\n",
            "92/92 [==============================] - 1s 11ms/step - loss: 0.1003 - tp: 186.0000 - fp: 47.0000 - tn: 5496.0000 - fn: 136.0000 - accuracy: 0.9688 - precision: 0.7983 - recall: 0.5776 - auc: 0.9371 - val_loss: 0.0932 - val_tp: 65.0000 - val_fp: 14.0000 - val_tn: 1835.0000 - val_fn: 42.0000 - val_accuracy: 0.9714 - val_precision: 0.8228 - val_recall: 0.6075 - val_auc: 0.9459\n",
            "Epoch 21/50\n",
            "92/92 [==============================] - 1s 11ms/step - loss: 0.1014 - tp: 182.0000 - fp: 42.0000 - tn: 5501.0000 - fn: 140.0000 - accuracy: 0.9690 - precision: 0.8125 - recall: 0.5652 - auc: 0.9306 - val_loss: 0.0935 - val_tp: 64.0000 - val_fp: 8.0000 - val_tn: 1841.0000 - val_fn: 43.0000 - val_accuracy: 0.9739 - val_precision: 0.8889 - val_recall: 0.5981 - val_auc: 0.9476\n",
            "Epoch 22/50\n",
            "92/92 [==============================] - 1s 11ms/step - loss: 0.0989 - tp: 184.0000 - fp: 42.0000 - tn: 5501.0000 - fn: 138.0000 - accuracy: 0.9693 - precision: 0.8142 - recall: 0.5714 - auc: 0.9361 - val_loss: 0.0929 - val_tp: 67.0000 - val_fp: 16.0000 - val_tn: 1833.0000 - val_fn: 40.0000 - val_accuracy: 0.9714 - val_precision: 0.8072 - val_recall: 0.6262 - val_auc: 0.9471\n",
            "Epoch 23/50\n",
            "92/92 [==============================] - 1s 11ms/step - loss: 0.0999 - tp: 183.0000 - fp: 44.0000 - tn: 5499.0000 - fn: 139.0000 - accuracy: 0.9688 - precision: 0.8062 - recall: 0.5683 - auc: 0.9378 - val_loss: 0.0930 - val_tp: 65.0000 - val_fp: 12.0000 - val_tn: 1837.0000 - val_fn: 42.0000 - val_accuracy: 0.9724 - val_precision: 0.8442 - val_recall: 0.6075 - val_auc: 0.9483\n",
            "Epoch 24/50\n",
            "92/92 [==============================] - 1s 11ms/step - loss: 0.0980 - tp: 185.0000 - fp: 49.0000 - tn: 5494.0000 - fn: 137.0000 - accuracy: 0.9683 - precision: 0.7906 - recall: 0.5745 - auc: 0.9386 - val_loss: 0.0943 - val_tp: 71.0000 - val_fp: 25.0000 - val_tn: 1824.0000 - val_fn: 36.0000 - val_accuracy: 0.9688 - val_precision: 0.7396 - val_recall: 0.6636 - val_auc: 0.9465\n",
            "Epoch 25/50\n",
            "92/92 [==============================] - 1s 11ms/step - loss: 0.0978 - tp: 183.0000 - fp: 42.0000 - tn: 5501.0000 - fn: 139.0000 - accuracy: 0.9691 - precision: 0.8133 - recall: 0.5683 - auc: 0.9428 - val_loss: 0.0925 - val_tp: 63.0000 - val_fp: 12.0000 - val_tn: 1837.0000 - val_fn: 44.0000 - val_accuracy: 0.9714 - val_precision: 0.8400 - val_recall: 0.5888 - val_auc: 0.9480\n",
            "Epoch 26/50\n",
            "92/92 [==============================] - 1s 11ms/step - loss: 0.0980 - tp: 188.0000 - fp: 48.0000 - tn: 5495.0000 - fn: 134.0000 - accuracy: 0.9690 - precision: 0.7966 - recall: 0.5839 - auc: 0.9343 - val_loss: 0.0933 - val_tp: 64.0000 - val_fp: 12.0000 - val_tn: 1837.0000 - val_fn: 43.0000 - val_accuracy: 0.9719 - val_precision: 0.8421 - val_recall: 0.5981 - val_auc: 0.9483\n",
            "Epoch 27/50\n",
            "92/92 [==============================] - 1s 11ms/step - loss: 0.0961 - tp: 179.0000 - fp: 43.0000 - tn: 5500.0000 - fn: 143.0000 - accuracy: 0.9683 - precision: 0.8063 - recall: 0.5559 - auc: 0.9416 - val_loss: 0.0935 - val_tp: 68.0000 - val_fp: 19.0000 - val_tn: 1830.0000 - val_fn: 39.0000 - val_accuracy: 0.9703 - val_precision: 0.7816 - val_recall: 0.6355 - val_auc: 0.9479\n",
            "Epoch 28/50\n",
            "92/92 [==============================] - 1s 11ms/step - loss: 0.0976 - tp: 182.0000 - fp: 50.0000 - tn: 5493.0000 - fn: 140.0000 - accuracy: 0.9676 - precision: 0.7845 - recall: 0.5652 - auc: 0.9405 - val_loss: 0.0959 - val_tp: 72.0000 - val_fp: 30.0000 - val_tn: 1819.0000 - val_fn: 35.0000 - val_accuracy: 0.9668 - val_precision: 0.7059 - val_recall: 0.6729 - val_auc: 0.9527\n",
            "Epoch 29/50\n",
            "92/92 [==============================] - 1s 11ms/step - loss: 0.0966 - tp: 187.0000 - fp: 42.0000 - tn: 5501.0000 - fn: 135.0000 - accuracy: 0.9698 - precision: 0.8166 - recall: 0.5807 - auc: 0.9395 - val_loss: 0.0924 - val_tp: 68.0000 - val_fp: 18.0000 - val_tn: 1831.0000 - val_fn: 39.0000 - val_accuracy: 0.9709 - val_precision: 0.7907 - val_recall: 0.6355 - val_auc: 0.9483\n",
            "Epoch 30/50\n",
            "92/92 [==============================] - 1s 11ms/step - loss: 0.0952 - tp: 190.0000 - fp: 43.0000 - tn: 5500.0000 - fn: 132.0000 - accuracy: 0.9702 - precision: 0.8155 - recall: 0.5901 - auc: 0.9445 - val_loss: 0.0921 - val_tp: 68.0000 - val_fp: 17.0000 - val_tn: 1832.0000 - val_fn: 39.0000 - val_accuracy: 0.9714 - val_precision: 0.8000 - val_recall: 0.6355 - val_auc: 0.9491\n",
            "Epoch 31/50\n",
            "92/92 [==============================] - 1s 11ms/step - loss: 0.0949 - tp: 188.0000 - fp: 39.0000 - tn: 5504.0000 - fn: 134.0000 - accuracy: 0.9705 - precision: 0.8282 - recall: 0.5839 - auc: 0.9437 - val_loss: 0.0915 - val_tp: 64.0000 - val_fp: 14.0000 - val_tn: 1835.0000 - val_fn: 43.0000 - val_accuracy: 0.9709 - val_precision: 0.8205 - val_recall: 0.5981 - val_auc: 0.9481\n",
            "Epoch 32/50\n",
            "92/92 [==============================] - 1s 11ms/step - loss: 0.0939 - tp: 188.0000 - fp: 43.0000 - tn: 5500.0000 - fn: 134.0000 - accuracy: 0.9698 - precision: 0.8139 - recall: 0.5839 - auc: 0.9470 - val_loss: 0.0931 - val_tp: 69.0000 - val_fp: 20.0000 - val_tn: 1829.0000 - val_fn: 38.0000 - val_accuracy: 0.9703 - val_precision: 0.7753 - val_recall: 0.6449 - val_auc: 0.9507\n",
            "Epoch 33/50\n",
            "92/92 [==============================] - 1s 11ms/step - loss: 0.0949 - tp: 196.0000 - fp: 44.0000 - tn: 5499.0000 - fn: 126.0000 - accuracy: 0.9710 - precision: 0.8167 - recall: 0.6087 - auc: 0.9467 - val_loss: 0.0925 - val_tp: 71.0000 - val_fp: 21.0000 - val_tn: 1828.0000 - val_fn: 36.0000 - val_accuracy: 0.9709 - val_precision: 0.7717 - val_recall: 0.6636 - val_auc: 0.9531\n",
            "Epoch 34/50\n",
            "92/92 [==============================] - 1s 11ms/step - loss: 0.0924 - tp: 188.0000 - fp: 39.0000 - tn: 5504.0000 - fn: 134.0000 - accuracy: 0.9705 - precision: 0.8282 - recall: 0.5839 - auc: 0.9492 - val_loss: 0.0921 - val_tp: 69.0000 - val_fp: 17.0000 - val_tn: 1832.0000 - val_fn: 38.0000 - val_accuracy: 0.9719 - val_precision: 0.8023 - val_recall: 0.6449 - val_auc: 0.9513\n",
            "Epoch 35/50\n",
            "92/92 [==============================] - 1s 11ms/step - loss: 0.0925 - tp: 193.0000 - fp: 35.0000 - tn: 5508.0000 - fn: 129.0000 - accuracy: 0.9720 - precision: 0.8465 - recall: 0.5994 - auc: 0.9464 - val_loss: 0.0940 - val_tp: 71.0000 - val_fp: 28.0000 - val_tn: 1821.0000 - val_fn: 36.0000 - val_accuracy: 0.9673 - val_precision: 0.7172 - val_recall: 0.6636 - val_auc: 0.9547\n",
            "Epoch 36/50\n",
            "92/92 [==============================] - 1s 11ms/step - loss: 0.0909 - tp: 197.0000 - fp: 46.0000 - tn: 5497.0000 - fn: 125.0000 - accuracy: 0.9708 - precision: 0.8107 - recall: 0.6118 - auc: 0.9512 - val_loss: 0.0947 - val_tp: 71.0000 - val_fp: 30.0000 - val_tn: 1819.0000 - val_fn: 36.0000 - val_accuracy: 0.9663 - val_precision: 0.7030 - val_recall: 0.6636 - val_auc: 0.9504\n",
            "Epoch 37/50\n",
            "92/92 [==============================] - 1s 11ms/step - loss: 0.0908 - tp: 190.0000 - fp: 47.0000 - tn: 5496.0000 - fn: 132.0000 - accuracy: 0.9695 - precision: 0.8017 - recall: 0.5901 - auc: 0.9519 - val_loss: 0.0927 - val_tp: 72.0000 - val_fp: 25.0000 - val_tn: 1824.0000 - val_fn: 35.0000 - val_accuracy: 0.9693 - val_precision: 0.7423 - val_recall: 0.6729 - val_auc: 0.9549\n",
            "Epoch 38/50\n",
            "92/92 [==============================] - 1s 11ms/step - loss: 0.0890 - tp: 196.0000 - fp: 44.0000 - tn: 5499.0000 - fn: 126.0000 - accuracy: 0.9710 - precision: 0.8167 - recall: 0.6087 - auc: 0.9565 - val_loss: 0.0912 - val_tp: 64.0000 - val_fp: 13.0000 - val_tn: 1836.0000 - val_fn: 43.0000 - val_accuracy: 0.9714 - val_precision: 0.8312 - val_recall: 0.5981 - val_auc: 0.9531\n",
            "Epoch 39/50\n",
            "92/92 [==============================] - 1s 11ms/step - loss: 0.0886 - tp: 200.0000 - fp: 47.0000 - tn: 5496.0000 - fn: 122.0000 - accuracy: 0.9712 - precision: 0.8097 - recall: 0.6211 - auc: 0.9529 - val_loss: 0.0953 - val_tp: 72.0000 - val_fp: 33.0000 - val_tn: 1816.0000 - val_fn: 35.0000 - val_accuracy: 0.9652 - val_precision: 0.6857 - val_recall: 0.6729 - val_auc: 0.9548\n",
            "Epoch 40/50\n",
            "92/92 [==============================] - 1s 11ms/step - loss: 0.0908 - tp: 202.0000 - fp: 40.0000 - tn: 5503.0000 - fn: 120.0000 - accuracy: 0.9727 - precision: 0.8347 - recall: 0.6273 - auc: 0.9540 - val_loss: 0.0933 - val_tp: 64.0000 - val_fp: 12.0000 - val_tn: 1837.0000 - val_fn: 43.0000 - val_accuracy: 0.9719 - val_precision: 0.8421 - val_recall: 0.5981 - val_auc: 0.9520\n",
            "Epoch 41/50\n",
            "92/92 [==============================] - 1s 11ms/step - loss: 0.0904 - tp: 193.0000 - fp: 39.0000 - tn: 5504.0000 - fn: 129.0000 - accuracy: 0.9714 - precision: 0.8319 - recall: 0.5994 - auc: 0.9463 - val_loss: 0.0914 - val_tp: 69.0000 - val_fp: 16.0000 - val_tn: 1833.0000 - val_fn: 38.0000 - val_accuracy: 0.9724 - val_precision: 0.8118 - val_recall: 0.6449 - val_auc: 0.9528\n",
            "Epoch 42/50\n",
            "92/92 [==============================] - 1s 11ms/step - loss: 0.0891 - tp: 195.0000 - fp: 38.0000 - tn: 5505.0000 - fn: 127.0000 - accuracy: 0.9719 - precision: 0.8369 - recall: 0.6056 - auc: 0.9534 - val_loss: 0.0901 - val_tp: 65.0000 - val_fp: 14.0000 - val_tn: 1835.0000 - val_fn: 42.0000 - val_accuracy: 0.9714 - val_precision: 0.8228 - val_recall: 0.6075 - val_auc: 0.9517\n",
            "Epoch 43/50\n",
            "92/92 [==============================] - 1s 11ms/step - loss: 0.0882 - tp: 200.0000 - fp: 47.0000 - tn: 5496.0000 - fn: 122.0000 - accuracy: 0.9712 - precision: 0.8097 - recall: 0.6211 - auc: 0.9550 - val_loss: 0.0920 - val_tp: 71.0000 - val_fp: 29.0000 - val_tn: 1820.0000 - val_fn: 36.0000 - val_accuracy: 0.9668 - val_precision: 0.7100 - val_recall: 0.6636 - val_auc: 0.9570\n",
            "Epoch 44/50\n",
            "92/92 [==============================] - 1s 11ms/step - loss: 0.0887 - tp: 202.0000 - fp: 39.0000 - tn: 5504.0000 - fn: 120.0000 - accuracy: 0.9729 - precision: 0.8382 - recall: 0.6273 - auc: 0.9532 - val_loss: 0.0904 - val_tp: 68.0000 - val_fp: 14.0000 - val_tn: 1835.0000 - val_fn: 39.0000 - val_accuracy: 0.9729 - val_precision: 0.8293 - val_recall: 0.6355 - val_auc: 0.9525\n",
            "Epoch 45/50\n",
            "92/92 [==============================] - 1s 11ms/step - loss: 0.0878 - tp: 204.0000 - fp: 37.0000 - tn: 5506.0000 - fn: 118.0000 - accuracy: 0.9736 - precision: 0.8465 - recall: 0.6335 - auc: 0.9536 - val_loss: 0.0934 - val_tp: 71.0000 - val_fp: 28.0000 - val_tn: 1821.0000 - val_fn: 36.0000 - val_accuracy: 0.9673 - val_precision: 0.7172 - val_recall: 0.6636 - val_auc: 0.9526\n",
            "Epoch 46/50\n",
            "92/92 [==============================] - 1s 11ms/step - loss: 0.0885 - tp: 204.0000 - fp: 47.0000 - tn: 5496.0000 - fn: 118.0000 - accuracy: 0.9719 - precision: 0.8127 - recall: 0.6335 - auc: 0.9534 - val_loss: 0.0914 - val_tp: 68.0000 - val_fp: 16.0000 - val_tn: 1833.0000 - val_fn: 39.0000 - val_accuracy: 0.9719 - val_precision: 0.8095 - val_recall: 0.6355 - val_auc: 0.9525\n",
            "Epoch 47/50\n",
            "92/92 [==============================] - 1s 11ms/step - loss: 0.0854 - tp: 199.0000 - fp: 35.0000 - tn: 5508.0000 - fn: 123.0000 - accuracy: 0.9731 - precision: 0.8504 - recall: 0.6180 - auc: 0.9547 - val_loss: 0.0928 - val_tp: 72.0000 - val_fp: 29.0000 - val_tn: 1820.0000 - val_fn: 35.0000 - val_accuracy: 0.9673 - val_precision: 0.7129 - val_recall: 0.6729 - val_auc: 0.9581\n",
            "Epoch 48/50\n",
            "92/92 [==============================] - 1s 11ms/step - loss: 0.0860 - tp: 205.0000 - fp: 43.0000 - tn: 5500.0000 - fn: 117.0000 - accuracy: 0.9727 - precision: 0.8266 - recall: 0.6366 - auc: 0.9562 - val_loss: 0.0914 - val_tp: 66.0000 - val_fp: 11.0000 - val_tn: 1838.0000 - val_fn: 41.0000 - val_accuracy: 0.9734 - val_precision: 0.8571 - val_recall: 0.6168 - val_auc: 0.9538\n",
            "Epoch 49/50\n",
            "92/92 [==============================] - 1s 11ms/step - loss: 0.0865 - tp: 208.0000 - fp: 41.0000 - tn: 5502.0000 - fn: 114.0000 - accuracy: 0.9736 - precision: 0.8353 - recall: 0.6460 - auc: 0.9561 - val_loss: 0.0942 - val_tp: 72.0000 - val_fp: 32.0000 - val_tn: 1817.0000 - val_fn: 35.0000 - val_accuracy: 0.9657 - val_precision: 0.6923 - val_recall: 0.6729 - val_auc: 0.9569\n",
            "The model is better than a simple constant model for sure:\n",
            "Epoch 1/50\n",
            "92/92 [==============================] - 2s 19ms/step - loss: 0.5153 - tp: 79.0000 - fp: 113.0000 - tn: 7279.0000 - fn: 350.0000 - accuracy: 0.9408 - precision: 0.4115 - recall: 0.1841 - auc: 0.5415 - val_loss: 0.3972 - val_tp: 0.0000e+00 - val_fp: 0.0000e+00 - val_tn: 1849.0000 - val_fn: 107.0000 - val_accuracy: 0.9453 - val_precision: 0.0000e+00 - val_recall: 0.0000e+00 - val_auc: 0.0884\n",
            "Epoch 2/50\n",
            "92/92 [==============================] - 1s 11ms/step - loss: 0.3621 - tp: 0.0000e+00 - fp: 0.0000e+00 - tn: 5543.0000 - fn: 322.0000 - accuracy: 0.9451 - precision: 0.0000e+00 - recall: 0.0000e+00 - auc: 0.1237 - val_loss: 0.3185 - val_tp: 0.0000e+00 - val_fp: 0.0000e+00 - val_tn: 1849.0000 - val_fn: 107.0000 - val_accuracy: 0.9453 - val_precision: 0.0000e+00 - val_recall: 0.0000e+00 - val_auc: 0.1329\n",
            "Epoch 3/50\n",
            "92/92 [==============================] - 1s 11ms/step - loss: 0.2690 - tp: 1.0000 - fp: 0.0000e+00 - tn: 5543.0000 - fn: 321.0000 - accuracy: 0.9453 - precision: 1.0000 - recall: 0.0031 - auc: 0.3212 - val_loss: 0.2221 - val_tp: 0.0000e+00 - val_fp: 0.0000e+00 - val_tn: 1849.0000 - val_fn: 107.0000 - val_accuracy: 0.9453 - val_precision: 0.0000e+00 - val_recall: 0.0000e+00 - val_auc: 0.4322\n",
            "Epoch 4/50\n",
            "92/92 [==============================] - 1s 11ms/step - loss: 0.1769 - tp: 43.0000 - fp: 20.0000 - tn: 5523.0000 - fn: 279.0000 - accuracy: 0.9490 - precision: 0.6825 - recall: 0.1335 - auc: 0.7694 - val_loss: 0.1413 - val_tp: 20.0000 - val_fp: 5.0000 - val_tn: 1844.0000 - val_fn: 87.0000 - val_accuracy: 0.9530 - val_precision: 0.8000 - val_recall: 0.1869 - val_auc: 0.8944\n",
            "Epoch 5/50\n",
            "92/92 [==============================] - 1s 11ms/step - loss: 0.1324 - tp: 107.0000 - fp: 42.0000 - tn: 5501.0000 - fn: 215.0000 - accuracy: 0.9562 - precision: 0.7181 - recall: 0.3323 - auc: 0.8986 - val_loss: 0.1156 - val_tp: 51.0000 - val_fp: 9.0000 - val_tn: 1840.0000 - val_fn: 56.0000 - val_accuracy: 0.9668 - val_precision: 0.8500 - val_recall: 0.4766 - val_auc: 0.9219\n",
            "Epoch 6/50\n",
            "92/92 [==============================] - 1s 11ms/step - loss: 0.1217 - tp: 145.0000 - fp: 56.0000 - tn: 5487.0000 - fn: 177.0000 - accuracy: 0.9603 - precision: 0.7214 - recall: 0.4503 - auc: 0.8976 - val_loss: 0.1097 - val_tp: 50.0000 - val_fp: 6.0000 - val_tn: 1843.0000 - val_fn: 57.0000 - val_accuracy: 0.9678 - val_precision: 0.8929 - val_recall: 0.4673 - val_auc: 0.9322\n",
            "Epoch 7/50\n",
            "92/92 [==============================] - 1s 11ms/step - loss: 0.1140 - tp: 154.0000 - fp: 51.0000 - tn: 5492.0000 - fn: 168.0000 - accuracy: 0.9627 - precision: 0.7512 - recall: 0.4783 - auc: 0.9166 - val_loss: 0.1062 - val_tp: 57.0000 - val_fp: 9.0000 - val_tn: 1840.0000 - val_fn: 50.0000 - val_accuracy: 0.9698 - val_precision: 0.8636 - val_recall: 0.5327 - val_auc: 0.9219\n",
            "Epoch 8/50\n",
            "92/92 [==============================] - 1s 11ms/step - loss: 0.1130 - tp: 166.0000 - fp: 59.0000 - tn: 5484.0000 - fn: 156.0000 - accuracy: 0.9633 - precision: 0.7378 - recall: 0.5155 - auc: 0.9155 - val_loss: 0.1049 - val_tp: 59.0000 - val_fp: 15.0000 - val_tn: 1834.0000 - val_fn: 48.0000 - val_accuracy: 0.9678 - val_precision: 0.7973 - val_recall: 0.5514 - val_auc: 0.9284\n",
            "Epoch 9/50\n",
            "92/92 [==============================] - 1s 11ms/step - loss: 0.1106 - tp: 178.0000 - fp: 58.0000 - tn: 5485.0000 - fn: 144.0000 - accuracy: 0.9656 - precision: 0.7542 - recall: 0.5528 - auc: 0.9164 - val_loss: 0.1202 - val_tp: 34.0000 - val_fp: 4.0000 - val_tn: 1845.0000 - val_fn: 73.0000 - val_accuracy: 0.9606 - val_precision: 0.8947 - val_recall: 0.3178 - val_auc: 0.9258\n",
            "Epoch 10/50\n",
            "92/92 [==============================] - 1s 11ms/step - loss: 0.1115 - tp: 169.0000 - fp: 52.0000 - tn: 5491.0000 - fn: 153.0000 - accuracy: 0.9650 - precision: 0.7647 - recall: 0.5248 - auc: 0.9192 - val_loss: 0.1047 - val_tp: 57.0000 - val_fp: 8.0000 - val_tn: 1841.0000 - val_fn: 50.0000 - val_accuracy: 0.9703 - val_precision: 0.8769 - val_recall: 0.5327 - val_auc: 0.9231\n",
            "Epoch 11/50\n",
            "92/92 [==============================] - 1s 11ms/step - loss: 0.1117 - tp: 168.0000 - fp: 53.0000 - tn: 5490.0000 - fn: 154.0000 - accuracy: 0.9647 - precision: 0.7602 - recall: 0.5217 - auc: 0.9177 - val_loss: 0.1034 - val_tp: 59.0000 - val_fp: 13.0000 - val_tn: 1836.0000 - val_fn: 48.0000 - val_accuracy: 0.9688 - val_precision: 0.8194 - val_recall: 0.5514 - val_auc: 0.9258\n",
            "Epoch 12/50\n",
            "92/92 [==============================] - 1s 11ms/step - loss: 0.1103 - tp: 173.0000 - fp: 66.0000 - tn: 5477.0000 - fn: 149.0000 - accuracy: 0.9633 - precision: 0.7238 - recall: 0.5373 - auc: 0.9126 - val_loss: 0.1082 - val_tp: 50.0000 - val_fp: 7.0000 - val_tn: 1842.0000 - val_fn: 57.0000 - val_accuracy: 0.9673 - val_precision: 0.8772 - val_recall: 0.4673 - val_auc: 0.9316\n",
            "Epoch 13/50\n",
            "92/92 [==============================] - 1s 11ms/step - loss: 0.1096 - tp: 176.0000 - fp: 55.0000 - tn: 5488.0000 - fn: 146.0000 - accuracy: 0.9657 - precision: 0.7619 - recall: 0.5466 - auc: 0.9139 - val_loss: 0.1048 - val_tp: 56.0000 - val_fp: 8.0000 - val_tn: 1841.0000 - val_fn: 51.0000 - val_accuracy: 0.9698 - val_precision: 0.8750 - val_recall: 0.5234 - val_auc: 0.9256\n",
            "Epoch 14/50\n",
            "92/92 [==============================] - 1s 11ms/step - loss: 0.1061 - tp: 186.0000 - fp: 52.0000 - tn: 5491.0000 - fn: 136.0000 - accuracy: 0.9679 - precision: 0.7815 - recall: 0.5776 - auc: 0.9277 - val_loss: 0.1025 - val_tp: 60.0000 - val_fp: 17.0000 - val_tn: 1832.0000 - val_fn: 47.0000 - val_accuracy: 0.9673 - val_precision: 0.7792 - val_recall: 0.5607 - val_auc: 0.9364\n",
            "Epoch 15/50\n",
            "92/92 [==============================] - 1s 11ms/step - loss: 0.1053 - tp: 180.0000 - fp: 54.0000 - tn: 5489.0000 - fn: 142.0000 - accuracy: 0.9666 - precision: 0.7692 - recall: 0.5590 - auc: 0.9256 - val_loss: 0.1021 - val_tp: 60.0000 - val_fp: 13.0000 - val_tn: 1836.0000 - val_fn: 47.0000 - val_accuracy: 0.9693 - val_precision: 0.8219 - val_recall: 0.5607 - val_auc: 0.9346\n",
            "Epoch 16/50\n",
            "92/92 [==============================] - 1s 11ms/step - loss: 0.1055 - tp: 181.0000 - fp: 58.0000 - tn: 5485.0000 - fn: 141.0000 - accuracy: 0.9661 - precision: 0.7573 - recall: 0.5621 - auc: 0.9262 - val_loss: 0.1036 - val_tp: 55.0000 - val_fp: 10.0000 - val_tn: 1839.0000 - val_fn: 52.0000 - val_accuracy: 0.9683 - val_precision: 0.8462 - val_recall: 0.5140 - val_auc: 0.9329\n",
            "Epoch 17/50\n",
            "92/92 [==============================] - 1s 11ms/step - loss: 0.1059 - tp: 182.0000 - fp: 59.0000 - tn: 5484.0000 - fn: 140.0000 - accuracy: 0.9661 - precision: 0.7552 - recall: 0.5652 - auc: 0.9290 - val_loss: 0.1025 - val_tp: 59.0000 - val_fp: 13.0000 - val_tn: 1836.0000 - val_fn: 48.0000 - val_accuracy: 0.9688 - val_precision: 0.8194 - val_recall: 0.5514 - val_auc: 0.9307\n",
            "Epoch 18/50\n",
            "92/92 [==============================] - 1s 11ms/step - loss: 0.1035 - tp: 184.0000 - fp: 54.0000 - tn: 5489.0000 - fn: 138.0000 - accuracy: 0.9673 - precision: 0.7731 - recall: 0.5714 - auc: 0.9287 - val_loss: 0.1047 - val_tp: 55.0000 - val_fp: 8.0000 - val_tn: 1841.0000 - val_fn: 52.0000 - val_accuracy: 0.9693 - val_precision: 0.8730 - val_recall: 0.5140 - val_auc: 0.9312\n",
            "Epoch 19/50\n",
            "92/92 [==============================] - 1s 11ms/step - loss: 0.1048 - tp: 184.0000 - fp: 58.0000 - tn: 5485.0000 - fn: 138.0000 - accuracy: 0.9666 - precision: 0.7603 - recall: 0.5714 - auc: 0.9273 - val_loss: 0.1019 - val_tp: 57.0000 - val_fp: 12.0000 - val_tn: 1837.0000 - val_fn: 50.0000 - val_accuracy: 0.9683 - val_precision: 0.8261 - val_recall: 0.5327 - val_auc: 0.9318\n",
            "Epoch 20/50\n",
            "92/92 [==============================] - 1s 11ms/step - loss: 0.1041 - tp: 189.0000 - fp: 61.0000 - tn: 5482.0000 - fn: 133.0000 - accuracy: 0.9669 - precision: 0.7560 - recall: 0.5870 - auc: 0.9282 - val_loss: 0.1013 - val_tp: 58.0000 - val_fp: 15.0000 - val_tn: 1834.0000 - val_fn: 49.0000 - val_accuracy: 0.9673 - val_precision: 0.7945 - val_recall: 0.5421 - val_auc: 0.9340\n",
            "Epoch 21/50\n",
            "92/92 [==============================] - 1s 11ms/step - loss: 0.1033 - tp: 181.0000 - fp: 54.0000 - tn: 5489.0000 - fn: 141.0000 - accuracy: 0.9668 - precision: 0.7702 - recall: 0.5621 - auc: 0.9288 - val_loss: 0.1013 - val_tp: 64.0000 - val_fp: 18.0000 - val_tn: 1831.0000 - val_fn: 43.0000 - val_accuracy: 0.9688 - val_precision: 0.7805 - val_recall: 0.5981 - val_auc: 0.9404\n",
            "Epoch 22/50\n",
            "92/92 [==============================] - 1s 11ms/step - loss: 0.1055 - tp: 183.0000 - fp: 59.0000 - tn: 5484.0000 - fn: 139.0000 - accuracy: 0.9662 - precision: 0.7562 - recall: 0.5683 - auc: 0.9274 - val_loss: 0.1017 - val_tp: 66.0000 - val_fp: 19.0000 - val_tn: 1830.0000 - val_fn: 41.0000 - val_accuracy: 0.9693 - val_precision: 0.7765 - val_recall: 0.6168 - val_auc: 0.9382\n",
            "Epoch 23/50\n",
            "92/92 [==============================] - 1s 11ms/step - loss: 0.1038 - tp: 184.0000 - fp: 53.0000 - tn: 5490.0000 - fn: 138.0000 - accuracy: 0.9674 - precision: 0.7764 - recall: 0.5714 - auc: 0.9274 - val_loss: 0.1029 - val_tp: 56.0000 - val_fp: 10.0000 - val_tn: 1839.0000 - val_fn: 51.0000 - val_accuracy: 0.9688 - val_precision: 0.8485 - val_recall: 0.5234 - val_auc: 0.9321\n",
            "Epoch 24/50\n",
            "92/92 [==============================] - 1s 11ms/step - loss: 0.1001 - tp: 184.0000 - fp: 47.0000 - tn: 5496.0000 - fn: 138.0000 - accuracy: 0.9685 - precision: 0.7965 - recall: 0.5714 - auc: 0.9307 - val_loss: 0.1006 - val_tp: 60.0000 - val_fp: 14.0000 - val_tn: 1835.0000 - val_fn: 47.0000 - val_accuracy: 0.9688 - val_precision: 0.8108 - val_recall: 0.5607 - val_auc: 0.9381\n",
            "Epoch 25/50\n",
            "92/92 [==============================] - 1s 11ms/step - loss: 0.1008 - tp: 191.0000 - fp: 53.0000 - tn: 5490.0000 - fn: 131.0000 - accuracy: 0.9686 - precision: 0.7828 - recall: 0.5932 - auc: 0.9313 - val_loss: 0.0999 - val_tp: 62.0000 - val_fp: 15.0000 - val_tn: 1834.0000 - val_fn: 45.0000 - val_accuracy: 0.9693 - val_precision: 0.8052 - val_recall: 0.5794 - val_auc: 0.9426\n",
            "Epoch 26/50\n",
            "92/92 [==============================] - 1s 11ms/step - loss: 0.1031 - tp: 183.0000 - fp: 59.0000 - tn: 5484.0000 - fn: 139.0000 - accuracy: 0.9662 - precision: 0.7562 - recall: 0.5683 - auc: 0.9296 - val_loss: 0.1052 - val_tp: 53.0000 - val_fp: 8.0000 - val_tn: 1841.0000 - val_fn: 54.0000 - val_accuracy: 0.9683 - val_precision: 0.8689 - val_recall: 0.4953 - val_auc: 0.9348\n",
            "Epoch 27/50\n",
            "92/92 [==============================] - 1s 11ms/step - loss: 0.1014 - tp: 184.0000 - fp: 56.0000 - tn: 5487.0000 - fn: 138.0000 - accuracy: 0.9669 - precision: 0.7667 - recall: 0.5714 - auc: 0.9346 - val_loss: 0.1011 - val_tp: 58.0000 - val_fp: 11.0000 - val_tn: 1838.0000 - val_fn: 49.0000 - val_accuracy: 0.9693 - val_precision: 0.8406 - val_recall: 0.5421 - val_auc: 0.9354\n",
            "Epoch 28/50\n",
            "92/92 [==============================] - 1s 11ms/step - loss: 0.0987 - tp: 192.0000 - fp: 46.0000 - tn: 5497.0000 - fn: 130.0000 - accuracy: 0.9700 - precision: 0.8067 - recall: 0.5963 - auc: 0.9374 - val_loss: 0.0997 - val_tp: 60.0000 - val_fp: 16.0000 - val_tn: 1833.0000 - val_fn: 47.0000 - val_accuracy: 0.9678 - val_precision: 0.7895 - val_recall: 0.5607 - val_auc: 0.9393\n",
            "Epoch 29/50\n",
            "92/92 [==============================] - 1s 12ms/step - loss: 0.1000 - tp: 188.0000 - fp: 49.0000 - tn: 5494.0000 - fn: 134.0000 - accuracy: 0.9688 - precision: 0.7932 - recall: 0.5839 - auc: 0.9334 - val_loss: 0.0994 - val_tp: 63.0000 - val_fp: 17.0000 - val_tn: 1832.0000 - val_fn: 44.0000 - val_accuracy: 0.9688 - val_precision: 0.7875 - val_recall: 0.5888 - val_auc: 0.9384\n",
            "Epoch 30/50\n",
            "92/92 [==============================] - 1s 11ms/step - loss: 0.0972 - tp: 194.0000 - fp: 51.0000 - tn: 5492.0000 - fn: 128.0000 - accuracy: 0.9695 - precision: 0.7918 - recall: 0.6025 - auc: 0.9409 - val_loss: 0.1100 - val_tp: 45.0000 - val_fp: 6.0000 - val_tn: 1843.0000 - val_fn: 62.0000 - val_accuracy: 0.9652 - val_precision: 0.8824 - val_recall: 0.4206 - val_auc: 0.9416\n",
            "Epoch 31/50\n",
            "92/92 [==============================] - 1s 12ms/step - loss: 0.0993 - tp: 187.0000 - fp: 55.0000 - tn: 5488.0000 - fn: 135.0000 - accuracy: 0.9676 - precision: 0.7727 - recall: 0.5807 - auc: 0.9383 - val_loss: 0.0998 - val_tp: 57.0000 - val_fp: 12.0000 - val_tn: 1837.0000 - val_fn: 50.0000 - val_accuracy: 0.9683 - val_precision: 0.8261 - val_recall: 0.5327 - val_auc: 0.9388\n",
            "Epoch 32/50\n",
            "92/92 [==============================] - 1s 12ms/step - loss: 0.0982 - tp: 183.0000 - fp: 57.0000 - tn: 5486.0000 - fn: 139.0000 - accuracy: 0.9666 - precision: 0.7625 - recall: 0.5683 - auc: 0.9354 - val_loss: 0.1009 - val_tp: 70.0000 - val_fp: 21.0000 - val_tn: 1828.0000 - val_fn: 37.0000 - val_accuracy: 0.9703 - val_precision: 0.7692 - val_recall: 0.6542 - val_auc: 0.9431\n",
            "Epoch 33/50\n",
            "92/92 [==============================] - 1s 12ms/step - loss: 0.0961 - tp: 195.0000 - fp: 55.0000 - tn: 5488.0000 - fn: 127.0000 - accuracy: 0.9690 - precision: 0.7800 - recall: 0.6056 - auc: 0.9425 - val_loss: 0.0996 - val_tp: 58.0000 - val_fp: 14.0000 - val_tn: 1835.0000 - val_fn: 49.0000 - val_accuracy: 0.9678 - val_precision: 0.8056 - val_recall: 0.5421 - val_auc: 0.9386\n",
            "Epoch 34/50\n",
            "92/92 [==============================] - 1s 12ms/step - loss: 0.0966 - tp: 193.0000 - fp: 51.0000 - tn: 5492.0000 - fn: 129.0000 - accuracy: 0.9693 - precision: 0.7910 - recall: 0.5994 - auc: 0.9382 - val_loss: 0.0992 - val_tp: 57.0000 - val_fp: 12.0000 - val_tn: 1837.0000 - val_fn: 50.0000 - val_accuracy: 0.9683 - val_precision: 0.8261 - val_recall: 0.5327 - val_auc: 0.9416\n",
            "Epoch 35/50\n",
            "92/92 [==============================] - 1s 12ms/step - loss: 0.0974 - tp: 190.0000 - fp: 50.0000 - tn: 5493.0000 - fn: 132.0000 - accuracy: 0.9690 - precision: 0.7917 - recall: 0.5901 - auc: 0.9368 - val_loss: 0.1000 - val_tp: 57.0000 - val_fp: 12.0000 - val_tn: 1837.0000 - val_fn: 50.0000 - val_accuracy: 0.9683 - val_precision: 0.8261 - val_recall: 0.5327 - val_auc: 0.9400\n",
            "Epoch 36/50\n",
            "92/92 [==============================] - 1s 11ms/step - loss: 0.0971 - tp: 192.0000 - fp: 53.0000 - tn: 5490.0000 - fn: 130.0000 - accuracy: 0.9688 - precision: 0.7837 - recall: 0.5963 - auc: 0.9368 - val_loss: 0.0987 - val_tp: 60.0000 - val_fp: 13.0000 - val_tn: 1836.0000 - val_fn: 47.0000 - val_accuracy: 0.9693 - val_precision: 0.8219 - val_recall: 0.5607 - val_auc: 0.9406\n",
            "Epoch 37/50\n",
            "92/92 [==============================] - 1s 12ms/step - loss: 0.0975 - tp: 193.0000 - fp: 52.0000 - tn: 5491.0000 - fn: 129.0000 - accuracy: 0.9691 - precision: 0.7878 - recall: 0.5994 - auc: 0.9413 - val_loss: 0.0985 - val_tp: 57.0000 - val_fp: 14.0000 - val_tn: 1835.0000 - val_fn: 50.0000 - val_accuracy: 0.9673 - val_precision: 0.8028 - val_recall: 0.5327 - val_auc: 0.9440\n",
            "Epoch 38/50\n",
            "92/92 [==============================] - 1s 12ms/step - loss: 0.0952 - tp: 197.0000 - fp: 48.0000 - tn: 5495.0000 - fn: 125.0000 - accuracy: 0.9705 - precision: 0.8041 - recall: 0.6118 - auc: 0.9369 - val_loss: 0.0995 - val_tp: 55.0000 - val_fp: 12.0000 - val_tn: 1837.0000 - val_fn: 52.0000 - val_accuracy: 0.9673 - val_precision: 0.8209 - val_recall: 0.5140 - val_auc: 0.9424\n",
            "Epoch 39/50\n",
            "92/92 [==============================] - 1s 13ms/step - loss: 0.0938 - tp: 194.0000 - fp: 55.0000 - tn: 5488.0000 - fn: 128.0000 - accuracy: 0.9688 - precision: 0.7791 - recall: 0.6025 - auc: 0.9473 - val_loss: 0.0980 - val_tp: 57.0000 - val_fp: 12.0000 - val_tn: 1837.0000 - val_fn: 50.0000 - val_accuracy: 0.9683 - val_precision: 0.8261 - val_recall: 0.5327 - val_auc: 0.9432\n",
            "Epoch 40/50\n",
            "92/92 [==============================] - 1s 11ms/step - loss: 0.0953 - tp: 194.0000 - fp: 49.0000 - tn: 5494.0000 - fn: 128.0000 - accuracy: 0.9698 - precision: 0.7984 - recall: 0.6025 - auc: 0.9406 - val_loss: 0.0972 - val_tp: 61.0000 - val_fp: 15.0000 - val_tn: 1834.0000 - val_fn: 46.0000 - val_accuracy: 0.9688 - val_precision: 0.8026 - val_recall: 0.5701 - val_auc: 0.9438\n",
            "Epoch 41/50\n",
            "92/92 [==============================] - 1s 11ms/step - loss: 0.0938 - tp: 200.0000 - fp: 53.0000 - tn: 5490.0000 - fn: 122.0000 - accuracy: 0.9702 - precision: 0.7905 - recall: 0.6211 - auc: 0.9448 - val_loss: 0.0990 - val_tp: 56.0000 - val_fp: 12.0000 - val_tn: 1837.0000 - val_fn: 51.0000 - val_accuracy: 0.9678 - val_precision: 0.8235 - val_recall: 0.5234 - val_auc: 0.9430\n",
            "Epoch 42/50\n",
            "92/92 [==============================] - 1s 11ms/step - loss: 0.0940 - tp: 192.0000 - fp: 47.0000 - tn: 5496.0000 - fn: 130.0000 - accuracy: 0.9698 - precision: 0.8033 - recall: 0.5963 - auc: 0.9429 - val_loss: 0.0971 - val_tp: 65.0000 - val_fp: 19.0000 - val_tn: 1830.0000 - val_fn: 42.0000 - val_accuracy: 0.9688 - val_precision: 0.7738 - val_recall: 0.6075 - val_auc: 0.9438\n",
            "Epoch 43/50\n",
            "92/92 [==============================] - 1s 11ms/step - loss: 0.0926 - tp: 198.0000 - fp: 44.0000 - tn: 5499.0000 - fn: 124.0000 - accuracy: 0.9714 - precision: 0.8182 - recall: 0.6149 - auc: 0.9434 - val_loss: 0.0990 - val_tp: 56.0000 - val_fp: 11.0000 - val_tn: 1838.0000 - val_fn: 51.0000 - val_accuracy: 0.9683 - val_precision: 0.8358 - val_recall: 0.5234 - val_auc: 0.9467\n",
            "Epoch 44/50\n",
            "92/92 [==============================] - 1s 11ms/step - loss: 0.0914 - tp: 204.0000 - fp: 53.0000 - tn: 5490.0000 - fn: 118.0000 - accuracy: 0.9708 - precision: 0.7938 - recall: 0.6335 - auc: 0.9488 - val_loss: 0.0962 - val_tp: 61.0000 - val_fp: 16.0000 - val_tn: 1833.0000 - val_fn: 46.0000 - val_accuracy: 0.9683 - val_precision: 0.7922 - val_recall: 0.5701 - val_auc: 0.9453\n",
            "Epoch 45/50\n",
            "92/92 [==============================] - 1s 11ms/step - loss: 0.0929 - tp: 200.0000 - fp: 53.0000 - tn: 5490.0000 - fn: 122.0000 - accuracy: 0.9702 - precision: 0.7905 - recall: 0.6211 - auc: 0.9507 - val_loss: 0.0966 - val_tp: 61.0000 - val_fp: 14.0000 - val_tn: 1835.0000 - val_fn: 46.0000 - val_accuracy: 0.9693 - val_precision: 0.8133 - val_recall: 0.5701 - val_auc: 0.9464\n",
            "Epoch 46/50\n",
            "92/92 [==============================] - 1s 11ms/step - loss: 0.0926 - tp: 201.0000 - fp: 51.0000 - tn: 5492.0000 - fn: 121.0000 - accuracy: 0.9707 - precision: 0.7976 - recall: 0.6242 - auc: 0.9467 - val_loss: 0.0970 - val_tp: 58.0000 - val_fp: 11.0000 - val_tn: 1838.0000 - val_fn: 49.0000 - val_accuracy: 0.9693 - val_precision: 0.8406 - val_recall: 0.5421 - val_auc: 0.9480\n",
            "Epoch 47/50\n",
            "92/92 [==============================] - 1s 12ms/step - loss: 0.0927 - tp: 194.0000 - fp: 48.0000 - tn: 5495.0000 - fn: 128.0000 - accuracy: 0.9700 - precision: 0.8017 - recall: 0.6025 - auc: 0.9454 - val_loss: 0.0973 - val_tp: 60.0000 - val_fp: 10.0000 - val_tn: 1839.0000 - val_fn: 47.0000 - val_accuracy: 0.9709 - val_precision: 0.8571 - val_recall: 0.5607 - val_auc: 0.9437\n",
            "Epoch 48/50\n",
            "92/92 [==============================] - 1s 12ms/step - loss: 0.0900 - tp: 198.0000 - fp: 44.0000 - tn: 5499.0000 - fn: 124.0000 - accuracy: 0.9714 - precision: 0.8182 - recall: 0.6149 - auc: 0.9494 - val_loss: 0.0967 - val_tp: 58.0000 - val_fp: 11.0000 - val_tn: 1838.0000 - val_fn: 49.0000 - val_accuracy: 0.9693 - val_precision: 0.8406 - val_recall: 0.5421 - val_auc: 0.9464\n",
            "Epoch 49/50\n",
            "92/92 [==============================] - 1s 11ms/step - loss: 0.0913 - tp: 198.0000 - fp: 48.0000 - tn: 5495.0000 - fn: 124.0000 - accuracy: 0.9707 - precision: 0.8049 - recall: 0.6149 - auc: 0.9461 - val_loss: 0.0955 - val_tp: 65.0000 - val_fp: 19.0000 - val_tn: 1830.0000 - val_fn: 42.0000 - val_accuracy: 0.9688 - val_precision: 0.7738 - val_recall: 0.6075 - val_auc: 0.9452\n",
            "Epoch 50/50\n",
            "92/92 [==============================] - 1s 12ms/step - loss: 0.0891 - tp: 199.0000 - fp: 52.0000 - tn: 5491.0000 - fn: 123.0000 - accuracy: 0.9702 - precision: 0.7928 - recall: 0.6180 - auc: 0.9477 - val_loss: 0.1007 - val_tp: 52.0000 - val_fp: 8.0000 - val_tn: 1841.0000 - val_fn: 55.0000 - val_accuracy: 0.9678 - val_precision: 0.8667 - val_recall: 0.4860 - val_auc: 0.9471\n",
            "The model is better than a simple constant model for sure:\n",
            "Epoch 1/50\n",
            "92/92 [==============================] - 2s 20ms/step - loss: 0.5652 - tp: 58.0000 - fp: 86.0000 - tn: 7306.0000 - fn: 371.0000 - accuracy: 0.9416 - precision: 0.4028 - recall: 0.1352 - auc: 0.5112 - val_loss: 0.4096 - val_tp: 0.0000e+00 - val_fp: 0.0000e+00 - val_tn: 1849.0000 - val_fn: 107.0000 - val_accuracy: 0.9453 - val_precision: 0.0000e+00 - val_recall: 0.0000e+00 - val_auc: 0.0876\n",
            "Epoch 2/50\n",
            "92/92 [==============================] - 1s 12ms/step - loss: 0.3567 - tp: 0.0000e+00 - fp: 0.0000e+00 - tn: 5543.0000 - fn: 322.0000 - accuracy: 0.9451 - precision: 0.0000e+00 - recall: 0.0000e+00 - auc: 0.1182 - val_loss: 0.3135 - val_tp: 0.0000e+00 - val_fp: 0.0000e+00 - val_tn: 1849.0000 - val_fn: 107.0000 - val_accuracy: 0.9453 - val_precision: 0.0000e+00 - val_recall: 0.0000e+00 - val_auc: 0.0916\n",
            "Epoch 3/50\n",
            "92/92 [==============================] - 1s 12ms/step - loss: 0.2660 - tp: 0.0000e+00 - fp: 0.0000e+00 - tn: 5543.0000 - fn: 322.0000 - accuracy: 0.9451 - precision: 0.0000e+00 - recall: 0.0000e+00 - auc: 0.2459 - val_loss: 0.2025 - val_tp: 0.0000e+00 - val_fp: 0.0000e+00 - val_tn: 1849.0000 - val_fn: 107.0000 - val_accuracy: 0.9453 - val_precision: 0.0000e+00 - val_recall: 0.0000e+00 - val_auc: 0.7254\n",
            "Epoch 4/50\n",
            "92/92 [==============================] - 1s 12ms/step - loss: 0.1653 - tp: 11.0000 - fp: 3.0000 - tn: 5540.0000 - fn: 311.0000 - accuracy: 0.9465 - precision: 0.7857 - recall: 0.0342 - auc: 0.8610 - val_loss: 0.1316 - val_tp: 23.0000 - val_fp: 1.0000 - val_tn: 1848.0000 - val_fn: 84.0000 - val_accuracy: 0.9565 - val_precision: 0.9583 - val_recall: 0.2150 - val_auc: 0.9130\n",
            "Epoch 5/50\n",
            "92/92 [==============================] - 1s 12ms/step - loss: 0.1247 - tp: 93.0000 - fp: 32.0000 - tn: 5511.0000 - fn: 229.0000 - accuracy: 0.9555 - precision: 0.7440 - recall: 0.2888 - auc: 0.9178 - val_loss: 0.1190 - val_tp: 49.0000 - val_fp: 18.0000 - val_tn: 1831.0000 - val_fn: 58.0000 - val_accuracy: 0.9611 - val_precision: 0.7313 - val_recall: 0.4579 - val_auc: 0.9203\n",
            "Epoch 6/50\n",
            "92/92 [==============================] - 1s 11ms/step - loss: 0.1147 - tp: 139.0000 - fp: 50.0000 - tn: 5493.0000 - fn: 183.0000 - accuracy: 0.9603 - precision: 0.7354 - recall: 0.4317 - auc: 0.9283 - val_loss: 0.1143 - val_tp: 57.0000 - val_fp: 17.0000 - val_tn: 1832.0000 - val_fn: 50.0000 - val_accuracy: 0.9657 - val_precision: 0.7703 - val_recall: 0.5327 - val_auc: 0.9187\n",
            "Epoch 7/50\n",
            "92/92 [==============================] - 1s 12ms/step - loss: 0.1117 - tp: 158.0000 - fp: 53.0000 - tn: 5490.0000 - fn: 164.0000 - accuracy: 0.9630 - precision: 0.7488 - recall: 0.4907 - auc: 0.9278 - val_loss: 0.1131 - val_tp: 58.0000 - val_fp: 18.0000 - val_tn: 1831.0000 - val_fn: 49.0000 - val_accuracy: 0.9657 - val_precision: 0.7632 - val_recall: 0.5421 - val_auc: 0.9192\n",
            "Epoch 8/50\n",
            "92/92 [==============================] - 1s 12ms/step - loss: 0.1108 - tp: 157.0000 - fp: 52.0000 - tn: 5491.0000 - fn: 165.0000 - accuracy: 0.9630 - precision: 0.7512 - recall: 0.4876 - auc: 0.9307 - val_loss: 0.1124 - val_tp: 54.0000 - val_fp: 18.0000 - val_tn: 1831.0000 - val_fn: 53.0000 - val_accuracy: 0.9637 - val_precision: 0.7500 - val_recall: 0.5047 - val_auc: 0.9185\n",
            "Epoch 9/50\n",
            "92/92 [==============================] - 1s 11ms/step - loss: 0.1104 - tp: 171.0000 - fp: 57.0000 - tn: 5486.0000 - fn: 151.0000 - accuracy: 0.9645 - precision: 0.7500 - recall: 0.5311 - auc: 0.9274 - val_loss: 0.1109 - val_tp: 57.0000 - val_fp: 17.0000 - val_tn: 1832.0000 - val_fn: 50.0000 - val_accuracy: 0.9657 - val_precision: 0.7703 - val_recall: 0.5327 - val_auc: 0.9221\n",
            "Epoch 10/50\n",
            "92/92 [==============================] - 1s 11ms/step - loss: 0.1070 - tp: 167.0000 - fp: 56.0000 - tn: 5487.0000 - fn: 155.0000 - accuracy: 0.9640 - precision: 0.7489 - recall: 0.5186 - auc: 0.9354 - val_loss: 0.1112 - val_tp: 58.0000 - val_fp: 19.0000 - val_tn: 1830.0000 - val_fn: 49.0000 - val_accuracy: 0.9652 - val_precision: 0.7532 - val_recall: 0.5421 - val_auc: 0.9198\n",
            "Epoch 11/50\n",
            "92/92 [==============================] - 1s 12ms/step - loss: 0.1076 - tp: 181.0000 - fp: 62.0000 - tn: 5481.0000 - fn: 141.0000 - accuracy: 0.9654 - precision: 0.7449 - recall: 0.5621 - auc: 0.9289 - val_loss: 0.1097 - val_tp: 57.0000 - val_fp: 17.0000 - val_tn: 1832.0000 - val_fn: 50.0000 - val_accuracy: 0.9657 - val_precision: 0.7703 - val_recall: 0.5327 - val_auc: 0.9246\n",
            "Epoch 12/50\n",
            "92/92 [==============================] - 1s 11ms/step - loss: 0.1050 - tp: 177.0000 - fp: 55.0000 - tn: 5488.0000 - fn: 145.0000 - accuracy: 0.9659 - precision: 0.7629 - recall: 0.5497 - auc: 0.9405 - val_loss: 0.1091 - val_tp: 55.0000 - val_fp: 15.0000 - val_tn: 1834.0000 - val_fn: 52.0000 - val_accuracy: 0.9657 - val_precision: 0.7857 - val_recall: 0.5140 - val_auc: 0.9247\n",
            "Epoch 13/50\n",
            "92/92 [==============================] - 1s 12ms/step - loss: 0.1068 - tp: 168.0000 - fp: 52.0000 - tn: 5491.0000 - fn: 154.0000 - accuracy: 0.9649 - precision: 0.7636 - recall: 0.5217 - auc: 0.9339 - val_loss: 0.1084 - val_tp: 57.0000 - val_fp: 17.0000 - val_tn: 1832.0000 - val_fn: 50.0000 - val_accuracy: 0.9657 - val_precision: 0.7703 - val_recall: 0.5327 - val_auc: 0.9262\n",
            "Epoch 14/50\n",
            "92/92 [==============================] - 1s 12ms/step - loss: 0.1041 - tp: 172.0000 - fp: 48.0000 - tn: 5495.0000 - fn: 150.0000 - accuracy: 0.9662 - precision: 0.7818 - recall: 0.5342 - auc: 0.9392 - val_loss: 0.1084 - val_tp: 61.0000 - val_fp: 22.0000 - val_tn: 1827.0000 - val_fn: 46.0000 - val_accuracy: 0.9652 - val_precision: 0.7349 - val_recall: 0.5701 - val_auc: 0.9258\n",
            "Epoch 15/50\n",
            "92/92 [==============================] - 1s 12ms/step - loss: 0.1059 - tp: 174.0000 - fp: 56.0000 - tn: 5487.0000 - fn: 148.0000 - accuracy: 0.9652 - precision: 0.7565 - recall: 0.5404 - auc: 0.9394 - val_loss: 0.1076 - val_tp: 57.0000 - val_fp: 15.0000 - val_tn: 1834.0000 - val_fn: 50.0000 - val_accuracy: 0.9668 - val_precision: 0.7917 - val_recall: 0.5327 - val_auc: 0.9265\n",
            "Epoch 16/50\n",
            "92/92 [==============================] - 1s 12ms/step - loss: 0.1019 - tp: 185.0000 - fp: 57.0000 - tn: 5486.0000 - fn: 137.0000 - accuracy: 0.9669 - precision: 0.7645 - recall: 0.5745 - auc: 0.9367 - val_loss: 0.1072 - val_tp: 60.0000 - val_fp: 19.0000 - val_tn: 1830.0000 - val_fn: 47.0000 - val_accuracy: 0.9663 - val_precision: 0.7595 - val_recall: 0.5607 - val_auc: 0.9259\n",
            "Epoch 17/50\n",
            "92/92 [==============================] - 1s 12ms/step - loss: 0.1004 - tp: 187.0000 - fp: 60.0000 - tn: 5483.0000 - fn: 135.0000 - accuracy: 0.9668 - precision: 0.7571 - recall: 0.5807 - auc: 0.9429 - val_loss: 0.1068 - val_tp: 57.0000 - val_fp: 17.0000 - val_tn: 1832.0000 - val_fn: 50.0000 - val_accuracy: 0.9657 - val_precision: 0.7703 - val_recall: 0.5327 - val_auc: 0.9286\n",
            "Epoch 18/50\n",
            "92/92 [==============================] - 1s 12ms/step - loss: 0.1019 - tp: 180.0000 - fp: 50.0000 - tn: 5493.0000 - fn: 142.0000 - accuracy: 0.9673 - precision: 0.7826 - recall: 0.5590 - auc: 0.9387 - val_loss: 0.1058 - val_tp: 61.0000 - val_fp: 18.0000 - val_tn: 1831.0000 - val_fn: 46.0000 - val_accuracy: 0.9673 - val_precision: 0.7722 - val_recall: 0.5701 - val_auc: 0.9282\n",
            "Epoch 19/50\n",
            "92/92 [==============================] - 1s 12ms/step - loss: 0.1016 - tp: 179.0000 - fp: 57.0000 - tn: 5486.0000 - fn: 143.0000 - accuracy: 0.9659 - precision: 0.7585 - recall: 0.5559 - auc: 0.9406 - val_loss: 0.1085 - val_tp: 68.0000 - val_fp: 27.0000 - val_tn: 1822.0000 - val_fn: 39.0000 - val_accuracy: 0.9663 - val_precision: 0.7158 - val_recall: 0.6355 - val_auc: 0.9309\n",
            "Epoch 20/50\n",
            "92/92 [==============================] - 1s 12ms/step - loss: 0.0998 - tp: 187.0000 - fp: 53.0000 - tn: 5490.0000 - fn: 135.0000 - accuracy: 0.9679 - precision: 0.7792 - recall: 0.5807 - auc: 0.9446 - val_loss: 0.1045 - val_tp: 59.0000 - val_fp: 16.0000 - val_tn: 1833.0000 - val_fn: 48.0000 - val_accuracy: 0.9673 - val_precision: 0.7867 - val_recall: 0.5514 - val_auc: 0.9300\n",
            "Epoch 21/50\n",
            "92/92 [==============================] - 1s 12ms/step - loss: 0.1014 - tp: 186.0000 - fp: 52.0000 - tn: 5491.0000 - fn: 136.0000 - accuracy: 0.9679 - precision: 0.7815 - recall: 0.5776 - auc: 0.9408 - val_loss: 0.1045 - val_tp: 58.0000 - val_fp: 17.0000 - val_tn: 1832.0000 - val_fn: 49.0000 - val_accuracy: 0.9663 - val_precision: 0.7733 - val_recall: 0.5421 - val_auc: 0.9290\n",
            "Epoch 22/50\n",
            "92/92 [==============================] - 1s 12ms/step - loss: 0.1007 - tp: 181.0000 - fp: 57.0000 - tn: 5486.0000 - fn: 141.0000 - accuracy: 0.9662 - precision: 0.7605 - recall: 0.5621 - auc: 0.9398 - val_loss: 0.1036 - val_tp: 59.0000 - val_fp: 16.0000 - val_tn: 1833.0000 - val_fn: 48.0000 - val_accuracy: 0.9673 - val_precision: 0.7867 - val_recall: 0.5514 - val_auc: 0.9319\n",
            "Epoch 23/50\n",
            "92/92 [==============================] - 1s 12ms/step - loss: 0.0988 - tp: 181.0000 - fp: 61.0000 - tn: 5482.0000 - fn: 141.0000 - accuracy: 0.9656 - precision: 0.7479 - recall: 0.5621 - auc: 0.9435 - val_loss: 0.1048 - val_tp: 57.0000 - val_fp: 15.0000 - val_tn: 1834.0000 - val_fn: 50.0000 - val_accuracy: 0.9668 - val_precision: 0.7917 - val_recall: 0.5327 - val_auc: 0.9336\n",
            "Epoch 24/50\n",
            "92/92 [==============================] - 1s 12ms/step - loss: 0.0995 - tp: 187.0000 - fp: 56.0000 - tn: 5487.0000 - fn: 135.0000 - accuracy: 0.9674 - precision: 0.7695 - recall: 0.5807 - auc: 0.9404 - val_loss: 0.1083 - val_tp: 71.0000 - val_fp: 27.0000 - val_tn: 1822.0000 - val_fn: 36.0000 - val_accuracy: 0.9678 - val_precision: 0.7245 - val_recall: 0.6636 - val_auc: 0.9342\n",
            "Epoch 25/50\n",
            "92/92 [==============================] - 1s 12ms/step - loss: 0.0984 - tp: 189.0000 - fp: 59.0000 - tn: 5484.0000 - fn: 133.0000 - accuracy: 0.9673 - precision: 0.7621 - recall: 0.5870 - auc: 0.9441 - val_loss: 0.1052 - val_tp: 54.0000 - val_fp: 12.0000 - val_tn: 1837.0000 - val_fn: 53.0000 - val_accuracy: 0.9668 - val_precision: 0.8182 - val_recall: 0.5047 - val_auc: 0.9304\n",
            "Epoch 26/50\n",
            "92/92 [==============================] - 1s 12ms/step - loss: 0.0941 - tp: 189.0000 - fp: 54.0000 - tn: 5489.0000 - fn: 133.0000 - accuracy: 0.9681 - precision: 0.7778 - recall: 0.5870 - auc: 0.9528 - val_loss: 0.1029 - val_tp: 63.0000 - val_fp: 22.0000 - val_tn: 1827.0000 - val_fn: 44.0000 - val_accuracy: 0.9663 - val_precision: 0.7412 - val_recall: 0.5888 - val_auc: 0.9311\n",
            "Epoch 27/50\n",
            "92/92 [==============================] - 1s 12ms/step - loss: 0.0965 - tp: 191.0000 - fp: 50.0000 - tn: 5493.0000 - fn: 131.0000 - accuracy: 0.9691 - precision: 0.7925 - recall: 0.5932 - auc: 0.9467 - val_loss: 0.1038 - val_tp: 60.0000 - val_fp: 21.0000 - val_tn: 1828.0000 - val_fn: 47.0000 - val_accuracy: 0.9652 - val_precision: 0.7407 - val_recall: 0.5607 - val_auc: 0.9324\n",
            "Epoch 28/50\n",
            "92/92 [==============================] - 1s 12ms/step - loss: 0.0967 - tp: 189.0000 - fp: 55.0000 - tn: 5488.0000 - fn: 133.0000 - accuracy: 0.9679 - precision: 0.7746 - recall: 0.5870 - auc: 0.9463 - val_loss: 0.1106 - val_tp: 45.0000 - val_fp: 8.0000 - val_tn: 1841.0000 - val_fn: 62.0000 - val_accuracy: 0.9642 - val_precision: 0.8491 - val_recall: 0.4206 - val_auc: 0.9214\n",
            "Epoch 29/50\n",
            "92/92 [==============================] - 1s 12ms/step - loss: 0.0984 - tp: 186.0000 - fp: 63.0000 - tn: 5480.0000 - fn: 136.0000 - accuracy: 0.9661 - precision: 0.7470 - recall: 0.5776 - auc: 0.9448 - val_loss: 0.1018 - val_tp: 60.0000 - val_fp: 17.0000 - val_tn: 1832.0000 - val_fn: 47.0000 - val_accuracy: 0.9673 - val_precision: 0.7792 - val_recall: 0.5607 - val_auc: 0.9361\n",
            "Epoch 30/50\n",
            "92/92 [==============================] - 1s 12ms/step - loss: 0.0957 - tp: 187.0000 - fp: 54.0000 - tn: 5489.0000 - fn: 135.0000 - accuracy: 0.9678 - precision: 0.7759 - recall: 0.5807 - auc: 0.9476 - val_loss: 0.1018 - val_tp: 60.0000 - val_fp: 19.0000 - val_tn: 1830.0000 - val_fn: 47.0000 - val_accuracy: 0.9663 - val_precision: 0.7595 - val_recall: 0.5607 - val_auc: 0.9328\n",
            "Epoch 31/50\n",
            "92/92 [==============================] - 1s 12ms/step - loss: 0.0973 - tp: 183.0000 - fp: 53.0000 - tn: 5490.0000 - fn: 139.0000 - accuracy: 0.9673 - precision: 0.7754 - recall: 0.5683 - auc: 0.9472 - val_loss: 0.1019 - val_tp: 65.0000 - val_fp: 23.0000 - val_tn: 1826.0000 - val_fn: 42.0000 - val_accuracy: 0.9668 - val_precision: 0.7386 - val_recall: 0.6075 - val_auc: 0.9342\n",
            "Epoch 32/50\n",
            "92/92 [==============================] - 1s 12ms/step - loss: 0.0951 - tp: 188.0000 - fp: 53.0000 - tn: 5490.0000 - fn: 134.0000 - accuracy: 0.9681 - precision: 0.7801 - recall: 0.5839 - auc: 0.9458 - val_loss: 0.1015 - val_tp: 64.0000 - val_fp: 22.0000 - val_tn: 1827.0000 - val_fn: 43.0000 - val_accuracy: 0.9668 - val_precision: 0.7442 - val_recall: 0.5981 - val_auc: 0.9360\n",
            "Epoch 33/50\n",
            "92/92 [==============================] - 1s 12ms/step - loss: 0.0944 - tp: 190.0000 - fp: 51.0000 - tn: 5492.0000 - fn: 132.0000 - accuracy: 0.9688 - precision: 0.7884 - recall: 0.5901 - auc: 0.9492 - val_loss: 0.1035 - val_tp: 70.0000 - val_fp: 26.0000 - val_tn: 1823.0000 - val_fn: 37.0000 - val_accuracy: 0.9678 - val_precision: 0.7292 - val_recall: 0.6542 - val_auc: 0.9332\n",
            "Epoch 34/50\n",
            "92/92 [==============================] - 1s 12ms/step - loss: 0.0940 - tp: 187.0000 - fp: 58.0000 - tn: 5485.0000 - fn: 135.0000 - accuracy: 0.9671 - precision: 0.7633 - recall: 0.5807 - auc: 0.9464 - val_loss: 0.1007 - val_tp: 64.0000 - val_fp: 22.0000 - val_tn: 1827.0000 - val_fn: 43.0000 - val_accuracy: 0.9668 - val_precision: 0.7442 - val_recall: 0.5981 - val_auc: 0.9351\n",
            "Epoch 35/50\n",
            "92/92 [==============================] - 1s 12ms/step - loss: 0.0937 - tp: 191.0000 - fp: 56.0000 - tn: 5487.0000 - fn: 131.0000 - accuracy: 0.9681 - precision: 0.7733 - recall: 0.5932 - auc: 0.9508 - val_loss: 0.1024 - val_tp: 69.0000 - val_fp: 26.0000 - val_tn: 1823.0000 - val_fn: 38.0000 - val_accuracy: 0.9673 - val_precision: 0.7263 - val_recall: 0.6449 - val_auc: 0.9346\n",
            "Epoch 36/50\n",
            "92/92 [==============================] - 1s 12ms/step - loss: 0.0915 - tp: 193.0000 - fp: 48.0000 - tn: 5495.0000 - fn: 129.0000 - accuracy: 0.9698 - precision: 0.8008 - recall: 0.5994 - auc: 0.9560 - val_loss: 0.1050 - val_tp: 73.0000 - val_fp: 28.0000 - val_tn: 1821.0000 - val_fn: 34.0000 - val_accuracy: 0.9683 - val_precision: 0.7228 - val_recall: 0.6822 - val_auc: 0.9372\n",
            "Epoch 37/50\n",
            "92/92 [==============================] - 1s 12ms/step - loss: 0.0927 - tp: 196.0000 - fp: 55.0000 - tn: 5488.0000 - fn: 126.0000 - accuracy: 0.9691 - precision: 0.7809 - recall: 0.6087 - auc: 0.9494 - val_loss: 0.1051 - val_tp: 73.0000 - val_fp: 30.0000 - val_tn: 1819.0000 - val_fn: 34.0000 - val_accuracy: 0.9673 - val_precision: 0.7087 - val_recall: 0.6822 - val_auc: 0.9384\n",
            "Epoch 38/50\n",
            "92/92 [==============================] - 1s 11ms/step - loss: 0.0913 - tp: 193.0000 - fp: 54.0000 - tn: 5489.0000 - fn: 129.0000 - accuracy: 0.9688 - precision: 0.7814 - recall: 0.5994 - auc: 0.9539 - val_loss: 0.0996 - val_tp: 63.0000 - val_fp: 20.0000 - val_tn: 1829.0000 - val_fn: 44.0000 - val_accuracy: 0.9673 - val_precision: 0.7590 - val_recall: 0.5888 - val_auc: 0.9391\n",
            "Epoch 39/50\n",
            "92/92 [==============================] - 1s 12ms/step - loss: 0.0896 - tp: 194.0000 - fp: 56.0000 - tn: 5487.0000 - fn: 128.0000 - accuracy: 0.9686 - precision: 0.7760 - recall: 0.6025 - auc: 0.9564 - val_loss: 0.0995 - val_tp: 62.0000 - val_fp: 14.0000 - val_tn: 1835.0000 - val_fn: 45.0000 - val_accuracy: 0.9698 - val_precision: 0.8158 - val_recall: 0.5794 - val_auc: 0.9384\n",
            "Epoch 40/50\n",
            "92/92 [==============================] - 1s 12ms/step - loss: 0.0903 - tp: 195.0000 - fp: 49.0000 - tn: 5494.0000 - fn: 127.0000 - accuracy: 0.9700 - precision: 0.7992 - recall: 0.6056 - auc: 0.9534 - val_loss: 0.0995 - val_tp: 69.0000 - val_fp: 24.0000 - val_tn: 1825.0000 - val_fn: 38.0000 - val_accuracy: 0.9683 - val_precision: 0.7419 - val_recall: 0.6449 - val_auc: 0.9386\n",
            "Epoch 41/50\n",
            "92/92 [==============================] - 1s 12ms/step - loss: 0.0900 - tp: 205.0000 - fp: 51.0000 - tn: 5492.0000 - fn: 117.0000 - accuracy: 0.9714 - precision: 0.8008 - recall: 0.6366 - auc: 0.9530 - val_loss: 0.1001 - val_tp: 58.0000 - val_fp: 13.0000 - val_tn: 1836.0000 - val_fn: 49.0000 - val_accuracy: 0.9683 - val_precision: 0.8169 - val_recall: 0.5421 - val_auc: 0.9359\n",
            "Epoch 42/50\n",
            "92/92 [==============================] - 1s 12ms/step - loss: 0.0901 - tp: 199.0000 - fp: 49.0000 - tn: 5494.0000 - fn: 123.0000 - accuracy: 0.9707 - precision: 0.8024 - recall: 0.6180 - auc: 0.9510 - val_loss: 0.0987 - val_tp: 69.0000 - val_fp: 24.0000 - val_tn: 1825.0000 - val_fn: 38.0000 - val_accuracy: 0.9683 - val_precision: 0.7419 - val_recall: 0.6449 - val_auc: 0.9379\n",
            "Epoch 43/50\n",
            "92/92 [==============================] - 1s 12ms/step - loss: 0.0899 - tp: 201.0000 - fp: 46.0000 - tn: 5497.0000 - fn: 121.0000 - accuracy: 0.9715 - precision: 0.8138 - recall: 0.6242 - auc: 0.9550 - val_loss: 0.0988 - val_tp: 69.0000 - val_fp: 25.0000 - val_tn: 1824.0000 - val_fn: 38.0000 - val_accuracy: 0.9678 - val_precision: 0.7340 - val_recall: 0.6449 - val_auc: 0.9387\n",
            "Epoch 44/50\n",
            "92/92 [==============================] - 1s 12ms/step - loss: 0.0901 - tp: 197.0000 - fp: 53.0000 - tn: 5490.0000 - fn: 125.0000 - accuracy: 0.9697 - precision: 0.7880 - recall: 0.6118 - auc: 0.9550 - val_loss: 0.0978 - val_tp: 63.0000 - val_fp: 18.0000 - val_tn: 1831.0000 - val_fn: 44.0000 - val_accuracy: 0.9683 - val_precision: 0.7778 - val_recall: 0.5888 - val_auc: 0.9422\n",
            "Epoch 45/50\n",
            "92/92 [==============================] - 1s 12ms/step - loss: 0.0886 - tp: 198.0000 - fp: 44.0000 - tn: 5499.0000 - fn: 124.0000 - accuracy: 0.9714 - precision: 0.8182 - recall: 0.6149 - auc: 0.9555 - val_loss: 0.0979 - val_tp: 68.0000 - val_fp: 25.0000 - val_tn: 1824.0000 - val_fn: 39.0000 - val_accuracy: 0.9673 - val_precision: 0.7312 - val_recall: 0.6355 - val_auc: 0.9420\n",
            "Epoch 46/50\n",
            "92/92 [==============================] - 1s 12ms/step - loss: 0.0892 - tp: 197.0000 - fp: 44.0000 - tn: 5499.0000 - fn: 125.0000 - accuracy: 0.9712 - precision: 0.8174 - recall: 0.6118 - auc: 0.9545 - val_loss: 0.1016 - val_tp: 68.0000 - val_fp: 27.0000 - val_tn: 1822.0000 - val_fn: 39.0000 - val_accuracy: 0.9663 - val_precision: 0.7158 - val_recall: 0.6355 - val_auc: 0.9371\n",
            "Epoch 47/50\n",
            "92/92 [==============================] - 1s 12ms/step - loss: 0.0875 - tp: 209.0000 - fp: 52.0000 - tn: 5491.0000 - fn: 113.0000 - accuracy: 0.9719 - precision: 0.8008 - recall: 0.6491 - auc: 0.9582 - val_loss: 0.0973 - val_tp: 66.0000 - val_fp: 20.0000 - val_tn: 1829.0000 - val_fn: 41.0000 - val_accuracy: 0.9688 - val_precision: 0.7674 - val_recall: 0.6168 - val_auc: 0.9439\n",
            "Epoch 48/50\n",
            "92/92 [==============================] - 1s 12ms/step - loss: 0.0878 - tp: 201.0000 - fp: 52.0000 - tn: 5491.0000 - fn: 121.0000 - accuracy: 0.9705 - precision: 0.7945 - recall: 0.6242 - auc: 0.9551 - val_loss: 0.0967 - val_tp: 67.0000 - val_fp: 23.0000 - val_tn: 1826.0000 - val_fn: 40.0000 - val_accuracy: 0.9678 - val_precision: 0.7444 - val_recall: 0.6262 - val_auc: 0.9435\n",
            "Epoch 49/50\n",
            "92/92 [==============================] - 1s 12ms/step - loss: 0.0863 - tp: 206.0000 - fp: 51.0000 - tn: 5492.0000 - fn: 116.0000 - accuracy: 0.9715 - precision: 0.8016 - recall: 0.6398 - auc: 0.9567 - val_loss: 0.0964 - val_tp: 66.0000 - val_fp: 18.0000 - val_tn: 1831.0000 - val_fn: 41.0000 - val_accuracy: 0.9698 - val_precision: 0.7857 - val_recall: 0.6168 - val_auc: 0.9443\n",
            "Epoch 50/50\n",
            "92/92 [==============================] - 1s 12ms/step - loss: 0.0871 - tp: 200.0000 - fp: 46.0000 - tn: 5497.0000 - fn: 122.0000 - accuracy: 0.9714 - precision: 0.8130 - recall: 0.6211 - auc: 0.9562 - val_loss: 0.1006 - val_tp: 73.0000 - val_fp: 31.0000 - val_tn: 1818.0000 - val_fn: 34.0000 - val_accuracy: 0.9668 - val_precision: 0.7019 - val_recall: 0.6822 - val_auc: 0.9450\n",
            "The model is better than a simple constant model for sure:\n"
          ],
          "name": "stdout"
        }
      ]
    },
    {
      "cell_type": "code",
      "metadata": {
        "id": "e0wqe2ArzCej",
        "outputId": "367250a0-0e74-4b8d-8f73-ad6894f565b3",
        "colab": {
          "base_uri": "https://localhost:8080/",
          "height": 156
        }
      },
      "source": [
        "tf.saved_model.save(model,'/content/drive/My Drive/final_model/my_model') "
      ],
      "execution_count": null,
      "outputs": [
        {
          "output_type": "stream",
          "text": [
            "WARNING:tensorflow:From /usr/local/lib/python3.6/dist-packages/tensorflow/python/training/tracking/tracking.py:111: Model.state_updates (from tensorflow.python.keras.engine.training) is deprecated and will be removed in a future version.\n",
            "Instructions for updating:\n",
            "This property should not be used in TensorFlow 2.0, as updates are applied automatically.\n",
            "WARNING:tensorflow:From /usr/local/lib/python3.6/dist-packages/tensorflow/python/training/tracking/tracking.py:111: Layer.updates (from tensorflow.python.keras.engine.base_layer) is deprecated and will be removed in a future version.\n",
            "Instructions for updating:\n",
            "This property should not be used in TensorFlow 2.0, as updates are applied automatically.\n",
            "INFO:tensorflow:Assets written to: /content/drive/My Drive/final_model/my_model/assets\n"
          ],
          "name": "stdout"
        }
      ]
    },
    {
      "cell_type": "code",
      "metadata": {
        "id": "Kl6QZjvU3ful",
        "outputId": "f131102f-6742-48ca-82bd-d1c34bcf7484",
        "colab": {
          "base_uri": "https://localhost:8080/"
        }
      },
      "source": [
        "auc"
      ],
      "execution_count": null,
      "outputs": [
        {
          "output_type": "execute_result",
          "data": {
            "text/plain": [
              "[0.9550344944000244, 0.9487901926040649, 0.9549775719642639]"
            ]
          },
          "metadata": {
            "tags": []
          },
          "execution_count": 38
        }
      ]
    },
    {
      "cell_type": "code",
      "metadata": {
        "id": "AMuBcNSL3hkQ",
        "outputId": "602a6ab5-ffa8-4b3f-9807-374a4bb4f67a",
        "colab": {
          "base_uri": "https://localhost:8080/"
        }
      },
      "source": [
        "val_auc"
      ],
      "execution_count": null,
      "outputs": [
        {
          "output_type": "execute_result",
          "data": {
            "text/plain": [
              "[0.9569734930992126, 0.9453480839729309, 0.942166268825531]"
            ]
          },
          "metadata": {
            "tags": []
          },
          "execution_count": 39
        }
      ]
    },
    {
      "cell_type": "code",
      "metadata": {
        "id": "we8UKquX2nYF",
        "outputId": "7349b76b-e4f5-4386-ffdd-1f620c06b1eb",
        "colab": {
          "base_uri": "https://localhost:8080/",
          "height": 282
        }
      },
      "source": [
        "plt.plot(history.history['accuracy'][5:], color ='blue')\n",
        "plt.plot(history.history['val_accuracy'][5:], color ='orange')"
      ],
      "execution_count": null,
      "outputs": [
        {
          "output_type": "execute_result",
          "data": {
            "text/plain": [
              "[<matplotlib.lines.Line2D at 0x7f471af5df28>]"
            ]
          },
          "metadata": {
            "tags": []
          },
          "execution_count": 40
        },
        {
          "output_type": "display_data",
          "data": {
            "image/png": "[encoded data removed]",
            "text/plain": [
              "<Figure size 432x288 with 1 Axes>"
            ]
          },
          "metadata": {
            "tags": [],
            "needs_background": "light"
          }
        }
      ]
    },
    {
      "cell_type": "code",
      "metadata": {
        "id": "TDunN09ovN0O",
        "outputId": "a9467165-de39-4ffd-af11-7953f67cda4c",
        "colab": {
          "base_uri": "https://localhost:8080/",
          "height": 286
        }
      },
      "source": [
        "plt.plot(history.history['auc'][5:], color ='blue')\n",
        "plt.plot(history.history['val_auc'][5:], color ='orange')"
      ],
      "execution_count": null,
      "outputs": [
        {
          "output_type": "execute_result",
          "data": {
            "text/plain": [
              "[<matplotlib.lines.Line2D at 0x7f47e710a400>]"
            ]
          },
          "metadata": {
            "tags": []
          },
          "execution_count": 41
        },
        {
          "output_type": "display_data",
          "data": {
            "image/png": "[encoded data removed]",
            "text/plain": [
              "<Figure size 432x288 with 1 Axes>"
            ]
          },
          "metadata": {
            "tags": [],
            "needs_background": "light"
          }
        }
      ]
    },
    {
      "cell_type": "code",
      "metadata": {
        "id": "HwRIl1uCgig_"
      },
      "source": [
        "loaded_model = tf.keras.models.load_model('/content/drive/My Drive/final_model/my_model')"
      ],
      "execution_count": null,
      "outputs": []
    },
    {
      "cell_type": "code",
      "metadata": {
        "id": "2YSW3gX-U6VF"
      },
      "source": [
        "pr = loaded_model.predict(X, batch_size = 64)"
      ],
      "execution_count": null,
      "outputs": []
    },
    {
      "cell_type": "code",
      "metadata": {
        "id": "L3qtHOthVwZb",
        "outputId": "3d8ec28e-16ab-46df-bf95-32c230a7fe35",
        "colab": {
          "base_uri": "https://localhost:8080/",
          "height": 34
        }
      },
      "source": [
        "from sklearn.metrics import roc_auc_score\n",
        "roc_auc_score(y,pr)"
      ],
      "execution_count": null,
      "outputs": [
        {
          "output_type": "execute_result",
          "data": {
            "text/plain": [
              "0.9827366446684629"
            ]
          },
          "metadata": {
            "tags": []
          },
          "execution_count": 29
        }
      ]
    },
    {
      "cell_type": "code",
      "metadata": {
        "id": "J4adKq41Wb0p"
      },
      "source": [
        "converter = tf.lite.TFLiteConverter.from_saved_model('/content/drive/My Drive/final_model/my_model') # path to the SavedModel directory\n",
        "converter.allow_custom_ops = True\n",
        "tflite_model = converter.convert()\n"
      ],
      "execution_count": null,
      "outputs": []
    },
    {
      "cell_type": "code",
      "metadata": {
        "id": "akNPgzP5XMsr"
      },
      "source": [
        "with open('/content/drive/My Drive/final_model/model.tflite', 'wb') as f:\n",
        "  f.write(tflite_model)"
      ],
      "execution_count": null,
      "outputs": []
    },
    {
      "cell_type": "code",
      "metadata": {
        "id": "-47-QNsnXxQA"
      },
      "source": [
        ""
      ],
      "execution_count": null,
      "outputs": []
    }
  ]
}