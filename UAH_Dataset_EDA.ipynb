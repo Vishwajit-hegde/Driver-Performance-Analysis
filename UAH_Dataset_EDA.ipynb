{
  "nbformat": 4,
  "nbformat_minor": 0,
  "metadata": {
    "colab": {
      "name": "UAH Dataset EDA",
      "provenance": [],
      "mount_file_id": "1zv3BA2QtAR9k6ESMze3ClwL327Yv_7n2",
      "authorship_tag": "ABX9TyNrnMJ9/upJ+kpSHE4V/16h",
      "include_colab_link": true
    },
    "kernelspec": {
      "name": "python3",
      "display_name": "Python 3"
    }
  },
  "cells": [
    {
      "cell_type": "markdown",
      "metadata": {
        "id": "view-in-github",
        "colab_type": "text"
      },
      "source": [
        "<a href=\"https://colab.research.google.com/github/Vishwajit-hegde/Driver-Performance-Analysis/blob/master/UAH_Dataset_EDA.ipynb\" target=\"_parent\"><img src=\"https://colab.research.google.com/assets/colab-badge.svg\" alt=\"Open In Colab\"/></a>"
      ]
    },
    {
      "cell_type": "code",
      "metadata": {
        "id": "_d6I72EvRYvB",
        "colab_type": "code",
        "colab": {}
      },
      "source": [
        "import numpy as np\n",
        "import pandas as pd\n",
        "import tensorflow as tf\n",
        "from tensorflow.keras import layers\n",
        "from datetime import datetime\n",
        "from matplotlib import pyplot as plt\n",
        "from matplotlib import dates as md\n",
        "import plotly.express as px"
      ],
      "execution_count": null,
      "outputs": []
    },
    {
      "cell_type": "code",
      "metadata": {
        "id": "Sua5XQK4WHrR",
        "colab_type": "code",
        "colab": {}
      },
      "source": [
        "normal_acc = pd.read_csv('/content/drive/My Drive/driver_data/D4_NORMAL1_SECONDARY_ACC.txt', sep =' ', header = None)\n",
        "normal_acc.columns = ['time','val_1','acc_x','acc_y','acc_z','acc_kf_x','acc_kf_y','acc_kf_z','roll','pitch','yaw','o']\n",
        "normal_acc.drop(['o'],axis =1 , inplace = True)\n",
        "normal_gps = pd.read_csv('/content/drive/My Drive/driver_data/D4_NORMAL1_SECONDARY_GPS.txt', sep =' ', header = None)\n",
        "normal_gps.columns = ['time','speed','lat','long','altitude','val1','val2','val3','val4','val5', 'val6','val7', 'val8']\n",
        "normal_gps.drop(['val8'],axis =1 , inplace = True)"
      ],
      "execution_count": null,
      "outputs": []
    },
    {
      "cell_type": "code",
      "metadata": {
        "id": "shlHFM-mWHuM",
        "colab_type": "code",
        "colab": {}
      },
      "source": [
        "agg_acc = pd.read_csv('/content/drive/My Drive/driver_data/D4_AGGRESSIVE_SECONDARY_ACC.txt', sep =' ', header = None)\n",
        "agg_acc.columns = ['time','val_1','acc_x','acc_y','acc_z','acc_kf_x','acc_kf_y','acc_kf_z','roll','pitch','yaw','o']\n",
        "agg_acc.drop(['o'],axis =1 , inplace = True)\n",
        "agg_gps = pd.read_csv('/content/drive/My Drive/driver_data/D4_AGGRESSIVE_SECONDARY_GPS.txt', sep =' ', header = None)\n",
        "agg_gps.columns = ['time','speed','lat','long','altitude','val1','val2','val3','val4','val5', 'val6','val7', 'val8']\n",
        "agg_gps.drop(['val8'],axis =1 , inplace = True)"
      ],
      "execution_count": null,
      "outputs": []
    },
    {
      "cell_type": "code",
      "metadata": {
        "id": "heN4lzYPB4dr",
        "colab_type": "code",
        "colab": {}
      },
      "source": [
        "normal_acc['Z_gyr'] = normal_acc.yaw - normal_acc.yaw.shift(1)"
      ],
      "execution_count": null,
      "outputs": []
    },
    {
      "cell_type": "code",
      "metadata": {
        "id": "SHInWlZbWHyQ",
        "colab_type": "code",
        "colab": {}
      },
      "source": [
        "#speed histogram /time speed stats\n",
        "#turn detection\n",
        "#speed or mean acc_x on each turn  bin various turns \n",
        "#"
      ],
      "execution_count": null,
      "outputs": []
    },
    {
      "cell_type": "code",
      "metadata": {
        "id": "ZiVWLwsmWHxC",
        "colab_type": "code",
        "colab": {}
      },
      "source": [
        "agg_gps = agg_gps[['time', 'speed','lat','long','altitude']]\n",
        "normal_gps = normal_gps[['time', 'speed','lat','long','altitude']]"
      ],
      "execution_count": null,
      "outputs": []
    },
    {
      "cell_type": "code",
      "metadata": {
        "id": "7aEa5B4r8F8M",
        "colab_type": "code",
        "colab": {}
      },
      "source": [
        ""
      ],
      "execution_count": null,
      "outputs": []
    },
    {
      "cell_type": "code",
      "metadata": {
        "id": "lrrXnzQ6g1L0",
        "colab_type": "code",
        "colab": {}
      },
      "source": [
        "normal_gps['time'] = normal_gps['time'].astype(np.int16)\n",
        "normal_acc['time']  = normal_acc['time'].astype(np.int16)\n",
        "normal = normal_acc.append(normal_gps[['time','speed']])\n",
        "normal_acc = normal_acc.groupby(['time']).mean()\n",
        "normal_acc.reset_index(inplace = True)\n",
        "normal  =pd.merge(normal_gps, normal_acc, on=['time'], how ='right')"
      ],
      "execution_count": null,
      "outputs": []
    },
    {
      "cell_type": "code",
      "metadata": {
        "id": "2PHU2IiHjs1-",
        "colab_type": "code",
        "colab": {}
      },
      "source": [
        "agg_gps['time'] = agg_gps['time'].astype(np.int16)\n",
        "agg_acc['time']  = agg_acc['time'].astype(np.int16)\n",
        "agg = agg_acc.append(agg_gps[['time','speed']])\n",
        "agg_acc = agg_acc.groupby(['time']).mean()\n",
        "agg_acc.reset_index(inplace = True)\n",
        "agg  =pd.merge(agg_gps, agg_acc, on=['time'], how ='right')"
      ],
      "execution_count": null,
      "outputs": []
    },
    {
      "cell_type": "code",
      "metadata": {
        "id": "sbudKVMi-tpw",
        "colab_type": "code",
        "colab": {}
      },
      "source": [
        "agg.dropna(inplace = True)\n",
        "normal.dropna(inplace = True)"
      ],
      "execution_count": null,
      "outputs": []
    },
    {
      "cell_type": "code",
      "metadata": {
        "id": "17OjWWhjg1Ro",
        "colab_type": "code",
        "colab": {
          "base_uri": "https://localhost:8080/",
          "height": 204
        },
        "outputId": "bbed7aae-d4d2-4e76-8f65-61322c4c887b"
      },
      "source": [
        "normal.head()"
      ],
      "execution_count": null,
      "outputs": [
        {
          "output_type": "execute_result",
          "data": {
            "text/html": [
              "<div>\n",
              "<style scoped>\n",
              "    .dataframe tbody tr th:only-of-type {\n",
              "        vertical-align: middle;\n",
              "    }\n",
              "\n",
              "    .dataframe tbody tr th {\n",
              "        vertical-align: top;\n",
              "    }\n",
              "\n",
              "    .dataframe thead th {\n",
              "        text-align: right;\n",
              "    }\n",
              "</style>\n",
              "<table border=\"1\" class=\"dataframe\">\n",
              "  <thead>\n",
              "    <tr style=\"text-align: right;\">\n",
              "      <th></th>\n",
              "      <th>time</th>\n",
              "      <th>speed</th>\n",
              "      <th>lat</th>\n",
              "      <th>long</th>\n",
              "      <th>altitude</th>\n",
              "      <th>val_1</th>\n",
              "      <th>acc_x</th>\n",
              "      <th>acc_y</th>\n",
              "      <th>acc_z</th>\n",
              "      <th>acc_kf_x</th>\n",
              "      <th>acc_kf_y</th>\n",
              "      <th>acc_kf_z</th>\n",
              "      <th>roll</th>\n",
              "      <th>pitch</th>\n",
              "      <th>yaw</th>\n",
              "    </tr>\n",
              "  </thead>\n",
              "  <tbody>\n",
              "    <tr>\n",
              "      <th>0</th>\n",
              "      <td>20</td>\n",
              "      <td>0.0</td>\n",
              "      <td>40.517445</td>\n",
              "      <td>-3.409828</td>\n",
              "      <td>615.2</td>\n",
              "      <td>0.0</td>\n",
              "      <td>0.0065</td>\n",
              "      <td>0.0079</td>\n",
              "      <td>-0.0107</td>\n",
              "      <td>0.0043</td>\n",
              "      <td>0.0091</td>\n",
              "      <td>-0.0107</td>\n",
              "      <td>-1.5715</td>\n",
              "      <td>0.0163</td>\n",
              "      <td>0.0239</td>\n",
              "    </tr>\n",
              "    <tr>\n",
              "      <th>1</th>\n",
              "      <td>21</td>\n",
              "      <td>0.0</td>\n",
              "      <td>40.518185</td>\n",
              "      <td>-3.409276</td>\n",
              "      <td>620.0</td>\n",
              "      <td>0.5</td>\n",
              "      <td>-0.0008</td>\n",
              "      <td>0.0049</td>\n",
              "      <td>0.0017</td>\n",
              "      <td>-0.0011</td>\n",
              "      <td>0.0051</td>\n",
              "      <td>0.0007</td>\n",
              "      <td>-1.5681</td>\n",
              "      <td>0.0246</td>\n",
              "      <td>0.0218</td>\n",
              "    </tr>\n",
              "    <tr>\n",
              "      <th>2</th>\n",
              "      <td>22</td>\n",
              "      <td>82.3</td>\n",
              "      <td>40.518341</td>\n",
              "      <td>-3.409413</td>\n",
              "      <td>625.9</td>\n",
              "      <td>1.0</td>\n",
              "      <td>-0.0138</td>\n",
              "      <td>0.0045</td>\n",
              "      <td>-0.0080</td>\n",
              "      <td>-0.0109</td>\n",
              "      <td>0.0031</td>\n",
              "      <td>-0.0076</td>\n",
              "      <td>-1.5707</td>\n",
              "      <td>0.0317</td>\n",
              "      <td>0.0193</td>\n",
              "    </tr>\n",
              "    <tr>\n",
              "      <th>3</th>\n",
              "      <td>23</td>\n",
              "      <td>84.2</td>\n",
              "      <td>40.518494</td>\n",
              "      <td>-3.409551</td>\n",
              "      <td>623.5</td>\n",
              "      <td>1.0</td>\n",
              "      <td>-0.0120</td>\n",
              "      <td>0.0022</td>\n",
              "      <td>0.0000</td>\n",
              "      <td>-0.0126</td>\n",
              "      <td>0.0034</td>\n",
              "      <td>-0.0004</td>\n",
              "      <td>-1.5676</td>\n",
              "      <td>0.0315</td>\n",
              "      <td>0.0195</td>\n",
              "    </tr>\n",
              "    <tr>\n",
              "      <th>4</th>\n",
              "      <td>24</td>\n",
              "      <td>84.3</td>\n",
              "      <td>40.518654</td>\n",
              "      <td>-3.409704</td>\n",
              "      <td>622.7</td>\n",
              "      <td>1.0</td>\n",
              "      <td>-0.0011</td>\n",
              "      <td>-0.0093</td>\n",
              "      <td>-0.0134</td>\n",
              "      <td>-0.0033</td>\n",
              "      <td>-0.0106</td>\n",
              "      <td>-0.0103</td>\n",
              "      <td>-1.5688</td>\n",
              "      <td>0.0316</td>\n",
              "      <td>0.0204</td>\n",
              "    </tr>\n",
              "  </tbody>\n",
              "</table>\n",
              "</div>"
            ],
            "text/plain": [
              "   time  speed        lat      long  ...  acc_kf_z    roll   pitch     yaw\n",
              "0    20    0.0  40.517445 -3.409828  ...   -0.0107 -1.5715  0.0163  0.0239\n",
              "1    21    0.0  40.518185 -3.409276  ...    0.0007 -1.5681  0.0246  0.0218\n",
              "2    22   82.3  40.518341 -3.409413  ...   -0.0076 -1.5707  0.0317  0.0193\n",
              "3    23   84.2  40.518494 -3.409551  ...   -0.0004 -1.5676  0.0315  0.0195\n",
              "4    24   84.3  40.518654 -3.409704  ...   -0.0103 -1.5688  0.0316  0.0204\n",
              "\n",
              "[5 rows x 15 columns]"
            ]
          },
          "metadata": {
            "tags": []
          },
          "execution_count": 75
        }
      ]
    },
    {
      "cell_type": "code",
      "metadata": {
        "id": "DpDhoQLjjiiu",
        "colab_type": "code",
        "colab": {
          "base_uri": "https://localhost:8080/",
          "height": 204
        },
        "outputId": "631fd22c-de38-4524-dbad-b2b421ede2df"
      },
      "source": [
        "agg.head()"
      ],
      "execution_count": null,
      "outputs": [
        {
          "output_type": "execute_result",
          "data": {
            "text/html": [
              "<div>\n",
              "<style scoped>\n",
              "    .dataframe tbody tr th:only-of-type {\n",
              "        vertical-align: middle;\n",
              "    }\n",
              "\n",
              "    .dataframe tbody tr th {\n",
              "        vertical-align: top;\n",
              "    }\n",
              "\n",
              "    .dataframe thead th {\n",
              "        text-align: right;\n",
              "    }\n",
              "</style>\n",
              "<table border=\"1\" class=\"dataframe\">\n",
              "  <thead>\n",
              "    <tr style=\"text-align: right;\">\n",
              "      <th></th>\n",
              "      <th>time</th>\n",
              "      <th>speed</th>\n",
              "      <th>lat</th>\n",
              "      <th>long</th>\n",
              "      <th>altitude</th>\n",
              "      <th>val_1</th>\n",
              "      <th>acc_x</th>\n",
              "      <th>acc_y</th>\n",
              "      <th>acc_z</th>\n",
              "      <th>acc_kf_x</th>\n",
              "      <th>acc_kf_y</th>\n",
              "      <th>acc_kf_z</th>\n",
              "      <th>roll</th>\n",
              "      <th>pitch</th>\n",
              "      <th>yaw</th>\n",
              "    </tr>\n",
              "  </thead>\n",
              "  <tbody>\n",
              "    <tr>\n",
              "      <th>0</th>\n",
              "      <td>41</td>\n",
              "      <td>0.0</td>\n",
              "      <td>40.513298</td>\n",
              "      <td>-3.406300</td>\n",
              "      <td>609.1</td>\n",
              "      <td>0.0</td>\n",
              "      <td>-0.0268</td>\n",
              "      <td>-0.0052</td>\n",
              "      <td>0.0135</td>\n",
              "      <td>-0.0221</td>\n",
              "      <td>-0.0040</td>\n",
              "      <td>0.0130</td>\n",
              "      <td>-1.5847</td>\n",
              "      <td>0.0170</td>\n",
              "      <td>0.0990</td>\n",
              "    </tr>\n",
              "    <tr>\n",
              "      <th>1</th>\n",
              "      <td>42</td>\n",
              "      <td>83.5</td>\n",
              "      <td>40.521870</td>\n",
              "      <td>-3.412418</td>\n",
              "      <td>586.1</td>\n",
              "      <td>0.7</td>\n",
              "      <td>-0.0251</td>\n",
              "      <td>0.0014</td>\n",
              "      <td>0.0177</td>\n",
              "      <td>-0.0281</td>\n",
              "      <td>0.0008</td>\n",
              "      <td>0.0193</td>\n",
              "      <td>-1.5922</td>\n",
              "      <td>0.0165</td>\n",
              "      <td>0.0986</td>\n",
              "    </tr>\n",
              "    <tr>\n",
              "      <th>2</th>\n",
              "      <td>43</td>\n",
              "      <td>81.9</td>\n",
              "      <td>40.521988</td>\n",
              "      <td>-3.412745</td>\n",
              "      <td>626.9</td>\n",
              "      <td>1.0</td>\n",
              "      <td>-0.0116</td>\n",
              "      <td>-0.0188</td>\n",
              "      <td>0.0075</td>\n",
              "      <td>-0.0121</td>\n",
              "      <td>-0.0175</td>\n",
              "      <td>0.0079</td>\n",
              "      <td>-1.5982</td>\n",
              "      <td>0.0252</td>\n",
              "      <td>0.1014</td>\n",
              "    </tr>\n",
              "    <tr>\n",
              "      <th>3</th>\n",
              "      <td>44</td>\n",
              "      <td>86.4</td>\n",
              "      <td>40.522163</td>\n",
              "      <td>-3.412905</td>\n",
              "      <td>626.2</td>\n",
              "      <td>1.0</td>\n",
              "      <td>-0.0203</td>\n",
              "      <td>-0.0094</td>\n",
              "      <td>0.0081</td>\n",
              "      <td>-0.0186</td>\n",
              "      <td>-0.0103</td>\n",
              "      <td>0.0058</td>\n",
              "      <td>-1.6027</td>\n",
              "      <td>0.0351</td>\n",
              "      <td>0.1113</td>\n",
              "    </tr>\n",
              "    <tr>\n",
              "      <th>4</th>\n",
              "      <td>45</td>\n",
              "      <td>87.9</td>\n",
              "      <td>40.522335</td>\n",
              "      <td>-3.413071</td>\n",
              "      <td>626.7</td>\n",
              "      <td>1.0</td>\n",
              "      <td>-0.0248</td>\n",
              "      <td>-0.0047</td>\n",
              "      <td>0.0024</td>\n",
              "      <td>-0.0231</td>\n",
              "      <td>-0.0039</td>\n",
              "      <td>0.0033</td>\n",
              "      <td>-1.6070</td>\n",
              "      <td>0.0296</td>\n",
              "      <td>0.1177</td>\n",
              "    </tr>\n",
              "  </tbody>\n",
              "</table>\n",
              "</div>"
            ],
            "text/plain": [
              "   time  speed        lat      long  ...  acc_kf_z    roll   pitch     yaw\n",
              "0    41    0.0  40.513298 -3.406300  ...    0.0130 -1.5847  0.0170  0.0990\n",
              "1    42   83.5  40.521870 -3.412418  ...    0.0193 -1.5922  0.0165  0.0986\n",
              "2    43   81.9  40.521988 -3.412745  ...    0.0079 -1.5982  0.0252  0.1014\n",
              "3    44   86.4  40.522163 -3.412905  ...    0.0058 -1.6027  0.0351  0.1113\n",
              "4    45   87.9  40.522335 -3.413071  ...    0.0033 -1.6070  0.0296  0.1177\n",
              "\n",
              "[5 rows x 15 columns]"
            ]
          },
          "metadata": {
            "tags": []
          },
          "execution_count": 76
        }
      ]
    },
    {
      "cell_type": "code",
      "metadata": {
        "id": "sHFxaAk_jiu-",
        "colab_type": "code",
        "colab": {
          "base_uri": "https://localhost:8080/",
          "height": 34
        },
        "outputId": "8e20be35-10ee-4f14-a2a2-6212781357a9"
      },
      "source": [
        "import folium\n",
        "m5=folium.Map()\n",
        "f1=folium.FeatureGroup(\"Normal\")\n",
        "f2=folium.FeatureGroup(\"Aggressive\")\n",
        "line_1=folium.vector_layers.PolyLine(normal[['lat','long']].values,popup='<b>Path of Vehicle_1</b>',tooltip='normal',color='blue',weight=10).add_to(f1)\n",
        "line_2=folium.vector_layers.PolyLine(agg[['lat','long']].values,popup='<b>Path of Vehicle_2</b>',tooltip='aggressive',color='red',weight=10).add_to(f2)\n",
        "f1.add_to(m5)\n",
        "f2.add_to(m5)\n",
        "folium.LayerControl().add_to(m5)"
      ],
      "execution_count": null,
      "outputs": [
        {
          "output_type": "execute_result",
          "data": {
            "text/plain": [
              "<folium.map.LayerControl at 0x7f49e18ae320>"
            ]
          },
          "metadata": {
            "tags": []
          },
          "execution_count": 13
        }
      ]
    },
    {
      "cell_type": "code",
      "metadata": {
        "id": "AJcfGhJwji4H",
        "colab_type": "code",
        "colab": {}
      },
      "source": [
        "m =folium.Marker(normal[['lat','long']].values[0]).add_to(m5)\n",
        "m1 =folium.Marker(normal[['lat','long']].values[100]).add_to(m5)\n",
        "m2 =folium.Marker(normal[['lat','long']].values[200]).add_to(m5)\n",
        "m3 =folium.Marker(normal[['lat','long']].values[300]).add_to(m5)\n",
        "m4 =folium.Marker(normal[['lat','long']].values[400]).add_to(m5)"
      ],
      "execution_count": null,
      "outputs": []
    },
    {
      "cell_type": "code",
      "metadata": {
        "id": "fKdyHmqJBnCD",
        "colab_type": "code",
        "colab": {
          "base_uri": "https://localhost:8080/",
          "height": 1000
        },
        "outputId": "a0e09773-1963-4c06-db07-cf373b62aac9"
      },
      "source": [
        "m5"
      ],
      "execution_count": null,
      "outputs": [
        {
          "output_type": "execute_result",
          "data": {
            "text/html": [
              "<div style=\"width:100%;\"><div style=\"position:relative;width:100%;height:0;padding-bottom:60%;\"><span style=\"color:#565656\">Make this Notebook Trusted to load map: File -> Trust Notebook</span><iframe src=\"about:blank\" style=\"position:absolute;width:100%;height:100%;left:0;top:0;border:none !important;\" data-html=PCFET0NUWVBFIGh0bWw+CjxoZWFkPiAgICAKICAgIDxtZXRhIGh0dHAtZXF1aXY9ImNvbnRlbnQtdHlwZSIgY29udGVudD0idGV4dC9odG1sOyBjaGFyc2V0PVVURi04IiAvPgogICAgPHNjcmlwdD5MX1BSRUZFUl9DQU5WQVM9ZmFsc2U7IExfTk9fVE9VQ0g9ZmFsc2U7IExfRElTQUJMRV8zRD1mYWxzZTs8L3NjcmlwdD4KICAgIDxzY3JpcHQgc3JjPSJodHRwczovL2Nkbi5qc2RlbGl2ci5uZXQvbnBtL2xlYWZsZXRAMS40LjAvZGlzdC9sZWFmbGV0LmpzIj48L3NjcmlwdD4KICAgIDxzY3JpcHQgc3JjPSJodHRwczovL2NvZGUuanF1ZXJ5LmNvbS9qcXVlcnktMS4xMi40Lm1pbi5qcyI+PC9zY3JpcHQ+CiAgICA8c2NyaXB0IHNyYz0iaHR0cHM6Ly9tYXhjZG4uYm9vdHN0cmFwY2RuLmNvbS9ib290c3RyYXAvMy4yLjAvanMvYm9vdHN0cmFwLm1pbi5qcyI+PC9zY3JpcHQ+CiAgICA8c2NyaXB0IHNyYz0iaHR0cHM6Ly9jZG5qcy5jbG91ZGZsYXJlLmNvbS9hamF4L2xpYnMvTGVhZmxldC5hd2Vzb21lLW1hcmtlcnMvMi4wLjIvbGVhZmxldC5hd2Vzb21lLW1hcmtlcnMuanMiPjwvc2NyaXB0PgogICAgPGxpbmsgcmVsPSJzdHlsZXNoZWV0IiBocmVmPSJodHRwczovL2Nkbi5qc2RlbGl2ci5uZXQvbnBtL2xlYWZsZXRAMS40LjAvZGlzdC9sZWFmbGV0LmNzcyIvPgogICAgPGxpbmsgcmVsPSJzdHlsZXNoZWV0IiBocmVmPSJodHRwczovL21heGNkbi5ib290c3RyYXBjZG4uY29tL2Jvb3RzdHJhcC8zLjIuMC9jc3MvYm9vdHN0cmFwLm1pbi5jc3MiLz4KICAgIDxsaW5rIHJlbD0ic3R5bGVzaGVldCIgaHJlZj0iaHR0cHM6Ly9tYXhjZG4uYm9vdHN0cmFwY2RuLmNvbS9ib290c3RyYXAvMy4yLjAvY3NzL2Jvb3RzdHJhcC10aGVtZS5taW4uY3NzIi8+CiAgICA8bGluayByZWw9InN0eWxlc2hlZXQiIGhyZWY9Imh0dHBzOi8vbWF4Y2RuLmJvb3RzdHJhcGNkbi5jb20vZm9udC1hd2Vzb21lLzQuNi4zL2Nzcy9mb250LWF3ZXNvbWUubWluLmNzcyIvPgogICAgPGxpbmsgcmVsPSJzdHlsZXNoZWV0IiBocmVmPSJodHRwczovL2NkbmpzLmNsb3VkZmxhcmUuY29tL2FqYXgvbGlicy9MZWFmbGV0LmF3ZXNvbWUtbWFya2Vycy8yLjAuMi9sZWFmbGV0LmF3ZXNvbWUtbWFya2Vycy5jc3MiLz4KICAgIDxsaW5rIHJlbD0ic3R5bGVzaGVldCIgaHJlZj0iaHR0cHM6Ly9yYXdjZG4uZ2l0aGFjay5jb20vcHl0aG9uLXZpc3VhbGl6YXRpb24vZm9saXVtL21hc3Rlci9mb2xpdW0vdGVtcGxhdGVzL2xlYWZsZXQuYXdlc29tZS5yb3RhdGUuY3NzIi8+CiAgICA8c3R5bGU+aHRtbCwgYm9keSB7d2lkdGg6IDEwMCU7aGVpZ2h0OiAxMDAlO21hcmdpbjogMDtwYWRkaW5nOiAwO308L3N0eWxlPgogICAgPHN0eWxlPiNtYXAge3Bvc2l0aW9uOmFic29sdXRlO3RvcDowO2JvdHRvbTowO3JpZ2h0OjA7bGVmdDowO308L3N0eWxlPgogICAgCiAgICA8bWV0YSBuYW1lPSJ2aWV3cG9ydCIgY29udGVudD0id2lkdGg9ZGV2aWNlLXdpZHRoLAogICAgICAgIGluaXRpYWwtc2NhbGU9MS4wLCBtYXhpbXVtLXNjYWxlPTEuMCwgdXNlci1zY2FsYWJsZT1ubyIgLz4KICAgIDxzdHlsZT4jbWFwX2Y0MDI3ODBhNzM2NTQ0M2Q4ZmUxNWZkYjUxMDBiOTUyIHsKICAgICAgICBwb3NpdGlvbjogcmVsYXRpdmU7CiAgICAgICAgd2lkdGg6IDEwMC4wJTsKICAgICAgICBoZWlnaHQ6IDEwMC4wJTsKICAgICAgICBsZWZ0OiAwLjAlOwogICAgICAgIHRvcDogMC4wJTsKICAgICAgICB9CiAgICA8L3N0eWxlPgo8L2hlYWQ+Cjxib2R5PiAgICAKICAgIAogICAgPGRpdiBjbGFzcz0iZm9saXVtLW1hcCIgaWQ9Im1hcF9mNDAyNzgwYTczNjU0NDNkOGZlMTVmZGI1MTAwYjk1MiIgPjwvZGl2Pgo8L2JvZHk+CjxzY3JpcHQ+ICAgIAogICAgCiAgICAKICAgICAgICB2YXIgYm91bmRzID0gbnVsbDsKICAgIAoKICAgIHZhciBtYXBfZjQwMjc4MGE3MzY1NDQzZDhmZTE1ZmRiNTEwMGI5NTIgPSBMLm1hcCgKICAgICAgICAnbWFwX2Y0MDI3ODBhNzM2NTQ0M2Q4ZmUxNWZkYjUxMDBiOTUyJywgewogICAgICAgIGNlbnRlcjogWzAsIDBdLAogICAgICAgIHpvb206IDEsCiAgICAgICAgbWF4Qm91bmRzOiBib3VuZHMsCiAgICAgICAgbGF5ZXJzOiBbXSwKICAgICAgICB3b3JsZENvcHlKdW1wOiBmYWxzZSwKICAgICAgICBjcnM6IEwuQ1JTLkVQU0czODU3LAogICAgICAgIHpvb21Db250cm9sOiB0cnVlLAogICAgICAgIH0pOwoKCiAgICAKICAgIHZhciB0aWxlX2xheWVyXzI5ODYyNzhmMmY2YzRmMTA4YTlhOGY4ODE3MjM4YTgzID0gTC50aWxlTGF5ZXIoCiAgICAgICAgJ2h0dHBzOi8ve3N9LnRpbGUub3BlbnN0cmVldG1hcC5vcmcve3p9L3t4fS97eX0ucG5nJywKICAgICAgICB7CiAgICAgICAgImF0dHJpYnV0aW9uIjogbnVsbCwKICAgICAgICAiZGV0ZWN0UmV0aW5hIjogZmFsc2UsCiAgICAgICAgIm1heE5hdGl2ZVpvb20iOiAxOCwKICAgICAgICAibWF4Wm9vbSI6IDE4LAogICAgICAgICJtaW5ab29tIjogMCwKICAgICAgICAibm9XcmFwIjogZmFsc2UsCiAgICAgICAgIm9wYWNpdHkiOiAxLAogICAgICAgICJzdWJkb21haW5zIjogImFiYyIsCiAgICAgICAgInRtcyI6IGZhbHNlCn0pLmFkZFRvKG1hcF9mNDAyNzgwYTczNjU0NDNkOGZlMTVmZGI1MTAwYjk1Mik7CiAgICAKICAgICAgICAgICAgdmFyIGZlYXR1cmVfZ3JvdXBfMmE5ZjRhYjJiNWRiNDRlNTg1YTFkOTczYTRiMTNmY2YgPSBMLmZlYXR1cmVHcm91cCgKICAgICAgICAgICAgICAgICkuYWRkVG8obWFwX2Y0MDI3ODBhNzM2NTQ0M2Q4ZmUxNWZkYjUxMDBiOTUyKTsKICAgICAgICAKICAgIAogICAgICAgICAgICAgICAgdmFyIHBvbHlfbGluZV9lOGExMzg1NGE4YjU0ZDU1YWY4ZjdhOGFhN2E1MTAzNSA9IEwucG9seWxpbmUoCiAgICAgICAgICAgICAgICAgICAgW1s0MC41MTc0NDUsIC0zLjQwOTgyOF0sIFs0MC41MTgxODQ5OTk5OTk5OTUsIC0zLjQwOTI3Nl0sIFs0MC41MTgzNDEsIC0zLjQwOTQxM10sIFs0MC41MTg0OTQsIC0zLjQwOTU1MV0sIFs0MC41MTg2NTQsIC0zLjQwOTcwNF0sIFs0MC41MTg4MjksIC0zLjQwOTg2OF0sIFs0MC41MTkwMDkwMDAwMDAwMDQsIC0zLjQxMDAzNzk5OTk5OTk5OTddLCBbNDAuNTE5MTg0LCAtMy40MTAxOTldLCBbNDAuNTE5MzUyMDAwMDAwMDA1LCAtMy40MTAzNTRdLCBbNDAuNTE5NTA4LCAtMy40MTA1MDFdLCBbNDAuNTE5Njg4LCAtMy40MTA2NjkwMDAwMDAwMDA0XSwgWzQwLjUxOTg1MiwgLTMuNDEwODI1XSwgWzQwLjUyMDAyLCAtMy40MTA5ODAwMDAwMDAwMDAzXSwgWzQwLjUyMDE5MSwgLTMuNDExMTMzOTk5OTk5OTk5N10sIFs0MC41MjAzNjMsIC0zLjQxMTI4OV0sIFs0MC41MjA1MzgsIC0zLjQxMTQ1MTk5OTk5OTk5OTddLCBbNDAuNTIwNzE0LCAtMy40MTE2MTY5OTk5OTk5OTk3XSwgWzQwLjUyMDg4OTAwMDAwMDAwNCwgLTMuNDExNzc5XSwgWzQwLjUyMTA2OSwgLTMuNDExOTQ2XSwgWzQwLjUyMTI0NCwgLTMuNDEyMTEyOTk5OTk5OTk5N10sIFs0MC41MjE0MjMsIC0zLjQxMjI4MDk5OTk5OTk5OTddLCBbNDAuNTIxNTk5LCAtMy40MTI0NDQ5OTk5OTk5OTk1XSwgWzQwLjUyMTc3ODAwMDAwMDAwNSwgLTMuNDEyNjExXSwgWzQwLjUyMTk1NywgLTMuNDEyNzgyXSwgWzQwLjUyMjEzNywgLTMuNDEyOTU0XSwgWzQwLjUyMjMyNCwgLTMuNDEzMTI4XSwgWzQwLjUyMjQ5ODk5OTk5OTk5NiwgLTMuNDEzMjk0OTk5OTk5OTk5N10sIFs0MC41MjI2NzEsIC0zLjQxMzQ2OF0sIFs0MC41MjI4NDYsIC0zLjQxMzY0Nl0sIFs0MC41MjMwMSwgLTMuNDEzODMzOTk5OTk5OTk5Nl0sIFs0MC41MjMxNywgLTMuNDE0MDM3MDAwMDAwMDAwNF0sIFs0MC41MjMzMzQ5OTk5OTk5OTYsIC0zLjQxNDI0Nl0sIFs0MC41MjM0OTEsIC0zLjQxNDQ2XSwgWzQwLjUyMzYzNTk5OTk5OTk5NiwgLTMuNDE0NjgxXSwgWzQwLjUyMzc4NSwgLTMuNDE0OTA4OTk5OTk5OTk5OF0sIFs0MC41MjM5MTgsIC0zLjQxNTE1NTk5OTk5OTk5OTZdLCBbNDAuNTI0MTc4MDAwMDAwMDA2LCAtMy40MTU2NjRdLCBbNDAuNTI0MTc4MDAwMDAwMDA2LCAtMy40MTU2NjRdLCBbNDAuNTI0MzAzLCAtMy40MTU5MzJdLCBbNDAuNTI0NDI5LCAtMy40MTYyMTUwMDAwMDAwMDAyXSwgWzQwLjUyNDU0LCAtMy40MTY0NzJdLCBbNDAuNTI0NjM5LCAtMy40MTY3NDZdLCBbNDAuNTI0NzM0LCAtMy40MTcwMjVdLCBbNDAuNTI0ODE1MDAwMDAwMDA0LCAtMy40MTczMDRdLCBbNDAuNTI0ODg3LCAtMy40MTc1OTJdLCBbNDAuNTI0OTYzLCAtMy40MTc4ODZdLCBbNDAuNTI1MDQwMDAwMDAwMDA0LCAtMy40MTgxOV0sIFs0MC41MjUxMDQ5OTk5OTk5OTYsIC0zLjQxODQ5MTAwMDAwMDAwMDRdLCBbNDAuNTI1MTY2LCAtMy40MTg3ODQ5OTk5OTk5OTk3XSwgWzQwLjUyNTI0MiwgLTMuNDE5MDg5XSwgWzQwLjUyNTMxOCwgLTMuNDE5Mzk3XSwgWzQwLjUyNTM4NywgLTMuNDE5NjgyXSwgWzQwLjUyNTQ1OTAwMDAwMDAwNSwgLTMuNDE5OTczXSwgWzQwLjUyNTU0MywgLTMuNDIwMjU3XSwgWzQwLjUyNTYzMSwgLTMuNDIwNTE5XSwgWzQwLjUyNTcxOSwgLTMuNDIwNzg0XSwgWzQwLjUyNTgxNDAwMDAwMDAwNCwgLTMuNDIxMDM2XSwgWzQwLjUyNTkyMTAwMDAwMDAwNCwgLTMuNDIxMjc5XSwgWzQwLjUyNjAyNCwgLTMuNDIxNTIyXSwgWzQwLjUyNjMwMiwgLTMuNDIxOTk4MDAwMDAwMDAwM10sIFs0MC41MjYzMDIsIC0zLjQyMTk5ODAwMDAwMDAwMDNdLCBbNDAuNTI2NTczLCAtMy40MjI0MjZdLCBbNDAuNTI2NTczLCAtMy40MjI0MjZdLCBbNDAuNTI2NzE4LCAtMy40MjI2NDNdLCBbNDAuNTI2ODcxLCAtMy40MjI4NDQ5OTk5OTk5OTk3XSwgWzQwLjUyNzAzNSwgLTMuNDIzMDM3MDAwMDAwMDAwM10sIFs0MC41MjcyMDMsIC0zLjQyMzIxMjk5OTk5OTk5OTZdLCBbNDAuNTI3Mzc0LCAtMy40MjMzNjldLCBbNDAuNTI3NTY5LCAtMy40MjM1MjY5OTk5OTk5OTk1XSwgWzQwLjUyNzc1NiwgLTMuNDIzNjc2OTk5OTk5OTk5Nl0sIFs0MC41Mjc5NDYsIC0zLjQyMzgxNjAwMDAwMDAwMDRdLCBbNDAuNTI4MTQ1LCAtMy40MjM5NTNdLCBbNDAuNTI4MzM5LCAtMy40MjQwODddLCBbNDAuNTI4NTQyLCAtMy40MjQyMjMwMDAwMDAwMDA1XSwgWzQwLjUyODc1MSwgLTMuNDI0MzUxXSwgWzQwLjUyODk1LCAtMy40MjQ0ODM5OTk5OTk5OTk2XSwgWzQwLjUyOTE2NywgLTMuNDI0NjI4XSwgWzQwLjUyOTM2MiwgLTMuNDI0NzY1MDAwMDAwMDAwM10sIFs0MC41Mjk1NiwgLTMuNDI0ODk5XSwgWzQwLjUyOTc1OCwgLTMuNDI1MDQ0XSwgWzQwLjUyOTk0NSwgLTMuNDI1MTkzXSwgWzQwLjUzMDEyODAwMDAwMDAwNSwgLTMuNDI1MzM5XSwgWzQwLjUzMDMxMiwgLTMuNDI1NDk2XSwgWzQwLjUzMDQ4MzAwMDAwMDAwNCwgLTMuNDI1NjU5OTk5OTk5OTk5N10sIFs0MC41MzA2NTQ5OTk5OTk5OTYsIC0zLjQyNTgyMV0sIFs0MC41MzA4MjMsIC0zLjQyNTk4NV0sIFs0MC41MzA5OTEsIC0zLjQyNjE2XSwgWzQwLjUzMTMsIC0zLjQyNjUyMzk5OTk5OTk5OTddLCBbNDAuNTMxNDUyLCAtMy40MjY3MjFdLCBbNDAuNTMxNDUyLCAtMy40MjY3MjFdLCBbNDAuNTMxNTk3LCAtMy40MjY5MjYwMDAwMDAwMDA0XSwgWzQwLjUzMTc1LCAtMy40MjcxMjMwMDAwMDAwMDA0XSwgWzQwLjUzMTg4NywgLTMuNDI3MzI2MDAwMDAwMDAwM10sIFs0MC41MzIwMjQsIC0zLjQyNzUzN10sIFs0MC41MzIxNTQsIC0zLjQyNzc1NTk5OTk5OTk5OTZdLCBbNDAuNTMyMjg0MDAwMDAwMDA0LCAtMy40Mjc5ODAwMDAwMDAwMDAyXSwgWzQwLjUzMjQxLCAtMy40MjgyMDhdLCBbNDAuNTMyNTM2LCAtMy40Mjg0NF0sIFs0MC41MzI2NSwgLTMuNDI4NjY2XSwgWzQwLjUzMjg1NiwgLTMuNDI5MTM1XSwgWzQwLjUzMjg1NiwgLTMuNDI5MTM1XSwgWzQwLjUzMjk1NSwgLTMuNDI5MzcyMDAwMDAwMDAwM10sIFs0MC41MzMwNTEsIC0zLjQyOTYyXSwgWzQwLjUzMzEzOCwgLTMuNDI5ODcxXSwgWzQwLjUzMzIyMTk5OTk5OTk5NSwgLTMuNDMwMTMxXSwgWzQwLjUzMzI5NSwgLTMuNDMwMzgwMDAwMDAwMDAwNF0sIFs0MC41MzMzNjcsIC0zLjQzMDYzNjAwMDAwMDAwMDJdLCBbNDAuNTMzNDM2LCAtMy40MzA4ODcwMDAwMDAwMDAyXSwgWzQwLjUzMzQ4OSwgLTMuNDMxMTMzXSwgWzQwLjUzMzU0NiwgLTMuNDMxMzY5XSwgWzQwLjUzMzYxMSwgLTMuNDMxNjMyXSwgWzQwLjUzMzY2MDk5OTk5OTk5NSwgLTMuNDMxODg2XSwgWzQwLjUzMzcwMywgLTMuNDMyMTM3MDAwMDAwMDAwNF0sIFs0MC41MzM3NDEsIC0zLjQzMjM5MzAwMDAwMDAwMDJdLCBbNDAuNTMzNzY4LCAtMy40MzI2NDcwMDAwMDAwMDAyXSwgWzQwLjUzMzc5NCwgLTMuNDMyOTA4OTk5OTk5OTk5NV0sIFs0MC41MzM4MjUsIC0zLjQzMzE3MzAwMDAwMDAwMDVdLCBbNDAuNTMzODQwMDAwMDAwMDA1LCAtMy40MzM0MzAwMDAwMDAwMDA0XSwgWzQwLjUzMzg1NDk5OTk5OTk5NiwgLTMuNDMzNjkwMDAwMDAwMDAwNF0sIFs0MC41MzM4NjcsIC0zLjQzMzk0ODAwMDAwMDAwMDRdLCBbNDAuNTMzODY3LCAtMy40MzQxOTgwMDAwMDAwMDAzXSwgWzQwLjUzMzg3NSwgLTMuNDM0NDUzXSwgWzQwLjUzMzg3OCwgLTMuNDM0NzA1XSwgWzQwLjUzMzg3OCwgLTMuNDM0OTZdLCBbNDAuNTMzODg1OTk5OTk5OTk1LCAtMy40MzUyMjNdLCBbNDAuNTMzODksIC0zLjQzNTc0OV0sIFs0MC41MzM4OSwgLTMuNDM1NzQ5XSwgWzQwLjUzMzg4NTk5OTk5OTk5NSwgLTMuNDM1OTk5XSwgWzQwLjUzMzg3OCwgLTMuNDM2NTA4MDAwMDAwMDAwM10sIFs0MC41MzM4NzgsIC0zLjQzNjUwODAwMDAwMDAwMDNdLCBbNDAuNTMzODgyLCAtMy40MzY3Njk5OTk5OTk5OTk3XSwgWzQwLjUzMzg3NSwgLTMuNDM3MDE2MDAwMDAwMDAwM10sIFs0MC41MzM4NzgsIC0zLjQzNzI1OTk5OTk5OTk5OThdLCBbNDAuNTMzODgyLCAtMy40Mzc1MTY5OTk5OTk5OTk3XSwgWzQwLjUzMzg3OCwgLTMuNDM3NzczOTk5OTk5OTk5N10sIFs0MC41MzM4NzgsIC0zLjQzODAzNzAwMDAwMDAwMDVdLCBbNDAuNTMzODc4LCAtMy40MzgyODldLCBbNDAuNTMzODc4LCAtMy40Mzg1NDZdLCBbNDAuNTMzODc1LCAtMy40Mzg4MDFdLCBbNDAuNTMzODc1LCAtMy40MzkwNTldLCBbNDAuNTMzODY3LCAtMy40Mzk1OV0sIFs0MC41MzM4NjcsIC0zLjQzOTU5XSwgWzQwLjUzMzg3NSwgLTMuNDM5ODUzXSwgWzQwLjUzMzg3NSwgLTMuNDQwMTMwOTk5OTk5OTk5Nl0sIFs0MC41MzM4NzgsIC0zLjQ0MDQwNV0sIFs0MC41MzM4ODU5OTk5OTk5OTUsIC0zLjQ0MDk2ODAwMDAwMDAwMDJdLCBbNDAuNTMzODg1OTk5OTk5OTk1LCAtMy40NDA5NjgwMDAwMDAwMDAyXSwgWzQwLjUzMzg3MTAwMDAwMDAwNSwgLTMuNDQxMjQ2XSwgWzQwLjUzMzg2NywgLTMuNDQxNTI5XSwgWzQwLjUzMzg2NywgLTMuNDQxODE0XSwgWzQwLjUzMzg1OSwgLTMuNDQyMDkzXSwgWzQwLjUzMzg1OSwgLTMuNDQyMzgwOTk5OTk5OTk5N10sIFs0MC41MzM4NTQ5OTk5OTk5OTYsIC0zLjQ0MjY4MV0sIFs0MC41MzM4NTIsIC0zLjQ0Mjk2XSwgWzQwLjUzMzg0NCwgLTMuNDQzMjM1XSwgWzQwLjUzMzg1MiwgLTMuNDQzNTA4XSwgWzQwLjUzMzg0MDAwMDAwMDAwNSwgLTMuNDQzNzczXSwgWzQwLjUzMzg0NCwgLTMuNDQ0MDM4XSwgWzQwLjUzMzgzNiwgLTMuNDQ0MzA4MDAwMDAwMDAwNF0sIFs0MC41MzM4MzMsIC0zLjQ0NDU4Nl0sIFs0MC41MzM4MjUsIC0zLjQ0NDg2NV0sIFs0MC41MzM4MzMsIC0zLjQ0NTE1MTk5OTk5OTk5OThdLCBbNDAuNTMzODMzLCAtMy40NDU0MzVdLCBbNDAuNTMzODM2LCAtMy40NDU3MTYwMDAwMDAwMDA0XSwgWzQwLjUzMzg0MDAwMDAwMDAwNSwgLTMuNDQ2XSwgWzQwLjUzMzgzNiwgLTMuNDQ2Mjg2XSwgWzQwLjUzMzg0MDAwMDAwMDAwNSwgLTMuNDQ2NTYyXSwgWzQwLjUzMzgzNiwgLTMuNDQ2ODU4XSwgWzQwLjUzMzgzMywgLTMuNDQ3MTU4MDAwMDAwMDAwNF0sIFs0MC41MzM4MTcsIC0zLjQ0Nzc0NF0sIFs0MC41MzM4MTcsIC0zLjQ0Nzc0NF0sIFs0MC41MzM4MjEsIC0zLjQ0ODAyOV0sIFs0MC41MzM4MjEsIC0zLjQ0ODMxOV0sIFs0MC41MzM4MjUsIC0zLjQ0ODg5XSwgWzQwLjUzMzgyNSwgLTMuNDQ4ODldLCBbNDAuNTMzODI1LCAtMy40NDkxOF0sIFs0MC41MzM4MjUsIC0zLjQ0OTQ2MV0sIFs0MC41MzM4MjEsIC0zLjQ0OTc0NDAwMDAwMDAwMDRdLCBbNDAuNTMzODI5LCAtMy40NTAwNTFdLCBbNDAuNTMzODI1LCAtMy40NTAzNDEwMDAwMDAwMDAzXSwgWzQwLjUzMzgxNywgLTMuNDUwNjM5XSwgWzQwLjUzMzgxNywgLTMuNDUwOTIxXSwgWzQwLjUzMzgwNiwgLTMuNDUxMjEyMDAwMDAwMDAwNF0sIFs0MC41MzM4MDYsIC0zLjQ1MTUwN10sIFs0MC41MzM4MDk5OTk5OTk5OTUsIC0zLjQ1MTgwNTAwMDAwMDAwMDJdLCBbNDAuNTMzODEzLCAtMy40NTIxMDQwMDAwMDAwMDAzXSwgWzQwLjUzMzgwOTk5OTk5OTk5NSwgLTMuNDUyMzk4MDAwMDAwMDAwNV0sIFs0MC41MzM4MDk5OTk5OTk5OTUsIC0zLjQ1MjY5NF0sIFs0MC41MzM4MDYsIC0zLjQ1Mjk5NDAwMDAwMDAwMDNdLCBbNDAuNTMzODA5OTk5OTk5OTk1LCAtMy40NTMyODQ5OTk5OTk5OTk3XSwgWzQwLjUzMzgwNiwgLTMuNDUzNTgxXSwgWzQwLjUzMzgwNiwgLTMuNDUzODcxXSwgWzQwLjUzMzgwNiwgLTMuNDU0MTQ4MDAwMDAwMDAwNF0sIFs0MC41MzM4MDYsIC0zLjQ1NDQyNV0sIFs0MC41MzM4MDk5OTk5OTk5OTUsIC0zLjQ1NDcwM10sIFs0MC41MzM4MTMsIC0zLjQ1NDk4MzAwMDAwMDAwMDRdLCBbNDAuNTMzODA5OTk5OTk5OTk1LCAtMy40NTUyNjFdLCBbNDAuNTMzNzk0LCAtMy40NTU1MzM5OTk5OTk5OTk3XSwgWzQwLjUzMzc5MSwgLTMuNDU1ODE1MDAwMDAwMDAwM10sIFs0MC41MzM3NzUsIC0zLjQ1NjA2Ml0sIFs0MC41MzM3ODMsIC0zLjQ1NjMyXSwgWzQwLjUzMzc4NywgLTMuNDU2NTgzOTk5OTk5OTk5NF0sIFs0MC41MzM3ODcsIC0zLjQ1Njg2MV0sIFs0MC41MzM3OTEsIC0zLjQ1NzEzMDAwMDAwMDAwMDNdLCBbNDAuNTMzODAyLCAtMy40NTc0MTJdLCBbNDAuNTMzNzgzLCAtMy40NTc2ODYwMDAwMDAwMDAzXSwgWzQwLjUzMzc4MywgLTMuNDU3OTQ0OTk5OTk5OTk5Nl0sIFs0MC41MzM3NjgsIC0zLjQ1ODIxXSwgWzQwLjUzMzc2NCwgLTMuNDU4NDY5XSwgWzQwLjUzMzc2NCwgLTMuNDU4NzI5XSwgWzQwLjUzMzc2LCAtMy40NTg5ODQ5OTk5OTk5OTk4XSwgWzQwLjUzMzc1NiwgLTMuNDU5MjI2XSwgWzQwLjUzMzc1NiwgLTMuNDU5NDc1XSwgWzQwLjUzMzc1NiwgLTMuNDU5OTc3XSwgWzQwLjUzMzc1NiwgLTMuNDU5OTc3XSwgWzQwLjUzMzc1NiwgLTMuNDYwMjM0XSwgWzQwLjUzMzczNywgLTMuNDYwNDY2MDAwMDAwMDAwM10sIFs0MC41MzM3MzMwMDAwMDAwMDUsIC0zLjQ2MDcyNF0sIFs0MC41MzM3NDUsIC0zLjQ2MDk4Nl0sIFs0MC41MzM3NDUsIC0zLjQ2MTI1NTk5OTk5OTk5OTddLCBbNDAuNTMzNzQ1LCAtMy40NjE1MTldLCBbNDAuNTMzNzQxLCAtMy40NjE3NzYwMDAwMDAwMDA0XSwgWzQwLjUzMzc0NSwgLTMuNDYyMDMwMDAwMDAwMDAwNF0sIFs0MC41MzM3NTIsIC0zLjQ2MjI4Nl0sIFs0MC41MzM3NDksIC0zLjQ2MjU0Nl0sIFs0MC41MzM3MzcsIC0zLjQ2MjgwNTk5OTk5OTk5OTZdLCBbNDAuNTMzNzM3LCAtMy40NjMzMDhdLCBbNDAuNTMzNzM3LCAtMy40NjMzMDhdLCBbNDAuNTMzNzMsIC0zLjQ2MzU2NV0sIFs0MC41MzM3MzcsIC0zLjQ2MzgyMzAwMDAwMDAwMDVdLCBbNDAuNTMzNzMzMDAwMDAwMDA1LCAtMy40NjQwNjhdLCBbNDAuNTMzNzMsIC0zLjQ2NDMxNF0sIFs0MC41MzM3MywgLTMuNDY0NTU2XSwgWzQwLjUzMzczMzAwMDAwMDAwNSwgLTMuNDY0NzgzXSwgWzQwLjUzMzczNywgLTMuNDY1MDE5MDAwMDAwMDAwM10sIFs0MC41MzM3NDksIC0zLjQ2NTI2NV0sIFs0MC41MzM3NjQsIC0zLjQ2NTUwODAwMDAwMDAwMDNdLCBbNDAuNTMzNzk0LCAtMy40NjU3NDEwMDAwMDAwMDA0XSwgWzQwLjUzMzgxNywgLTMuNDY1OTczOTk5OTk5OTk5N10sIFs0MC41MzM4NTIsIC0zLjQ2NjE4Nl0sIFs0MC41MzM4OTQwMDAwMDAwMDQsIC0zLjQ2NjQxMjk5OTk5OTk5OTddLCBbNDAuNTMzOTg0OTk5OTk5OTk0LCAtMy40NjY4NjYwMDAwMDAwMDA0XSwgWzQwLjUzNDA0NjAwMDAwMDAwNCwgLTMuNDY3MDg1XSwgWzQwLjUzNDA0NjAwMDAwMDAwNCwgLTMuNDY3MDg1XSwgWzQwLjUzNDEwNywgLTMuNDY3MzA3XSwgWzQwLjUzNDE5OSwgLTMuNDY3NTMwMDAwMDAwMDAwNF0sIFs0MC41MzQyOTAwMDAwMDAwMDYsIC0zLjQ2NzczN10sIFs0MC41MzQzODYsIC0zLjQ2Nzk1NTk5OTk5OTk5OTZdLCBbNDAuNTM0NDg1LCAtMy40NjgxNjEwMDAwMDAwMDAzXSwgWzQwLjUzNDU5MTk5OTk5OTk5NiwgLTMuNDY4MzcxXSwgWzQwLjUzNDgyMSwgLTMuNDY4NzY4XSwgWzQwLjUzNDgyMSwgLTMuNDY4NzY4XSwgWzQwLjUzNDkzOSwgLTMuNDY4OTU4XSwgWzQwLjUzNTA2OSwgLTMuNDY5MTM0OTk5OTk5OTk5Nl0sIFs0MC41MzUyMSwgLTMuNDY5MzAyXSwgWzQwLjUzNTM1NDk5OTk5OTk5NiwgLTMuNDY5NDY5XSwgWzQwLjUzNTUwMzAwMDAwMDAwNiwgLTMuNDY5NjIyXSwgWzQwLjUzNTY0MSwgLTMuNDY5NzYzXSwgWzQwLjUzNTk1NCwgLTMuNDcwMDMzOTk5OTk5OTk5Nl0sIFs0MC41MzYxMjg5OTk5OTk5OTUsIC0zLjQ3MDE2XSwgWzQwLjUzNjEyODk5OTk5OTk5NSwgLTMuNDcwMTZdLCBbNDAuNTM2NDg0LCAtMy40NzAzOTddLCBbNDAuNTM2Njc0LCAtMy40NzA0OTldLCBbNDAuNTM2Njc0LCAtMy40NzA0OTldLCBbNDAuNTM3MDYsIC0zLjQ3MDY3N10sIFs0MC41MzcwNiwgLTMuNDcwNjc3XSwgWzQwLjUzNzI1OCwgLTMuNDcwNzQ0OTk5OTk5OTk5NV0sIFs0MC41Mzc0NTk5OTk5OTk5OTYsIC0zLjQ3MDgyNF0sIFs0MC41Mzc2NjMsIC0zLjQ3MDg4NzAwMDAwMDAwMDNdLCBbNDAuNTM3ODU3LCAtMy40NzA5MzddLCBbNDAuNTM4MDUyLCAtMy40NzA5OV0sIFs0MC41MzgyNDIsIC0zLjQ3MTA0N10sIFs0MC41Mzg0NDEsIC0zLjQ3MTEwNV0sIFs0MC41Mzg2MzksIC0zLjQ3MTE2OV0sIFs0MC41Mzg4MzQsIC0zLjQ3MTI0MTAwMDAwMDAwMDVdLCBbNDAuNTM5MDQzLCAtMy40NzEzMTFdLCBbNDAuNTM5MjQ2LCAtMy40NzEzNzhdLCBbNDAuNTM5NjU4LCAtMy40NzE1MTRdLCBbNDAuNTM5NjU4LCAtMy40NzE1MTRdLCBbNDAuNTM5ODcxMDAwMDAwMDA1LCAtMy40NzE1ODcwMDAwMDAwMDA0XSwgWzQwLjU0MDA4MSwgLTMuNDcxNjU3XSwgWzQwLjU0MDQ5MywgLTMuNDcxNzk0OTk5OTk5OTk5N10sIFs0MC41NDA0OTMsIC0zLjQ3MTc5NDk5OTk5OTk5OTddLCBbNDAuNTQwNjk1LCAtMy40NzE4NTldLCBbNDAuNTQwODk2OTk5OTk5OTk0LCAtMy40NzE5MjYwMDAwMDAwMDAzXSwgWzQwLjU0MTEsIC0zLjQ3MTk5MTk5OTk5OTk5OTddLCBbNDAuNTQxMzA5MDAwMDAwMDA1LCAtMy40NzIwNTldLCBbNDAuNTQxNTE1MDAwMDAwMDA0LCAtMy40NzIxMjMwMDAwMDAwMDAzXSwgWzQwLjU0MTcxNzk5OTk5OTk5NiwgLTMuNDcyMTg0OTk5OTk5OTk5Nl0sIFs0MC41NDE5MjQsIC0zLjQ3MjI1M10sIFs0MC41NDIxMzMsIC0zLjQ3MjMyMl0sIFs0MC41NDIzMjQsIC0zLjQ3MjM4Ml0sIFs0MC41NDI1MTksIC0zLjQ3MjQ0NDk5OTk5OTk5OTZdLCBbNDAuNTQyNzA2LCAtMy40NzI1MDgwMDAwMDAwMDA0XSwgWzQwLjU0Mjg5MTk5OTk5OTk5NSwgLTMuNDcyNTU4MDAwMDAwMDAwM10sIFs0MC41NDMwNzE5OTk5OTk5OTUsIC0zLjQ3MjYxOTk5OTk5OTk5OTZdLCBbNDAuNTQzNDIzLCAtMy40NzI3NTJdLCBbNDAuNTQzNDIzLCAtMy40NzI3NTJdLCBbNDAuNTQzNjAyLCAtMy40NzI4MTddLCBbNDAuNTQzNzgxLCAtMy40NzI4N10sIFs0MC41NDM5NjgsIC0zLjQ3Mjk0NF0sIFs0MC41NDQxNDY5OTk5OTk5OTUsIC0zLjQ3MzAxNV0sIFs0MC41NDQzMjcsIC0zLjQ3MzA4Ml0sIFs0MC41NDQ1MTgsIC0zLjQ3MzE0Nl0sIFs0MC41NDQ3MDM5OTk5OTk5OTYsIC0zLjQ3MzIxMV0sIFs0MC41NDQ5MDMwMDAwMDAwMDUsIC0zLjQ3MzI0M10sIFs0MC41NDUwOTcsIC0zLjQ3MzMxNF0sIFs0MC41NDUyOTE5OTk5OTk5OTYsIC0zLjQ3MzM4XSwgWzQwLjU0NTQ4NiwgLTMuNDczNDUxOTk5OTk5OTk5NV0sIFs0MC41NDU2ODUsIC0zLjQ3MzUyNF0sIFs0MC41NDU4NzYsIC0zLjQ3MzU5NDk5OTk5OTk5OTVdLCBbNDAuNTQ2MDcsIC0zLjQ3MzY0NV0sIFs0MC41NDYyNjgsIC0zLjQ3MzcyN10sIFs0MC41NDY0NTUsIC0zLjQ3MzgwN10sIFs0MC41NDY2MzgsIC0zLjQ3Mzg2NV0sIFs0MC41NDY4Mjg5OTk5OTk5OTUsIC0zLjQ3MzkzNzAwMDAwMDAwMDNdLCBbNDAuNTQ3MDEyLCAtMy40NzQwMjFdLCBbNDAuNTQ3MTk5LCAtMy40NzQwOTQ5OTk5OTk5OTk3XSwgWzQwLjU0NzM3OSwgLTMuNDc0MTc1XSwgWzQwLjU0NzU1NCwgLTMuNDc0MjQ4MDAwMDAwMDAwMl0sIFs0MC41NDc3MzMsIC0zLjQ3NDM0XSwgWzQwLjU0NzkwOTAwMDAwMDAwNCwgLTMuNDc0NDI2OTk5OTk5OTk5NV0sIFs0MC41NDgyNzksIC0zLjQ3NDY0XSwgWzQwLjU0ODI3OSwgLTMuNDc0NjRdLCBbNDAuNTQ4NDU4MDAwMDAwMDA0LCAtMy40NzQ3MzddLCBbNDAuNTQ4NjQ1LCAtMy40NzQ4NTJdLCBbNDAuNTQ4ODIsIC0zLjQ3NDk2M10sIFs0MC41NDg5OTYsIC0zLjQ3NTA4M10sIFs0MC41NDkxNjgsIC0zLjQ3NTJdLCBbNDAuNTQ5MzMyLCAtMy40NzUzMDE5OTk5OTk5OTk3XSwgWzQwLjU0OTQ4ODAwMDAwMDAwNCwgLTMuNDc1NDIxXSwgWzQwLjU0OTY1MiwgLTMuNDc1NTMwOTk5OTk5OTk5N10sIFs0MC41NDk4MTIsIC0zLjQ3NTY1MTk5OTk5OTk5OTddLCBbNDAuNTQ5OTY5LCAtMy40NzU3ODJdLCBbNDAuNTUwMTMzLCAtMy40NzU5MV0sIFs0MC41NTAyODksIC0zLjQ3NjA1XSwgWzQwLjU1MDQ0NiwgLTMuNDc2MTgzOTk5OTk5OTk5NV0sIFs0MC41NTA1OTQsIC0zLjQ3NjMyNjk5OTk5OTk5OTVdLCBbNDAuNTUwOTE1LCAtMy40NzY2MTUwMDAwMDAwMDAyXSwgWzQwLjU1MDkxNSwgLTMuNDc2NjE1MDAwMDAwMDAwMl0sIFs0MC41NTEwNzEsIC0zLjQ3Njc2MjAwMDAwMDAwMDRdLCBbNDAuNTUxMjEyLCAtMy40NzY5MTRdLCBbNDAuNTUxMzczLCAtMy40NzcwODM5OTk5OTk5OTk2XSwgWzQwLjU1MTU0LCAtMy40NzcyNjJdLCBbNDAuNTUxNjg5LCAtMy40Nzc0MjldLCBbNDAuNTUxOTk4LCAtMy40Nzc3ODJdLCBbNDAuNTUyMTQ3LCAtMy40Nzc5NjhdLCBbNDAuNTUyMTQ3LCAtMy40Nzc5NjhdLCBbNDAuNTUyNDMzLCAtMy40NzgzNF0sIFs0MC41NTI0MzMsIC0zLjQ3ODM0XSwgWzQwLjU1MjU4NiwgLTMuNDc4NTM2XSwgWzQwLjU1MjczOCwgLTMuNDc4NzM5XSwgWzQwLjU1Mjg3OSwgLTMuNDc4OTU0XSwgWzQwLjU1MzE1OCwgLTMuNDc5Mzk2XSwgWzQwLjU1MzE1OCwgLTMuNDc5Mzk2XSwgWzQwLjU1MzI5NSwgLTMuNDc5NjI5XSwgWzQwLjU1MzQzMiwgLTMuNDc5ODU5XSwgWzQwLjU1MzU2NiwgLTMuNDgwMDc5XSwgWzQwLjU1MzY4OCwgLTMuNDgwMzI0XSwgWzQwLjU1MzgxNCwgLTMuNDgwNTY1MDAwMDAwMDAwNF0sIFs0MC41NTM5MzYsIC0zLjQ4MDgxXSwgWzQwLjU1NDA1NCwgLTMuNDgxMDUyOTk5OTk5OTk5N10sIFs0MC41NTQyOTUsIC0zLjQ4MTU2MjAwMDAwMDAwMDNdLCBbNDAuNTU0Mjk1LCAtMy40ODE1NjIwMDAwMDAwMDAzXSwgWzQwLjU1NDQxNywgLTMuNDgxODM3OTk5OTk5OTk5OF0sIFs0MC41NTQ1MzEsIC0zLjQ4MjEwNl0sIFs0MC41NTQ2NDYwMDAwMDAwMDUsIC0zLjQ4MjM4Nl0sIFs0MC41NTQ3NTIsIC0zLjQ4MjY2Njk5OTk5OTk5OTddLCBbNDAuNTU0ODU0OTk5OTk5OTk2LCAtMy40ODI5NjNdLCBbNDAuNTU0OTQ3LCAtMy40ODMyNV0sIFs0MC41NTUwNDYwMDAwMDAwMDQsIC0zLjQ4MzU0M10sIFs0MC41NTUxMzQsIC0zLjQ4MzgxNjk5OTk5OTk5OTddLCBbNDAuNTU1MjE0LCAtMy40ODQwOTQwMDAwMDAwMDAyXSwgWzQwLjU1NTI5NCwgLTMuNDg0Mzc5XSwgWzQwLjU1NTQzOSwgLTMuNDg0OTY2MDAwMDAwMDAwNV0sIFs0MC41NTU0MzksIC0zLjQ4NDk2NjAwMDAwMDAwMDVdLCBbNDAuNTU1NSwgLTMuNDg1MjU0MDAwMDAwMDAwM10sIFs0MC41NTU1NjksIC0zLjQ4NTU0Nl0sIFs0MC41NTU2MjIsIC0zLjQ4NTgzNV0sIFs0MC41NTU3MjUsIC0zLjQ4NjM3Mzk5OTk5OTk5OTZdLCBbNDAuNTU1NzY2OTk5OTk5OTk2LCAtMy40ODY2NF0sIFs0MC41NTU4MDUsIC0zLjQ4NjkxNV0sIFs0MC41NTU4NCwgLTMuNDg3MTk3XSwgWzQwLjU1NTg0LCAtMy40ODcxOTddLCBbNDAuNTU1OTA0LCAtMy40ODc3NTUwMDAwMDAwMDA0XSwgWzQwLjU1NTkwNCwgLTMuNDg3NzU1MDAwMDAwMDAwNF0sIFs0MC41NTU5NDYsIC0zLjQ4ODMzMzAwMDAwMDAwMDRdLCBbNDAuNTU1OTQ2LCAtMy40ODgzMzMwMDAwMDAwMDA0XSwgWzQwLjU1NTk1NCwgLTMuNDg4NjIyMDAwMDAwMDAwM10sIFs0MC41NTU5NjUsIC0zLjQ4ODkwM10sIFs0MC41NTU5NjksIC0zLjQ4OTE2OF0sIFs0MC41NTU5NjUsIC0zLjQ4OTQ1Mjk5OTk5OTk5OTddLCBbNDAuNTU1OTUsIC0zLjQ4OTczNzk5OTk5OTk5OTZdLCBbNDAuNTU1OTIzLCAtMy40OTAwMjFdLCBbNDAuNTU1ODkzLCAtMy40OTAyOThdLCBbNDAuNTU1ODU5MDAwMDAwMDA1LCAtMy40OTA1NzYwMDAwMDAwMDAzXSwgWzQwLjU1NTgxMywgLTMuNDkwODU0XSwgWzQwLjU1NTc2MywgLTMuNDkxMTE5OTk5OTk5OTk5Nl0sIFs0MC41NTU3MDYsIC0zLjQ5MTM4NDk5OTk5OTk5OTddLCBbNDAuNTU1NjM3LCAtMy40OTE2NDgwMDAwMDAwMDA1XSwgWzQwLjU1NTU3NiwgLTMuNDkxOTEyXSwgWzQwLjU1NTUsIC0zLjQ5MjE3M10sIFs0MC41NTU0MiwgLTMuNDkyNDI2XSwgWzQwLjU1NTMzMiwgLTMuNDkyNjc5XSwgWzQwLjU1NTI0MDk5OTk5OTk5NSwgLTMuNDkyOTMwOTk5OTk5OTk5Nl0sIFs0MC41NTUxNTMwMDAwMDAwMDQsIC0zLjQ5MzE3NV0sIFs0MC41NTUwNjEsIC0zLjQ5MzQxNF0sIFs0MC41NTQ5NzAwMDAwMDAwMDQsIC0zLjQ5MzY0NF0sIFs0MC41NTQ4ODIsIC0zLjQ5Mzg3MV0sIFs0MC41NTQ3MDMsIC0zLjQ5NDM1ODk5OTk5OTk5OThdLCBbNDAuNTU0NzAzLCAtMy40OTQzNTg5OTk5OTk5OTk4XSwgWzQwLjU1NDYxNTAwMDAwMDAwNSwgLTMuNDk0NjAyOTk5OTk5OTk5N10sIFs0MC41NTQ1NSwgLTMuNDk0ODRdLCBbNDAuNTU0NDc4LCAtMy40OTUwODVdLCBbNDAuNTU0Mzc1LCAtMy40OTU1ODcwMDAwMDAwMDA0XSwgWzQwLjU1NDM3NSwgLTMuNDk1NTg3MDAwMDAwMDAwNF0sIFs0MC41NTQyOTUsIC0zLjQ5NjEzMDAwMDAwMDAwMDRdLCBbNDAuNTU0Mjk1LCAtMy40OTYxMzAwMDAwMDAwMDA0XSwgWzQwLjU1NDI2OCwgLTMuNDk2Mzk5XSwgWzQwLjU1NDI0MSwgLTMuNDk2NjY5OTk5OTk5OTk5NV0sIFs0MC41NTQyMjYsIC0zLjQ5Njk0MTAwMDAwMDAwMDVdLCBbNDAuNTU0MjIxOTk5OTk5OTk2LCAtMy40OTc0NTQwMDAwMDAwMDAzXSwgWzQwLjU1NDIyMTk5OTk5OTk5NiwgLTMuNDk3NDU0MDAwMDAwMDAwM10sIFs0MC41NTQyMzcsIC0zLjQ5NzcyNF0sIFs0MC41NTQyNDksIC0zLjQ5Nzk4M10sIFs0MC41NTQyNjQsIC0zLjQ5ODI0XSwgWzQwLjU1NDMwNiwgLTMuNDk4NTFdLCBbNDAuNTU0MzQ4LCAtMy40OTg3NzkwMDAwMDAwMDAzXSwgWzQwLjU1NDM5OCwgLTMuNDk5MDQzXSwgWzQwLjU1NDQ1MSwgLTMuNDk5MzExXSwgWzQwLjU1NDUxMiwgLTMuNDk5NTU4OTk5OTk5OTk5Nl0sIFs0MC41NTQ1NjUwMDAwMDAwMDQsIC0zLjQ5OTgyNF0sIFs0MC41NTQ2MjMsIC0zLjUwMDA4Mzk5OTk5OTk5OThdLCBbNDAuNTU0NjgsIC0zLjUwMDM0NF0sIFs0MC41NTQ4NDQsIC0zLjUwMDg0Ml0sIFs0MC41NTQ4NDQsIC0zLjUwMDg0Ml0sIFs0MC41NTQ5NTEsIC0zLjUwMTA3Mzk5OTk5OTk5OTZdLCBbNDAuNTU1MDY1LCAtMy41MDEyOTgwMDAwMDAwMDAyXSwgWzQwLjU1NTE3NiwgLTMuNTAxNTE4XSwgWzQwLjU1NTI5NCwgLTMuNTAxNzM5XSwgWzQwLjU1NTU0NiwgLTMuNTAyMTkyXSwgWzQwLjU1NTY2OCwgLTMuNTAyNDMzMDAwMDAwMDAwNF0sIFs0MC41NTU2NjgsIC0zLjUwMjQzMzAwMDAwMDAwMDRdLCBbNDAuNTU1Nzg2LCAtMy41MDI2NzhdLCBbNDAuNTU1OTAxLCAtMy41MDI5NDNdLCBbNDAuNTU2MDE5LCAtMy41MDMyMDU5OTk5OTk5OTk2XSwgWzQwLjU1NjEyNiwgLTMuNTAzNDc2OTk5OTk5OTk5N10sIFs0MC41NTYzMTMsIC0zLjUwNDAxMjAwMDAwMDAwMDNdLCBbNDAuNTU2MzkzLCAtMy41MDQyOTg5OTk5OTk5OTk2XSwgWzQwLjU1NjM5MywgLTMuNTA0Mjk4OTk5OTk5OTk5Nl0sIFs0MC41NTY0NjksIC0zLjUwNDU4NV0sIFs0MC41NTY1OTUsIC0zLjUwNTE1NTAwMDAwMDAwMDJdLCBbNDAuNTU2NTk1LCAtMy41MDUxNTUwMDAwMDAwMDAyXSwgWzQwLjU1NjY1MiwgLTMuNTA1NDQ1XSwgWzQwLjU1NjY4MywgLTMuNTA1NzQ2XSwgWzQwLjU1NjcyNSwgLTMuNTA2MDM2XSwgWzQwLjU1Njc1MSwgLTMuNTA2MzM1XSwgWzQwLjU1Njc2NywgLTMuNTA2NjQ0XSwgWzQwLjU1Njc3OCwgLTMuNTA3MjAxMDAwMDAwMDAwMl0sIFs0MC41NTY3ODIsIC0zLjUwNzQ3Nl0sIFs0MC41NTY3ODIsIC0zLjUwNzQ3Nl0sIFs0MC41NTY3NzQsIC0zLjUwNzc0MV0sIFs0MC41NTY3NywgLTMuNTA4Mjc5XSwgWzQwLjU1Njc3LCAtMy41MDgyNzldLCBbNDAuNTU2NzYzMDAwMDAwMDA0LCAtMy41MDg1NDgwMDAwMDAwMDAyXSwgWzQwLjU1Njc2MzAwMDAwMDAwNCwgLTMuNTA4ODFdLCBbNDAuNTU2NzY3LCAtMy41MDkwODAwMDAwMDAwMDA0XSwgWzQwLjU1Njc3NCwgLTMuNTA5MzI2XSwgWzQwLjU1Njc5MywgLTMuNTA5NTc5XSwgWzQwLjU1NjgwODAwMDAwMDAwNCwgLTMuNTA5ODU3XSwgWzQwLjU1NjgzMSwgLTMuNTEwMTIzXSwgWzQwLjU1Njg2MiwgLTMuNTEwNDE0XSwgWzQwLjU1NjkwMzk5OTk5OTk5NiwgLTMuNTEwNzA1XSwgWzQwLjU1Njk1NzAwMDAwMDAwNCwgLTMuNTEwOTg3OTk5OTk5OTk5OF0sIFs0MC41NTcwMTgsIC0zLjUxMTI3Nl0sIFs0MC41NTcwODcsIC0zLjUxMTU2MV0sIFs0MC41NTcxNjcsIC0zLjUxMTgzMDAwMDAwMDAwMDJdLCBbNDAuNTU3MjQ3LCAtMy41MTIxMDUwMDAwMDAwMDA1XSwgWzQwLjU1NzQzNCwgLTMuNTEyNjQ0MDAwMDAwMDAwM10sIFs0MC41NTc0MzQsIC0zLjUxMjY0NDAwMDAwMDAwMDNdLCBbNDAuNTU3NTQxLCAtMy41MTI4OTNdLCBbNDAuNTU3NjU5LCAtMy41MTMxNV0sIFs0MC41NTc3OTMsIC0zLjUxMzQxMl0sIFs0MC41NTc5MjIsIC0zLjUxMzY1NTAwMDAwMDAwMDRdLCBbNDAuNTU4MDY3LCAtMy41MTM5MDZdLCBbNDAuNTU4MjMxLCAtMy41MTQxNDQwMDAwMDAwMDA0XSwgWzQwLjU1ODM4NDAwMDAwMDAwNCwgLTMuNTE0Mzc5XSwgWzQwLjU1ODU0Nzk5OTk5OTk5NSwgLTMuNTE0NjAxOTk5OTk5OTk5Nl0sIFs0MC41NTg3MiwgLTMuNTE0ODExXSwgWzQwLjU1OTA1MiwgLTMuNTE1MTkzXSwgWzQwLjU1OTA1MiwgLTMuNTE1MTkzXSwgWzQwLjU1OTI0MiwgLTMuNTE1MzY0XSwgWzQwLjU1OTYxNiwgLTMuNTE1NzI3OTk5OTk5OTk5N10sIFs0MC41NTk2MTYsIC0zLjUxNTcyNzk5OTk5OTk5OTddLCBbNDAuNTU5ODEwOTk5OTk5OTk2LCAtMy41MTU4NzMwMDAwMDAwMDA1XSwgWzQwLjU2MDAwNSwgLTMuNTE2XSwgWzQwLjU2MDIwNywgLTMuNTE2MTI2MDAwMDAwMDAwM10sIFs0MC41NjA0MTMsIC0zLjUxNjIzNV0sIFs0MC41NjA2MTksIC0zLjUxNjMyNzk5OTk5OTk5OTddLCBbNDAuNTYwODI1LCAtMy41MTY0MjhdLCBbNDAuNTYxMDMxLCAtMy41MTY0OTg5OTk5OTk5OTk2XSwgWzQwLjU2MTI0NSwgLTMuNTE2NTc4XSwgWzQwLjU2MTY3MTk5OTk5OTk5NCwgLTMuNTE2NjldLCBbNDAuNTYxNjcxOTk5OTk5OTk0LCAtMy41MTY2OV0sIFs0MC41NjE4ODYsIC0zLjUxNjcwNDAwMDAwMDAwMDNdLCBbNDAuNTYyMzA1LCAtMy41MTY3NzJdLCBbNDAuNTYyMzA1LCAtMy41MTY3NzJdLCBbNDAuNTYyNzI5LCAtMy41MTY4MjZdLCBbNDAuNTYyNzI5LCAtMy41MTY4MjZdLCBbNDAuNTYyOTM5LCAtMy41MTY4MzVdLCBbNDAuNTYzMTQ1LCAtMy41MTY4Nl0sIFs0MC41NjMzNDI5OTk5OTk5OTYsIC0zLjUxNjg5MV0sIFs0MC41NjM1NDUsIC0zLjUxNjkyNl0sIFs0MC41NjM3NDcsIC0zLjUxNjk2OTk5OTk5OTk5OTddLCBbNDAuNTYzOTY1LCAtMy41MTcwMjIwMDAwMDAwMDAzXSwgWzQwLjU2NDQxMSwgLTMuNTE3MTQ5XSwgWzQwLjU2NDQxMSwgLTMuNTE3MTQ5XSwgWzQwLjU2NDY0OCwgLTMuNTE3MjIzMDAwMDAwMDAwNF0sIFs0MC41NjQ4OCwgLTMuNTE3MzA3XSwgWzQwLjU2NTExNywgLTMuNTE3NDA4XSwgWzQwLjU2NTM1LCAtMy41MTc0OTldLCBbNDAuNTY1NTg1OTk5OTk5OTk2LCAtMy41MTc1OTU5OTk5OTk5OTk3XSwgWzQwLjU2NTgyMjk5OTk5OTk5NSwgLTMuNTE3NzAxXSwgWzQwLjU2NjA1NSwgLTMuNTE3ODE3XSwgWzQwLjU2NjI5MiwgLTMuNTE3OTQxOTk5OTk5OTk5N10sIFs0MC41NjY1MTcsIC0zLjUxODA3XSwgWzQwLjU2NjczNDAwMDAwMDAwNCwgLTMuNTE4MjA1OTk5OTk5OTk5N10sIFs0MC41NjY5NDgsIC0zLjUxODM0NDk5OTk5OTk5OTZdLCBbNDAuNTY3MTYxOTk5OTk5OTk2LCAtMy41MTg0ODFdLCBbNDAuNTY3MzY0MDAwMDAwMDA1LCAtMy41MTg2MTVdLCBbNDAuNTY3NTY2LCAtMy41MTg3NTRdLCBbNDAuNTY3NzY0MDAwMDAwMDA0LCAtMy41MTg4OTQ5OTk5OTk5OTk3XSwgWzQwLjU2Nzk1NSwgLTMuNTE5MDUxXSwgWzQwLjU2ODEzOCwgLTMuNTE5MjA0XSwgWzQwLjU2ODMxNywgLTMuNTE5MzU0XSwgWzQwLjU2ODQ5MywgLTMuNTE5NTEyXSwgWzQwLjU2ODY2OCwgLTMuNTE5NjczOTk5OTk5OTk5N10sIFs0MC41Njg4NCwgLTMuNTE5ODUxOTk5OTk5OTk5OF0sIFs0MC41NjkwMTIsIC0zLjUyMDAzOV0sIFs0MC41NjkxODcsIC0zLjUyMDIyNjk5OTk5OTk5OThdLCBbNDAuNTY5NTM0MDAwMDAwMDA0LCAtMy41MjA2MzRdLCBbNDAuNTY5NTM0MDAwMDAwMDA0LCAtMy41MjA2MzRdLCBbNDAuNTY5NzEsIC0zLjUyMDg0NDAwMDAwMDAwMDNdLCBbNDAuNTcwMDUzLCAtMy41MjEyODZdLCBbNDAuNTcwMDUzLCAtMy41MjEyODZdLCBbNDAuNTcwMjEzLCAtMy41MjE1MTRdLCBbNDAuNTcwMzcwMDAwMDAwMDA0LCAtMy41MjE3NDE5OTk5OTk5OTk3XSwgWzQwLjU3MDUxMDk5OTk5OTk5NiwgLTMuNTIxOTYzXSwgWzQwLjU3MDY0OCwgLTMuNTIyMTczOTk5OTk5OTk5N10sIFs0MC41NzA5MDQsIC0zLjUyMjYwNTk5OTk5OTk5OTddLCBbNDAuNTcwOTA0LCAtMy41MjI2MDU5OTk5OTk5OTk3XSwgWzQwLjU3MTEzMywgLTMuNTIzMDE0XSwgWzQwLjU3MTEzMywgLTMuNTIzMDE0XSwgWzQwLjU3MTI1MTAwMDAwMDAwNCwgLTMuNTIzMjI4XSwgWzQwLjU3MTM2MiwgLTMuNTIzNDQ0OTk5OTk5OTk5N10sIFs0MC41NzE0NjUsIC0zLjUyMzY1ODk5OTk5OTk5OTRdLCBbNDAuNTcxNTcxLCAtMy41MjM4ODddLCBbNDAuNTcxNzgxLCAtMy41MjQzNjIwMDAwMDAwMDA0XSwgWzQwLjU3MTc4MSwgLTMuNTI0MzYyMDAwMDAwMDAwNF0sIFs0MC41NzE4OCwgLTMuNTI0NjA3XSwgWzQwLjU3MTk3OTk5OTk5OTk5NiwgLTMuNTI0ODU4XSwgWzQwLjU3MjA4MywgLTMuNTI1MTIzMDAwMDAwMDAwMl0sIFs0MC41NzIxNywgLTMuNTI1Mzc2OTk5OTk5OTk5OF0sIFs0MC41NzIzNjEsIC0zLjUyNTkxMjk5OTk5OTk5OTZdLCBbNDAuNTcyMzYxLCAtMy41MjU5MTI5OTk5OTk5OTk2XSwgWzQwLjU3MjQ0MSwgLTMuNTI2MTYxXSwgWzQwLjU3MjUyODk5OTk5OTk5NiwgLTMuNTI2NDI2MDAwMDAwMDAwM10sIFs0MC41NzI2MDksIC0zLjUyNjY3M10sIFs0MC41NzI2ODEsIC0zLjUyNjkzMV0sIFs0MC41NzI3NTM5OTk5OTk5OTYsIC0zLjUyNzE4Ml0sIFs0MC41NzI4MjMsIC0zLjUyNzQxOTk5OTk5OTk5OThdLCBbNDAuNTcyODg3LCAtMy41Mjc2NTFdLCBbNDAuNTcyOTUyLCAtMy41Mjc4ODhdLCBbNDAuNTczMDIxMDAwMDAwMDA0LCAtMy41MjgxMTNdLCBbNDAuNTczMDgyLCAtMy41MjgzMzZdLCBbNDAuNTczMTUxLCAtMy41Mjg1NTNdLCBbNDAuNTczMjE5LCAtMy41Mjg3NzVdLCBbNDAuNTczMzAzLCAtMy41MjkwMTUwMDAwMDAwMDAyXSwgWzQwLjU3MzQ3MTAwMDAwMDAwNSwgLTMuNTI5NDgwMDAwMDAwMDAwNF0sIFs0MC41NzM0NzEwMDAwMDAwMDUsIC0zLjUyOTQ4MDAwMDAwMDAwMDRdLCBbNDAuNTczNjQ2OTk5OTk5OTk0LCAtMy41Mjk5NDldLCBbNDAuNTczNjQ2OTk5OTk5OTk0LCAtMy41Mjk5NDldLCBbNDAuNTczNzMsIC0zLjUzMDE3NjAwMDAwMDAwMDRdLCBbNDAuNTczODIyLCAtMy41MzA0MDU5OTk5OTk5OTk3XSwgWzQwLjU3MzkxLCAtMy41MzA2MzE5OTk5OTk5OTk4XSwgWzQwLjU3Mzk5NywgLTMuNTMwODQ0XSwgWzQwLjU3NDA4NSwgLTMuNTMxMDY5OTk5OTk5OTk5N10sIFs0MC41NzQyNzYsIC0zLjUzMTVdLCBbNDAuNTc0Mjc2LCAtMy41MzE1XSwgWzQwLjU3NDQ2NywgLTMuNTMxOTMwOTk5OTk5OTk5N10sIFs0MC41NzQ0NjcsIC0zLjUzMTkzMDk5OTk5OTk5OTddLCBbNDAuNTc0Njc3LCAtMy41MzIzNjFdLCBbNDAuNTc0Njc3LCAtMy41MzIzNjFdLCBbNDAuNTc0Nzc2LCAtMy41MzI1Njk5OTk5OTk5OTk4XSwgWzQwLjU3NDg4NiwgLTMuNTMyNzgyXSwgWzQwLjU3NDk5MywgLTMuNTMyOTk3XSwgWzQwLjU3NTA4OSwgLTMuNTMzMjE0XSwgWzQwLjU3NTIwMywgLTMuNTMzNDI5XSwgWzQwLjU3NTMwNiwgLTMuNTMzNjVdLCBbNDAuNTc1NDAxLCAtMy41MzM4NjldLCBbNDAuNTc1NTA4LCAtMy41MzQwOTNdLCBbNDAuNTc1NjExLCAtMy41MzQzMTI5OTk5OTk5OTk2XSwgWzQwLjU3NTcxNDAwMDAwMDAwNSwgLTMuNTM0NTQ4MDAwMDAwMDAwNV0sIFs0MC41NzU4MTMwMDAwMDAwMDQsIC0zLjUzNDc3NjAwMDAwMDAwMDRdLCBbNDAuNTc1OTkzLCAtMy41MzUyMjFdLCBbNDAuNTc1OTkzLCAtMy41MzUyMjFdLCBbNDAuNTc2MDg0LCAtMy41MzU0Nl0sIFs0MC41NzYwODQsIC0zLjUzNTQ2XSwgWzQwLjU3NjA4NCwgLTMuNTM1NDZdLCBbNDAuNTc2NDQ2OTk5OTk5OTk1LCAtMy41MzY0MzJdLCBbNDAuNTc2NTM0LCAtMy41MzY2NzYwMDAwMDAwMDA0XSwgWzQwLjU3NjUzNCwgLTMuNTM2Njc2MDAwMDAwMDAwNF0sIFs0MC41NzY2MzMsIC0zLjUzNjkyNjk5OTk5OTk5OTVdLCBbNDAuNTc2NzE0LCAtMy41MzcxNzJdLCBbNDAuNTc2Nzk3LCAtMy41Mzc0MThdLCBbNDAuNTc2ODg1LCAtMy41Mzc2NTddLCBbNDAuNTc2OTY1LCAtMy41Mzc5MDFdLCBbNDAuNTc3MDUzLCAtMy41MzgxNV0sIFs0MC41NzcxMzcsIC0zLjUzODM5Nl0sIFs0MC41NzcyMjEsIC0zLjUzODY0M10sIFs0MC41Nzc0LCAtMy41MzkxMzRdLCBbNDAuNTc3NCwgLTMuNTM5MTM0XSwgWzQwLjU3NzU5OSwgLTMuNTM5NjI3XSwgWzQwLjU3NzU5OSwgLTMuNTM5NjI3XSwgWzQwLjU3NzY5MDAwMDAwMDAwNCwgLTMuNTM5ODY2OTk5OTk5OTk5N10sIFs0MC41Nzc4NzMsIC0zLjU0MDM0ODAwMDAwMDAwMDNdLCBbNDAuNTc3ODczLCAtMy41NDAzNDgwMDAwMDAwMDAzXSwgWzQwLjU3Nzk2OSwgLTMuNTQwNTgyXSwgWzQwLjU3ODA2NDAwMDAwMDAwNSwgLTMuNTQwODE2MDAwMDAwMDAwNF0sIFs0MC41NzgxNzgsIC0zLjU0MTA0MTAwMDAwMDAwMDNdLCBbNDAuNTc4Mjc4MDAwMDAwMDA1LCAtMy41NDEyNjNdLCBbNDAuNTc4MzkyLCAtMy41NDE0NzFdLCBbNDAuNTc4NDk1MDAwMDAwMDA0LCAtMy41NDE2OTNdLCBbNDAuNTc4NjA5LCAtMy41NDE5MjldLCBbNDAuNTc4NzE2LCAtMy41NDIxNTE5OTk5OTk5OTk3XSwgWzQwLjU3ODg0MiwgLTMuNTQyMzc2MDAwMDAwMDAwNF0sIFs0MC41Nzg5NTk5OTk5OTk5OTUsIC0zLjU0MjYwMjk5OTk5OTk5OTddLCBbNDAuNTc5MDgyLCAtMy41NDI4MThdLCBbNDAuNTc5MjAxLCAtMy41NDMwNDZdLCBbNDAuNTc5NDM3LCAtMy41NDM0Nl0sIFs0MC41Nzk0MzcsIC0zLjU0MzQ2XSwgWzQwLjU3OTU1OSwgLTMuNTQzNjU1XSwgWzQwLjU3OTY4MSwgLTMuNTQzODQzXSwgWzQwLjU3OTc5MiwgLTMuNTQ0MDMwMDAwMDAwMDAwMl0sIFs0MC41Nzk5MDYsIC0zLjU0NDIwMl0sIFs0MC41ODAwMTcsIC0zLjU0NDM4MzAwMDAwMDAwMDNdLCBbNDAuNTgwMTM5LCAtMy41NDQ1NDldLCBbNDAuNTgwMjYxLCAtMy41NDQ3MjY5OTk5OTk5OTk1XSwgWzQwLjU4MDM4NywgLTMuNTQ0OTE2XSwgWzQwLjU4MDUxNywgLTMuNTQ1MTAyOTk5OTk5OTk5N10sIFs0MC41ODA2NSwgLTMuNTQ1MjkyXSwgWzQwLjU4MDkwOTk5OTk5OTk5NiwgLTMuNTQ1NjcxXSwgWzQwLjU4MDkwOTk5OTk5OTk5NiwgLTMuNTQ1NjcxXSwgWzQwLjU4MTA0NywgLTMuNTQ1ODUyOTk5OTk5OTk5N10sIFs0MC41ODExNzcwMDAwMDAwMDQsIC0zLjU0NjAzNV0sIFs0MC41ODEzMDYsIC0zLjU0NjIxNV0sIFs0MC41ODE0NCwgLTMuNTQ2MzkyXSwgWzQwLjU4MTU3MywgLTMuNTQ2NTY0XSwgWzQwLjU4MTcwNywgLTMuNTQ2NzM5XSwgWzQwLjU4MTg0NCwgLTMuNTQ2OTE5MDAwMDAwMDAwNF0sIFs0MC41ODE5ODIsIC0zLjU0NzEwN10sIFs0MC41ODIxMjI5OTk5OTk5OTYsIC0zLjU0NzI5ODk5OTk5OTk5OThdLCBbNDAuNTgyMzk3LCAtMy41NDc2OTQwMDAwMDAwMDAzXSwgWzQwLjU4MjUzMSwgLTMuNTQ3ODkzXSwgWzQwLjU4MjUzMSwgLTMuNTQ3ODkzXSwgWzQwLjU4MjY1NywgLTMuNTQ4MDk1OTk5OTk5OTk5N10sIFs0MC41ODI3ODY5OTk5OTk5OTYsIC0zLjU0ODMwN10sIFs0MC41ODI5MTIsIC0zLjU0ODUyNjAwMDAwMDAwMDNdLCBbNDAuNTgzMDM0OTk5OTk5OTk1LCAtMy41NDg3NDgwMDAwMDAwMDAyXSwgWzQwLjU4MzI1OTk5OTk5OTk5NiwgLTMuNTQ5MTg5XSwgWzQwLjU4MzI1OTk5OTk5OTk5NiwgLTMuNTQ5MTg5XSwgWzQwLjU4MzM2MywgLTMuNTQ5NDFdLCBbNDAuNTgzNDYyLCAtMy41NDk2MzM5OTk5OTk5OTk3XSwgWzQwLjU4MzU2MDk5OTk5OTk5NiwgLTMuNTQ5ODddLCBbNDAuNTgzNjUyLCAtMy41NTAxMDFdLCBbNDAuNTgzNzM2LCAtMy41NTAzMzNdLCBbNDAuNTgzODEzLCAtMy41NTA1NjVdLCBbNDAuNTgzODkyOTk5OTk5OTk2LCAtMy41NTA4XSwgWzQwLjU4NDAzNCwgLTMuNTUxMjcxXSwgWzQwLjU4NDAzNCwgLTMuNTUxMjcxXSwgWzQwLjU4NDE1MiwgLTMuNTUxNzMzOTk5OTk5OTk5N10sIFs0MC41ODQxNTIsIC0zLjU1MTczMzk5OTk5OTk5OTddLCBbNDAuNTg0MjU5LCAtMy41NTIxOTQ5OTk5OTk5OTk4XSwgWzQwLjU4NDI1OSwgLTMuNTUyMTk0OTk5OTk5OTk5OF0sIFs0MC41ODQzMDUsIC0zLjU1MjQzOV0sIFs0MC41ODQzNDMsIC0zLjU1MjY3OF0sIFs0MC41ODQzNzcsIC0zLjU1MjkyMzAwMDAwMDAwMDNdLCBbNDAuNTg0NDM1LCAtMy41NTMzOTEwMDAwMDAwMDA0XSwgWzQwLjU4NDQzNSwgLTMuNTUzMzkxMDAwMDAwMDAwNF0sIFs0MC41ODQ0NjEsIC0zLjU1MzYyMjAwMDAwMDAwMDNdLCBbNDAuNTg0NDg0LCAtMy41NTM4NDZdLCBbNDAuNTg0NTA3LCAtMy41NTQwNjZdLCBbNDAuNTg0NTMsIC0zLjU1NDI4MzAwMDAwMDAwMDNdLCBbNDAuNTg0NTUzLCAtMy41NTQ0OThdLCBbNDAuNTg0NTc2LCAtMy41NTQ3MDddLCBbNDAuNTg0NTk1LCAtMy41NTQ5MDddLCBbNDAuNTg0NjE4LCAtMy41NTUxMTIwMDAwMDAwMDAzXSwgWzQwLjU4NDY3MSwgLTMuNTU1NTAzXSwgWzQwLjU4NDY3MSwgLTMuNTU1NTAzXSwgWzQwLjU4NDY5Nzk5OTk5OTk5NiwgLTMuNTU1NjkzXSwgWzQwLjU4NDcyMSwgLTMuNTU1ODk1OTk5OTk5OTk5N10sIFs0MC41ODQ3NDAwMDAwMDAwMDQsIC0zLjU1NjA4OV0sIFs0MC41ODQ3NjMsIC0zLjU1NjI3NV0sIFs0MC41ODQ3NzgsIC0zLjU1NjQ1N10sIFs0MC41ODQ3OTY5OTk5OTk5OTUsIC0zLjU1NjYzM10sIFs0MC41ODQ4MiwgLTMuNTU2ODA0XSwgWzQwLjU4NDg0MywgLTMuNTU2OTc2XSwgWzQwLjU4NDg2NiwgLTMuNTU3MTQxMDAwMDAwMDAwNl0sIFs0MC41ODQ4ODEsIC0zLjU1NzI5NF0sIFs0MC41ODQ4OTYsIC0zLjU1NzQ2M10sIFs0MC41ODQ5MTEsIC0zLjU1NzYyNV0sIFs0MC41ODQ5MywgLTMuNTU3NzY4XSwgWzQwLjU4NDk1MzAwMDAwMDAwNiwgLTMuNTU3OTA4OTk5OTk5OTk5NV0sIFs0MC41ODQ5NzYsIC0zLjU1ODA1NTk5OTk5OTk5OTddLCBbNDAuNTg0OTk1LCAtMy41NTgxOTcwMDAwMDAwMDAzXV0sCiAgICAgICAgICAgICAgICAgICAgewogICJidWJibGluZ01vdXNlRXZlbnRzIjogdHJ1ZSwKICAiY29sb3IiOiAiYmx1ZSIsCiAgImRhc2hBcnJheSI6IG51bGwsCiAgImRhc2hPZmZzZXQiOiBudWxsLAogICJmaWxsIjogZmFsc2UsCiAgImZpbGxDb2xvciI6ICJibHVlIiwKICAiZmlsbE9wYWNpdHkiOiAwLjIsCiAgImZpbGxSdWxlIjogImV2ZW5vZGQiLAogICJsaW5lQ2FwIjogInJvdW5kIiwKICAibGluZUpvaW4iOiAicm91bmQiLAogICJub0NsaXAiOiBmYWxzZSwKICAib3BhY2l0eSI6IDEuMCwKICAic21vb3RoRmFjdG9yIjogMS4wLAogICJzdHJva2UiOiB0cnVlLAogICJ3ZWlnaHQiOiAxMAp9CiAgICAgICAgICAgICAgICAgICAgKQogICAgICAgICAgICAgICAgICAgIC5hZGRUbyhmZWF0dXJlX2dyb3VwXzJhOWY0YWIyYjVkYjQ0ZTU4NWExZDk3M2E0YjEzZmNmKTsKICAgICAgICAgICAgCiAgICAKICAgICAgICAgICAgdmFyIHBvcHVwX2FmYzJhNDQ2ZjMwZDQ0NzA4MjZjY2RiOGFjNjRkMTNkID0gTC5wb3B1cCh7bWF4V2lkdGg6ICcxMDAlJwogICAgICAgICAgICAKICAgICAgICAgICAgfSk7CgogICAgICAgICAgICAKICAgICAgICAgICAgICAgIHZhciBodG1sX2E1ZjQwZGYwYjQxZDQ3MDg4MmFlOGIwOThiMTI3ZjY2ID0gJChgPGRpdiBpZD0iaHRtbF9hNWY0MGRmMGI0MWQ0NzA4ODJhZThiMDk4YjEyN2Y2NiIgc3R5bGU9IndpZHRoOiAxMDAuMCU7IGhlaWdodDogMTAwLjAlOyI+PGI+UGF0aCBvZiBWZWhpY2xlXzE8L2I+PC9kaXY+YClbMF07CiAgICAgICAgICAgICAgICBwb3B1cF9hZmMyYTQ0NmYzMGQ0NDcwODI2Y2NkYjhhYzY0ZDEzZC5zZXRDb250ZW50KGh0bWxfYTVmNDBkZjBiNDFkNDcwODgyYWU4YjA5OGIxMjdmNjYpOwogICAgICAgICAgICAKCiAgICAgICAgICAgIHBvbHlfbGluZV9lOGExMzg1NGE4YjU0ZDU1YWY4ZjdhOGFhN2E1MTAzNS5iaW5kUG9wdXAocG9wdXBfYWZjMmE0NDZmMzBkNDQ3MDgyNmNjZGI4YWM2NGQxM2QpCiAgICAgICAgICAgIDsKCiAgICAgICAgICAgIAogICAgICAgIAogICAgCiAgICAgICAgcG9seV9saW5lX2U4YTEzODU0YThiNTRkNTVhZjhmN2E4YWE3YTUxMDM1LmJpbmRUb29sdGlwKAogICAgICAgICAgICBgPGRpdj5gCiAgICAgICAgICAgICsgYFZlaGljbGVfMWAgKyBgPC9kaXY+YCwKICAgICAgICAgICAgeyJzdGlja3kiOiB0cnVlfQogICAgICAgICk7CiAgICAgICAgCiAgICAKICAgICAgICAgICAgdmFyIGZlYXR1cmVfZ3JvdXBfNDMwMmM5Nzg4MTY1NDg4ZWJmMDA1ZmY1MmI3YjRiYTMgPSBMLmZlYXR1cmVHcm91cCgKICAgICAgICAgICAgICAgICkuYWRkVG8obWFwX2Y0MDI3ODBhNzM2NTQ0M2Q4ZmUxNWZkYjUxMDBiOTUyKTsKICAgICAgICAKICAgIAogICAgICAgICAgICAgICAgdmFyIHBvbHlfbGluZV82ZjI0OGU4MGJkNjM0MmJjOGQxZDk1ZjUwYTEwNmM5ZiA9IEwucG9seWxpbmUoCiAgICAgICAgICAgICAgICAgICAgW1s0MC41MTMyOTgsIC0zLjQwNjNdLCBbNDAuNTIxODcsIC0zLjQxMjQxOF0sIFs0MC41MjE5ODgsIC0zLjQxMjc0NDk5OTk5OTk5OTddLCBbNDAuNTIyMTYzLCAtMy40MTI5MDUwMDAwMDAwMDAzXSwgWzQwLjUyMjMzNSwgLTMuNDEzMDcxXSwgWzQwLjUyMjUwNywgLTMuNDEzMjM2XSwgWzQwLjUyMjY4NiwgLTMuNDEzNDI1XSwgWzQwLjUyMjg2NSwgLTMuNDEzNjA3XSwgWzQwLjUyMzAyMiwgLTMuNDEzODAxOTk5OTk5OTk5Nl0sIFs0MC41MjMxODIsIC0zLjQxNF0sIFs0MC41MjMzNSwgLTMuNDE0MjExXSwgWzQwLjUyMzUwNiwgLTMuNDE0NDMwMDAwMDAwMDAwM10sIFs0MC41MjM2NjMsIC0zLjQxNDY1NF0sIFs0MC41MjM4MTEsIC0zLjQxNDg4Nl0sIFs0MC41MjM5NTIsIC0zLjQxNTEzMl0sIFs0MC41MjQwODYsIC0zLjQxNTM4OV0sIFs0MC41MjQyMTU5OTk5OTk5OTYsIC0zLjQxNTY1NF0sIFs0MC41MjQzMzgsIC0zLjQxNTkxOV0sIFs0MC41MjQ0NTYsIC0zLjQxNjE5MTk5OTk5OTk5OTddLCBbNDAuNTI0NTUxLCAtMy40MTY0NTRdLCBbNDAuNTI0NjUxLCAtMy40MTY3MjFdLCBbNDAuNTI0NzM0LCAtMy40MTY5ODVdLCBbNDAuNTI0ODA3LCAtMy40MTcyNV0sIFs0MC41MjQ4ODMsIC0zLjQxNzUyOF0sIFs0MC41MjQ5NTYsIC0zLjQxNzgwMTAwMDAwMDAwMDNdLCBbNDAuNTI1MDIxLCAtMy40MTgwODldLCBbNDAuNTI1MDc4LCAtMy40MTgzNzY5OTk5OTk5OTk2XSwgWzQwLjUyNTE0MywgLTMuNDE4NjYyMDAwMDAwMDAwM10sIFs0MC41MjUyMDgsIC0zLjQxODk1Mjk5OTk5OTk5OTddLCBbNDAuNTI1MjY5LCAtMy40MTkyNDddLCBbNDAuNTI1MzQxLCAtMy40MTk1NDldLCBbNDAuNTI1NDE3LCAtMy40MTk4NTEwMDAwMDAwMDA0XSwgWzQwLjUyNTUwMSwgLTMuNDIwMTVdLCBbNDAuNTI1NTkzLCAtMy40MjA0NTE5OTk5OTk5OTk2XSwgWzQwLjUyNTcsIC0zLjQyMDc1M10sIFs0MC41MjU4MSwgLTMuNDIxMDUxMDAwMDAwMDAwM10sIFs0MC41MjU5MjUsIC0zLjQyMTMzM10sIFs0MC41MjYwNjE5OTk5OTk5OTYsIC0zLjQyMTYxMV0sIFs0MC41MjYyMDMsIC0zLjQyMTg4Mzk5OTk5OTk5OTVdLCBbNDAuNTI2MzQ4LCAtMy40MjIxNTRdLCBbNDAuNTI2NTEyLCAtMy40MjI0MTYwMDAwMDAwMDA2XSwgWzQwLjUyNjY5NTAwMDAwMDAwNCwgLTMuNDIyNjczOTk5OTk5OTk5OF0sIFs0MC41MjY4NzgsIC0zLjQyMjkxXSwgWzQwLjUyNzA3MywgLTMuNDIzMTMyXSwgWzQwLjUyNzI5LCAtMy40MjMzMjkwMDAwMDAwMDAzXSwgWzQwLjUyNzUxNSwgLTMuNDIzNTI2OTk5OTk5OTk5NV0sIFs0MC41Mjc3MzcsIC0zLjQyMzY4NV0sIFs0MC41Mjc5NjksIC0zLjQyMzg0NDAwMDAwMDAwMDNdLCBbNDAuNTI4MjE0LCAtMy40MjM5OTZdLCBbNDAuNTI4NDU4LCAtMy40MjQxNTNdLCBbNDAuNTI4NzA2LCAtMy40MjQzMTRdLCBbNDAuNTI4OTQ2MDAwMDAwMDA1LCAtMy40MjQ0NzJdLCBbNDAuNTI5MTksIC0zLjQyNDYzOF0sIFs0MC41Mjk0MzQsIC0zLjQyNDgxXSwgWzQwLjUyOTY3ODAwMDAwMDAwNCwgLTMuNDI0OTkxMDAwMDAwMDAwM10sIFs0MC41Mjk5MjIsIC0zLjQyNTE3MDk5OTk5OTk5OTddLCBbNDAuNTMwMTQ0LCAtMy40MjUzNTddLCBbNDAuNTMwMzY5LCAtMy40MjU1NDddLCBbNDAuNTMwNTkwMDAwMDAwMDA0LCAtMy40MjU3NDgwMDAwMDAwMDA1XSwgWzQwLjUzMDgwNywgLTMuNDI1OTU2XSwgWzQwLjUzMTAwOTk5OTk5OTk5NSwgLTMuNDI2MTgwOTk5OTk5OTk5N10sIFs0MC41MzEyMTYsIC0zLjQyNjQyNF0sIFs0MC41MzE0MTQsIC0zLjQyNjY3MzAwMDAwMDAwMDVdLCBbNDAuNTMxNjA1LCAtMy40MjY5MTkwMDAwMDAwMDAzXSwgWzQwLjUzMTc5MTk5OTk5OTk5NiwgLTMuNDI3MTcxXSwgWzQwLjUzMTk2MywgLTMuNDI3NDIzXSwgWzQwLjUzMjEyLCAtMy40Mjc2ODAwMDAwMDAwMDA1XSwgWzQwLjUzMjI4NDAwMDAwMDAwNCwgLTMuNDI3OTUzXSwgWzQwLjUzMjQ1MiwgLTMuNDI4MjI4XSwgWzQwLjUzMjU5Njk5OTk5OTk5NiwgLTMuNDI4NTA5OTk5OTk5OTk5N10sIFs0MC41MzI3MywgLTMuNDI4Nzk0OTk5OTk5OTk5Nl0sIFs0MC41MzI4NTIsIC0zLjQyOTA4NDk5OTk5OTk5OTddLCBbNDAuNTMyOTY3LCAtMy40MjkzNzMwMDAwMDAwMDA0XSwgWzQwLjUzMzA3NywgLTMuNDI5NjYyOTk5OTk5OTk5N10sIFs0MC41MzMxOCwgLTMuNDI5OTYzXSwgWzQwLjUzMzI4MzAwMDAwMDAwNCwgLTMuNDMwMjQ5XSwgWzQwLjUzMzM3MSwgLTMuNDMwNTM2XSwgWzQwLjUzMzQ1MSwgLTMuNDMwODM0OTk5OTk5OTk5Nl0sIFs0MC41MzM1MjQsIC0zLjQzMTEzNl0sIFs0MC41MzM1ODgsIC0zLjQzMTQ0MTk5OTk5OTk5OTddLCBbNDAuNTMzNjQ2MDAwMDAwMDA1LCAtMy40MzE3NTddLCBbNDAuNTMzNjk5LCAtMy40MzIwNjkwMDAwMDAwMDAzXSwgWzQwLjUzMzc0OSwgLTMuNDMyMzc3XSwgWzQwLjUzMzc4MywgLTMuNDMyNjgyXSwgWzQwLjUzMzgwNiwgLTMuNDMzXSwgWzQwLjUzMzgzNiwgLTMuNDMzMzE2OTk5OTk5OTk5N10sIFs0MC41MzM4NTQ5OTk5OTk5OTYsIC0zLjQzMzYzNDk5OTk5OTk5OThdLCBbNDAuNTMzODc1LCAtMy40MzM5Nl0sIFs0MC41MzM4OSwgLTMuNDM0MjgzXSwgWzQwLjUzMzg4NTk5OTk5OTk5NSwgLTMuNDM0NTk5XSwgWzQwLjUzMzg5LCAtMy40MzQ5MTYwMDAwMDAwMDAzXSwgWzQwLjUzMzkwMSwgLTMuNDM1MjQ3XSwgWzQwLjUzMzg4NTk5OTk5OTk5NSwgLTMuNDM1NTUxOTk5OTk5OTk5NV0sIFs0MC41MzM4ODU5OTk5OTk5OTUsIC0zLjQzNTg3MV0sIFs0MC41MzM4ODIsIC0zLjQzNjE3NF0sIFs0MC41MzM4NzUsIC0zLjQzNjUwNTAwMDAwMDAwMDRdLCBbNDAuNTMzODgyLCAtMy40MzY4MjVdLCBbNDAuNTMzODc4LCAtMy40MzcxNDQ5OTk5OTk5OTk3XSwgWzQwLjUzMzg3NSwgLTMuNDM3NDU1OTk5OTk5OTk5Nl0sIFs0MC41MzM4NzgsIC0zLjQzNzc3OF0sIFs0MC41MzM4NzUsIC0zLjQzODA5NDAwMDAwMDAwMDRdLCBbNDAuNTMzODg1OTk5OTk5OTk1LCAtMy40Mzg0MDg5OTk5OTk5OTk2XSwgWzQwLjUzMzg3OCwgLTMuNDM4NzI5XSwgWzQwLjUzMzg2NywgLTMuNDM5MDQ3XSwgWzQwLjUzMzg2NywgLTMuNDM5MzY4XSwgWzQwLjUzMzg2MzAwMDAwMDAwNCwgLTMuNDM5NjY5MDAwMDAwMDAwM10sIFs0MC41MzM4NjMwMDAwMDAwMDQsIC0zLjQzOTk4NV0sIFs0MC41MzM4NjMwMDAwMDAwMDQsIC0zLjQ0MDMwOTk5OTk5OTk5OThdLCBbNDAuNTMzODU5LCAtMy40NDA2NF0sIFs0MC41MzM4NTksIC0zLjQ0MDk3Nl0sIFs0MC41MzM4NTksIC0zLjQ0MTMxMTAwMDAwMDAwMDJdLCBbNDAuNTMzODU5LCAtMy40NDE2NTUwMDAwMDAwMDA0XSwgWzQwLjUzMzg1NDk5OTk5OTk5NiwgLTMuNDQyMDAxMDAwMDAwMDAwM10sIFs0MC41MzM4NTIsIC0zLjQ0MjMzOF0sIFs0MC41MzM4NDgsIC0zLjQ0MjY3MzAwMDAwMDAwMDVdLCBbNDAuNTMzODUyLCAtMy40NDMwMDddLCBbNDAuNTMzODUyLCAtMy40NDMzNDldLCBbNDAuNTMzODQ4LCAtMy40NDM2OTEwMDAwMDAwMDAzXSwgWzQwLjUzMzg0NCwgLTMuNDQ0MDMxXSwgWzQwLjUzMzg0NCwgLTMuNDQ0MzY5XSwgWzQwLjUzMzg0MDAwMDAwMDAwNSwgLTMuNDQ0NzA1MDAwMDAwMDAwNF0sIFs0MC41MzM4MzYsIC0zLjQ0NTAzOF0sIFs0MC41MzM4NDQsIC0zLjQ0NTM2OTk5OTk5OTk5OTZdLCBbNDAuNTMzODQ4LCAtMy40NDU3MjRdLCBbNDAuNTMzODQ4LCAtMy40NDYwNzZdLCBbNDAuNTMzODI1LCAtMy40NDY0Ml0sIFs0MC41MzM4MjksIC0zLjQ0Njc4MzAwMDAwMDAwMDRdLCBbNDAuNTMzODMzLCAtMy40NDcxMTk5OTk5OTk5OTk1XSwgWzQwLjUzMzgyNSwgLTMuNDQ3NDUxOTk5OTk5OTk5N10sIFs0MC41MzM4MjUsIC0zLjQ0Nzc4ODk5OTk5OTk5OThdLCBbNDAuNTMzODMzLCAtMy40NDgxMzAwMDAwMDAwMDA0XSwgWzQwLjUzMzg0NCwgLTMuNDQ4NDY4XSwgWzQwLjUzMzgzNiwgLTMuNDQ4ODA4XSwgWzQwLjUzMzg0OCwgLTMuNDQ5MTVdLCBbNDAuNTMzODUyLCAtMy40NDk0ODldLCBbNDAuNTMzODQ0LCAtMy40NDk4MzMwMDAwMDAwMDA0XSwgWzQwLjUzMzg0MDAwMDAwMDAwNSwgLTMuNDUwMTc3OTk5OTk5OTk5N10sIFs0MC41MzM4MzYsIC0zLjQ1MDUyMDk5OTk5OTk5OTddLCBbNDAuNTMzODM2LCAtMy40NTA4NTddLCBbNDAuNTMzODI1LCAtMy40NTExOThdLCBbNDAuNTMzODEzLCAtMy40NTE1MzM5OTk5OTk5OTk3XSwgWzQwLjUzMzgwNiwgLTMuNDUxODc1XSwgWzQwLjUzMzgwOTk5OTk5OTk5NSwgLTMuNDUyMjA4XSwgWzQwLjUzMzgwNiwgLTMuNDUyNTQ3XSwgWzQwLjUzMzgwNiwgLTMuNDUyODc0XSwgWzQwLjUzMzgwOTk5OTk5OTk5NSwgLTMuNDUzMjAxOTk5OTk5OTk5N10sIFs0MC41MzM4MDIsIC0zLjQ1MzUzNl0sIFs0MC41MzM4MDIsIC0zLjQ1Mzg3Ml0sIFs0MC41MzM3OTgsIC0zLjQ1NDIxXSwgWzQwLjUzMzc5MSwgLTMuNDU0NTU3XSwgWzQwLjUzMzc5MSwgLTMuNDU0ODkzXSwgWzQwLjUzMzc5NCwgLTMuNDU1MjIzXSwgWzQwLjUzMzc4NywgLTMuNDU1NTU4OTk5OTk5OTk5Nl0sIFs0MC41MzM3OTEsIC0zLjQ1NTg5NDk5OTk5OTk5OTVdLCBbNDAuNTMzNzkxLCAtMy40NTYyMTk5OTk5OTk5OTk2XSwgWzQwLjUzMzc5MSwgLTMuNDU2NTQ4XSwgWzQwLjUzMzc5NCwgLTMuNDU2ODgwOTk5OTk5OTk5Nl0sIFs0MC41MzM3ODcsIC0zLjQ1NzIyMzAwMDAwMDAwMDRdLCBbNDAuNTMzNzk4LCAtMy40NTc1NjNdLCBbNDAuNTMzNzkxLCAtMy40NTc5MDhdLCBbNDAuNTMzNzk0LCAtMy40NTgyMzM5OTk5OTk5OTk2XSwgWzQwLjUzMzc5OCwgLTMuNDU4NTU4XSwgWzQwLjUzMzc5NCwgLTMuNDU4ODgzXSwgWzQwLjUzMzc5NCwgLTMuNDU5MTk3XSwgWzQwLjUzMzc4NywgLTMuNDU5NTA0XSwgWzQwLjUzMzc5NCwgLTMuNDU5NzgwMDAwMDAwMDAwM10sIFs0MC41MzM3OTEsIC0zLjQ2MDA2XSwgWzQwLjUzMzc4NywgLTMuNDYwMzM3MDAwMDAwMDAwNF0sIFs0MC41MzM3NjgsIC0zLjQ2MDYxMV0sIFs0MC41MzM3NzIsIC0zLjQ2MDkwOTk5OTk5OTk5OTddLCBbNDAuNTMzNzc1LCAtMy40NjEyXSwgWzQwLjUzMzc3NSwgLTMuNDYxNDldLCBbNDAuNTMzNzcyLCAtMy40NjE3NzIwMDAwMDAwMDAzXSwgWzQwLjUzMzc3NSwgLTMuNDYyMDY0XSwgWzQwLjUzMzc2OCwgLTMuNDYyMzU1OTk5OTk5OTk5OF0sIFs0MC41MzM3NzUsIC0zLjQ2MjYwODAwMDAwMDAwMDRdLCBbNDAuNTMzNzgzLCAtMy40NjI4OTU5OTk5OTk5OTk4XSwgWzQwLjUzMzc4MywgLTMuNDYzMTgzMDAwMDAwMDAwM10sIFs0MC41MzM3ODMsIC0zLjQ2MzQ2OF0sIFs0MC41MzM3NzUsIC0zLjQ2Mzc0ODAwMDAwMDAwMDNdLCBbNDAuNTMzNzc1LCAtMy40NjQwMThdLCBbNDAuNTMzNzc1LCAtMy40NjQyOTRdLCBbNDAuNTMzNzc4OTk5OTk5OTk2LCAtMy40NjQ1NzZdLCBbNDAuNTMzNzgzLCAtMy40NjQ4NThdLCBbNDAuNTMzNzk4LCAtMy40NjUxNDNdLCBbNDAuNTMzODA5OTk5OTk5OTk1LCAtMy40NjU0MThdLCBbNDAuNTMzODI5LCAtMy40NjU2OTE5OTk5OTk5OTk4XSwgWzQwLjUzMzg1OSwgLTMuNDY1OTY2MDAwMDAwMDAwM10sIFs0MC41MzM5MDEsIC0zLjQ2NjI0OV0sIFs0MC41MzM5NDMsIC0zLjQ2NjU0MTAwMDAwMDAwMDNdLCBbNDAuNTM0MDAzOTk5OTk5OTk2LCAtMy40NjY4MTI5OTk5OTk5OTk3XSwgWzQwLjUzNDA4MSwgLTMuNDY3MDc5XSwgWzQwLjUzNDE1NywgLTMuNDY3MzM3XSwgWzQwLjUzNDI0OCwgLTMuNDY3NTkyXSwgWzQwLjUzNDM0NCwgLTMuNDY3ODQxMDAwMDAwMDAwNF0sIFs0MC41MzQ0NDcsIC0zLjQ2ODA3Nzk5OTk5OTk5OThdLCBbNDAuNTM0NTY5LCAtMy40NjgzMTVdLCBbNDAuNTM0Njg3LCAtMy40Njg1NDRdLCBbNDAuNTM0ODE3LCAtMy40Njg3NTgwMDAwMDAwMDAyXSwgWzQwLjUzNDk2NiwgLTMuNDY4OTY0XSwgWzQwLjUzNTEwOTk5OTk5OTk5NiwgLTMuNDY5MTY1MDAwMDAwMDAwM10sIFs0MC41MzUyNjMsIC0zLjQ2OTM1NV0sIFs0MC41MzU0MTYsIC0zLjQ2OTUzMV0sIFs0MC41MzU1ODMsIC0zLjQ2OTY5NF0sIFs0MC41MzU3NTEsIC0zLjQ2OTg1MTAwMDAwMDAwMDJdLCBbNDAuNTM1OTM0MDAwMDAwMDA1LCAtMy40NzAwMDEwMDAwMDAwMDAzXSwgWzQwLjUzNjEyMSwgLTMuNDcwMTIzMDAwMDAwMDAwNV0sIFs0MC41MzYzMTIsIC0zLjQ3MDI1ODk5OTk5OTk5OTVdLCBbNDAuNTM2NTE0MDAwMDAwMDA0LCAtMy40NzAzODA5OTk5OTk5OTk3XSwgWzQwLjUzNjcyLCAtMy40NzA0ODJdLCBbNDAuNTM2OTM0LCAtMy40NzA1Nzc5OTk5OTk5OTk3XSwgWzQwLjUzNzE0NCwgLTMuNDcwNjY2OTk5OTk5OTk5N10sIFs0MC41MzczNjUsIC0zLjQ3MDc1MTk5OTk5OTk5OTZdLCBbNDAuNTM3NTgyLCAtMy40NzA4MzJdLCBbNDAuNTM3Nzk2LCAtMy40NzA5MDZdLCBbNDAuNTM4MDI1LCAtMy40NzA5OTFdLCBbNDAuNTM4MjQ2LCAtMy40NzEwNjkwMDAwMDAwMDA0XSwgWzQwLjUzODQ1NiwgLTMuNDcxMTM2XSwgWzQwLjUzODY3LCAtMy40NzEyMDg5OTk5OTk5OTk1XSwgWzQwLjUzODg0OSwgLTMuNDcxMjc4XSwgWzQwLjUzOTA2MiwgLTMuNDcxMzUxMDAwMDAwMDAwM10sIFs0MC41MzkyOCwgLTMuNDcxNDMxXSwgWzQwLjUzOTUwOSwgLTMuNDcxNTE3XSwgWzQwLjUzOTcyMiwgLTMuNDcxNTgwOTk5OTk5OTk5Nl0sIFs0MC41Mzk5NDQsIC0zLjQ3MTY1NF0sIFs0MC41NDAxNTQsIC0zLjQ3MTcxNjAwMDAwMDAwMDJdLCBbNDAuNTQwMzU2LCAtMy40NzE3ODcwMDAwMDAwMDA0XSwgWzQwLjU0MDU2MiwgLTMuNDcxODUxOTk5OTk5OTk5N10sIFs0MC41NDA3NzEsIC0zLjQ3MTkxMV0sIFs0MC41NDA5NzcwMDAwMDAwMDUsIC0zLjQ3MTk5MTAwMDAwMDAwMDVdLCBbNDAuNTQxMTc2LCAtMy40NzIwNjNdLCBbNDAuNTQxMzc4LCAtMy40NzIxMl0sIFs0MC41NDE1ODQsIC0zLjQ3MjE4Mzk5OTk5OTk5OTVdLCBbNDAuNTQxNzg2LCAtMy40NzIyNDU5OTk5OTk5OTk3XSwgWzQwLjU0MTk5MiwgLTMuNDcyMzExXSwgWzQwLjU0MjIwMiwgLTMuNDcyMzc1XSwgWzQwLjU0MjM5Njk5OTk5OTk5NCwgLTMuNDcyNDQzXSwgWzQwLjU0MjU5ODk5OTk5OTk5NiwgLTMuNDcyNTA1OTk5OTk5OTk5Nl0sIFs0MC41NDI3ODYsIC0zLjQ3MjU2OF0sIFs0MC41NDI5NjksIC0zLjQ3MjYyMzk5OTk5OTk5OTddLCBbNDAuNTQzMTYzLCAtMy40NzI2OTZdLCBbNDAuNTQzMzg4LCAtMy40NzI3OTgwMDAwMDAwMDA1XSwgWzQwLjU0MzU5MSwgLTMuNDcyODYzXSwgWzQwLjU0Mzc4NSwgLTMuNDcyOTI4XSwgWzQwLjU0Mzk4NywgLTMuNDcyOTk0OTk5OTk5OTk5Nl0sIFs0MC41NDQxNzgsIC0zLjQ3MzA2M10sIFs0MC41NDQzNjksIC0zLjQ3MzEyM10sIFs0MC41NDQ1NzEwMDAwMDAwMDUsIC0zLjQ3MzE4NF0sIFs0MC41NDQ3NjksIC0zLjQ3MzI0NV0sIFs0MC41NDQ5NzUsIC0zLjQ3MzMxOF0sIFs0MC41NDUxODUsIC0zLjQ3MzM4Nl0sIFs0MC41NDUzNjc5OTk5OTk5OTYsIC0zLjQ3MzQ1MTk5OTk5OTk5OTVdLCBbNDAuNTQ1NTQ0LCAtMy40NzM1MDJdLCBbNDAuNTQ1NzM0LCAtMy40NzM1NTddLCBbNDAuNTQ1OTI1LCAtMy40NzM2MzJdLCBbNDAuNTQ2MTM5MDAwMDAwMDA0LCAtMy40NzM3MDRdLCBbNDAuNTQ2MzI2LCAtMy40NzM3NTldLCBbNDAuNTQ2NTA5LCAtMy40NzM4MjYwMDAwMDAwMDAzXSwgWzQwLjU0NjcxMSwgLTMuNDczODc3XSwgWzQwLjU0NjkwNiwgLTMuNDczOTU4XSwgWzQwLjU0NzEsIC0zLjQ3NDA0Ml0sIFs0MC41NDczMDIsIC0zLjQ3NDEzNzAwMDAwMDAwMDNdLCBbNDAuNTQ3NTAxMDAwMDAwMDA0LCAtMy40NzQyMjJdLCBbNDAuNTQ3Njk5LCAtMy40NzQzMjJdLCBbNDAuNTQ3ODk3LCAtMy40NzQ0MjhdLCBbNDAuNTQ4MTAzMDAwMDAwMDA1LCAtMy40NzQ1MzZdLCBbNDAuNTQ4MzA2LCAtMy40NzQ2NV0sIFs0MC41NDg1MDQsIC0zLjQ3NDc2MV0sIFs0MC41NDg3MSwgLTMuNDc0ODg0XSwgWzQwLjU0ODkxMiwgLTMuNDc1MDEyMDAwMDAwMDAwNF0sIFs0MC41NDkxMSwgLTMuNDc1MTQ0MDAwMDAwMDAwMl0sIFs0MC41NDkzMDksIC0zLjQ3NTI3OV0sIFs0MC41NDk1MDcsIC0zLjQ3NTQxOTk5OTk5OTk5OTddLCBbNDAuNTQ5NzAyLCAtMy40NzU1NjFdLCBbNDAuNTQ5ODkyLCAtMy40NzU3MTJdLCBbNDAuNTUwMDcyLCAtMy40NzU4NjFdLCBbNDAuNTUwMjUxLCAtMy40NzYwMTUwMDAwMDAwMDAzXSwgWzQwLjU1MDQzNCwgLTMuNDc2MTc0XSwgWzQwLjU1MDYxMywgLTMuNDc2MzM3MDAwMDAwMDAwNV0sIFs0MC41NTA3ODksIC0zLjQ3NjUwNDAwMDAwMDAwMDNdLCBbNDAuNTUwOTY0LCAtMy40NzY2NzM5OTk5OTk5OTk2XSwgWzQwLjU1MTE0NywgLTMuNDc2ODVdLCBbNDAuNTUxMzE1LCAtMy40NzcwMjY5OTk5OTk5OTk2XSwgWzQwLjU1MTQ4NywgLTMuNDc3MjA3XSwgWzQwLjU1MTY0Njk5OTk5OTk5NiwgLTMuNDc3MzkyXSwgWzQwLjU1MTgxMSwgLTMuNDc3NTkxMDAwMDAwMDAwM10sIFs0MC41NTE5ODMsIC0zLjQ3Nzc5NzAwMDAwMDAwMDJdLCBbNDAuNTUyMTM5MDAwMDAwMDA0LCAtMy40Nzc5OTg5OTk5OTk5OTk2XSwgWzQwLjU1MjMwMywgLTMuNDc4MjA4XSwgWzQwLjU1MjQ1OTk5OTk5OTk5NiwgLTMuNDc4NDE1XSwgWzQwLjU1MjYyMDAwMDAwMDAwNSwgLTMuNDc4NjMwOTk5OTk5OTk5Nl0sIFs0MC41NTI3OCwgLTMuNDc4ODQzXSwgWzQwLjU1MjkxLCAtMy40NzkwNV0sIFs0MC41NTMwMzYsIC0zLjQ3OTI2NTAwMDAwMDAwMDNdLCBbNDAuNTUzMTYyLCAtMy40Nzk0NzM5OTk5OTk5OTk3XSwgWzQwLjU1MzI5NSwgLTMuNDc5Njk0MDAwMDAwMDAwM10sIFs0MC41NTM0MjUsIC0zLjQ3OTkyMzAwMDAwMDAwMDNdLCBbNDAuNTUzNTQ2OTk5OTk5OTk1LCAtMy40ODAxNDldLCBbNDAuNTUzNjY1LCAtMy40ODAzNzZdLCBbNDAuNTUzNzgzLCAtMy40ODA2MTUwMDAwMDAwMDAyXSwgWzQwLjU1MzkxMywgLTMuNDgwODU0XSwgWzQwLjU1NDAzNSwgLTMuNDgxMTA3XSwgWzQwLjU1NDE1NzAwMDAwMDAwNCwgLTMuNDgxMzU4XSwgWzQwLjU1NDI3NiwgLTMuNDgxNjFdLCBbNDAuNTU0MzkwMDAwMDAwMDA1LCAtMy40ODE4N10sIFs0MC41NTQ1MDgsIC0zLjQ4MjE0ODAwMDAwMDAwMDVdLCBbNDAuNTU0NjA3LCAtMy40ODI0MjJdLCBbNDAuNTU0NzEsIC0zLjQ4MjcxMV0sIFs0MC41NTQ4MjksIC0zLjQ4MzAwODk5OTk5OTk5OTZdLCBbNDAuNTU0OTMyLCAtMy40ODMzMDNdLCBbNDAuNTU1MDMxLCAtMy40ODM2MDNdLCBbNDAuNTU1MTI2LCAtMy40ODM5MTJdLCBbNDAuNTU1MjIyLCAtMy40ODQyMjY5OTk5OTk5OTk3XSwgWzQwLjU1NTMwOSwgLTMuNDg0NTMwOTk5OTk5OTk5Nl0sIFs0MC41NTUzODYsIC0zLjQ4NDgyOV0sIFs0MC41NTU0NjIsIC0zLjQ4NTEzMV0sIFs0MC41NTU1MjcwMDAwMDAwMDUsIC0zLjQ4NTQzMDk5OTk5OTk5OTddLCBbNDAuNTU1NTg4LCAtMy40ODU3MzldLCBbNDAuNTU1NjQ1LCAtMy40ODYwNDldLCBbNDAuNTU1Njk1LCAtMy40ODYzNTRdLCBbNDAuNTU1NzQsIC0zLjQ4NjYzMzk5OTk5OTk5OTZdLCBbNDAuNTU1Nzc1LCAtMy40ODY5MjA5OTk5OTk5OTk3XSwgWzQwLjU1NTgwOSwgLTMuNDg3MjEyMDAwMDAwMDAwNF0sIFs0MC41NTU4NCwgLTMuNDg3NTA4XSwgWzQwLjU1NTg2NTk5OTk5OTk5NSwgLTMuNDg3ODA4OTk5OTk5OTk5NV0sIFs0MC41NTU4OTMsIC0zLjQ4ODEwMjk5OTk5OTk5OTddLCBbNDAuNTU1OTEyLCAtMy40ODgzOTQ5OTk5OTk5OTk3XSwgWzQwLjU1NTkzNSwgLTMuNDg4NjgzOTk5OTk5OTk5N10sIFs0MC41NTU5NDYsIC0zLjQ4ODk3M10sIFs0MC41NTU5NDYsIC0zLjQ4OTI3XSwgWzQwLjU1NTk0NiwgLTMuNDg5NTcyXSwgWzQwLjU1NTkzMSwgLTMuNDg5ODc2XSwgWzQwLjU1NTkyMywgLTMuNDkwMTY2MDAwMDAwMDAwM10sIFs0MC41NTU4OTY5OTk5OTk5OTUsIC0zLjQ5MDQ1NTAwMDAwMDAwMDNdLCBbNDAuNTU1ODYyLCAtMy40OTA3MzZdLCBbNDAuNTU1ODA1LCAtMy40OTEwMThdLCBbNDAuNTU1NzQ4LCAtMy40OTEzMDVdLCBbNDAuNTU1NjgzLCAtMy40OTE1NzRdLCBbNDAuNTU1NjA3LCAtMy40OTE4NDEwMDAwMDAwMDA0XSwgWzQwLjU1NTUzMSwgLTMuNDkyMTJdLCBbNDAuNTU1NDQ2OTk5OTk5OTk0LCAtMy40OTIzOTE5OTk5OTk5OTk3XSwgWzQwLjU1NTM1NSwgLTMuNDkyNjU1OTk5OTk5OTk5OF0sIFs0MC41NTUyNzEwMDAwMDAwMDUsIC0zLjQ5MjkwNTAwMDAwMDAwMDRdLCBbNDAuNTU1MTY0MDAwMDAwMDA1LCAtMy40OTMxNjRdLCBbNDAuNTU1MDY1LCAtMy40OTM0MTk5OTk5OTk5OTk1XSwgWzQwLjU1NDk1OCwgLTMuNDkzNjddLCBbNDAuNTU0ODY3LCAtMy40OTM5MjhdLCBbNDAuNTU0NzU5OTk5OTk5OTk1LCAtMy40OTQxODhdLCBbNDAuNTU0NjY1LCAtMy40OTQ0NTUwMDAwMDAwMDAzXSwgWzQwLjU1NDU4NDk5OTk5OTk5NiwgLTMuNDk0NzI4XSwgWzQwLjU1NDUwOCwgLTMuNDk1MDA4MDAwMDAwMDAwM10sIFs0MC41NTQ0NTEsIC0zLjQ5NTI4NF0sIFs0MC41NTQzOTQsIC0zLjQ5NTU2NV0sIFs0MC41NTQzNDgsIC0zLjQ5NTg0MTk5OTk5OTk5OTddLCBbNDAuNTU0MzEsIC0zLjQ5NjEyMV0sIFs0MC41NTQyNzYsIC0zLjQ5NjQwM10sIFs0MC41NTQyNTMsIC0zLjQ5NjY4Ml0sIFs0MC41NTQyMzcsIC0zLjQ5Njk1Ml0sIFs0MC41NTQyMzcsIC0zLjQ5NzI0M10sIFs0MC41NTQyNDksIC0zLjQ5NzUzMl0sIFs0MC41NTQyNjQsIC0zLjQ5NzhdLCBbNDAuNTU0MjgzLCAtMy40OTgwNzJdLCBbNDAuNTU0MzI1LCAtMy40OTgzNV0sIFs0MC41NTQzNjMsIC0zLjQ5ODYyNV0sIFs0MC41NTQzOTgsIC0zLjQ5ODkwMV0sIFs0MC41NTQ0NTksIC0zLjQ5OTE3MzAwMDAwMDAwMDNdLCBbNDAuNTU0NTIwMDAwMDAwMDA0LCAtMy40OTk0MjhdLCBbNDAuNTU0NTgxLCAtMy40OTk2NzMwMDAwMDAwMDA1XSwgWzQwLjU1NDYzNCwgLTMuNDk5OTI5MDAwMDAwMDAwM10sIFs0MC41NTQ2OTEsIC0zLjUwMDE4Mzk5OTk5OTk5OTVdLCBbNDAuNTU0NzU5OTk5OTk5OTk1LCAtMy41MDA0MzcwMDAwMDAwMDAyXSwgWzQwLjU1NDg0OCwgLTMuNTAwNjk5XSwgWzQwLjU1NDk0MywgLTMuNTAwOTQzXSwgWzQwLjU1NTA0NjAwMDAwMDAwNCwgLTMuNTAxMTc2XSwgWzQwLjU1NTE2OCwgLTMuNTAxNDA1XSwgWzQwLjU1NTI5NCwgLTMuNTAxNjM2XSwgWzQwLjU1NTQyNCwgLTMuNTAxODY5XSwgWzQwLjU1NTU0NiwgLTMuNTAyMTA4OTk5OTk5OTk5NV0sIFs0MC41NTU2NzE5OTk5OTk5OTQsIC0zLjUwMjM1MTk5OTk5OTk5OTddLCBbNDAuNTU1NzksIC0zLjUwMjU5Ml0sIFs0MC41NTU5MDQsIC0zLjUwMjg0M10sIFs0MC41NTYwMTksIC0zLjUwMzFdLCBbNDAuNTU2MTIxOTk5OTk5OTk1LCAtMy41MDMzNjRdLCBbNDAuNTU2MjA2LCAtMy41MDM2MjddLCBbNDAuNTU2Mjk3LCAtMy41MDM4OTgwMDAwMDAwMDA0XSwgWzQwLjU1NjM4MSwgLTMuNTA0MTczXSwgWzQwLjU1NjQ1OCwgLTMuNTA0NDUxOTk5OTk5OTk5N10sIFs0MC41NTY1MjYsIC0zLjUwNDcyOV0sIFs0MC41NTY1OTEsIC0zLjUwNTAwN10sIFs0MC41NTY2NDEsIC0zLjUwNTI5XSwgWzQwLjU1NjY4NiwgLTMuNTA1NTkxMDAwMDAwMDAwM10sIFs0MC41NTY3MjgsIC0zLjUwNTg5M10sIFs0MC41NTY3NTQ5OTk5OTk5OTUsIC0zLjUwNjE5NzAwMDAwMDAwMDJdLCBbNDAuNTU2NzgyLCAtMy41MDY1MDFdLCBbNDAuNTU2Nzg5LCAtMy41MDY3NjRdLCBbNDAuNTU2Nzk2OTk5OTk5OTk2LCAtMy41MDcwNTgwMDAwMDAwMDAyXSwgWzQwLjU1NjgxMiwgLTMuNTA3MzZdLCBbNDAuNTU2ODA1LCAtMy41MDc2NTldLCBbNDAuNTU2Nzk2OTk5OTk5OTk2LCAtMy41MDc5NTEwMDAwMDAwMDAzXSwgWzQwLjU1Njc4NTk5OTk5OTk5NSwgLTMuNTA4MjM3MDAwMDAwMDAwM10sIFs0MC41NTY3NywgLTMuNTA4NTE5XSwgWzQwLjU1Njc1NDk5OTk5OTk5NSwgLTMuNTA4ODA5XSwgWzQwLjU1Njc1OSwgLTMuNTA5MTA4MDAwMDAwMDAwM10sIFs0MC41NTY3NjcsIC0zLjUwOTQwM10sIFs0MC41NTY3OTMsIC0zLjUwOTcwMV0sIFs0MC41NTY4MTIsIC0zLjUwOTk5NDk5OTk5OTk5OTVdLCBbNDAuNTU2ODM5MDAwMDAwMDA0LCAtMy41MTAyNzldLCBbNDAuNTU2ODgxLCAtMy41MTA1NjhdLCBbNDAuNTU2OTI3LCAtMy41MTA4NTFdLCBbNDAuNTU2OTg0LCAtMy41MTExMzZdLCBbNDAuNTU3MDQ1LCAtMy41MTE0MjFdLCBbNDAuNTU3MTIxLCAtMy41MTE3MDNdLCBbNDAuNTU3MjAxLCAtMy41MTE5ODA5OTk5OTk5OTk2XSwgWzQwLjU1NzI4NSwgLTMuNTEyMjQ4OTk5OTk5OTk5N10sIFs0MC41NTczODEsIC0zLjUxMjUxMl0sIFs0MC41NTc0ODQsIC0zLjUxMjc2OV0sIFs0MC41NTc1OTQsIC0zLjUxMzAxOF0sIFs0MC41NTc3MDEsIC0zLjUxMzI2NF0sIFs0MC41NTc4MTksIC0zLjUxMzQ4MTk5OTk5OTk5OThdLCBbNDAuNTU3OTQ1MDAwMDAwMDA0LCAtMy41MTM3MTI5OTk5OTk5OTk2XSwgWzQwLjU1ODA3OSwgLTMuNTEzOTM2XSwgWzQwLjU1ODIyLCAtMy41MTQxNTVdLCBbNDAuNTU4MzcyLCAtMy41MTQzNzYwMDAwMDAwMDA0XSwgWzQwLjU1ODUzNywgLTMuNTE0NTgzXSwgWzQwLjU1ODcwNCwgLTMuNTE0Nzg4XSwgWzQwLjU1ODg4LCAtMy41MTQ5NzYwMDAwMDAwMDAzXSwgWzQwLjU1OTA1MiwgLTMuNTE1MTY3XSwgWzQwLjU1OTIzNSwgLTMuNTE1MzQ3XSwgWzQwLjU1OTQxOCwgLTMuNTE1NTE5OTk5OTk5OTk5NV0sIFs0MC41NTk2MDgwMDAwMDAwMDQsIC0zLjUxNTY2OTAwMDAwMDAwMDRdLCBbNDAuNTU5Nzk5LCAtMy41MTU4MTldLCBbNDAuNTU5OTk4LCAtMy41MTU5NjFdLCBbNDAuNTYwMiwgLTMuNTE2MDg2XSwgWzQwLjU2MDM5OCwgLTMuNTE2MTk2XSwgWzQwLjU2MDYwOCwgLTMuNTE2MzE2XSwgWzQwLjU2MDgwNiwgLTMuNTE2NDE1MDAwMDAwMDAwM10sIFs0MC41NjEwMDgsIC0zLjUxNjQ5NV0sIFs0MC41NjEyMTQsIC0zLjUxNjU3NF0sIFs0MC41NjE0MiwgLTMuNTE2NjMzXSwgWzQwLjU2MTYyNjAwMDAwMDAwNCwgLTMuNTE2Njg4XSwgWzQwLjU2MTgyMSwgLTMuNTE2NzI0XSwgWzQwLjU2MjAxOSwgLTMuNTE2NzYyMDAwMDAwMDAwNF0sIFs0MC41NjIyMjIsIC0zLjUxNjc5NDk5OTk5OTk5OTddLCBbNDAuNTYyNDMxLCAtMy41MTY4MjZdLCBbNDAuNTYyNjM3LCAtMy41MTY4NDcwMDAwMDAwMDAzXSwgWzQwLjU2Mjg0MywgLTMuNTE2ODY5OTk5OTk5OTk5NV0sIFs0MC41NjMwNTcsIC0zLjUxNjg5N10sIFs0MC41NjMyNzEsIC0zLjUxNjkzMDAwMDAwMDAwMDNdLCBbNDAuNTYzNDc3LCAtMy41MTY5NjYwMDAwMDAwMDA1XSwgWzQwLjU2MzY5LCAtMy41MTcwMDNdLCBbNDAuNTYzOTA4MDAwMDAwMDA1LCAtMy41MTcwNDcwMDAwMDAwMDAzXSwgWzQwLjU2NDEyMSwgLTMuNTE3MDk2XSwgWzQwLjU2NDMzOTAwMDAwMDAwNCwgLTMuNTE3MTZdLCBbNDAuNTY0NTQxLCAtMy41MTcyMThdLCBbNDAuNTY0NzU4MDAwMDAwMDA1LCAtMy41MTcyODc5OTk5OTk5OTk3XSwgWzQwLjU2NDk2LCAtMy41MTczNTddLCBbNDAuNTY1MTcsIC0zLjUxNzQzM10sIFs0MC41NjUzNzYsIC0zLjUxNzUwNF0sIFs0MC41NjU1ODU5OTk5OTk5OTYsIC0zLjUxNzU5M10sIFs0MC41NjU3OTYsIC0zLjUxNzY5NF0sIFs0MC41NjYwMDYsIC0zLjUxNzgwNV0sIFs0MC41NjYyMDgsIC0zLjUxNzkxMTAwMDAwMDAwMDJdLCBbNDAuNTY2NDA2LCAtMy41MTgwMjY5OTk5OTk5OTk2XSwgWzQwLjU2NjYwOCwgLTMuNTE4MTQxOTk5OTk5OTk5N10sIFs0MC41NjY4MDcsIC0zLjUxODI2NV0sIFs0MC41NjcwMDUsIC0zLjUxODM5Ml0sIFs0MC41NjcyLCAtMy41MTg1MTUwMDAwMDAwMDAzXSwgWzQwLjU2NzM4NywgLTMuNTE4NjQ5XSwgWzQwLjU2NzU3NywgLTMuNTE4Nzg2XSwgWzQwLjU2Nzc2NDAwMDAwMDAwNCwgLTMuNTE4OTIzOTk5OTk5OTk5N10sIFs0MC41Njc5NCwgLTMuNTE5MDY5OTk5OTk5OTk5N10sIFs0MC41NjgxMjcwMDAwMDAwMDQsIC0zLjUxOTIyNV0sIFs0MC41NjgzMSwgLTMuNTE5MzgzOTk5OTk5OTk5Nl0sIFs0MC41Njg0ODEsIC0zLjUxOTU1MTAwMDAwMDAwMDNdLCBbNDAuNTY4NjYxLCAtMy41MTk3MjM5OTk5OTk5OTk2XSwgWzQwLjU2ODgzMiwgLTMuNTE5OTAzXSwgWzQwLjU2OTAwODAwMDAwMDAwNCwgLTMuNTIwMDczMDAwMDAwMDAwNV0sIFs0MC41NjkxNzYsIC0zLjUyMDI1MTk5OTk5OTk5OTddLCBbNDAuNTY5MzUxLCAtMy41MjA0NDQ5OTk5OTk5OTk2XSwgWzQwLjU2OTUxOSwgLTMuNTIwNjQxMDAwMDAwMDAwNF0sIFs0MC41Njk2NzksIC0zLjUyMDg0M10sIFs0MC41Njk4MzU5OTk5OTk5OTUsIC0zLjUyMTA0XSwgWzQwLjU2OTk4OCwgLTMuNTIxMjQ4MDAwMDAwMDAwNF0sIFs0MC41NzAxMzMsIC0zLjUyMTQ1MTAwMDAwMDAwMDNdLCBbNDAuNTcwMjksIC0zLjUyMTY2Ml0sIFs0MC41NzA0MzgsIC0zLjUyMTg3NF0sIFs0MC41NzA1OCwgLTMuNTIyMDldLCBbNDAuNTcwNzE3LCAtMy41MjIzMDhdLCBbNDAuNTcwODQ3LCAtMy41MjI1MzJdLCBbNDAuNTcwOTcyLCAtMy41MjI3Nl0sIFs0MC41NzExMDYsIC0zLjUyMzAwMTAwMDAwMDAwMDNdLCBbNDAuNTcxMjI4MDAwMDAwMDA1LCAtMy41MjMyNDE5OTk5OTk5OTk4XSwgWzQwLjU3MTM1LCAtMy41MjM0ODhdLCBbNDAuNTcxNDY1LCAtMy41MjM3MzAwMDAwMDAwMDA1XSwgWzQwLjU3MTU4NywgLTMuNTIzOTgwOTk5OTk5OTk5Nl0sIFs0MC41NzE3MDEwMDAwMDAwMDQsIC0zLjUyNDIzM10sIFs0MC41NzE4MTksIC0zLjUyNDUwMTAwMDAwMDAwMDNdLCBbNDAuNTcxOTMsIC0zLjUyNDc2NjAwMDAwMDAwMDVdLCBbNDAuNTcyMDI5LCAtMy41MjUwMzldLCBbNDAuNTcyMTI4LCAtMy41MjUzMDgwMDAwMDAwMDAzXSwgWzQwLjU3MjIyNCwgLTMuNTI1NTc5XSwgWzQwLjU3MjMxNSwgLTMuNTI1ODU1MDAwMDAwMDAwNF0sIFs0MC41NzI0MTA5OTk5OTk5OTUsIC0zLjUyNjEzNzk5OTk5OTk5OTZdLCBbNDAuNTcyNDk1LCAtMy41MjY0MTNdLCBbNDAuNTcyNTc4LCAtMy41MjY2OTQ5OTk5OTk5OTk3XSwgWzQwLjU3MjY1OSwgLTMuNTI2OTY5OTk5OTk5OTk5NV0sIFs0MC41NzI3MzksIC0zLjUyNzI0MTk5OTk5OTk5OThdLCBbNDAuNTcyODE1MDAwMDAwMDA2LCAtMy41Mjc1MTVdLCBbNDAuNTcyODk5LCAtMy41Mjc3ODA5OTk5OTk5OTk2XSwgWzQwLjU3Mjk4MywgLTMuNTI4MDU5XSwgWzQwLjU3MzA2NywgLTMuNTI4MzI2OTk5OTk5OTk5NV0sIFs0MC41NzMxNDcsIC0zLjUyODU5NDk5OTk5OTk5OTddLCBbNDAuNTczMjI3LCAtMy41Mjg4Nl0sIFs0MC41NzMzMTUsIC0zLjUyOTEyNV0sIFs0MC41NzMzOTksIC0zLjUyOTM5MTAwMDAwMDAwMDRdLCBbNDAuNTczNDgzLCAtMy41Mjk2NDgwMDAwMDAwMDAzXSwgWzQwLjU3MzU4MiwgLTMuNTI5OTEzOTk5OTk5OTk5OF0sIFs0MC41NzM2ODEsIC0zLjUzMDE4MV0sIFs0MC41NzM3ODgsIC0zLjUzMDQ1ODAwMDAwMDAwMDNdLCBbNDAuNTczOTEsIC0zLjUzMDcyOF0sIFs0MC41NzQwMjAwMDAwMDAwMDQsIC0zLjUzMDk3MV0sIFs0MC41NzQxMzUsIC0zLjUzMTIyNF0sIFs0MC41NzQyNDUsIC0zLjUzMTQ3MV0sIFs0MC41NzQzNTYsIC0zLjUzMTcxOTk5OTk5OTk5OTVdLCBbNDAuNTc0NDc4MDAwMDAwMDA2LCAtMy41MzE5NTQwMDAwMDAwMDAzXSwgWzQwLjU3NDU5NiwgLTMuNTMyMTk3XSwgWzQwLjU3NDcxNTAwMDAwMDAwNSwgLTMuNTMyNDQ0OTk5OTk5OTk5Nl0sIFs0MC41NzQ4MzcsIC0zLjUzMjY5XSwgWzQwLjU3NDk1NDk5OTk5OTk5NiwgLTMuNTMyOTMwOTk5OTk5OTk5Nl0sIFs0MC41NzUwNzcsIC0zLjUzMzE3N10sIFs0MC41NzUxOTUsIC0zLjUzMzQyMDk5OTk5OTk5OTddLCBbNDAuNTc1MzA5OTk5OTk5OTk1LCAtMy41MzM2Nl0sIFs0MC41NzU0MjgsIC0zLjUzMzkxMjk5OTk5OTk5OTZdLCBbNDAuNTc1NTQ2LCAtMy41MzQxNjYwMDAwMDAwMDA0XSwgWzQwLjU3NTY2MSwgLTMuNTM0NDE1XSwgWzQwLjU3NTc1OTk5OTk5OTk5NSwgLTMuNTM0NjYyMDAwMDAwMDAwNF0sIFs0MC41NzU4NzQsIC0zLjUzNDkxNjk5OTk5OTk5OTZdLCBbNDAuNTc1OTg0OTk5OTk5OTk2LCAtMy41MzUxNzY5OTk5OTk5OTk2XSwgWzQwLjU3NjA5NiwgLTMuNTM1NDQxMDAwMDAwMDAwNV0sIFs0MC41NzYyMDIsIC0zLjUzNTcwMV0sIFs0MC41NzYzMDIsIC0zLjUzNTk2MV0sIFs0MC41NzYzOTI5OTk5OTk5OTYsIC0zLjUzNjIxOF0sIFs0MC41NzY0ODEsIC0zLjUzNjQ3MjAwMDAwMDAwMDNdLCBbNDAuNTc2NTc2LCAtMy41MzY3MjkwMDAwMDAwMDAyXSwgWzQwLjU3NjY2NCwgLTMuNTM2OTk0MDAwMDAwMDAwNF0sIFs0MC41NzY3NTYsIC0zLjUzNzI1NTAwMDAwMDAwMDVdLCBbNDAuNTc2ODQzLCAtMy41Mzc1MTldLCBbNDAuNTc2OTMxLCAtMy41Mzc3ODRdLCBbNDAuNTc3MDI2MDAwMDAwMDA0LCAtMy41MzgwNDRdLCBbNDAuNTc3MTE0LCAtMy41MzgzMTFdLCBbNDAuNTc3MjA2LCAtMy41Mzg1ODA5OTk5OTk5OTk4XSwgWzQwLjU3NzI5Njk5OTk5OTk5NCwgLTMuNTM4ODU3XSwgWzQwLjU3NzM5NiwgLTMuNTM5MTI1XSwgWzQwLjU3NzQ4OCwgLTMuNTM5Mzg1XSwgWzQwLjU3NzU4NywgLTMuNTM5NjQxOTk5OTk5OTk5N10sIFs0MC41Nzc2OTQsIC0zLjUzOTg5XSwgWzQwLjU3Nzc5MywgLTMuNTQwMTMzXSwgWzQwLjU3Nzg5MiwgLTMuNTQwMzY2MDAwMDAwMDAwNl0sIFs0MC41Nzc5OTUsIC0zLjU0MDYxNjAwMDAwMDAwMDRdLCBbNDAuNTc4MTAyLCAtMy41NDA4NTg5OTk5OTk5OTk4XSwgWzQwLjU3ODIwOSwgLTMuNTQxMTAyOTk5OTk5OTk5N10sIFs0MC41NzgzMDgsIC0zLjU0MTM0MTAwMDAwMDAwMDVdLCBbNDAuNTc4NDI2LCAtMy41NDE1OF0sIFs0MC41Nzg1NTYsIC0zLjU0MTgzNV0sIFs0MC41Nzg2ODYsIC0zLjU0MjA4Ml0sIFs0MC41Nzg4MTIsIC0zLjU0MjMyOF0sIFs0MC41Nzg5MjYsIC0zLjU0MjU1M10sIFs0MC41NzkwNjY5OTk5OTk5OTUsIC0zLjU0Mjc2N10sIFs0MC41NzkyMDEsIC0zLjU0MzAwNDAwMDAwMDAwMDNdLCBbNDAuNTc5MzM0LCAtMy41NDMyMzAwMDAwMDAwMDAzXSwgWzQwLjU3OTQ2NCwgLTMuNTQzNDYyMDAwMDAwMDAwM10sIFs0MC41Nzk1OTQsIC0zLjU0MzY4NV0sIFs0MC41Nzk3MzUsIC0zLjU0MzkxMV0sIFs0MC41Nzk4NzE5OTk5OTk5OTUsIC0zLjU0NDEyMzk5OTk5OTk5OTZdLCBbNDAuNTgwMDA5MDAwMDAwMDA0LCAtMy41NDQzMzVdLCBbNDAuNTgwMTUxLCAtMy41NDQ1NDVdLCBbNDAuNTgwMjk2MDAwMDAwMDA0LCAtMy41NDQ3NDldLCBbNDAuNTgwNDMzLCAtMy41NDQ5NTUwMDAwMDAwMDAzXSwgWzQwLjU4MDU3OCwgLTMuNTQ1MTYxMDAwMDAwMDAwMl0sIFs0MC41ODA3Mjk5OTk5OTk5OTYsIC0zLjU0NTM2OTAwMDAwMDAwMDRdLCBbNDAuNTgwODgzLCAtMy41NDU1NzFdLCBbNDAuNTgxMDM2LCAtMy41NDU3ODNdLCBbNDAuNTgxMTk2MDAwMDAwMDA2LCAtMy41NDU5ODZdLCBbNDAuNTgxMzY0LCAtMy41NDYxOTg5OTk5OTk5OTk3XSwgWzQwLjU4MTUyMDAwMDAwMDAwNSwgLTMuNTQ2NDA4XSwgWzQwLjU4MTY2OSwgLTMuNTQ2NjE5XSwgWzQwLjU4MTgyNSwgLTMuNTQ2ODIzMDAwMDAwMDAwM10sIFs0MC41ODE5NzQsIC0zLjU0NzAxOF0sIFs0MC41ODIxMTksIC0zLjU0NzIxNV0sIFs0MC41ODIyNjQsIC0zLjU0NzQyXSwgWzQwLjU4MjQxMywgLTMuNTQ3NjMxXSwgWzQwLjU4MjU1Mzk5OTk5OTk5NSwgLTMuNTQ3ODQwMDAwMDAwMDAwM10sIFs0MC41ODI2OTEsIC0zLjU0ODA1OV0sIFs0MC41ODI4MTcsIC0zLjU0ODI2M10sIFs0MC41ODI5NDMsIC0zLjU0ODQ4XSwgWzQwLjU4MzA1NzAwMDAwMDAwNCwgLTMuNTQ4NzA0MDAwMDAwMDAwM10sIFs0MC41ODMxNzksIC0zLjU0ODk0XSwgWzQwLjU4MzMwOSwgLTMuNTQ5MTg1XSwgWzQwLjU4MzQxNiwgLTMuNTQ5NDIyMDAwMDAwMDAwM10sIFs0MC41ODM1MTUwMDAwMDAwMDYsIC0zLjU0OTY1NTAwMDAwMDAwMDRdLCBbNDAuNTgzNjExLCAtMy41NDk5XSwgWzQwLjU4MzcwMiwgLTMuNTUwMTQ3XSwgWzQwLjU4Mzc4NTk5OTk5OTk5NiwgLTMuNTUwNDA1OTk5OTk5OTk5N10sIFs0MC41ODM4NTgsIC0zLjU1MDY1ODAwMDAwMDAwMDNdLCBbNDAuNTgzOTM1LCAtMy41NTA5MTFdLCBbNDAuNTg0MDA3LCAtMy41NTExNTg5OTk5OTk5OTk3XSwgWzQwLjU4NDA4LCAtMy41NTE0MTZdLCBbNDAuNTg0MTQ1LCAtMy41NTE2NjhdLCBbNDAuNTg0MTksIC0zLjU1MTkzMDAwMDAwMDAwMDVdLCBbNDAuNTg0MjQ0LCAtMy41NTIxODJdLCBbNDAuNTg0MjkzLCAtMy41NTI0MjhdLCBbNDAuNTg0MzI4LCAtMy41NTI2NzFdLCBbNDAuNTg0MzYyLCAtMy41NTI5MDEwMDAwMDAwMDAzXSwgWzQwLjU4NDM5MywgLTMuNTUzMTI2OTk5OTk5OTk5NV0sIFs0MC41ODQ0MTksIC0zLjU1MzM0MTAwMDAwMDAwMDVdLCBbNDAuNTg0NDQ2LCAtMy41NTM1NDQ5OTk5OTk5OTk3XSwgWzQwLjU4NDQ2NSwgLTMuNTUzNzQxOTk5OTk5OTk5N10sIFs0MC41ODQ0ODgsIC0zLjU1MzkyM10sIFs0MC41ODQ1MTEsIC0zLjU1NDA5Nl0sIFs0MC41ODQ1MjIsIC0zLjU1NDI0OV0sIFs0MC41ODQ1NDUsIC0zLjU1NDM5ODk5OTk5OTk5OTZdLCBbNDAuNTg0NTcxOTk5OTk5OTk0LCAtMy41NTQ1NDQwMDAwMDAwMDA0XSwgWzQwLjU4NDU4NywgLTMuNTU0Njg0OTk5OTk5OTk5N10sIFs0MC41ODQ2MDIwMDAwMDAwMDQsIC0zLjU1NDgyNjAwMDAwMDAwMDNdLCBbNDAuNTg0NjE4LCAtMy41NTQ5ODNdLCBbNDAuNTg0NjMzMDAwMDAwMDA0LCAtMy41NTUxMzJdLCBbNDAuNTg0NjUyLCAtMy41NTUyODJdXSwKICAgICAgICAgICAgICAgICAgICB7CiAgImJ1YmJsaW5nTW91c2VFdmVudHMiOiB0cnVlLAogICJjb2xvciI6ICJyZWQiLAogICJkYXNoQXJyYXkiOiBudWxsLAogICJkYXNoT2Zmc2V0IjogbnVsbCwKICAiZmlsbCI6IGZhbHNlLAogICJmaWxsQ29sb3IiOiAicmVkIiwKICAiZmlsbE9wYWNpdHkiOiAwLjIsCiAgImZpbGxSdWxlIjogImV2ZW5vZGQiLAogICJsaW5lQ2FwIjogInJvdW5kIiwKICAibGluZUpvaW4iOiAicm91bmQiLAogICJub0NsaXAiOiBmYWxzZSwKICAib3BhY2l0eSI6IDEuMCwKICAic21vb3RoRmFjdG9yIjogMS4wLAogICJzdHJva2UiOiB0cnVlLAogICJ3ZWlnaHQiOiAxMAp9CiAgICAgICAgICAgICAgICAgICAgKQogICAgICAgICAgICAgICAgICAgIC5hZGRUbyhmZWF0dXJlX2dyb3VwXzQzMDJjOTc4ODE2NTQ4OGViZjAwNWZmNTJiN2I0YmEzKTsKICAgICAgICAgICAgCiAgICAKICAgICAgICAgICAgdmFyIHBvcHVwX2Y0ZDU3ZWQyNTQ0NzRjMjVhYjg1YThkZDRhNzM5MDRhID0gTC5wb3B1cCh7bWF4V2lkdGg6ICcxMDAlJwogICAgICAgICAgICAKICAgICAgICAgICAgfSk7CgogICAgICAgICAgICAKICAgICAgICAgICAgICAgIHZhciBodG1sX2FiNDBhNDE2YWEzNzRmY2NhMzZhYjExNDE2NzE1ZGJhID0gJChgPGRpdiBpZD0iaHRtbF9hYjQwYTQxNmFhMzc0ZmNjYTM2YWIxMTQxNjcxNWRiYSIgc3R5bGU9IndpZHRoOiAxMDAuMCU7IGhlaWdodDogMTAwLjAlOyI+PGI+UGF0aCBvZiBWZWhpY2xlXzI8L2I+PC9kaXY+YClbMF07CiAgICAgICAgICAgICAgICBwb3B1cF9mNGQ1N2VkMjU0NDc0YzI1YWI4NWE4ZGQ0YTczOTA0YS5zZXRDb250ZW50KGh0bWxfYWI0MGE0MTZhYTM3NGZjY2EzNmFiMTE0MTY3MTVkYmEpOwogICAgICAgICAgICAKCiAgICAgICAgICAgIHBvbHlfbGluZV82ZjI0OGU4MGJkNjM0MmJjOGQxZDk1ZjUwYTEwNmM5Zi5iaW5kUG9wdXAocG9wdXBfZjRkNTdlZDI1NDQ3NGMyNWFiODVhOGRkNGE3MzkwNGEpCiAgICAgICAgICAgIDsKCiAgICAgICAgICAgIAogICAgICAgIAogICAgCiAgICAgICAgcG9seV9saW5lXzZmMjQ4ZTgwYmQ2MzQyYmM4ZDFkOTVmNTBhMTA2YzlmLmJpbmRUb29sdGlwKAogICAgICAgICAgICBgPGRpdj5gCiAgICAgICAgICAgICsgYFZlaGljbGVfMmAgKyBgPC9kaXY+YCwKICAgICAgICAgICAgeyJzdGlja3kiOiB0cnVlfQogICAgICAgICk7CiAgICAgICAgCiAgICAKICAgICAgICAgICAgdmFyIGxheWVyX2NvbnRyb2xfOWRiMTdmNmE2ZjIyNDU4NzgzNDM2YTYyNzMyODJhYTcgPSB7CiAgICAgICAgICAgICAgICBiYXNlX2xheWVycyA6IHsgIm9wZW5zdHJlZXRtYXAiIDogdGlsZV9sYXllcl8yOTg2Mjc4ZjJmNmM0ZjEwOGE5YThmODgxNzIzOGE4MywgfSwKICAgICAgICAgICAgICAgIG92ZXJsYXlzIDogeyAiTm9ybWFsIiA6IGZlYXR1cmVfZ3JvdXBfMmE5ZjRhYjJiNWRiNDRlNTg1YTFkOTczYTRiMTNmY2YsIkFnZ3Jlc3NpdmUiIDogZmVhdHVyZV9ncm91cF80MzAyYzk3ODgxNjU0ODhlYmYwMDVmZjUyYjdiNGJhMywgfQogICAgICAgICAgICAgICAgfTsKICAgICAgICAgICAgTC5jb250cm9sLmxheWVycygKICAgICAgICAgICAgICAgIGxheWVyX2NvbnRyb2xfOWRiMTdmNmE2ZjIyNDU4NzgzNDM2YTYyNzMyODJhYTcuYmFzZV9sYXllcnMsCiAgICAgICAgICAgICAgICBsYXllcl9jb250cm9sXzlkYjE3ZjZhNmYyMjQ1ODc4MzQzNmE2MjczMjgyYWE3Lm92ZXJsYXlzLAogICAgICAgICAgICAgICAge3Bvc2l0aW9uOiAndG9wcmlnaHQnLAogICAgICAgICAgICAgICAgIGNvbGxhcHNlZDogdHJ1ZSwKICAgICAgICAgICAgICAgICBhdXRvWkluZGV4OiB0cnVlCiAgICAgICAgICAgICAgICB9KS5hZGRUbyhtYXBfZjQwMjc4MGE3MzY1NDQzZDhmZTE1ZmRiNTEwMGI5NTIpOwogICAgICAgICAgICAKICAgICAgICAKICAgIAogICAgICAgIHZhciBtYXJrZXJfOTAzYWRlMjNmYmU0NGI1M2JhYTBkMTQ0MTE0YjFhMDQgPSBMLm1hcmtlcigKICAgICAgICAgICAgWzQwLjUxNzQ0NSwgLTMuNDA5ODI4XSwKICAgICAgICAgICAgewogICAgICAgICAgICAgICAgaWNvbjogbmV3IEwuSWNvbi5EZWZhdWx0KCksCiAgICAgICAgICAgICAgICB9CiAgICAgICAgICAgICkuYWRkVG8obWFwX2Y0MDI3ODBhNzM2NTQ0M2Q4ZmUxNWZkYjUxMDBiOTUyKTsKICAgICAgICAKICAgIAogICAgICAgIHZhciBtYXJrZXJfNGNkOGMwZmU2N2QzNGJhNzgyOTc0NzVlMzkxNmVkZDQgPSBMLm1hcmtlcigKICAgICAgICAgICAgWzQwLjUzMjg1NiwgLTMuNDI5MTM1XSwKICAgICAgICAgICAgewogICAgICAgICAgICAgICAgaWNvbjogbmV3IEwuSWNvbi5EZWZhdWx0KCksCiAgICAgICAgICAgICAgICB9CiAgICAgICAgICAgICkuYWRkVG8obWFwX2Y0MDI3ODBhNzM2NTQ0M2Q4ZmUxNWZkYjUxMDBiOTUyKTsKICAgICAgICAKICAgIAogICAgICAgIHZhciBtYXJrZXJfYTFhNGE4OTM5NzFlNDJhYWI1ZTkyM2RmYzczZWJjNTQgPSBMLm1hcmtlcigKICAgICAgICAgICAgWzQwLjUzMzc4MywgLTMuNDU2MzJdLAogICAgICAgICAgICB7CiAgICAgICAgICAgICAgICBpY29uOiBuZXcgTC5JY29uLkRlZmF1bHQoKSwKICAgICAgICAgICAgICAgIH0KICAgICAgICAgICAgKS5hZGRUbyhtYXBfZjQwMjc4MGE3MzY1NDQzZDhmZTE1ZmRiNTEwMGI5NTIpOwogICAgICAgIAogICAgCiAgICAgICAgdmFyIG1hcmtlcl9mNzNkNjgwYmNjODc0NDFjOTA1MDJhYjljNDJjMjFkYSA9IEwubWFya2VyKAogICAgICAgICAgICBbNDAuNTQzOTY4LCAtMy40NzI5NDRdLAogICAgICAgICAgICB7CiAgICAgICAgICAgICAgICBpY29uOiBuZXcgTC5JY29uLkRlZmF1bHQoKSwKICAgICAgICAgICAgICAgIH0KICAgICAgICAgICAgKS5hZGRUbyhtYXBfZjQwMjc4MGE3MzY1NDQzZDhmZTE1ZmRiNTEwMGI5NTIpOwogICAgICAgIAogICAgCiAgICAgICAgdmFyIG1hcmtlcl9kZTI2MWQzMzA3MzM0MGRlODQ1MjVmNzcwZGZmYmUwNiA9IEwubWFya2VyKAogICAgICAgICAgICBbNDAuNTU1NTc2LCAtMy40OTE5MTJdLAogICAgICAgICAgICB7CiAgICAgICAgICAgICAgICBpY29uOiBuZXcgTC5JY29uLkRlZmF1bHQoKSwKICAgICAgICAgICAgICAgIH0KICAgICAgICAgICAgKS5hZGRUbyhtYXBfZjQwMjc4MGE3MzY1NDQzZDhmZTE1ZmRiNTEwMGI5NTIpOwogICAgICAgIAo8L3NjcmlwdD4= onload=\"this.contentDocument.open();this.contentDocument.write(atob(this.getAttribute('data-html')));this.contentDocument.close();\" allowfullscreen webkitallowfullscreen mozallowfullscreen></iframe></div></div>"
            ],
            "text/plain": [
              "<folium.folium.Map at 0x7f49e12e33c8>"
            ]
          },
          "metadata": {
            "tags": []
          },
          "execution_count": 15
        }
      ]
    },
    {
      "cell_type": "code",
      "metadata": {
        "id": "0xOWwOOCB5uE",
        "colab_type": "code",
        "colab": {
          "base_uri": "https://localhost:8080/",
          "height": 204
        },
        "outputId": "3ac76c20-6032-4aeb-8fc1-45f12a1f6744"
      },
      "source": [
        "normal.tail()"
      ],
      "execution_count": null,
      "outputs": [
        {
          "output_type": "execute_result",
          "data": {
            "text/html": [
              "<div>\n",
              "<style scoped>\n",
              "    .dataframe tbody tr th:only-of-type {\n",
              "        vertical-align: middle;\n",
              "    }\n",
              "\n",
              "    .dataframe tbody tr th {\n",
              "        vertical-align: top;\n",
              "    }\n",
              "\n",
              "    .dataframe thead th {\n",
              "        text-align: right;\n",
              "    }\n",
              "</style>\n",
              "<table border=\"1\" class=\"dataframe\">\n",
              "  <thead>\n",
              "    <tr style=\"text-align: right;\">\n",
              "      <th></th>\n",
              "      <th>time</th>\n",
              "      <th>speed</th>\n",
              "      <th>lat</th>\n",
              "      <th>long</th>\n",
              "      <th>altitude</th>\n",
              "      <th>val_1</th>\n",
              "      <th>acc_x</th>\n",
              "      <th>acc_y</th>\n",
              "      <th>acc_z</th>\n",
              "      <th>acc_kf_x</th>\n",
              "      <th>acc_kf_y</th>\n",
              "      <th>acc_kf_z</th>\n",
              "      <th>roll</th>\n",
              "      <th>pitch</th>\n",
              "      <th>yaw</th>\n",
              "    </tr>\n",
              "  </thead>\n",
              "  <tbody>\n",
              "    <tr>\n",
              "      <th>710</th>\n",
              "      <td>730</td>\n",
              "      <td>48.6</td>\n",
              "      <td>40.584911</td>\n",
              "      <td>-3.557625</td>\n",
              "      <td>604.6</td>\n",
              "      <td>0.0</td>\n",
              "      <td>-0.0259</td>\n",
              "      <td>0.0033</td>\n",
              "      <td>-0.0068</td>\n",
              "      <td>-0.0243</td>\n",
              "      <td>0.0035</td>\n",
              "      <td>-0.0076</td>\n",
              "      <td>-1.4774</td>\n",
              "      <td>0.0166</td>\n",
              "      <td>-0.7249</td>\n",
              "    </tr>\n",
              "    <tr>\n",
              "      <th>711</th>\n",
              "      <td>731</td>\n",
              "      <td>47.2</td>\n",
              "      <td>40.584930</td>\n",
              "      <td>-3.557768</td>\n",
              "      <td>604.1</td>\n",
              "      <td>0.0</td>\n",
              "      <td>-0.0025</td>\n",
              "      <td>-0.0006</td>\n",
              "      <td>0.0001</td>\n",
              "      <td>-0.0034</td>\n",
              "      <td>-0.0018</td>\n",
              "      <td>0.0021</td>\n",
              "      <td>-1.4755</td>\n",
              "      <td>0.0162</td>\n",
              "      <td>-0.7289</td>\n",
              "    </tr>\n",
              "    <tr>\n",
              "      <th>712</th>\n",
              "      <td>732</td>\n",
              "      <td>46.5</td>\n",
              "      <td>40.584953</td>\n",
              "      <td>-3.557909</td>\n",
              "      <td>603.8</td>\n",
              "      <td>0.0</td>\n",
              "      <td>-0.0261</td>\n",
              "      <td>-0.0180</td>\n",
              "      <td>-0.0276</td>\n",
              "      <td>-0.0236</td>\n",
              "      <td>-0.0135</td>\n",
              "      <td>-0.0280</td>\n",
              "      <td>-1.4722</td>\n",
              "      <td>0.0194</td>\n",
              "      <td>-0.7292</td>\n",
              "    </tr>\n",
              "    <tr>\n",
              "      <th>713</th>\n",
              "      <td>733</td>\n",
              "      <td>45.4</td>\n",
              "      <td>40.584976</td>\n",
              "      <td>-3.558056</td>\n",
              "      <td>603.2</td>\n",
              "      <td>0.0</td>\n",
              "      <td>-0.0142</td>\n",
              "      <td>-0.0007</td>\n",
              "      <td>-0.0341</td>\n",
              "      <td>-0.0162</td>\n",
              "      <td>-0.0061</td>\n",
              "      <td>-0.0314</td>\n",
              "      <td>-1.4569</td>\n",
              "      <td>0.0323</td>\n",
              "      <td>-0.7195</td>\n",
              "    </tr>\n",
              "    <tr>\n",
              "      <th>714</th>\n",
              "      <td>734</td>\n",
              "      <td>42.5</td>\n",
              "      <td>40.584995</td>\n",
              "      <td>-3.558197</td>\n",
              "      <td>602.8</td>\n",
              "      <td>0.0</td>\n",
              "      <td>-0.0137</td>\n",
              "      <td>0.0135</td>\n",
              "      <td>-0.0339</td>\n",
              "      <td>-0.0117</td>\n",
              "      <td>0.0151</td>\n",
              "      <td>-0.0335</td>\n",
              "      <td>-1.4283</td>\n",
              "      <td>0.0327</td>\n",
              "      <td>-0.7127</td>\n",
              "    </tr>\n",
              "  </tbody>\n",
              "</table>\n",
              "</div>"
            ],
            "text/plain": [
              "     time  speed        lat      long  ...  acc_kf_z    roll   pitch     yaw\n",
              "710   730   48.6  40.584911 -3.557625  ...   -0.0076 -1.4774  0.0166 -0.7249\n",
              "711   731   47.2  40.584930 -3.557768  ...    0.0021 -1.4755  0.0162 -0.7289\n",
              "712   732   46.5  40.584953 -3.557909  ...   -0.0280 -1.4722  0.0194 -0.7292\n",
              "713   733   45.4  40.584976 -3.558056  ...   -0.0314 -1.4569  0.0323 -0.7195\n",
              "714   734   42.5  40.584995 -3.558197  ...   -0.0335 -1.4283  0.0327 -0.7127\n",
              "\n",
              "[5 rows x 15 columns]"
            ]
          },
          "metadata": {
            "tags": []
          },
          "execution_count": 38
        }
      ]
    },
    {
      "cell_type": "code",
      "metadata": {
        "id": "Q1-i8cWUBTV-",
        "colab_type": "code",
        "colab": {}
      },
      "source": [
        "def degreesToRadians(degrees):\n",
        "  return degrees * 3.14159 / 180\n",
        "\n",
        "def funct(lat1, lon1, lat2, lon2):\n",
        "  earthRadiusKm = 6371\n",
        "  dLat = degreesToRadians(lat2-lat1)\n",
        "  dLon = degreesToRadians(lon2-lon1)\n",
        "  lat1 = degreesToRadians(lat1)\n",
        "  lat2 = degreesToRadians(lat2)\n",
        "  a = np.sin(dLat/2) * np.sin(dLat/2) +np.sin(dLon/2) * np.sin(dLon/2) * np.cos(lat1) * np.cos(lat2)\n",
        "  c = 2 * np.arctan2(np.sqrt(a), np.sqrt(1-a))\n",
        "  return earthRadiusKm * c"
      ],
      "execution_count": null,
      "outputs": []
    },
    {
      "cell_type": "code",
      "metadata": {
        "id": "kTDTCNI7EW_c",
        "colab_type": "code",
        "colab": {
          "base_uri": "https://localhost:8080/",
          "height": 170
        },
        "outputId": "8c315b06-8a71-4963-94ed-3d754371ba3d"
      },
      "source": [
        "normal.time.describe()"
      ],
      "execution_count": null,
      "outputs": [
        {
          "output_type": "execute_result",
          "data": {
            "text/plain": [
              "count    715.000000\n",
              "mean     377.000000\n",
              "std      206.547008\n",
              "min       20.000000\n",
              "25%      198.500000\n",
              "50%      377.000000\n",
              "75%      555.500000\n",
              "max      734.000000\n",
              "Name: time, dtype: float64"
            ]
          },
          "metadata": {
            "tags": []
          },
          "execution_count": 32
        }
      ]
    },
    {
      "cell_type": "code",
      "metadata": {
        "id": "y7zweoNiBTbT",
        "colab_type": "code",
        "colab": {}
      },
      "source": [
        "sum=0\n",
        "for i in normal[normal.time<377].time.index:\n",
        "   sum +=funct(normal.lat.values[i], normal.long.values[i],normal.lat.values[i+1], normal.long.values[i+1])"
      ],
      "execution_count": null,
      "outputs": []
    },
    {
      "cell_type": "code",
      "metadata": {
        "id": "SgPK96SJBTjK",
        "colab_type": "code",
        "colab": {
          "base_uri": "https://localhost:8080/",
          "height": 34
        },
        "outputId": "c49d0589-2d4e-4a4f-833c-6ef231911472"
      },
      "source": [
        "sum"
      ],
      "execution_count": null,
      "outputs": [
        {
          "output_type": "execute_result",
          "data": {
            "text/plain": [
              "8.256383574362012"
            ]
          },
          "metadata": {
            "tags": []
          },
          "execution_count": 34
        }
      ]
    },
    {
      "cell_type": "code",
      "metadata": {
        "id": "3Ctwh1ebBTaH",
        "colab_type": "code",
        "colab": {}
      },
      "source": [
        "sum_2=0\n",
        "for i in normal[normal.time>=377].time.index[:-1]:\n",
        "    sum_2 +=funct(normal.lat.values[i], normal.long.values[i],normal.lat.values[i+1], normal.long.values[i+1])"
      ],
      "execution_count": null,
      "outputs": []
    },
    {
      "cell_type": "code",
      "metadata": {
        "id": "CZpaNXKOBTTZ",
        "colab_type": "code",
        "colab": {
          "base_uri": "https://localhost:8080/",
          "height": 34
        },
        "outputId": "88e82b63-7d11-491b-eeaf-9afb3b274bde"
      },
      "source": [
        "sum_2"
      ],
      "execution_count": null,
      "outputs": [
        {
          "output_type": "execute_result",
          "data": {
            "text/plain": [
              "8.147937460203321"
            ]
          },
          "metadata": {
            "tags": []
          },
          "execution_count": 44
        }
      ]
    },
    {
      "cell_type": "code",
      "metadata": {
        "id": "xlwebFvLFeMi",
        "colab_type": "code",
        "colab": {
          "base_uri": "https://localhost:8080/",
          "height": 34
        },
        "outputId": "bb1ba64e-626d-41e3-f8c9-69e4282f12f1"
      },
      "source": [
        "normal[normal.time<377].speed.mean()"
      ],
      "execution_count": null,
      "outputs": [
        {
          "output_type": "execute_result",
          "data": {
            "text/plain": [
              "82.17422969187675"
            ]
          },
          "metadata": {
            "tags": []
          },
          "execution_count": 47
        }
      ]
    },
    {
      "cell_type": "code",
      "metadata": {
        "id": "YaJXrqrHFep0",
        "colab_type": "code",
        "colab": {
          "base_uri": "https://localhost:8080/",
          "height": 34
        },
        "outputId": "432a4e4c-4a9f-4992-b81d-5e858214b4ea"
      },
      "source": [
        "normal[normal.time>=377].speed.mean()"
      ],
      "execution_count": null,
      "outputs": [
        {
          "output_type": "execute_result",
          "data": {
            "text/plain": [
              "82.25111731843575"
            ]
          },
          "metadata": {
            "tags": []
          },
          "execution_count": 48
        }
      ]
    },
    {
      "cell_type": "code",
      "metadata": {
        "id": "P4EugrC4Fxxq",
        "colab_type": "code",
        "colab": {
          "base_uri": "https://localhost:8080/",
          "height": 542
        },
        "outputId": "64f82904-ff3d-43b7-f2d4-8f22e071f819"
      },
      "source": [
        "px.line(y = normal.Z_gyr)"
      ],
      "execution_count": null,
      "outputs": [
        {
          "output_type": "display_data",
          "data": {
            "text/html": [
              "<html>\n",
              "<head><meta charset=\"utf-8\" /></head>\n",
              "<body>\n",
              "    <div>\n",
              "            <script src=\"https://cdnjs.cloudflare.com/ajax/libs/mathjax/2.7.5/MathJax.js?config=TeX-AMS-MML_SVG\"></script><script type=\"text/javascript\">if (window.MathJax) {MathJax.Hub.Config({SVG: {font: \"STIX-Web\"}});}</script>\n",
              "                <script type=\"text/javascript\">window.PlotlyConfig = {MathJaxConfig: 'local'};</script>\n",
              "        <script src=\"https://cdn.plot.ly/plotly-latest.min.js\"></script>    \n",
              "            <div id=\"f71a4561-912e-40b1-b4f9-65d689f57547\" class=\"plotly-graph-div\" style=\"height:525px; width:100%;\"></div>\n",
              "            <script type=\"text/javascript\">\n",
              "                \n",
              "                    window.PLOTLYENV=window.PLOTLYENV || {};\n",
              "                    \n",
              "                if (document.getElementById(\"f71a4561-912e-40b1-b4f9-65d689f57547\")) {\n",
              "                    Plotly.newPlot(\n",
              "                        'f71a4561-912e-40b1-b4f9-65d689f57547',\n",
              "                        [{\"hoverlabel\": {\"namelength\": 0}, \"hovertemplate\": \"y=%{y}\", \"legendgroup\": \"\", \"line\": {\"color\": \"#636efa\", \"dash\": \"solid\"}, \"mode\": \"lines\", \"name\": \"\", \"showlegend\": false, \"type\": \"scatter\", \"xaxis\": \"x\", \"y\": [-0.00020000000000000017, -0.0002999999999999999, -0.00010000000000000009, -0.00019999999999999982, 0.0004, -0.0007000000000000003, 0.0, -0.0009999999999999998, -0.00030000000000000003, 0.0006000000000000001, 0.0004, 0.0004, -0.0009000000000000001, -0.0005555555555555554, 0.0, 0.0001, 0.0002, -0.0001, -0.0001, -0.00011111111111111112, 0.0001, 0.0003999999999999999, 0.00020000000000000017, -0.00010000000000000009, 0.0004, 0.0015999999999999996, 0.0021000000000000003, 0.0031, 0.0031, 0.004444444444444444, 0.0036000000000000003, 0.0029000000000000024, 0.001999999999999999, 0.0021999999999999993, 0.0025000000000000022, 0.001999999999999996, 0.0019000000000000017, 0.0018000000000000017, 0.0014999999999999957, 0.0009000000000000008, 0.001899999999999996, 0.0015000000000000013, -0.0005000000000000004, -0.0006999999999999951, -0.0013999999999999956, -0.001800000000000007, -0.0025000000000000022, -0.0035999999999999977, -0.002999999999999997, -0.004500000000000001, -0.005222222222222221, -0.005600000000000001, -0.0060999999999999995, -0.004800000000000001, -0.0025, -0.0043, -0.005200000000000001, -0.005600000000000001, -0.0046999999999999984, -0.004, -0.003300000000000003, -0.0032999999999999974, -0.002999999999999997, -0.0030000000000000027, -0.0024999999999999966, -0.002800000000000008, -0.0024999999999999966, -0.0019000000000000017, -0.0012999999999999956, -0.00022222222222222242, 0.001100000000000001, 0.0017000000000000014, 0.001599999999999996, 0.002100000000000002, 0.002999999999999997, 0.0033999999999999976, 0.003900000000000009, 0.003999999999999992, 0.003333333333333336, 0.004181818181818183, 0.0046999999999999984, 0.0025999999999999994, 0.0038000000000000004, 0.0041, 0.003333333333333333, 0.002545454545454545, 0.0023333333333333335, 0.0021999999999999997, 0.0022000000000000006, 0.0017999999999999989, 0.001200000000000001, 0.001899999999999999, 0.0017000000000000014, 0.0011999999999999984, 0.001100000000000001, 0.0013000000000000012, 0.000899999999999998, 0.001100000000000001, 0.001100000000000001, 0.0007777777777777785, 0.001599999999999996, 0.0008000000000000007, 0.0005000000000000004, 0.0007000000000000006, 0.00030000000000000024, 0.00010000000000000009, 0.0009000000000000008, 0.00010000000000000009, 0.0, -0.00033333333333333365, 0.00020000000000000017, 0.00040000000000000034, 0.0, 0.0, 0.00010000000000000009, -0.00030000000000000024, -0.0007000000000000006, -0.00030000000000000024, -0.00020000000000000017, -0.0007000000000000006, -0.0011999999999999984, -0.0014444444444444457, -0.0016999999999999988, -0.0016000000000000014, -0.0018000000000000017, -0.0012999999999999984, -0.0010000000000000009, -0.0013999999999999985, -0.0013999999999999998, -0.0013999999999999998, -0.0010999999999999996, -0.0009000000000000008, -0.0008999999999999994, -0.00040000000000000034, -0.00040000000000000034, -0.0007999999999999993, -0.00040000000000000034, -0.00030000000000000024, -0.0002999999999999996, -0.0007777777777777777, 0.0, -0.00010000000000000009, 0.0001999999999999995, -9.99999999999994e-05, -0.00010000000000000009, -0.00010000000000000009, -0.00030000000000000024, 0.00010000000000000009, 0.00010000000000000009, 0.0004999999999999998, -0.00010000000000000009, 0.0004999999999999998, -0.00020000000000000017, 0.00010000000000000078, -0.00040000000000000034, 0.0002999999999999996, 0.00010000000000000078, -0.00040000000000000034, 0.00010000000000000009, -0.00033333333333333283, -0.0006000000000000005, -0.00020000000000000017, 0.00040000000000000034, 0.00020000000000000017, 0.00039999999999999964, 0.00020000000000000017, 0.0, 0.0, -0.00010000000000000009, 0.0004444444444444441, 0.0, 0.0, -0.00020000000000000017, -9.99999999999994e-05, 0.00040000000000000034, -0.00020000000000000017, 0.0, -0.00020000000000000017, 0.0002999999999999996, 0.00020000000000000017, 0.0, 0.00010000000000000009, -0.0001999999999999995, -0.00010000000000000078, -9.99999999999994e-05, 0.0, -0.00020000000000000017, -0.00010000000000000009, -0.00010000000000000009, -0.00011111111111111044, -0.00010000000000000009, 0.0, -0.00010000000000000009, -0.00010000000000000009, 0.00010000000000000009, -0.00030000000000000024, 0.0, 0.0, -0.00010000000000000009, 0.00030000000000000024, 0.0004444444444444441, 0.0002999999999999996, -9.99999999999994e-05, -0.0004999999999999998, 0.0, 0.00010000000000000009, -0.00040000000000000034, -0.00010000000000000009, 0.00010000000000000009, -0.00022222222222222242, 0.0, 0.00010000000000000009, -0.00010000000000000009, -0.00020000000000000017, 0.0, 0.00040000000000000034, 0.00040000000000000034, 0.0, -0.0007000000000000006, -0.00011111111111111121, -0.0001999999999999995, 0.0004999999999999998, 0.00010000000000000009, -0.00040000000000000034, 0.0, 0.00040000000000000034, 0.00030000000000000024, -0.00040000000000000034, 0.00040000000000000034, 0.00011111111111111121, -0.0005000000000000004, 0.00010000000000000009, 0.00010000000000000009, -0.0025, -0.0036, -0.004100000000000001, -0.0024999999999999996, -0.0035000000000000005, -0.0032, -0.0018750000000000017, -0.0025454545454545426, -0.003700000000000003, -0.002666666666666666, -0.0033999999999999976, -0.0019000000000000017, -0.0030999999999999973, -0.0020000000000000018, -0.0020000000000000018, -0.001899999999999996, -0.0018000000000000017, -0.0025000000000000022, -0.002100000000000002, -0.001699999999999996, -0.002300000000000002, -0.001200000000000001, -0.0007000000000000006, 0.0, 0.0, -0.0017999999999999904, -0.002666666666666669, -0.0016000000000000014, -0.001100000000000001, -0.0018000000000000017, 0.00010000000000000009, 0.00040000000000000034, 0.0019000000000000017, 0.002400000000000002, 0.0027999999999999913, 0.003100000000000003, 0.0016000000000000014, 0.0025000000000000022, 0.0023999999999999968, 0.0026000000000000025, 0.0017000000000000014, 0.0015000000000000013, 0.0014999999999999957, 0.0015000000000000013, 0.0014000000000000013, 0.0010000000000000009, 0.0007999999999999952, 0.0007000000000000006, 0.0010000000000000009, 0.0007000000000000006, 0.0005555555555555561, 0.0, 0.00040000000000000034, 0.00010000000000000009, 9.999999999999454e-05, 0.0, -9.999999999999454e-05, -0.00010000000000000009, 0.0004999999999999949, 0.00020000000000000017, 0.00010000000000000564, 0.00010000000000000009, 0.0011999999999999956, 0.00030000000000000583, -0.0005000000000000004, -0.00010000000000000564, 0.0008888888888888897, -0.00010000000000000009, -0.00040000000000000034, -0.00019999999999999462, 9.999999999999454e-05, 0.0, 0.00020000000000000017, 0.00010000000000000009, 0.00010000000000000564, 9.999999999999454e-05, 0.0002500000000000002, 0.0006000000000000005, 0.0015000000000000013, 0.0008000000000000007, 0.0008000000000000007, 0.0005999999999999978, 0.0006000000000000005, 0.0007000000000000006, 0.000899999999999998, 0.0010000000000000009, 0.0006000000000000005, 0.0010000000000000009, 0.0011999999999999984, 0.0009000000000000008, 0.0005999999999999978, 0.0008000000000000007, 0.0010000000000000009, 0.0, 0.00011111111111111121, -0.00040000000000000034, -0.00033333333333333056, 0.0005999999999999978, 0.00020000000000000017, 0.00040000000000000034, 0.00010000000000000009, 9.99999999999987e-05, 0.00030000000000000165, -0.00020000000000000017, 0.00020000000000000017, 0.00030000000000000024, 0.00010000000000000009, 0.000499999999999999, 0.0002999999999999989, 0.00030000000000000165, 0.0001999999999999988, 0.00020000000000000155, 0.0, 0.0002999999999999989, -0.00010000000000000009, 0.00030000000000000024, 0.0002999999999999989, 0.00020000000000000155, 0.0, -0.00010000000000000009, 0.0008999999999999994, 0.0, 0.0005000000000000004, -0.00020000000000000017, -0.0001999999999999988, -0.00010000000000000148, 0.0, 0.00010000000000000148, 0.0, 0.0006999999999999992, 0.0008999999999999994, 0.0005000000000000004, -0.00020000000000000017, -0.00010000000000000009, 0.0004999999999999998, 0.00030000000000000095, 9.99999999999994e-05, -0.00033333333333333283, -0.00020000000000000017, 0.00040000000000000034, 0.0007999999999999993, 0.00020000000000000017, -0.00010000000000000009, -0.00010000000000000009, 0.00030000000000000024, 9.99999999999994e-05, -0.0008, 0.0, 0.0006000000000000005, 0.00010000000000000009, 9.99999999999994e-05, 0.00020000000000000017, 0.0005999999999999998, 0.0011000000000000003, 0.0009000000000000001, 0.001, 0.0014, 0.0014000000000000002, 0.0013000000000000002, 0.0017999999999999995, 0.0010000000000000002, 0.0015, 0.001100000000000001, 0.0, 0.00040000000000000034, 0.0011999999999999984, 0.00044444444444444485, 0.0006999999999999992, 0.0010000000000000009, -0.00010000000000000009, -0.0018000000000000002, -0.0027999999999999995, -0.0019000000000000002, -0.0029, -0.004399999999999999, -0.0044, -0.0053, -0.006600000000000002, -0.004999999999999999, -0.0052000000000000015, -0.005699999999999999, -0.0043999999999999985, -0.004777777777777782, -0.0041818181818181754, -0.0026666666666666753, -0.0034999999999999975, -0.003599999999999992, -0.002100000000000002, -0.0018000000000000017, -0.004100000000000004, -0.003100000000000003, -0.0028999999999999916, -0.0020000000000000018, -0.002100000000000013, -0.0015999999999999903, 0.00020000000000000017, 0.0020000000000000018, 0.001200000000000001, -0.00010000000000001119, -0.003599999999999992, -0.006799999999999995, -0.006600000000000006, -0.0026999999999999915, -0.00020000000000000017, -0.00030000000000000024, 0.0010999999999999899, 0.0034444444444444475, 0.003300000000000003, 0.0036000000000000034, 0.005599999999999994, 0.004400000000000004, 0.003499999999999992, 0.0040000000000000036, 0.003500000000000003, 0.003500000000000003, 0.0032000000000000028, 0.0028999999999999916, 0.0028000000000000026, 0.0016000000000000014, 0.001999999999999996, 0.002200000000000002, 0.0025000000000000022, 0.0023999999999999968, 0.001699999999999996, 0.001100000000000001, 0.0009000000000000008, 0.0010000000000000078, -0.0009000000000000008, -0.0016000000000000014, -0.0018000000000000017, -0.003111111111111114, -0.004199999999999998, -0.0043999999999999985, -0.005100000000000005, -0.0050000000000000044, -0.0043999999999999925, -0.005222222222222215, -0.004200000000000004, -0.0038000000000000035, -0.003499999999999992, -0.003300000000000003, -0.0028000000000000134, -0.0021999999999999797, -0.0020000000000000018, -0.0017000000000000014, -0.0012000000000000123, -0.0014444444444444333, -0.0019000000000000128, -0.0017000000000000014, -0.00129999999999999, -0.0016000000000000014, -0.00010000000000001119, -0.0010999999999999899, -9.999999999998899e-05, -0.00030000000000001136, -0.0014000000000000013, -0.001200000000000001, -0.00040000000000000034, -0.00040000000000000034, -0.0006000000000000005, -9.999999999998899e-05, -0.00040000000000000034, -0.00040000000000000034, -0.0006000000000000005, 9.999999999998899e-05, -0.00040000000000000034, -0.0003333333333333213, -0.0007000000000000117, -0.0014999999999999903, 0.0, 0.0014000000000000013, 0.0020999999999999908, 0.0018000000000000017, 0.003300000000000014, 0.0032999999999999917, 0.003599999999999992, 0.004222222222222226, 0.003700000000000003, 0.0030000000000000027, 0.0032222222222222253, 0.0041818181818181754, 0.003799999999999992, 0.002888888888888904, 0.002399999999999991, 0.0026000000000000133, 0.0014999999999999903, 0.0012222222222222233, 0.0014000000000000013, 0.0017000000000000014, 0.0015000000000000013, 0.0014999999999999903, 0.0008000000000000119, -0.00040000000000001146, 0.0, -9.999999999998899e-05, 0.0, 0.0005555555555555561, 0.00040000000000000034, 0.0002999999999999892, 0.00010000000000000009, -0.00039999999999998923, 0.0, -0.00010000000000001119, -0.00020000000000000017, 0.00010000000000000009, -0.0002999999999999892, 0.00024999999999998634, -0.0002999999999999892, -0.00020000000000001129, -9.999999999998899e-05, 0.00019999999999998909, 0.00010000000000001119, 0.0, 0.0, 0.00010000000000000009, -0.00030000000000001136, -9.999999999998899e-05, -0.0005000000000000004, -0.00040000000000001146, -0.0005000000000000004, -0.0007999999999999896, 0.00020000000000000017, 0.00040000000000000034, -0.00020000000000000017, 0.0006000000000000005, 0.00039999999999998923, -0.00039999999999998923, 0.0005000000000000004, 0.00010000000000000009, 0.00019999999999998909, -0.0007999999999999896, -0.0007000000000000117, -0.0007999999999999896, -0.0007000000000000006, -0.0009000000000000008, -0.001666666666666668, -0.0023333333333333353, -0.0015999999999999903, -0.0014000000000000123, -0.0017999999999999904, -0.0016000000000000014, -0.0009000000000000008, -0.0016000000000000014, -0.0017000000000000014, -0.0014000000000000013, -0.0013000000000000012, -0.0013333333333333346, -0.0013000000000000012, -0.0009999999999999898, 0.0, -0.00010000000000000009, 0.00010000000000000009, -0.0008000000000000007, -0.00020000000000000017, -0.0005000000000000004, 0.0, -0.0006666666666666673, -0.0007000000000000006, -0.00020000000000000017, 0.0010000000000000009, 0.0010999999999999899, 0.0015000000000000013, 0.0017000000000000014, 0.001100000000000012, 0.0013999999999999902, 0.0015000000000000013, 0.0016000000000000014, 0.0016999999999999904, 0.0015000000000000013, 0.0015000000000000013, 0.0014000000000000013, 0.0013000000000000012, 0.0008000000000000007, 0.0010000000000000009, 0.0010000000000000009, 0.0008000000000000007, -0.00010000000000000009, -0.0008000000000000007, -0.00020000000000000017, -0.0007000000000000006, -0.00119999999999999, -0.0009000000000000119, -0.0014000000000000013, -0.0018000000000000017, -0.0008999999999999897, -0.0006000000000000117, -0.0018888888888888905, -0.002499999999999991, -0.0011111111111111122, -0.0010000000000000009, -0.00020000000000000017, -0.0005999999999999894, -0.0017000000000000127, -0.0016666666666666557, -0.00040000000000001146, 0.0, -0.0007777777777777661, -0.0008000000000000119, 0.00030000000000001136, -0.00010000000000001119, -0.0005000000000000004, -0.00039999999999998923, 0.0, 0.00010000000000000009, 9.999999999998899e-05, 0.00020000000000000017, 0.0, -0.0002999999999999892, -0.00010000000000000009, 0.0005000000000000004, 0.00019999999999998909, -0.00039999999999998923, 0.00039999999999998923, 0.00010000000000001119, 9.999999999998899e-05, 0.00020000000000001129, 0.00044444444444444485, 0.0018000000000000017, 0.0010000000000000009, 0.0005999999999999894, -0.0005999999999999894, -0.00020000000000001129, 0.0007000000000000117, 0.0015999999999999903, 0.001100000000000012, 0.0008999999999999897, 0.0013333333333333346, 0.0015000000000000013, 0.0025000000000000022, 0.0020999999999999908, 0.0025000000000000022, 0.002200000000000002, 0.0026000000000000025, 0.0020000000000000018, 0.0019999999999999905, 0.0017000000000000127, 0.0014444444444444333, 0.0016000000000000014, 0.001100000000000001, 0.0007000000000000006, 0.0009999999999999953, 0.0014000000000000067, 0.0011999999999999956, 0.00040000000000000034, 0.0006000000000000005, 0.0005000000000000004, 0.0003333333333333398, 0.0, 0.00022222222222221624, 0.001272727272727269, -0.00011111111111109888, -0.0008000000000000062, -0.0006000000000000005, -0.0006999999999999951, -0.00030000000000000583, -0.000599999999999995, -0.003333333333333336, -0.0039000000000000033, -0.0015000000000000013, -0.00119999999999999, -0.0018000000000000127, -0.0020999999999999908, -0.002200000000000002, -0.0013000000000000012, -0.0009000000000000008, -0.00010000000000000009, -0.0015000000000000013, -0.0014000000000000013, -0.00039999999999998923, -0.00040000000000001146, -0.0005999999999999894, -0.0008000000000000007, -0.0006000000000000117, -0.0002999999999999892, -0.00030000000000000024, -0.0007000000000000006, -0.0007777777777777785, -0.0005000000000000004, -0.00030000000000000024, 0.00040000000000000034, 0.001100000000000001, 0.00040000000000000034], \"yaxis\": \"y\"}],\n",
              "                        {\"legend\": {\"tracegroupgap\": 0}, \"margin\": {\"t\": 60}, \"template\": {\"data\": {\"bar\": [{\"error_x\": {\"color\": \"#2a3f5f\"}, \"error_y\": {\"color\": \"#2a3f5f\"}, \"marker\": {\"line\": {\"color\": \"#E5ECF6\", \"width\": 0.5}}, \"type\": \"bar\"}], \"barpolar\": [{\"marker\": {\"line\": {\"color\": \"#E5ECF6\", \"width\": 0.5}}, \"type\": \"barpolar\"}], \"carpet\": [{\"aaxis\": {\"endlinecolor\": \"#2a3f5f\", \"gridcolor\": \"white\", \"linecolor\": \"white\", \"minorgridcolor\": \"white\", \"startlinecolor\": \"#2a3f5f\"}, \"baxis\": {\"endlinecolor\": \"#2a3f5f\", \"gridcolor\": \"white\", \"linecolor\": \"white\", \"minorgridcolor\": \"white\", \"startlinecolor\": \"#2a3f5f\"}, \"type\": \"carpet\"}], \"choropleth\": [{\"colorbar\": {\"outlinewidth\": 0, \"ticks\": \"\"}, \"type\": \"choropleth\"}], \"contour\": [{\"colorbar\": {\"outlinewidth\": 0, \"ticks\": \"\"}, \"colorscale\": [[0.0, \"#0d0887\"], [0.1111111111111111, \"#46039f\"], [0.2222222222222222, \"#7201a8\"], [0.3333333333333333, \"#9c179e\"], [0.4444444444444444, \"#bd3786\"], [0.5555555555555556, \"#d8576b\"], [0.6666666666666666, \"#ed7953\"], [0.7777777777777778, \"#fb9f3a\"], [0.8888888888888888, \"#fdca26\"], [1.0, \"#f0f921\"]], \"type\": \"contour\"}], \"contourcarpet\": [{\"colorbar\": {\"outlinewidth\": 0, \"ticks\": \"\"}, \"type\": \"contourcarpet\"}], \"heatmap\": [{\"colorbar\": {\"outlinewidth\": 0, \"ticks\": \"\"}, \"colorscale\": [[0.0, \"#0d0887\"], [0.1111111111111111, \"#46039f\"], [0.2222222222222222, \"#7201a8\"], [0.3333333333333333, \"#9c179e\"], [0.4444444444444444, \"#bd3786\"], [0.5555555555555556, \"#d8576b\"], [0.6666666666666666, \"#ed7953\"], [0.7777777777777778, \"#fb9f3a\"], [0.8888888888888888, \"#fdca26\"], [1.0, \"#f0f921\"]], \"type\": \"heatmap\"}], \"heatmapgl\": [{\"colorbar\": {\"outlinewidth\": 0, \"ticks\": \"\"}, \"colorscale\": [[0.0, \"#0d0887\"], [0.1111111111111111, \"#46039f\"], [0.2222222222222222, \"#7201a8\"], [0.3333333333333333, \"#9c179e\"], [0.4444444444444444, \"#bd3786\"], [0.5555555555555556, \"#d8576b\"], [0.6666666666666666, \"#ed7953\"], [0.7777777777777778, \"#fb9f3a\"], [0.8888888888888888, \"#fdca26\"], [1.0, \"#f0f921\"]], \"type\": \"heatmapgl\"}], \"histogram\": [{\"marker\": {\"colorbar\": {\"outlinewidth\": 0, \"ticks\": \"\"}}, \"type\": \"histogram\"}], \"histogram2d\": [{\"colorbar\": {\"outlinewidth\": 0, \"ticks\": \"\"}, \"colorscale\": [[0.0, \"#0d0887\"], [0.1111111111111111, \"#46039f\"], [0.2222222222222222, \"#7201a8\"], [0.3333333333333333, \"#9c179e\"], [0.4444444444444444, \"#bd3786\"], [0.5555555555555556, \"#d8576b\"], [0.6666666666666666, \"#ed7953\"], [0.7777777777777778, \"#fb9f3a\"], [0.8888888888888888, \"#fdca26\"], [1.0, \"#f0f921\"]], \"type\": \"histogram2d\"}], \"histogram2dcontour\": [{\"colorbar\": {\"outlinewidth\": 0, \"ticks\": \"\"}, \"colorscale\": [[0.0, \"#0d0887\"], [0.1111111111111111, \"#46039f\"], [0.2222222222222222, \"#7201a8\"], [0.3333333333333333, \"#9c179e\"], [0.4444444444444444, \"#bd3786\"], [0.5555555555555556, \"#d8576b\"], [0.6666666666666666, \"#ed7953\"], [0.7777777777777778, \"#fb9f3a\"], [0.8888888888888888, \"#fdca26\"], [1.0, \"#f0f921\"]], \"type\": \"histogram2dcontour\"}], \"mesh3d\": [{\"colorbar\": {\"outlinewidth\": 0, \"ticks\": \"\"}, \"type\": \"mesh3d\"}], \"parcoords\": [{\"line\": {\"colorbar\": {\"outlinewidth\": 0, \"ticks\": \"\"}}, \"type\": \"parcoords\"}], \"pie\": [{\"automargin\": true, \"type\": \"pie\"}], \"scatter\": [{\"marker\": {\"colorbar\": {\"outlinewidth\": 0, \"ticks\": \"\"}}, \"type\": \"scatter\"}], \"scatter3d\": [{\"line\": {\"colorbar\": {\"outlinewidth\": 0, \"ticks\": \"\"}}, \"marker\": {\"colorbar\": {\"outlinewidth\": 0, \"ticks\": \"\"}}, \"type\": \"scatter3d\"}], \"scattercarpet\": [{\"marker\": {\"colorbar\": {\"outlinewidth\": 0, \"ticks\": \"\"}}, \"type\": \"scattercarpet\"}], \"scattergeo\": [{\"marker\": {\"colorbar\": {\"outlinewidth\": 0, \"ticks\": \"\"}}, \"type\": \"scattergeo\"}], \"scattergl\": [{\"marker\": {\"colorbar\": {\"outlinewidth\": 0, \"ticks\": \"\"}}, \"type\": \"scattergl\"}], \"scattermapbox\": [{\"marker\": {\"colorbar\": {\"outlinewidth\": 0, \"ticks\": \"\"}}, \"type\": \"scattermapbox\"}], \"scatterpolar\": [{\"marker\": {\"colorbar\": {\"outlinewidth\": 0, \"ticks\": \"\"}}, \"type\": \"scatterpolar\"}], \"scatterpolargl\": [{\"marker\": {\"colorbar\": {\"outlinewidth\": 0, \"ticks\": \"\"}}, \"type\": \"scatterpolargl\"}], \"scatterternary\": [{\"marker\": {\"colorbar\": {\"outlinewidth\": 0, \"ticks\": \"\"}}, \"type\": \"scatterternary\"}], \"surface\": [{\"colorbar\": {\"outlinewidth\": 0, \"ticks\": \"\"}, \"colorscale\": [[0.0, \"#0d0887\"], [0.1111111111111111, \"#46039f\"], [0.2222222222222222, \"#7201a8\"], [0.3333333333333333, \"#9c179e\"], [0.4444444444444444, \"#bd3786\"], [0.5555555555555556, \"#d8576b\"], [0.6666666666666666, \"#ed7953\"], [0.7777777777777778, \"#fb9f3a\"], [0.8888888888888888, \"#fdca26\"], [1.0, \"#f0f921\"]], \"type\": \"surface\"}], \"table\": [{\"cells\": {\"fill\": {\"color\": \"#EBF0F8\"}, \"line\": {\"color\": \"white\"}}, \"header\": {\"fill\": {\"color\": \"#C8D4E3\"}, \"line\": {\"color\": \"white\"}}, \"type\": \"table\"}]}, \"layout\": {\"annotationdefaults\": {\"arrowcolor\": \"#2a3f5f\", \"arrowhead\": 0, \"arrowwidth\": 1}, \"coloraxis\": {\"colorbar\": {\"outlinewidth\": 0, \"ticks\": \"\"}}, \"colorscale\": {\"diverging\": [[0, \"#8e0152\"], [0.1, \"#c51b7d\"], [0.2, \"#de77ae\"], [0.3, \"#f1b6da\"], [0.4, \"#fde0ef\"], [0.5, \"#f7f7f7\"], [0.6, \"#e6f5d0\"], [0.7, \"#b8e186\"], [0.8, \"#7fbc41\"], [0.9, \"#4d9221\"], [1, \"#276419\"]], \"sequential\": [[0.0, \"#0d0887\"], [0.1111111111111111, \"#46039f\"], [0.2222222222222222, \"#7201a8\"], [0.3333333333333333, \"#9c179e\"], [0.4444444444444444, \"#bd3786\"], [0.5555555555555556, \"#d8576b\"], [0.6666666666666666, \"#ed7953\"], [0.7777777777777778, \"#fb9f3a\"], [0.8888888888888888, \"#fdca26\"], [1.0, \"#f0f921\"]], \"sequentialminus\": [[0.0, \"#0d0887\"], [0.1111111111111111, \"#46039f\"], [0.2222222222222222, \"#7201a8\"], [0.3333333333333333, \"#9c179e\"], [0.4444444444444444, \"#bd3786\"], [0.5555555555555556, \"#d8576b\"], [0.6666666666666666, \"#ed7953\"], [0.7777777777777778, \"#fb9f3a\"], [0.8888888888888888, \"#fdca26\"], [1.0, \"#f0f921\"]]}, \"colorway\": [\"#636efa\", \"#EF553B\", \"#00cc96\", \"#ab63fa\", \"#FFA15A\", \"#19d3f3\", \"#FF6692\", \"#B6E880\", \"#FF97FF\", \"#FECB52\"], \"font\": {\"color\": \"#2a3f5f\"}, \"geo\": {\"bgcolor\": \"white\", \"lakecolor\": \"white\", \"landcolor\": \"#E5ECF6\", \"showlakes\": true, \"showland\": true, \"subunitcolor\": \"white\"}, \"hoverlabel\": {\"align\": \"left\"}, \"hovermode\": \"closest\", \"mapbox\": {\"style\": \"light\"}, \"paper_bgcolor\": \"white\", \"plot_bgcolor\": \"#E5ECF6\", \"polar\": {\"angularaxis\": {\"gridcolor\": \"white\", \"linecolor\": \"white\", \"ticks\": \"\"}, \"bgcolor\": \"#E5ECF6\", \"radialaxis\": {\"gridcolor\": \"white\", \"linecolor\": \"white\", \"ticks\": \"\"}}, \"scene\": {\"xaxis\": {\"backgroundcolor\": \"#E5ECF6\", \"gridcolor\": \"white\", \"gridwidth\": 2, \"linecolor\": \"white\", \"showbackground\": true, \"ticks\": \"\", \"zerolinecolor\": \"white\"}, \"yaxis\": {\"backgroundcolor\": \"#E5ECF6\", \"gridcolor\": \"white\", \"gridwidth\": 2, \"linecolor\": \"white\", \"showbackground\": true, \"ticks\": \"\", \"zerolinecolor\": \"white\"}, \"zaxis\": {\"backgroundcolor\": \"#E5ECF6\", \"gridcolor\": \"white\", \"gridwidth\": 2, \"linecolor\": \"white\", \"showbackground\": true, \"ticks\": \"\", \"zerolinecolor\": \"white\"}}, \"shapedefaults\": {\"line\": {\"color\": \"#2a3f5f\"}}, \"ternary\": {\"aaxis\": {\"gridcolor\": \"white\", \"linecolor\": \"white\", \"ticks\": \"\"}, \"baxis\": {\"gridcolor\": \"white\", \"linecolor\": \"white\", \"ticks\": \"\"}, \"bgcolor\": \"#E5ECF6\", \"caxis\": {\"gridcolor\": \"white\", \"linecolor\": \"white\", \"ticks\": \"\"}}, \"title\": {\"x\": 0.05}, \"xaxis\": {\"automargin\": true, \"gridcolor\": \"white\", \"linecolor\": \"white\", \"ticks\": \"\", \"title\": {\"standoff\": 15}, \"zerolinecolor\": \"white\", \"zerolinewidth\": 2}, \"yaxis\": {\"automargin\": true, \"gridcolor\": \"white\", \"linecolor\": \"white\", \"ticks\": \"\", \"title\": {\"standoff\": 15}, \"zerolinecolor\": \"white\", \"zerolinewidth\": 2}}}, \"xaxis\": {\"anchor\": \"y\", \"domain\": [0.0, 1.0]}, \"yaxis\": {\"anchor\": \"x\", \"domain\": [0.0, 1.0], \"title\": {\"text\": \"y\"}}},\n",
              "                        {\"responsive\": true}\n",
              "                    ).then(function(){\n",
              "                            \n",
              "var gd = document.getElementById('f71a4561-912e-40b1-b4f9-65d689f57547');\n",
              "var x = new MutationObserver(function (mutations, observer) {{\n",
              "        var display = window.getComputedStyle(gd).display;\n",
              "        if (!display || display === 'none') {{\n",
              "            console.log([gd, 'removed!']);\n",
              "            Plotly.purge(gd);\n",
              "            observer.disconnect();\n",
              "        }}\n",
              "}});\n",
              "\n",
              "// Listen for the removal of the full notebook cells\n",
              "var notebookContainer = gd.closest('#notebook-container');\n",
              "if (notebookContainer) {{\n",
              "    x.observe(notebookContainer, {childList: true});\n",
              "}}\n",
              "\n",
              "// Listen for the clearing of the current output cell\n",
              "var outputEl = gd.closest('.output');\n",
              "if (outputEl) {{\n",
              "    x.observe(outputEl, {childList: true});\n",
              "}}\n",
              "\n",
              "                        })\n",
              "                };\n",
              "                \n",
              "            </script>\n",
              "        </div>\n",
              "</body>\n",
              "</html>"
            ]
          },
          "metadata": {
            "tags": []
          }
        }
      ]
    },
    {
      "cell_type": "code",
      "metadata": {
        "id": "EGi08Fp2Fx1n",
        "colab_type": "code",
        "colab": {}
      },
      "source": [
        ""
      ],
      "execution_count": null,
      "outputs": []
    },
    {
      "cell_type": "code",
      "metadata": {
        "id": "TtMi2rTRFxv-",
        "colab_type": "code",
        "colab": {}
      },
      "source": [
        ""
      ],
      "execution_count": null,
      "outputs": []
    }
  ]
}