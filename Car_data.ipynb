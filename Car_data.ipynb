{
 "cells": [
  {
   "cell_type": "code",
   "execution_count": 1,
   "metadata": {},
   "outputs": [],
   "source": [
    "import requests\n",
    "import json\n",
    "import numpy as np\n",
    "import time\n"
   ]
  },
  {
   "cell_type": "markdown",
   "metadata": {},
   "source": [
    "Code to get the Latitude,Longitude,speed etc from the api in a csv file"
   ]
  },
  {
   "cell_type": "code",
   "execution_count": 2,
   "metadata": {},
   "outputs": [
    {
     "name": "stdout",
     "output_type": "stream",
     "text": [
      "{'359632108415073': {'name': 'B_GLSH_TN13B4435', 'dt_server': '2020-06-08 14:07:17', 'dt_tracker': '2020-06-08 08:05:28', 'lat': '13.114298', 'lng': '80.296158', 'altitude': '13', 'angle': '140', 'speed': '0', 'params': {'gpslev': '0', 'gsmlev': '5', 'io1': '0', 'io113': '86', 'io16': '2785836', 'io17': '7', 'io175': '-1', 'io179': '0', 'io18': '-36', 'io19': '-955', 'io199': '19474', 'io200': '3', 'io236': '0', 'io239': '0', 'io240': '0', 'io241': '40484', 'io243': '1000', 'io247': '0', 'io250': '0', 'io252': '0', 'io253': '0', 'io254': '39', 'io66': '12704', 'io67': '3972', 'io68': '0', 'io69': '3', 'io9': '43'}, 'loc_valid': '0'}}\n"
     ]
    }
   ],
   "source": [
    "np.set_printoptions(suppress=True)\n",
    "req=requests.get('http://carlink.ozonemotors.in/api/api.php?api=user&ver=1.0&key=94B14349B1994405754B11312DABF6F9&cmd=OBJECT_GET_LOCATIONS,359632108415073')\n",
    "data=req.json()\n",
    "print(data)"
   ]
  },
  {
   "cell_type": "code",
   "execution_count": 3,
   "metadata": {},
   "outputs": [
    {
     "ename": "KeyboardInterrupt",
     "evalue": "",
     "output_type": "error",
     "traceback": [
      "\u001b[1;31m---------------------------------------------------------------------------\u001b[0m",
      "\u001b[1;31mKeyboardInterrupt\u001b[0m                         Traceback (most recent call last)",
      "\u001b[1;32m<ipython-input-3-d00013fe9dad>\u001b[0m in \u001b[0;36m<module>\u001b[1;34m\u001b[0m\n\u001b[0;32m     12\u001b[0m         \u001b[0mz\u001b[0m\u001b[1;33m[\u001b[0m\u001b[0mi\u001b[0m\u001b[1;33m]\u001b[0m\u001b[1;33m[\u001b[0m\u001b[1;36m5\u001b[0m\u001b[1;33m]\u001b[0m\u001b[1;33m=\u001b[0m\u001b[0my\u001b[0m\u001b[1;33m[\u001b[0m\u001b[1;34m'speed'\u001b[0m\u001b[1;33m]\u001b[0m\u001b[1;33m\u001b[0m\u001b[1;33m\u001b[0m\u001b[0m\n\u001b[0;32m     13\u001b[0m     \u001b[0mi\u001b[0m\u001b[1;33m=\u001b[0m\u001b[0mi\u001b[0m\u001b[1;33m+\u001b[0m\u001b[1;36m1\u001b[0m\u001b[1;33m\u001b[0m\u001b[1;33m\u001b[0m\u001b[0m\n\u001b[1;32m---> 14\u001b[1;33m     \u001b[0mtime\u001b[0m\u001b[1;33m.\u001b[0m\u001b[0msleep\u001b[0m\u001b[1;33m(\u001b[0m\u001b[1;36m15\u001b[0m\u001b[1;33m)\u001b[0m\u001b[1;33m\u001b[0m\u001b[1;33m\u001b[0m\u001b[0m\n\u001b[0m\u001b[0;32m     15\u001b[0m \u001b[0ma\u001b[0m\u001b[1;33m=\u001b[0m\u001b[0mnp\u001b[0m\u001b[1;33m.\u001b[0m\u001b[0masarray\u001b[0m\u001b[1;33m(\u001b[0m\u001b[0mz\u001b[0m\u001b[1;33m)\u001b[0m\u001b[1;33m\u001b[0m\u001b[1;33m\u001b[0m\u001b[0m\n\u001b[0;32m     16\u001b[0m \u001b[0mnp\u001b[0m\u001b[1;33m.\u001b[0m\u001b[0msavetxt\u001b[0m\u001b[1;33m(\u001b[0m\u001b[1;34m\"data.csv\"\u001b[0m\u001b[1;33m,\u001b[0m\u001b[0ma\u001b[0m\u001b[1;33m,\u001b[0m\u001b[0mdelimiter\u001b[0m\u001b[1;33m=\u001b[0m\u001b[1;34m\",\"\u001b[0m\u001b[1;33m)\u001b[0m\u001b[1;33m\u001b[0m\u001b[1;33m\u001b[0m\u001b[0m\n",
      "\u001b[1;31mKeyboardInterrupt\u001b[0m: "
     ]
    }
   ],
   "source": [
    "i=0\n",
    "z=np.zeros((10,6))\n",
    "while (i<10):\n",
    "    req=requests.get('http://carlink.ozonemotors.in/api/api.php?api=user&ver=1.0&key=94B14349B1994405754B11312DABF6F9&cmd=OBJECT_GET_LOCATIONS,359632108415073')\n",
    "    data=req.json()\n",
    "    for (x,y) in data.items():\n",
    "        z[i][0]=float(y['dt_tracker'][0:4]+y['dt_tracker'][5:7]+y['dt_tracker'][8:10])\n",
    "        z[i][1]=float(y['dt_tracker'][11:13]+y['dt_tracker'][14:16]+y['dt_tracker'][17:19])\n",
    "        z[i][2]=y['lat']\n",
    "        z[i][3]=y['lng']\n",
    "        z[i][4]=y['altitude']\n",
    "        z[i][5]=y['speed']\n",
    "    i=i+1\n",
    "    time.sleep(10)\n",
    "a=np.asarray(z)\n",
    "np.savetxt(\"data.csv\",a,delimiter=\",\")"
   ]
  },
  {
   "cell_type": "code",
   "execution_count": null,
   "metadata": {},
   "outputs": [],
   "source": []
  }
 ],
 "metadata": {
  "kernelspec": {
   "display_name": "Python 3",
   "language": "python",
   "name": "python3"
  },
  "language_info": {
   "codemirror_mode": {
    "name": "ipython",
    "version": 3
   },
   "file_extension": ".py",
   "mimetype": "text/x-python",
   "name": "python",
   "nbconvert_exporter": "python",
   "pygments_lexer": "ipython3",
   "version": "3.7.4"
  }
 },
 "nbformat": 4,
 "nbformat_minor": 2
}
